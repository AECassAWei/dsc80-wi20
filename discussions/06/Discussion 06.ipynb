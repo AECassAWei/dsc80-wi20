{
 "cells": [
  {
   "cell_type": "markdown",
   "metadata": {},
   "source": [
    "# Discussion 06: Pandas Review\n",
    "\n",
    "This notebook consists of review problems. They don't need to be turned in and solutions will *not* be provided (ask Staff if you have questions!)\n",
    "\n",
    "Below is a DataFrame `submissions`, consisting of all HW submissions by students in a course:\n",
    "* `PID` refers to the student ID\n",
    "* `LVL` refers to Freshman, Sophomore, Junior, Senior\n",
    "* `ASSGN` refers to which assignment number the submission was for (e.g. submission of HW#4).\n",
    "* `GRADE` refers to the grade given to that submission.\n",
    "\n",
    "Every students has *at most* one submission per assignment. There are no nulls values.\n",
    "\n",
    "|PID|LVL|ASSGN|GRADE|\n",
    "|---|---|---|---|\n",
    "|A23452342|SO|HW2|79|\n",
    "|A35434334|JR|HW5|96|\n",
    "|A23452342|SO|HW1|99|\n",
    "|A23452342|SO|HW5|90|\n",
    "|A39598745|JR|HW7|67|\n",
    "|A37534462|SR|HW2|93|\n",
    "|A37534462|SR|HW9|79|\n",
    "|...|...|...|...|"
   ]
  },
  {
   "cell_type": "markdown",
   "metadata": {},
   "source": [
    "Below is a DataFrame `grades`, representing the course gradebook, constructed from the submissions above:\n",
    "\n",
    "|PID|LVL|HW1|HW2|...|HW9|\n",
    "|---|---|---|---|---|---|\n",
    "|A23452342|SO|99|79|...|88|\n",
    "|A37534462|SR|67|93|...|79|\n",
    "|...|...|...|...|...|...|\n",
    "\n"
   ]
  },
  {
   "cell_type": "markdown",
   "metadata": {},
   "source": [
    "## Questions:\n",
    "\n",
    "For each of the follow questions, produce the desired result **in two ways**: using `submissions` and `grades`. (Don't just transform `submissions` into grades and compute the answer two ways; strive for efficient ways both computationally, as well as measure in lines of code!)\n",
    "\n",
    "1. What are the kinds of data represented in each column?\n",
    "1. Calculate the number of students in the class.\n",
    "1. Calculate the number of distinct assignments.\n",
    "1. Calculate the number of FR/SO/JR/SR that turned in at least one assignment. (Return a Series indexed by LVL).\n",
    "1. For each assignment, calculate the average grade and the number of submissions. (Return a Series indexed by ASSGN).\n",
    "1. Calculate the highest grade on each assignment (for `submissions`, both using groupby and not using groupby).\n",
    "1. Which assignment was the highest grade for the most number of students?\n",
    "1. Suppose each assignment comes in it's own DataFrame called `hwXX` (with columns PID, LVL, ASSGN, GRADE). Construct `submissions` and `grades` from these dataframes.\n",
    "\n",
    "Lastly: \n",
    "* Write a single line of code which transforms `submissions` to `grades`.\n",
    "* Add a column to `grades` called `Letter Grades` by computing the letter grades from the average HW grades of each student."
   ]
  },
  {
   "cell_type": "code",
   "execution_count": 2,
   "metadata": {},
   "outputs": [],
   "source": [
    "import pandas as pd\n",
    "import numpy as np"
   ]
  },
  {
   "cell_type": "code",
   "execution_count": 32,
   "metadata": {
    "scrolled": false
   },
   "outputs": [
    {
     "data": {
      "text/html": [
       "<div>\n",
       "<style scoped>\n",
       "    .dataframe tbody tr th:only-of-type {\n",
       "        vertical-align: middle;\n",
       "    }\n",
       "\n",
       "    .dataframe tbody tr th {\n",
       "        vertical-align: top;\n",
       "    }\n",
       "\n",
       "    .dataframe thead th {\n",
       "        text-align: right;\n",
       "    }\n",
       "</style>\n",
       "<table border=\"1\" class=\"dataframe\">\n",
       "  <thead>\n",
       "    <tr style=\"text-align: right;\">\n",
       "      <th></th>\n",
       "      <th>score</th>\n",
       "      <th>level</th>\n",
       "    </tr>\n",
       "  </thead>\n",
       "  <tbody>\n",
       "    <tr>\n",
       "      <th>0</th>\n",
       "      <td>0</td>\n",
       "      <td>a</td>\n",
       "    </tr>\n",
       "    <tr>\n",
       "      <th>1</th>\n",
       "      <td>1</td>\n",
       "      <td>b</td>\n",
       "    </tr>\n",
       "    <tr>\n",
       "      <th>2</th>\n",
       "      <td>2</td>\n",
       "      <td>a</td>\n",
       "    </tr>\n",
       "    <tr>\n",
       "      <th>3</th>\n",
       "      <td>3</td>\n",
       "      <td>b</td>\n",
       "    </tr>\n",
       "    <tr>\n",
       "      <th>4</th>\n",
       "      <td>4</td>\n",
       "      <td>a</td>\n",
       "    </tr>\n",
       "  </tbody>\n",
       "</table>\n",
       "</div>"
      ],
      "text/plain": [
       "   score level\n",
       "0      0     a\n",
       "1      1     b\n",
       "2      2     a\n",
       "3      3     b\n",
       "4      4     a"
      ]
     },
     "execution_count": 32,
     "metadata": {},
     "output_type": "execute_result"
    }
   ],
   "source": [
    "df = pd.DataFrame(\n",
    "    {\n",
    "        'score': np.arange(5),\n",
    "        'level': ['a','b','a','b','a']\n",
    "    }\n",
    ")\n",
    "df"
   ]
  },
  {
   "cell_type": "code",
   "execution_count": 64,
   "metadata": {},
   "outputs": [],
   "source": [
    "# def two_things(df):\n",
    "#     to_return = pd.DataFrame(\n",
    "\n",
    "#     a = df.score.mean()\n",
    "        \n",
    "#     b = df.score.sum()\n",
    "#     return \n",
    "    \n",
    "\n",
    "grouped = df.groupby('level').score\n",
    "replacement = pd.DataFrame(\n",
    "    {\n",
    "        'sum': grouped.sum(),\n",
    "        'mean': grouped.mean()\n",
    "    }\n",
    ")"
   ]
  },
  {
   "cell_type": "code",
   "execution_count": 65,
   "metadata": {},
   "outputs": [
    {
     "data": {
      "text/html": [
       "<div>\n",
       "<style scoped>\n",
       "    .dataframe tbody tr th:only-of-type {\n",
       "        vertical-align: middle;\n",
       "    }\n",
       "\n",
       "    .dataframe tbody tr th {\n",
       "        vertical-align: top;\n",
       "    }\n",
       "\n",
       "    .dataframe thead th {\n",
       "        text-align: right;\n",
       "    }\n",
       "</style>\n",
       "<table border=\"1\" class=\"dataframe\">\n",
       "  <thead>\n",
       "    <tr style=\"text-align: right;\">\n",
       "      <th></th>\n",
       "      <th>sum</th>\n",
       "      <th>mean</th>\n",
       "    </tr>\n",
       "    <tr>\n",
       "      <th>level</th>\n",
       "      <th></th>\n",
       "      <th></th>\n",
       "    </tr>\n",
       "  </thead>\n",
       "  <tbody>\n",
       "    <tr>\n",
       "      <th>a</th>\n",
       "      <td>6</td>\n",
       "      <td>2</td>\n",
       "    </tr>\n",
       "    <tr>\n",
       "      <th>b</th>\n",
       "      <td>4</td>\n",
       "      <td>2</td>\n",
       "    </tr>\n",
       "  </tbody>\n",
       "</table>\n",
       "</div>"
      ],
      "text/plain": [
       "       sum  mean\n",
       "level           \n",
       "a        6     2\n",
       "b        4     2"
      ]
     },
     "execution_count": 65,
     "metadata": {},
     "output_type": "execute_result"
    }
   ],
   "source": [
    "replacement"
   ]
  },
  {
   "cell_type": "code",
   "execution_count": 39,
   "metadata": {
    "scrolled": true
   },
   "outputs": [],
   "source": [
    "df['mean'] = df.level.replace(replacement)"
   ]
  },
  {
   "cell_type": "code",
   "execution_count": 40,
   "metadata": {},
   "outputs": [
    {
     "data": {
      "text/html": [
       "<div>\n",
       "<style scoped>\n",
       "    .dataframe tbody tr th:only-of-type {\n",
       "        vertical-align: middle;\n",
       "    }\n",
       "\n",
       "    .dataframe tbody tr th {\n",
       "        vertical-align: top;\n",
       "    }\n",
       "\n",
       "    .dataframe thead th {\n",
       "        text-align: right;\n",
       "    }\n",
       "</style>\n",
       "<table border=\"1\" class=\"dataframe\">\n",
       "  <thead>\n",
       "    <tr style=\"text-align: right;\">\n",
       "      <th></th>\n",
       "      <th>score</th>\n",
       "      <th>level</th>\n",
       "      <th>mean</th>\n",
       "    </tr>\n",
       "  </thead>\n",
       "  <tbody>\n",
       "    <tr>\n",
       "      <th>0</th>\n",
       "      <td>0</td>\n",
       "      <td>a</td>\n",
       "      <td>2.0</td>\n",
       "    </tr>\n",
       "    <tr>\n",
       "      <th>1</th>\n",
       "      <td>1</td>\n",
       "      <td>b</td>\n",
       "      <td>2.0</td>\n",
       "    </tr>\n",
       "    <tr>\n",
       "      <th>2</th>\n",
       "      <td>2</td>\n",
       "      <td>a</td>\n",
       "      <td>2.0</td>\n",
       "    </tr>\n",
       "    <tr>\n",
       "      <th>3</th>\n",
       "      <td>3</td>\n",
       "      <td>b</td>\n",
       "      <td>2.0</td>\n",
       "    </tr>\n",
       "    <tr>\n",
       "      <th>4</th>\n",
       "      <td>4</td>\n",
       "      <td>a</td>\n",
       "      <td>2.0</td>\n",
       "    </tr>\n",
       "  </tbody>\n",
       "</table>\n",
       "</div>"
      ],
      "text/plain": [
       "   score level  mean\n",
       "0      0     a   2.0\n",
       "1      1     b   2.0\n",
       "2      2     a   2.0\n",
       "3      3     b   2.0\n",
       "4      4     a   2.0"
      ]
     },
     "execution_count": 40,
     "metadata": {},
     "output_type": "execute_result"
    }
   ],
   "source": [
    "df"
   ]
  },
  {
   "cell_type": "markdown",
   "metadata": {},
   "source": [
    "## Other Questions:\n",
    "\n",
    "These are focused on the statistical concepts, which are pretty well covered by our HWs and the practice midterm. However, here are more questions using the same dataset (which also could be good material for studying for the final!)\n",
    "\n",
    "* Do Sophomores have significantly better average HW grades than the rest of the class?\n",
    "    - How will the sampling distribution (under the null hypothesis) change if there are only a few Sophomores in the class, as opposed to if the class were mostly sophomores? When are you more confident in your answer?\n",
    "* Do Seniors have significantly lower grades than Juniors? How do your results change when the group sizes are equal? very un-equal?\n",
    "* Compute the distribution of `Letter Grades` conditional on `LVL`.\n",
    "* In `grades`, there are missing values in the `HWXX` columns. While we know that they are missing exactly when a student didn't turn in the assignment, we can still ask what the student may have gotten had they turned the assignment in. To follow this line of thought:\n",
    "    1. Check if the missingness of `HWXX` is dependent on `LVL`.\n",
    "    1. Check if the missingness of `HWXX` is dependent on `HWYY`. Since `HWYY` is quantitative, you should first convert it to letter grades, before checking dependency.\n",
    "    1. What are the test-statistics for testing the above two questions?\n",
    "    1. Consider all the methods of imputation we've learned (single-valued/probabilistic, conditional/unconditional). Which of these give the best results for the possible results from the missingness tests?\n"
   ]
  },
  {
   "cell_type": "code",
   "execution_count": null,
   "metadata": {},
   "outputs": [],
   "source": []
  }
 ],
 "metadata": {
  "kernelspec": {
   "display_name": "Python 3",
   "language": "python",
   "name": "python3"
  },
  "language_info": {
   "codemirror_mode": {
    "name": "ipython",
    "version": 3
   },
   "file_extension": ".py",
   "mimetype": "text/x-python",
   "name": "python",
   "nbconvert_exporter": "python",
   "pygments_lexer": "ipython3",
   "version": "3.7.5"
  }
 },
 "nbformat": 4,
 "nbformat_minor": 2
}
