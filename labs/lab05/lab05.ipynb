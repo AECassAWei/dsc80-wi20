{
 "cells": [
  {
   "cell_type": "markdown",
   "metadata": {},
   "source": [
    "# DSC 80: Lab 05\n",
    "\n",
    "### Due Date: Tuesday February 11, Midnight (11:59 PM)"
   ]
  },
  {
   "cell_type": "markdown",
   "metadata": {},
   "source": [
    "## Instructions\n",
    "Much like in DSC 10, this Jupyter Notebook contains the statements of the problems and provides code and markdown cells to display your answers to the problems. Unlike DSC 10, the notebook is *only* for displaying a readable version of your final answers. The coding work will be developed in an accompanying `lab*.py` file, that will be imported into the current notebook.\n",
    "\n",
    "Labs and programming assignments will be graded in (at most) two ways:\n",
    "1. The functions and classes in the accompanying python file will be tested (a la DSC 20),\n",
    "2. The notebook will be graded (for graphs and free response questions).\n",
    "\n",
    "**Do not change the function names in the `*.py` file**\n",
    "- The functions in the `*.py` file are how your assignment is graded, and they are graded by their name. The dictionary at the end of the file (`GRADED FUNCTIONS`) contains the \"grading list\". The final function in the file allows your doctests to check that all the necessary functions exist.\n",
    "- If you changed something you weren't supposed to, just use git to revert!\n",
    "\n",
    "**Tips for working in the Notebook**:\n",
    "- The notebooks serve to present you the questions and give you a place to present your results for later review.\n",
    "- The notebook on *lab assignments* are not graded (only the `.py` file).\n",
    "- Notebooks for PAs will serve as a final report for the assignment, and contain conclusions and answers to open ended questions that are graded.\n",
    "- The notebook serves as a nice environment for 'pre-development' and experimentation before designing your function in your `.py` file.\n",
    "\n",
    "**Tips for developing in the .py file**:\n",
    "- Do not change the function names in the starter code; grading is done using these function names.\n",
    "- Do not change the docstrings in the functions. These are there to tell you if your work is on the right track!\n",
    "- You are encouraged to write your own additional functions to solve the lab! \n",
    "    - Developing in python usually consists of larger files, with many short functions.\n",
    "    - You may write your other functions in an additional `.py` file that you import in `lab**.py` (much like we do in the notebook).\n",
    "- Always document your code!"
   ]
  },
  {
   "cell_type": "markdown",
   "metadata": {},
   "source": [
    "### Importing code from `lab**.py`\n",
    "\n",
    "* We import our `.py` file that's contained in the same directory as this notebook.\n",
    "* We use the `autoreload` notebook extension to make changes to our `lab**.py` file immediately available in our notebook. Without this extension, we would need to restart the notebook kernel to see any changes to `lab**.py` in the notebook.\n",
    "    - `autoreload` is necessary because, upon import, `lab**.py` is compiled to bytecode (in the directory `__pycache__`). Subsequent imports of `lab**` merely import the existing compiled python."
   ]
  },
  {
   "cell_type": "code",
   "execution_count": 2,
   "metadata": {},
   "outputs": [],
   "source": [
    "%load_ext autoreload\n",
    "%autoreload 2"
   ]
  },
  {
   "cell_type": "code",
   "execution_count": 3,
   "metadata": {},
   "outputs": [],
   "source": [
    "import lab05 as lab"
   ]
  },
  {
   "cell_type": "code",
   "execution_count": 4,
   "metadata": {},
   "outputs": [],
   "source": [
    "import os\n",
    "import pandas as pd\n",
    "import numpy as np\n",
    "import matplotlib.pyplot as plt\n",
    "from scipy.stats import ks_2samp\n",
    "import util\n",
    "\n",
    "import requests\n",
    "import bs4"
   ]
  },
  {
   "cell_type": "markdown",
   "metadata": {},
   "source": [
    "## Payment data\n",
    "\n",
    "**Question 1**\n",
    "\n",
    "You are given a dataset that describes payment information for purchases made on 01-Jan-2019 contianing the columns: `Id`, `credit_card_type`, `credit_card_number`, and the purchaser's `date_of_birth`.\n",
    "\n",
    "You need to assess the  missingness in payments data. In particular, **Is the credit card number missing at random dependent on the age of shopper?** Look at distribution of ages by missingness of `credit_card_number` and determine if the missingness is dependent on age or not.\n",
    "\n",
    "`Hint`: use the following steps to approach this problem:\n",
    "\n",
    "* Obtain the ages of the purchasers\n",
    "* Plot the distribution of ages by missingness (density curves).\n",
    "    \n",
    "* Do you think the missingness of credit card number is dependent on age or not?\n",
    "\n",
    "Perform a permutation test for the empirical distribution of age conditional on `credit_card_number` with a 5% significance level. Use difference of means as your statistic.\n",
    "\n",
    "Write a function `first_round` with no arguments that returns a list with two values:\n",
    "* the first value is the p-value from your permutation test and \n",
    "* the second value is either \"R\" if you reject the null hypothesis, or \"NR\" if you do not.\n",
    "\n",
    "**Does the result match your guess? If no, what might be a problem?**\n",
    "\n",
    "Perform another permutation test for the empirical distribution of age conditional on `credit_card_number` with a 5% significance level. Use KS-Statistic as your statistic.\n",
    "\n",
    "Write a function `second_round` with no arguments that returns a list with three values: \n",
    "* the first value is the p-value from your new permutation test \n",
    "* the second value is either \"R\" if you reject the null hypothesis or \"NR\" if you do not, and \n",
    "* the third value is your final conclusion: \"D\" (dependent on age) or \"ND\" (not dependent on age).\n",
    "\n"
   ]
  },
  {
   "cell_type": "code",
   "execution_count": 5,
   "metadata": {},
   "outputs": [
    {
     "data": {
      "text/html": [
       "<div>\n",
       "<style scoped>\n",
       "    .dataframe tbody tr th:only-of-type {\n",
       "        vertical-align: middle;\n",
       "    }\n",
       "\n",
       "    .dataframe tbody tr th {\n",
       "        vertical-align: top;\n",
       "    }\n",
       "\n",
       "    .dataframe thead th {\n",
       "        text-align: right;\n",
       "    }\n",
       "</style>\n",
       "<table border=\"1\" class=\"dataframe\">\n",
       "  <thead>\n",
       "    <tr style=\"text-align: right;\">\n",
       "      <th></th>\n",
       "      <th>id</th>\n",
       "      <th>credit_card_type</th>\n",
       "      <th>credit_card_number</th>\n",
       "      <th>date_of_birth</th>\n",
       "    </tr>\n",
       "  </thead>\n",
       "  <tbody>\n",
       "    <tr>\n",
       "      <th>0</th>\n",
       "      <td>1</td>\n",
       "      <td>diners-club-enroute</td>\n",
       "      <td>2.018706e+14</td>\n",
       "      <td>25-Sep-1982</td>\n",
       "    </tr>\n",
       "    <tr>\n",
       "      <th>1</th>\n",
       "      <td>2</td>\n",
       "      <td>americanexpress</td>\n",
       "      <td>3.737511e+14</td>\n",
       "      <td>08-Jan-1946</td>\n",
       "    </tr>\n",
       "    <tr>\n",
       "      <th>2</th>\n",
       "      <td>3</td>\n",
       "      <td>jcb</td>\n",
       "      <td>3.570296e+15</td>\n",
       "      <td>NaN</td>\n",
       "    </tr>\n",
       "    <tr>\n",
       "      <th>3</th>\n",
       "      <td>4</td>\n",
       "      <td>mastercard</td>\n",
       "      <td>5.318327e+15</td>\n",
       "      <td>NaN</td>\n",
       "    </tr>\n",
       "    <tr>\n",
       "      <th>4</th>\n",
       "      <td>5</td>\n",
       "      <td>maestro</td>\n",
       "      <td>6.759827e+17</td>\n",
       "      <td>20-Apr-1975</td>\n",
       "    </tr>\n",
       "  </tbody>\n",
       "</table>\n",
       "</div>"
      ],
      "text/plain": [
       "   id     credit_card_type  credit_card_number date_of_birth\n",
       "0   1  diners-club-enroute        2.018706e+14   25-Sep-1982\n",
       "1   2      americanexpress        3.737511e+14   08-Jan-1946\n",
       "2   3                  jcb        3.570296e+15           NaN\n",
       "3   4           mastercard        5.318327e+15           NaN\n",
       "4   5              maestro        6.759827e+17   20-Apr-1975"
      ]
     },
     "execution_count": 5,
     "metadata": {},
     "output_type": "execute_result"
    }
   ],
   "source": [
    "payment_fp = os.path.join('data', 'payment.csv')\n",
    "payments = pd.read_csv(payment_fp)\n",
    "payments.head()"
   ]
  },
  {
   "cell_type": "code",
   "execution_count": 6,
   "metadata": {},
   "outputs": [],
   "source": [
    "# Helper function to calculate the age\n",
    "def calc_age(dob):\n",
    "    \"\"\"\n",
    "    Given a string of DOB, calculate the age.\n",
    "    \n",
    "    :param dob: string of date of birth\n",
    "    :return: the age of individual\n",
    "    \"\"\"\n",
    "    \n",
    "    dob_date = pd.to_datetime(dob) # Convert to datetime object\n",
    "    today = pd.datetime.now()\n",
    "    return ((today.year - dob_date.year) # Caculate the year\n",
    "         - ((today.month, dob_date.day) < (dob_date.month, dob_date.day))) # Take the month/day into account"
   ]
  },
  {
   "cell_type": "code",
   "execution_count": 7,
   "metadata": {},
   "outputs": [
    {
     "data": {
      "text/html": [
       "<div>\n",
       "<style scoped>\n",
       "    .dataframe tbody tr th:only-of-type {\n",
       "        vertical-align: middle;\n",
       "    }\n",
       "\n",
       "    .dataframe tbody tr th {\n",
       "        vertical-align: top;\n",
       "    }\n",
       "\n",
       "    .dataframe thead th {\n",
       "        text-align: right;\n",
       "    }\n",
       "</style>\n",
       "<table border=\"1\" class=\"dataframe\">\n",
       "  <thead>\n",
       "    <tr style=\"text-align: right;\">\n",
       "      <th></th>\n",
       "      <th>id</th>\n",
       "      <th>credit_card_type</th>\n",
       "      <th>credit_card_number</th>\n",
       "      <th>date_of_birth</th>\n",
       "      <th>age</th>\n",
       "      <th>ccd_is_null</th>\n",
       "    </tr>\n",
       "  </thead>\n",
       "  <tbody>\n",
       "    <tr>\n",
       "      <th>0</th>\n",
       "      <td>1</td>\n",
       "      <td>diners-club-enroute</td>\n",
       "      <td>2.018706e+14</td>\n",
       "      <td>25-Sep-1982</td>\n",
       "      <td>37.0</td>\n",
       "      <td>False</td>\n",
       "    </tr>\n",
       "    <tr>\n",
       "      <th>1</th>\n",
       "      <td>2</td>\n",
       "      <td>americanexpress</td>\n",
       "      <td>3.737511e+14</td>\n",
       "      <td>08-Jan-1946</td>\n",
       "      <td>74.0</td>\n",
       "      <td>False</td>\n",
       "    </tr>\n",
       "    <tr>\n",
       "      <th>2</th>\n",
       "      <td>3</td>\n",
       "      <td>jcb</td>\n",
       "      <td>3.570296e+15</td>\n",
       "      <td>NaN</td>\n",
       "      <td>NaN</td>\n",
       "      <td>False</td>\n",
       "    </tr>\n",
       "    <tr>\n",
       "      <th>3</th>\n",
       "      <td>4</td>\n",
       "      <td>mastercard</td>\n",
       "      <td>5.318327e+15</td>\n",
       "      <td>NaN</td>\n",
       "      <td>NaN</td>\n",
       "      <td>False</td>\n",
       "    </tr>\n",
       "    <tr>\n",
       "      <th>4</th>\n",
       "      <td>5</td>\n",
       "      <td>maestro</td>\n",
       "      <td>6.759827e+17</td>\n",
       "      <td>20-Apr-1975</td>\n",
       "      <td>44.0</td>\n",
       "      <td>False</td>\n",
       "    </tr>\n",
       "  </tbody>\n",
       "</table>\n",
       "</div>"
      ],
      "text/plain": [
       "   id     credit_card_type  credit_card_number date_of_birth   age  \\\n",
       "0   1  diners-club-enroute        2.018706e+14   25-Sep-1982  37.0   \n",
       "1   2      americanexpress        3.737511e+14   08-Jan-1946  74.0   \n",
       "2   3                  jcb        3.570296e+15           NaN   NaN   \n",
       "3   4           mastercard        5.318327e+15           NaN   NaN   \n",
       "4   5              maestro        6.759827e+17   20-Apr-1975  44.0   \n",
       "\n",
       "   ccd_is_null  \n",
       "0        False  \n",
       "1        False  \n",
       "2        False  \n",
       "3        False  \n",
       "4        False  "
      ]
     },
     "execution_count": 7,
     "metadata": {},
     "output_type": "execute_result"
    }
   ],
   "source": [
    "payments_age = payments.assign(age=payments['date_of_birth'].apply(calc_age))\n",
    "payments_miss = payments_age.assign(ccd_is_null=payments['credit_card_number'].isnull())\n",
    "payments_miss.head()"
   ]
  },
  {
   "cell_type": "code",
   "execution_count": 8,
   "metadata": {},
   "outputs": [
    {
     "data": {
      "image/png": "[encoded data removed]",
      "text/plain": [
       "<Figure size 432x288 with 1 Axes>"
      ]
     },
     "metadata": {
      "needs_background": "light"
     },
     "output_type": "display_data"
    }
   ],
   "source": [
    "# flights_miss[['DEPARTURE_DELAY', 'DEP_DELAY_ISNULL']].head()\n",
    "emp_distributions = (\n",
    "    payments_miss\n",
    "    .pivot_table(index='age', columns='ccd_is_null', values=None, aggfunc='size')\n",
    "    .fillna(0)\n",
    "    .apply(lambda x:x/x.sum()) # Normalized\n",
    "    .plot(title='distribution of car years by color=missing/not missing')\n",
    ")\n",
    "\n",
    "# emp_distributions.plot(kind='bar', title='distribution of car colors');"
   ]
  },
  {
   "cell_type": "code",
   "execution_count": 9,
   "metadata": {},
   "outputs": [
    {
     "data": {
      "text/html": [
       "<div>\n",
       "<style scoped>\n",
       "    .dataframe tbody tr th:only-of-type {\n",
       "        vertical-align: middle;\n",
       "    }\n",
       "\n",
       "    .dataframe tbody tr th {\n",
       "        vertical-align: top;\n",
       "    }\n",
       "\n",
       "    .dataframe thead th {\n",
       "        text-align: right;\n",
       "    }\n",
       "</style>\n",
       "<table border=\"1\" class=\"dataframe\">\n",
       "  <thead>\n",
       "    <tr style=\"text-align: right;\">\n",
       "      <th></th>\n",
       "      <th>id</th>\n",
       "      <th>credit_card_number</th>\n",
       "      <th>age</th>\n",
       "    </tr>\n",
       "    <tr>\n",
       "      <th>ccd_is_null</th>\n",
       "      <th></th>\n",
       "      <th></th>\n",
       "      <th></th>\n",
       "    </tr>\n",
       "  </thead>\n",
       "  <tbody>\n",
       "    <tr>\n",
       "      <th>False</th>\n",
       "      <td>500.490082</td>\n",
       "      <td>4.147653e+17</td>\n",
       "      <td>50.794948</td>\n",
       "    </tr>\n",
       "    <tr>\n",
       "      <th>True</th>\n",
       "      <td>500.559441</td>\n",
       "      <td>NaN</td>\n",
       "      <td>47.827869</td>\n",
       "    </tr>\n",
       "  </tbody>\n",
       "</table>\n",
       "</div>"
      ],
      "text/plain": [
       "                     id  credit_card_number        age\n",
       "ccd_is_null                                           \n",
       "False        500.490082        4.147653e+17  50.794948\n",
       "True         500.559441                 NaN  47.827869"
      ]
     },
     "execution_count": 9,
     "metadata": {},
     "output_type": "execute_result"
    }
   ],
   "source": [
    "payments_miss.groupby('ccd_is_null').mean()"
   ]
  },
  {
   "cell_type": "code",
   "execution_count": 10,
   "metadata": {},
   "outputs": [
    {
     "data": {
      "text/plain": [
       "-2.967079141597445"
      ]
     },
     "execution_count": 10,
     "metadata": {},
     "output_type": "execute_result"
    }
   ],
   "source": [
    "# Difference in means\n",
    "obs = np.diff(payments_miss.groupby('ccd_is_null').mean()['age'].tolist())[0]\n",
    "obs"
   ]
  },
  {
   "cell_type": "code",
   "execution_count": 10,
   "metadata": {},
   "outputs": [],
   "source": [
    "# observed_tvd = np.sum(np.abs(emp_distributions.diff(axis=1).iloc[:,-1])) / 2\n",
    "# observed_tvd"
   ]
  },
  {
   "cell_type": "code",
   "execution_count": 16,
   "metadata": {},
   "outputs": [],
   "source": [
    "N = 100000\n",
    "\n",
    "# flights_missing = flights_miss.copy()[['AIRLINE', 'DEP_DELAY_ISNULL']]\n",
    "payments_age = payments.assign(age=payments['date_of_birth'].apply(calc_age))\n",
    "payments_miss = payments_age.assign(ccd_is_null=payments['credit_card_number'].isnull())\n",
    "diff_means = []\n",
    "for i in range(N):\n",
    "    \n",
    "    # shuffle the age\n",
    "    shuffled_age = (\n",
    "        payments_miss['age']\n",
    "        .sample(replace=False, frac=1)\n",
    "        .reset_index(drop=True)\n",
    "    )\n",
    "    \n",
    "    # put them in a table\n",
    "    shuffled = (\n",
    "        payments_miss\n",
    "        .assign(**{'Shuffled Age': shuffled_age})\n",
    "    )\n",
    "    \n",
    "    # compute the tvd\n",
    "    # shuffed_emp_distributions = (\n",
    "        # shuffled\n",
    "        # .pivot_table(columns='ccd_is_null', index='Shuffled Age', values=None, aggfunc='size')\n",
    "        # .fillna(0)\n",
    "        # .apply(lambda x:x/x.sum())\n",
    "    # )\n",
    "    \n",
    "    diff_mean = np.diff(shuffled.groupby('ccd_is_null').mean()['Shuffled Age'].tolist())[0]\n",
    "    # add it to the list of results\n",
    "    \n",
    "    diff_means.append(diff_mean)"
   ]
  },
  {
   "cell_type": "code",
   "execution_count": 17,
   "metadata": {},
   "outputs": [],
   "source": [
    "# diff_means"
   ]
  },
  {
   "cell_type": "code",
   "execution_count": 18,
   "metadata": {},
   "outputs": [
    {
     "data": {
      "image/png": "[encoded data removed]",
      "text/plain": [
       "<Figure size 432x288 with 1 Axes>"
      ]
     },
     "metadata": {
      "needs_background": "light"
     },
     "output_type": "display_data"
    }
   ],
   "source": [
    "#: visualize\n",
    "pd.Series(diff_means).plot(kind='hist', density=True, alpha=0.8)\n",
    "plt.scatter(obs, 0, color='red', s=40);"
   ]
  },
  {
   "cell_type": "code",
   "execution_count": 19,
   "metadata": {},
   "outputs": [
    {
     "data": {
      "text/plain": [
       "0.095"
      ]
     },
     "execution_count": 19,
     "metadata": {},
     "output_type": "execute_result"
    }
   ],
   "source": [
    "np.count_nonzero(np.array(diff_means) < obs) / N"
   ]
  },
  {
   "cell_type": "code",
   "execution_count": 35,
   "metadata": {},
   "outputs": [
    {
     "data": {
      "text/plain": [
       "0.087"
      ]
     },
     "execution_count": 35,
     "metadata": {},
     "output_type": "execute_result"
    }
   ],
   "source": [
    "stats, obs = util.permutation_test(payments_miss, 'age', 'ccd_is_null', util.diff_in_means, 1000) # util functions\n",
    "np.count_nonzero(np.array(stats) < obs) / 1000"
   ]
  },
  {
   "cell_type": "code",
   "execution_count": 20,
   "metadata": {},
   "outputs": [
    {
     "data": {
      "text/plain": [
       "[0.093, 'NR']"
      ]
     },
     "execution_count": 20,
     "metadata": {},
     "output_type": "execute_result"
    }
   ],
   "source": [
    "# Q1 Answer\n",
    "[0.093, 'NR']"
   ]
  },
  {
   "cell_type": "code",
   "execution_count": null,
   "metadata": {},
   "outputs": [],
   "source": []
  },
  {
   "cell_type": "code",
   "execution_count": null,
   "metadata": {},
   "outputs": [],
   "source": []
  },
  {
   "cell_type": "code",
   "execution_count": 22,
   "metadata": {},
   "outputs": [
    {
     "data": {
      "text/plain": [
       "(0.11999902081582361, 0.053954062824804076)"
      ]
     },
     "execution_count": 22,
     "metadata": {},
     "output_type": "execute_result"
    }
   ],
   "source": [
    "gpA = payments_miss.loc[payments_miss['ccd_is_null'], 'age']\n",
    "gpB = payments_miss.loc[~payments_miss['ccd_is_null'], 'age']\n",
    "\n",
    "obs_ks, p_val = ks_2samp(gpA, gpB) # Confused about what ks_2 does\n",
    "obs_ks, p_val # What does the second output mean?"
   ]
  },
  {
   "cell_type": "code",
   "execution_count": 25,
   "metadata": {},
   "outputs": [],
   "source": [
    "n_repetitions = 100\n",
    "\n",
    "kslist = []\n",
    "for _ in range(n_repetitions):\n",
    "    \n",
    "    # shuffle the ages\n",
    "    shuffled_age = (\n",
    "        payments_miss['age']\n",
    "        .sample(replace=False, frac=1)\n",
    "        .reset_index(drop=True)\n",
    "    )\n",
    "    \n",
    "    # \n",
    "    shuffled = (\n",
    "        payments_miss\n",
    "        .assign(**{'Shuffled Age': shuffled_age})\n",
    "    )\n",
    "\n",
    "    ks, _ = ks_2samp(\n",
    "        shuffled.loc[shuffled['ccd_is_null'], 'Shuffled Age'],\n",
    "        shuffled.loc[~shuffled['ccd_is_null'], 'Shuffled Age']\n",
    "    )\n",
    "    \n",
    "    # add it to the list of results\n",
    "    kslist.append(ks)"
   ]
  },
  {
   "cell_type": "code",
   "execution_count": 26,
   "metadata": {},
   "outputs": [
    {
     "data": {
      "text/plain": [
       "0.0443"
      ]
     },
     "execution_count": 26,
     "metadata": {},
     "output_type": "execute_result"
    }
   ],
   "source": [
    "np.count_nonzero(kslist >= obs_ks) / len(kslist)"
   ]
  },
  {
   "cell_type": "code",
   "execution_count": 27,
   "metadata": {},
   "outputs": [
    {
     "data": {
      "image/png": "[encoded data removed]",
      "text/plain": [
       "<Figure size 432x288 with 1 Axes>"
      ]
     },
     "metadata": {
      "needs_background": "light"
     },
     "output_type": "display_data"
    }
   ],
   "source": [
    "pd.Series(kslist).plot(kind='hist', density=True, alpha=0.8)\n",
    "plt.scatter(obs_ks, 0, color='red', s=40);"
   ]
  },
  {
   "cell_type": "code",
   "execution_count": 28,
   "metadata": {},
   "outputs": [
    {
     "data": {
      "text/plain": [
       "[0.039, 'R', 'D']"
      ]
     },
     "execution_count": 28,
     "metadata": {},
     "output_type": "execute_result"
    }
   ],
   "source": [
    "# Q2 Answer\n",
    "[0.039, 'R', 'D']"
   ]
  },
  {
   "cell_type": "code",
   "execution_count": 39,
   "metadata": {},
   "outputs": [
    {
     "data": {
      "text/plain": [
       "0.045"
      ]
     },
     "execution_count": 39,
     "metadata": {},
     "output_type": "execute_result"
    }
   ],
   "source": [
    "stats, obs = util.permutation_test(payments_miss, 'age', 'ccd_is_null', util.ks, 1000) # util functions\n",
    "np.count_nonzero(np.array(stats) > obs) / 1000"
   ]
  },
  {
   "cell_type": "code",
   "execution_count": 81,
   "metadata": {},
   "outputs": [],
   "source": [
    "def ks_permutation(df, test, depend, N=100):\n",
    "    df_miss = df.assign(test_is_null=df[test].isnull()) # Convert to True/False\n",
    "    \n",
    "    gpA = df.loc[df_miss['test_is_null'], depend]\n",
    "    gpB = df.loc[~df_miss['test_is_null'], depend]\n",
    "    obs_ks, p_val = ks_2samp(gpA, gpB) # Get the ks observed value\n",
    "    \n",
    "    kslist = []\n",
    "    for _ in range(N):\n",
    "\n",
    "        # shuffle the dependent column\n",
    "        shuffled_dep = (\n",
    "            df_miss[depend]\n",
    "            .sample(replace=False, frac=1)\n",
    "            .reset_index(drop=True)\n",
    "        )\n",
    "\n",
    "        # \n",
    "        shuffled = (\n",
    "            df_miss\n",
    "            .assign(**{'Shuffled ' + depend: shuffled_dep})\n",
    "        )\n",
    "\n",
    "        ks, _ = ks_2samp(\n",
    "            shuffled.loc[shuffled['test_is_null'], 'Shuffled ' + depend],\n",
    "            shuffled.loc[~shuffled['test_is_null'], 'Shuffled ' + depend]\n",
    "        )\n",
    "\n",
    "        # add it to the list of results\n",
    "        kslist.append(ks)\n",
    "    \n",
    "    print(np.std(kslist))\n",
    "    \n",
    "    pd.Series(kslist).plot(kind='hist', density=True, alpha=0.8)\n",
    "    plt.scatter(obs_ks, 0, color='red', s=40);\n",
    "    \n",
    "    # return np.min([np.count_nonzero(kslist >= obs_ks) / len(kslist), np.count_nonzero(kslist <= obs_ks) / len(kslist)])\n",
    "    return np.count_nonzero(np.array(kslist) >= obs_ks) / len(kslist) #, np.count_nonzero(kslist <= obs_ks) / len(kslist)])"
   ]
  },
  {
   "cell_type": "code",
   "execution_count": 63,
   "metadata": {},
   "outputs": [
    {
     "data": {
      "text/plain": [
       "0.04224"
      ]
     },
     "execution_count": 63,
     "metadata": {},
     "output_type": "execute_result"
    },
    {
     "data": {
      "image/png": "[encoded data removed]",
      "text/plain": [
       "<Figure size 432x288 with 1 Axes>"
      ]
     },
     "metadata": {
      "needs_background": "light"
     },
     "output_type": "display_data"
    }
   ],
   "source": [
    "ks_permutation(payments_age, 'credit_card_number', 'age', 100000) # Verify if my function is correct"
   ]
  },
  {
   "cell_type": "code",
   "execution_count": null,
   "metadata": {},
   "outputs": [],
   "source": []
  },
  {
   "cell_type": "code",
   "execution_count": null,
   "metadata": {},
   "outputs": [],
   "source": []
  },
  {
   "cell_type": "markdown",
   "metadata": {},
   "source": [
    "### Missingness and the proportion of null values\n",
    "\n",
    "**Question 2**\n",
    "\n",
    "In the file `data/missing_heights.csv` are the heights of children and their fathers (`child` and `father`). The `child_X` columns are missing values in varying proportions. The missingness of these `child_X` columns were created as MAR dependent on father height. The missingness of these `child_X` columns are all equally dependent on father height and each column `child_X` is `X%` non-null (verify this yourself!).\n",
    "\n",
    "* You will attempt to *verify* the missingness of `child_X` on the `father` height column using permutation test. Your permutation tests should use `N=100` simulations and use the `KS` test statistic. Write a function `verify_child` that takes in the `heights` data and returns a series of p-values (from your permutation tests), indexed by the columns `child_X`. \n",
    "\n",
    "* Now interpret your results. In the function `missing_data_amounts`, return a list of correct statements from the options below:\n",
    "    1. The p-value for `child_50` is small because the *sampling distribution* of test-statistics has low variance.\n",
    "    1. MAR is hardest to determine when there are very different proportions of null and non-null values.\n",
    "    1. The difference between p-value for `child_5` and `child_95` is due to randomness.\n",
    "    1. You would always expect the p-value of `child_X` and `child_(100-X)` to be similar.\n",
    "    1. You would only expect the p-value of `child_X` and `child_(100-X)` to be similar if the columns are MCAR.\n"
   ]
  },
  {
   "cell_type": "code",
   "execution_count": 13,
   "metadata": {},
   "outputs": [
    {
     "data": {
      "text/html": [
       "<div>\n",
       "<style scoped>\n",
       "    .dataframe tbody tr th:only-of-type {\n",
       "        vertical-align: middle;\n",
       "    }\n",
       "\n",
       "    .dataframe tbody tr th {\n",
       "        vertical-align: top;\n",
       "    }\n",
       "\n",
       "    .dataframe thead th {\n",
       "        text-align: right;\n",
       "    }\n",
       "</style>\n",
       "<table border=\"1\" class=\"dataframe\">\n",
       "  <thead>\n",
       "    <tr style=\"text-align: right;\">\n",
       "      <th></th>\n",
       "      <th>child</th>\n",
       "      <th>father</th>\n",
       "      <th>child_95</th>\n",
       "      <th>child_90</th>\n",
       "      <th>child_75</th>\n",
       "      <th>child_50</th>\n",
       "      <th>child_25</th>\n",
       "      <th>child_10</th>\n",
       "      <th>child_5</th>\n",
       "    </tr>\n",
       "  </thead>\n",
       "  <tbody>\n",
       "    <tr>\n",
       "      <th>0</th>\n",
       "      <td>73.2</td>\n",
       "      <td>78.5</td>\n",
       "      <td>73.2</td>\n",
       "      <td>73.2</td>\n",
       "      <td>73.2</td>\n",
       "      <td>NaN</td>\n",
       "      <td>NaN</td>\n",
       "      <td>NaN</td>\n",
       "      <td>NaN</td>\n",
       "    </tr>\n",
       "    <tr>\n",
       "      <th>1</th>\n",
       "      <td>69.2</td>\n",
       "      <td>78.5</td>\n",
       "      <td>69.2</td>\n",
       "      <td>69.2</td>\n",
       "      <td>69.2</td>\n",
       "      <td>NaN</td>\n",
       "      <td>NaN</td>\n",
       "      <td>NaN</td>\n",
       "      <td>69.2</td>\n",
       "    </tr>\n",
       "    <tr>\n",
       "      <th>2</th>\n",
       "      <td>69.0</td>\n",
       "      <td>78.5</td>\n",
       "      <td>69.0</td>\n",
       "      <td>69.0</td>\n",
       "      <td>69.0</td>\n",
       "      <td>69.0</td>\n",
       "      <td>NaN</td>\n",
       "      <td>NaN</td>\n",
       "      <td>NaN</td>\n",
       "    </tr>\n",
       "    <tr>\n",
       "      <th>3</th>\n",
       "      <td>69.0</td>\n",
       "      <td>78.5</td>\n",
       "      <td>69.0</td>\n",
       "      <td>69.0</td>\n",
       "      <td>NaN</td>\n",
       "      <td>69.0</td>\n",
       "      <td>NaN</td>\n",
       "      <td>NaN</td>\n",
       "      <td>NaN</td>\n",
       "    </tr>\n",
       "    <tr>\n",
       "      <th>4</th>\n",
       "      <td>73.5</td>\n",
       "      <td>75.5</td>\n",
       "      <td>73.5</td>\n",
       "      <td>73.5</td>\n",
       "      <td>NaN</td>\n",
       "      <td>73.5</td>\n",
       "      <td>73.5</td>\n",
       "      <td>NaN</td>\n",
       "      <td>NaN</td>\n",
       "    </tr>\n",
       "  </tbody>\n",
       "</table>\n",
       "</div>"
      ],
      "text/plain": [
       "   child  father  child_95  child_90  child_75  child_50  child_25  child_10  \\\n",
       "0   73.2    78.5      73.2      73.2      73.2       NaN       NaN       NaN   \n",
       "1   69.2    78.5      69.2      69.2      69.2       NaN       NaN       NaN   \n",
       "2   69.0    78.5      69.0      69.0      69.0      69.0       NaN       NaN   \n",
       "3   69.0    78.5      69.0      69.0       NaN      69.0       NaN       NaN   \n",
       "4   73.5    75.5      73.5      73.5       NaN      73.5      73.5       NaN   \n",
       "\n",
       "   child_5  \n",
       "0      NaN  \n",
       "1     69.2  \n",
       "2      NaN  \n",
       "3      NaN  \n",
       "4      NaN  "
      ]
     },
     "execution_count": 13,
     "metadata": {},
     "output_type": "execute_result"
    }
   ],
   "source": [
    "fp = os.path.join('data', 'missing_heights.csv')\n",
    "heights = pd.read_csv(fp)\n",
    "heights.head()"
   ]
  },
  {
   "cell_type": "code",
   "execution_count": 14,
   "metadata": {},
   "outputs": [],
   "source": [
    "# Verify missing proprotion # Have no idea how to approach this question???????????????????????\n",
    "# heights.child.isnull().mean()\n",
    "# heights.child_95.isnull().mean()\n",
    "# heights.child_90.isnull().mean()\n",
    "# heights.child_75.isnull().mean()\n",
    "# heights.child_50.isnull().mean()\n",
    "# heights.child_25.isnull().mean()\n",
    "# heights.child_10.isnull().mean()\n",
    "# heights.child_5.isnull().mean()"
   ]
  },
  {
   "cell_type": "code",
   "execution_count": 72,
   "metadata": {},
   "outputs": [
    {
     "data": {
      "text/plain": [
       "{'child_95': 0.84,\n",
       " 'child_90': 0.78,\n",
       " 'child_75': 0.39,\n",
       " 'child_50': 0.0,\n",
       " 'child_25': 0.09,\n",
       " 'child_10': 0.14,\n",
       " 'child_5': 0.08}"
      ]
     },
     "execution_count": 72,
     "metadata": {},
     "output_type": "execute_result"
    },
    {
     "data": {
      "image/png": "[encoded data removed]",
      "text/plain": [
       "<Figure size 432x288 with 1 Axes>"
      ]
     },
     "metadata": {
      "needs_background": "light"
     },
     "output_type": "display_data"
    }
   ],
   "source": [
    "dic = {}\n",
    "children = heights.columns[heights.columns.str.contains('^child_')] # Get children columns\n",
    "for child in children: # Loop through child_X\n",
    "    dic.update({child:ks_permutation(heights, child, 'father')})\n",
    "dic"
   ]
  },
  {
   "cell_type": "code",
   "execution_count": 104,
   "metadata": {},
   "outputs": [
    {
     "data": {
      "text/plain": [
       "{'child_95': 0.7,\n",
       " 'child_90': 0.82,\n",
       " 'child_75': 0.44,\n",
       " 'child_50': 0.0,\n",
       " 'child_25': 0.12,\n",
       " 'child_10': 0.16,\n",
       " 'child_5': 0.1}"
      ]
     },
     "execution_count": 104,
     "metadata": {},
     "output_type": "execute_result"
    }
   ],
   "source": [
    "lab.verify_child(heights)"
   ]
  },
  {
   "cell_type": "code",
   "execution_count": null,
   "metadata": {},
   "outputs": [],
   "source": []
  },
  {
   "cell_type": "code",
   "execution_count": 88,
   "metadata": {},
   "outputs": [
    {
     "name": "stdout",
     "output_type": "stream",
     "text": [
      "0.041578808528838614\n"
     ]
    },
    {
     "data": {
      "text/plain": [
       "0.78"
      ]
     },
     "execution_count": 88,
     "metadata": {},
     "output_type": "execute_result"
    },
    {
     "data": {
      "image/png": "[encoded data removed]",
      "text/plain": [
       "<Figure size 432x288 with 1 Axes>"
      ]
     },
     "metadata": {
      "needs_background": "light"
     },
     "output_type": "display_data"
    }
   ],
   "source": [
    "ks_permutation(heights, 'child_95', 'father', 100) # Do we need to consider both end in this case then??"
   ]
  },
  {
   "cell_type": "code",
   "execution_count": 89,
   "metadata": {},
   "outputs": [
    {
     "data": {
      "text/plain": [
       "0.74"
      ]
     },
     "execution_count": 89,
     "metadata": {},
     "output_type": "execute_result"
    }
   ],
   "source": [
    "lab.ks_permutation(heights, 'child_95', 'father', 100) "
   ]
  },
  {
   "cell_type": "code",
   "execution_count": 90,
   "metadata": {},
   "outputs": [
    {
     "name": "stdout",
     "output_type": "stream",
     "text": [
      "0.028882897746770237\n"
     ]
    },
    {
     "data": {
      "text/plain": [
       "0.73"
      ]
     },
     "execution_count": 90,
     "metadata": {},
     "output_type": "execute_result"
    },
    {
     "data": {
      "image/png": "[encoded data removed]",
      "text/plain": [
       "<Figure size 432x288 with 1 Axes>"
      ]
     },
     "metadata": {
      "needs_background": "light"
     },
     "output_type": "display_data"
    }
   ],
   "source": [
    "ks_permutation(heights, 'child_90', 'father', 100)"
   ]
  },
  {
   "cell_type": "code",
   "execution_count": 91,
   "metadata": {},
   "outputs": [
    {
     "name": "stdout",
     "output_type": "stream",
     "text": [
      "0.01671815166581115\n"
     ]
    },
    {
     "data": {
      "text/plain": [
       "0.41"
      ]
     },
     "execution_count": 91,
     "metadata": {},
     "output_type": "execute_result"
    },
    {
     "data": {
      "image/png": "[encoded data removed]",
      "text/plain": [
       "<Figure size 432x288 with 1 Axes>"
      ]
     },
     "metadata": {
      "needs_background": "light"
     },
     "output_type": "display_data"
    }
   ],
   "source": [
    "ks_permutation(heights, 'child_75', 'father', 100)"
   ]
  },
  {
   "cell_type": "code",
   "execution_count": 92,
   "metadata": {},
   "outputs": [
    {
     "name": "stdout",
     "output_type": "stream",
     "text": [
      "0.014186178335744986\n"
     ]
    },
    {
     "data": {
      "text/plain": [
       "0.0"
      ]
     },
     "execution_count": 92,
     "metadata": {},
     "output_type": "execute_result"
    },
    {
     "data": {
      "image/png": "[encoded data removed]",
      "text/plain": [
       "<Figure size 432x288 with 1 Axes>"
      ]
     },
     "metadata": {
      "needs_background": "light"
     },
     "output_type": "display_data"
    }
   ],
   "source": [
    "ks_permutation(heights, 'child_50', 'father', 100)"
   ]
  },
  {
   "cell_type": "code",
   "execution_count": 93,
   "metadata": {},
   "outputs": [
    {
     "name": "stdout",
     "output_type": "stream",
     "text": [
      "0.019004713627186663\n"
     ]
    },
    {
     "data": {
      "text/plain": [
       "0.1"
      ]
     },
     "execution_count": 93,
     "metadata": {},
     "output_type": "execute_result"
    },
    {
     "data": {
      "image/png": "[encoded data removed]",
      "text/plain": [
       "<Figure size 432x288 with 1 Axes>"
      ]
     },
     "metadata": {
      "needs_background": "light"
     },
     "output_type": "display_data"
    }
   ],
   "source": [
    "ks_permutation(heights, 'child_25', 'father', 100)"
   ]
  },
  {
   "cell_type": "code",
   "execution_count": 87,
   "metadata": {},
   "outputs": [
    {
     "name": "stdout",
     "output_type": "stream",
     "text": [
      "0.0246553106009921\n"
     ]
    },
    {
     "data": {
      "text/plain": [
       "0.13"
      ]
     },
     "execution_count": 87,
     "metadata": {},
     "output_type": "execute_result"
    },
    {
     "data": {
      "image/png": "[encoded data removed]",
      "text/plain": [
       "<Figure size 432x288 with 1 Axes>"
      ]
     },
     "metadata": {
      "needs_background": "light"
     },
     "output_type": "display_data"
    }
   ],
   "source": [
    "ks_permutation(heights, 'child_10', 'father', 100)"
   ]
  },
  {
   "cell_type": "code",
   "execution_count": 71,
   "metadata": {},
   "outputs": [
    {
     "data": {
      "text/plain": [
       "0.19"
      ]
     },
     "execution_count": 71,
     "metadata": {},
     "output_type": "execute_result"
    },
    {
     "data": {
      "image/png": "[encoded data removed]",
      "text/plain": [
       "<Figure size 432x288 with 1 Axes>"
      ]
     },
     "metadata": {
      "needs_background": "light"
     },
     "output_type": "display_data"
    }
   ],
   "source": [
    "ks_permutation(heights, 'child_5', 'father', 100)"
   ]
  },
  {
   "cell_type": "code",
   "execution_count": 24,
   "metadata": {},
   "outputs": [
    {
     "data": {
      "text/plain": [
       "[2]"
      ]
     },
     "execution_count": 24,
     "metadata": {},
     "output_type": "execute_result"
    }
   ],
   "source": [
    "# Answer\n",
    "[2] # ASK!!!!!!!"
   ]
  },
  {
   "cell_type": "code",
   "execution_count": 95,
   "metadata": {},
   "outputs": [],
   "source": [
    "# MCAR child columns\n",
    "def check_MCAR(df, prop):\n",
    "    \n",
    "    # index_null = np.random.choice(df.index, int(len(df.index) * prop))\n",
    "    # child_null = df['child']\n",
    "    # check = df.assign(child_MCAR=child_null)\n",
    "    check = df.copy()\n",
    "    check['child_MCAR'] = util.make_mcar(df, 'child', pct=prop).child\n",
    "    return ks_permutation(check, 'child_MCAR', 'father', 100)"
   ]
  },
  {
   "cell_type": "code",
   "execution_count": 45,
   "metadata": {},
   "outputs": [
    {
     "data": {
      "text/plain": [
       "467"
      ]
     },
     "execution_count": 45,
     "metadata": {},
     "output_type": "execute_result"
    }
   ],
   "source": [
    "prop = 0.5\n",
    "# child = np.array(heights['child'])\n",
    "# index_null = np.random.choice(a=np.arange(len(child)), size=int(len(child) * prop))\n",
    "# np.put(child, index_null, np.nan)\n",
    "# pd.Series(child).isnull().sum() / len(child)\n",
    "# pd.Series(child).isnull().sum()\n",
    "check = heights.copy()\n",
    "check['child_MCAR'] = check['child'].sample(frac=prop)\n",
    "check['child_MCAR'].isnull().sum()"
   ]
  },
  {
   "cell_type": "code",
   "execution_count": 96,
   "metadata": {},
   "outputs": [
    {
     "name": "stdout",
     "output_type": "stream",
     "text": [
      "0.04296795317186789\n"
     ]
    },
    {
     "data": {
      "text/plain": [
       "0.26"
      ]
     },
     "execution_count": 96,
     "metadata": {},
     "output_type": "execute_result"
    },
    {
     "data": {
      "image/png": "[encoded data removed]",
      "text/plain": [
       "<Figure size 432x288 with 1 Axes>"
      ]
     },
     "metadata": {
      "needs_background": "light"
     },
     "output_type": "display_data"
    }
   ],
   "source": [
    "check_MCAR(heights, 0.05)"
   ]
  },
  {
   "cell_type": "code",
   "execution_count": 97,
   "metadata": {},
   "outputs": [
    {
     "name": "stdout",
     "output_type": "stream",
     "text": [
      "0.03488088746443693\n"
     ]
    },
    {
     "data": {
      "text/plain": [
       "0.23"
      ]
     },
     "execution_count": 97,
     "metadata": {},
     "output_type": "execute_result"
    },
    {
     "data": {
      "image/png": "[encoded data removed]",
      "text/plain": [
       "<Figure size 432x288 with 1 Axes>"
      ]
     },
     "metadata": {
      "needs_background": "light"
     },
     "output_type": "display_data"
    }
   ],
   "source": [
    "check_MCAR(heights, 0.95)"
   ]
  },
  {
   "cell_type": "code",
   "execution_count": 98,
   "metadata": {},
   "outputs": [
    {
     "name": "stdout",
     "output_type": "stream",
     "text": [
      "0.019652577880920587\n"
     ]
    },
    {
     "data": {
      "text/plain": [
       "0.05"
      ]
     },
     "execution_count": 98,
     "metadata": {},
     "output_type": "execute_result"
    },
    {
     "data": {
      "image/png": "[encoded data removed]",
      "text/plain": [
       "<Figure size 432x288 with 1 Axes>"
      ]
     },
     "metadata": {
      "needs_background": "light"
     },
     "output_type": "display_data"
    }
   ],
   "source": [
    "check_MCAR(heights, 0.25)"
   ]
  },
  {
   "cell_type": "code",
   "execution_count": 99,
   "metadata": {},
   "outputs": [
    {
     "name": "stdout",
     "output_type": "stream",
     "text": [
      "0.015474841488001668\n"
     ]
    },
    {
     "data": {
      "text/plain": [
       "0.66"
      ]
     },
     "execution_count": 99,
     "metadata": {},
     "output_type": "execute_result"
    },
    {
     "data": {
      "image/png": "[encoded data removed]",
      "text/plain": [
       "<Figure size 432x288 with 1 Axes>"
      ]
     },
     "metadata": {
      "needs_background": "light"
     },
     "output_type": "display_data"
    }
   ],
   "source": [
    "check_MCAR(heights, 0.75)"
   ]
  },
  {
   "cell_type": "code",
   "execution_count": 100,
   "metadata": {},
   "outputs": [
    {
     "name": "stdout",
     "output_type": "stream",
     "text": [
      "0.019917116065129213\n"
     ]
    },
    {
     "data": {
      "text/plain": [
       "0.54"
      ]
     },
     "execution_count": 100,
     "metadata": {},
     "output_type": "execute_result"
    },
    {
     "data": {
      "image/png": "[encoded data removed]",
      "text/plain": [
       "<Figure size 432x288 with 1 Axes>"
      ]
     },
     "metadata": {
      "needs_background": "light"
     },
     "output_type": "display_data"
    }
   ],
   "source": [
    "check_MCAR(heights, 0.80)"
   ]
  },
  {
   "cell_type": "code",
   "execution_count": 101,
   "metadata": {},
   "outputs": [
    {
     "name": "stdout",
     "output_type": "stream",
     "text": [
      "0.02169392760436943\n"
     ]
    },
    {
     "data": {
      "text/plain": [
       "0.11"
      ]
     },
     "execution_count": 101,
     "metadata": {},
     "output_type": "execute_result"
    },
    {
     "data": {
      "image/png": "[encoded data removed]",
      "text/plain": [
       "<Figure size 432x288 with 1 Axes>"
      ]
     },
     "metadata": {
      "needs_background": "light"
     },
     "output_type": "display_data"
    }
   ],
   "source": [
    "check_MCAR(heights, 0.20)"
   ]
  },
  {
   "cell_type": "code",
   "execution_count": 102,
   "metadata": {},
   "outputs": [
    {
     "name": "stdout",
     "output_type": "stream",
     "text": [
      "0.025160402625403123\n"
     ]
    },
    {
     "data": {
      "text/plain": [
       "0.85"
      ]
     },
     "execution_count": 102,
     "metadata": {},
     "output_type": "execute_result"
    },
    {
     "data": {
      "image/png": "[encoded data removed]",
      "text/plain": [
       "<Figure size 432x288 with 1 Axes>"
      ]
     },
     "metadata": {
      "needs_background": "light"
     },
     "output_type": "display_data"
    }
   ],
   "source": [
    "check_MCAR(heights, 0.10)"
   ]
  },
  {
   "cell_type": "code",
   "execution_count": 103,
   "metadata": {},
   "outputs": [
    {
     "name": "stdout",
     "output_type": "stream",
     "text": [
      "0.02820971875493601\n"
     ]
    },
    {
     "data": {
      "text/plain": [
       "0.37"
      ]
     },
     "execution_count": 103,
     "metadata": {},
     "output_type": "execute_result"
    },
    {
     "data": {
      "image/png": "[encoded data removed]",
      "text/plain": [
       "<Figure size 432x288 with 1 Axes>"
      ]
     },
     "metadata": {
      "needs_background": "light"
     },
     "output_type": "display_data"
    }
   ],
   "source": [
    "check_MCAR(heights, 0.90)"
   ]
  },
  {
   "cell_type": "code",
   "execution_count": null,
   "metadata": {},
   "outputs": [],
   "source": []
  },
  {
   "cell_type": "markdown",
   "metadata": {},
   "source": [
    "### Imputation of Heights: quantitative columns\n",
    "\n",
    "**Question 3**\n",
    "\n",
    "In lecture, you learned how to do single-valued imputation conditionally on a *categorical* column: impute with the mean for each group. That is, for each distinct value of the *categorical* column, there is a single imputed value.\n",
    "\n",
    "Here, you will do a single-valued imputation conditionally on a *quantitative* column. To do this, transform the `father` column into a categorical column by binning the values of `father` into [quartiles](https://en.wikipedia.org/wiki/Quartile). Once this is done, you can impute the column as in lecture (and described above).\n",
    "\n",
    "* Write a function `cond_single_imputation` that takes in a dataframe with columns `father` and `child` (with missing values in `child`) and imputes single-valued mean imputation of the `child` column, conditional on `father`. Your function should return a Series (Hint: `pd.qcut` may be helpful!).\n",
    "\n",
    "*Hint:* The groupby method `.transform` is useful for this question (see discussion 3), though it's also possible using `aggregate`. As a reminder, *loops are not allowed*."
   ]
  },
  {
   "cell_type": "code",
   "execution_count": 70,
   "metadata": {},
   "outputs": [
    {
     "data": {
      "text/html": [
       "<div>\n",
       "<style scoped>\n",
       "    .dataframe tbody tr th:only-of-type {\n",
       "        vertical-align: middle;\n",
       "    }\n",
       "\n",
       "    .dataframe tbody tr th {\n",
       "        vertical-align: top;\n",
       "    }\n",
       "\n",
       "    .dataframe thead th {\n",
       "        text-align: right;\n",
       "    }\n",
       "</style>\n",
       "<table border=\"1\" class=\"dataframe\">\n",
       "  <thead>\n",
       "    <tr style=\"text-align: right;\">\n",
       "      <th></th>\n",
       "      <th>father</th>\n",
       "      <th>child</th>\n",
       "    </tr>\n",
       "  </thead>\n",
       "  <tbody>\n",
       "    <tr>\n",
       "      <th>0</th>\n",
       "      <td>78.5</td>\n",
       "      <td>NaN</td>\n",
       "    </tr>\n",
       "    <tr>\n",
       "      <th>1</th>\n",
       "      <td>78.5</td>\n",
       "      <td>NaN</td>\n",
       "    </tr>\n",
       "    <tr>\n",
       "      <th>2</th>\n",
       "      <td>78.5</td>\n",
       "      <td>69.0</td>\n",
       "    </tr>\n",
       "    <tr>\n",
       "      <th>3</th>\n",
       "      <td>78.5</td>\n",
       "      <td>69.0</td>\n",
       "    </tr>\n",
       "    <tr>\n",
       "      <th>4</th>\n",
       "      <td>75.5</td>\n",
       "      <td>73.5</td>\n",
       "    </tr>\n",
       "  </tbody>\n",
       "</table>\n",
       "</div>"
      ],
      "text/plain": [
       "   father  child\n",
       "0    78.5    NaN\n",
       "1    78.5    NaN\n",
       "2    78.5   69.0\n",
       "3    78.5   69.0\n",
       "4    75.5   73.5"
      ]
     },
     "execution_count": 70,
     "metadata": {},
     "output_type": "execute_result"
    }
   ],
   "source": [
    "new_heights = heights[['father', 'child_50']].rename(columns={'child_50': 'child'}).copy()\n",
    "new_heights.head()"
   ]
  },
  {
   "cell_type": "code",
   "execution_count": 110,
   "metadata": {},
   "outputs": [],
   "source": [
    "quartile_heights = new_heights.assign(quartile=pd.qcut(new_heights['father'], 4)) # Find the quartile for each height of father\n",
    "# We should impute the child height rather the father's height right??????????????????\n",
    "child_mean = quartile_heights.groupby('quartile')['child'].transform('mean')\n",
    "quartile_heights['child_mean'] = child_mean"
   ]
  },
  {
   "cell_type": "code",
   "execution_count": 111,
   "metadata": {},
   "outputs": [
    {
     "data": {
      "text/html": [
       "<div>\n",
       "<style scoped>\n",
       "    .dataframe tbody tr th:only-of-type {\n",
       "        vertical-align: middle;\n",
       "    }\n",
       "\n",
       "    .dataframe tbody tr th {\n",
       "        vertical-align: top;\n",
       "    }\n",
       "\n",
       "    .dataframe thead th {\n",
       "        text-align: right;\n",
       "    }\n",
       "</style>\n",
       "<table border=\"1\" class=\"dataframe\">\n",
       "  <thead>\n",
       "    <tr style=\"text-align: right;\">\n",
       "      <th></th>\n",
       "      <th>father</th>\n",
       "      <th>child</th>\n",
       "      <th>quartile</th>\n",
       "      <th>child_mean</th>\n",
       "    </tr>\n",
       "  </thead>\n",
       "  <tbody>\n",
       "    <tr>\n",
       "      <th>640</th>\n",
       "      <td>68.0</td>\n",
       "      <td>66.000000</td>\n",
       "      <td>(61.999, 68.0]</td>\n",
       "      <td>65.481383</td>\n",
       "    </tr>\n",
       "    <tr>\n",
       "      <th>572</th>\n",
       "      <td>68.5</td>\n",
       "      <td>73.000000</td>\n",
       "      <td>(68.0, 69.0]</td>\n",
       "      <td>66.933750</td>\n",
       "    </tr>\n",
       "    <tr>\n",
       "      <th>394</th>\n",
       "      <td>70.5</td>\n",
       "      <td>67.434307</td>\n",
       "      <td>(69.0, 71.0]</td>\n",
       "      <td>67.434307</td>\n",
       "    </tr>\n",
       "    <tr>\n",
       "      <th>535</th>\n",
       "      <td>69.5</td>\n",
       "      <td>67.434307</td>\n",
       "      <td>(69.0, 71.0]</td>\n",
       "      <td>67.434307</td>\n",
       "    </tr>\n",
       "    <tr>\n",
       "      <th>322</th>\n",
       "      <td>70.0</td>\n",
       "      <td>72.000000</td>\n",
       "      <td>(69.0, 71.0]</td>\n",
       "      <td>67.434307</td>\n",
       "    </tr>\n",
       "  </tbody>\n",
       "</table>\n",
       "</div>"
      ],
      "text/plain": [
       "     father      child        quartile  child_mean\n",
       "640    68.0  66.000000  (61.999, 68.0]   65.481383\n",
       "572    68.5  73.000000    (68.0, 69.0]   66.933750\n",
       "394    70.5  67.434307    (69.0, 71.0]   67.434307\n",
       "535    69.5  67.434307    (69.0, 71.0]   67.434307\n",
       "322    70.0  72.000000    (69.0, 71.0]   67.434307"
      ]
     },
     "execution_count": 111,
     "metadata": {},
     "output_type": "execute_result"
    }
   ],
   "source": [
    "imputed = quartile_heights.fillna({'child':child_mean}) # Fill NaN with mean\n",
    "imputed.sample(5)"
   ]
  },
  {
   "cell_type": "code",
   "execution_count": 120,
   "metadata": {},
   "outputs": [
    {
     "data": {
      "text/plain": [
       "True"
      ]
     },
     "execution_count": 120,
     "metadata": {},
     "output_type": "execute_result"
    }
   ],
   "source": [
    "child.fillna(pd.Series(child_mean)).equals(imputed['child'])\n",
    "# child.fillna(pd.Series(child_mean)) # Answer\n",
    "lab.cond_single_imputation(new_heights).equals(imputed['child'])"
   ]
  },
  {
   "cell_type": "code",
   "execution_count": 73,
   "metadata": {},
   "outputs": [
    {
     "data": {
      "text/plain": [
       "quartile\n",
       "(61.999, 68.0]    65.481383\n",
       "(68.0, 69.0]      66.933750\n",
       "(69.0, 71.0]      67.434307\n",
       "(71.0, 78.5]      68.083871\n",
       "Name: child, dtype: float64"
      ]
     },
     "execution_count": 73,
     "metadata": {},
     "output_type": "execute_result"
    }
   ],
   "source": [
    "quartile_heights.groupby('quartile')['child'].mean()"
   ]
  },
  {
   "cell_type": "code",
   "execution_count": 82,
   "metadata": {},
   "outputs": [
    {
     "name": "stdout",
     "output_type": "stream",
     "text": [
      "mean (original): 66.745931\n",
      "mean (missing):  66.648608\n",
      "mean (mean imp): 66.781860\n"
     ]
    }
   ],
   "source": [
    "print(\n",
    "    'mean (original): %f' % heights.child.mean(),\n",
    "    'mean (missing):  %f' % new_heights.child.mean(),\n",
    "    'mean (mean imp): %f' % imputed.child.mean(),\n",
    "    sep='\\n'\n",
    ")"
   ]
  },
  {
   "cell_type": "code",
   "execution_count": 130,
   "metadata": {},
   "outputs": [
    {
     "name": "stdout",
     "output_type": "stream",
     "text": [
      "std (original): 3.579251\n",
      "std (missing):  3.654613\n",
      "std (mean imp): 2.673682\n"
     ]
    }
   ],
   "source": [
    "print(\n",
    "    'std (original): %f' % heights.child.std(),\n",
    "    'std (missing):  %f' % new_heights.child.std(),\n",
    "    'std (mean imp): %f' % imputed.child.std(),\n",
    "    sep='\\n'\n",
    ")"
   ]
  },
  {
   "cell_type": "code",
   "execution_count": null,
   "metadata": {},
   "outputs": [],
   "source": []
  },
  {
   "cell_type": "markdown",
   "metadata": {},
   "source": [
    "### Probabilistic imputation of quantitative columns\n",
    "\n",
    "**Question 4**\n",
    "\n",
    "In lecture, you learned how to impute a categorical column by sampling from the dataframe column. One problem with this technique is that the imputation will never generate imputed values that weren't already in the dataset. When the column under consideration is quantitative, this may not be a reasonable assumption. For example, `56.0`, `57.0`, and `57.5` are in the heights dataset, yet `56.5` is not. Thus, any imputation done by sampling from the dataset will not be able to generate a height of `56.5`, even though it's clearly a reasonable value to occur in the dataset.\n",
    "\n",
    "To keep things simple, you will impute the `child` column *unconditionally* from the distribution of `child` heights present in the dataset. This means that you will use the values present in `child` to impute missing values. i.e. values that appear in `child` more will probably appear more when imputing.\n",
    "\n",
    "The approach to imputing from a quantitative distribution, is as follows:\n",
    "* Find the empirical distribution of `child` heights by creating a histogram (using 10 bins) of `child` heights.\n",
    "* Use this histogram to generate a number within the observed range of `child` heights:\n",
    "    - The likelihood a generated number belongs to a given bin is the proportion of the bin in the histogram. (Hint: `np.histogram` is useful for this part).\n",
    "    - Any number within a fixed bin is equally likely to occur. (Hint: `np.random.choice` and `np.random.uniform` may be useful for this part).\n",
    "    \n",
    "Create a function `quantitative_distribution` that takes in a Series and an integer `N > 0`, and returns an array of `N` using the method described above. (For writing this function, and this function only, it is *ok* to use loops).\n",
    "\n",
    "Create a function `impute_height_quant` that takes in a Series of `child` heights with missing values (aka `child_X`) and imputes them using the scheme above. **You should use `quantitative_distribution` to help you do this.**"
   ]
  },
  {
   "cell_type": "code",
   "execution_count": 84,
   "metadata": {},
   "outputs": [
    {
     "data": {
      "text/plain": [
       "array([0.00642398, 0.03211991, 0.11563169, 0.23554604, 0.17344754,\n",
       "       0.18201285, 0.21199143, 0.03426124, 0.00642398, 0.00214133])"
      ]
     },
     "execution_count": 84,
     "metadata": {},
     "output_type": "execute_result"
    }
   ],
   "source": [
    "# new_heights['child'].hist(bins=10)\n",
    "N = 10000\n",
    "binned = np.histogram(new_heights['child'].dropna(), bins=10) # Value counts (first line)\n",
    "prop = binned[0] / binned[0].sum() # proportion of bins\n",
    "bins = binned[1] # N + 1 bin boundaries\n",
    "# print(prop)\n",
    "indices = np.random.choice(a=10, p=prop, size=N)\n",
    "# print(np.sum(indices == 8) / 10000)\n",
    "samples = []\n",
    "for ind in indices: # Loop through samples\n",
    "    lower, upper = bins[ind], bins[ind+1] # Upper and lower bounds of bin\n",
    "    samples.append(np.random.uniform(low=lower, high=upper))\n",
    "# len(samples)\n",
    "prop"
   ]
  },
  {
   "cell_type": "code",
   "execution_count": 85,
   "metadata": {},
   "outputs": [
    {
     "data": {
      "text/plain": [
       "0.0073"
      ]
     },
     "execution_count": 85,
     "metadata": {},
     "output_type": "execute_result"
    }
   ],
   "source": [
    "bounds = []\n",
    "for i in range(10):\n",
    "    bounds.append([bins[i], bins[i+1]])\n",
    "\n",
    "inds = []\n",
    "for elem in samples:\n",
    "    for j in range(10):\n",
    "        if elem >= bounds[j][0] and elem <= bounds[j][1]:\n",
    "            inds.append(j)\n",
    "np.sum(np.array(inds) == 8) / 10000"
   ]
  },
  {
   "cell_type": "code",
   "execution_count": 86,
   "metadata": {},
   "outputs": [],
   "source": [
    "# quantitative_distribution\n",
    "\n",
    "def quantitative_distribution(child, N):\n",
    "    \"\"\"\n",
    "    quantitative_distribution that takes in a Series and an integer \n",
    "    N > 0, and returns an array of N samples from the distribution of \n",
    "    values of the Series as described in the question.\n",
    "    :Example:\n",
    "    >>> fp = os.path.join('data', 'missing_heights.csv')\n",
    "    >>> df = pd.read_csv(fp)\n",
    "    >>> child = df['child_50']\n",
    "    >>> out = quantitative_distribution(child, 100)\n",
    "    >>> out.min() >= 56\n",
    "    True\n",
    "    >>> out.max() <= 79\n",
    "    True\n",
    "    >>> np.isclose(out.mean(), child.mean(), atol=1)\n",
    "    True\n",
    "    \"\"\"  \n",
    "    binned = np.histogram(child.dropna(), bins=10) # Value counts (first line)\n",
    "    prop = binned[0] / binned[0].sum() # proportion of bins\n",
    "    bins = binned[1] # N + 1 bin boundaries\n",
    "    # print(prop)\n",
    "    indices = np.random.choice(a=10, p=prop, size=N)\n",
    "    # print(np.sum(indices == 8) / 10000)\n",
    "    samples = []\n",
    "    for ind in indices: # Loop through samples\n",
    "        lower, upper = bins[ind], bins[ind+1] # Upper and lower bounds of bin\n",
    "        samples.append(np.random.uniform(low=lower, high=upper))\n",
    "    return np.array(samples)"
   ]
  },
  {
   "cell_type": "code",
   "execution_count": 135,
   "metadata": {},
   "outputs": [
    {
     "data": {
      "text/plain": [
       "0.0065"
      ]
     },
     "execution_count": 135,
     "metadata": {},
     "output_type": "execute_result"
    }
   ],
   "source": [
    "# Check results\n",
    "child = new_heights['child']\n",
    "arr = quantitative_distribution(child, 10000)\n",
    "\n",
    "inds = []\n",
    "for elem in arr:\n",
    "    for j in range(10):\n",
    "        if elem >= bounds[j][0] and elem <= bounds[j][1]:\n",
    "            inds.append(j)\n",
    "np.sum(np.array(inds) == 8) / 10000"
   ]
  },
  {
   "cell_type": "code",
   "execution_count": 89,
   "metadata": {},
   "outputs": [
    {
     "data": {
      "text/plain": [
       "0    70.685801\n",
       "1    71.862906\n",
       "2    69.000000\n",
       "3    69.000000\n",
       "4    73.500000\n",
       "Name: child, dtype: float64"
      ]
     },
     "execution_count": 89,
     "metadata": {},
     "output_type": "execute_result"
    }
   ],
   "source": [
    "child = new_heights['child']\n",
    "child_dist = quantitative_distribution(child, len(child))\n",
    "# imputed = child.fillna({'child':child_dist}) # Fill NaN with mean\n",
    "imputed = child.fillna(pd.Series(child_dist)) # Fill NaN with mean\n",
    "\n",
    "imputed.head()"
   ]
  },
  {
   "cell_type": "code",
   "execution_count": 136,
   "metadata": {},
   "outputs": [
    {
     "data": {
      "text/plain": [
       "True"
      ]
     },
     "execution_count": 136,
     "metadata": {},
     "output_type": "execute_result"
    }
   ],
   "source": [
    "np.isclose(arr.mean(), child.mean(), atol=1)"
   ]
  },
  {
   "cell_type": "code",
   "execution_count": 90,
   "metadata": {},
   "outputs": [],
   "source": [
    "# impute_height_quant\n",
    "def impute_height_quant(child):\n",
    "    \"\"\"\n",
    "    impute_height_quant takes in a Series of child heights \n",
    "    with missing values and imputes them using the scheme in\n",
    "    the question.\n",
    "\n",
    "    :Example:\n",
    "    >>> fp = os.path.join('data', 'missing_heights.csv')\n",
    "    >>> df = pd.read_csv(fp)\n",
    "    >>> child = df['child_50']\n",
    "    >>> out = impute_height_quant(child)\n",
    "    >>> out.isnull().sum() == 0\n",
    "    True\n",
    "    >>> np.isclose(out.mean(), child.mean(), atol=0.5)\n",
    "    True\n",
    "    \"\"\"\n",
    "\n",
    "    child_dist = quantitative_distribution(child, len(child))\n",
    "    imputed = child.fillna(pd.Series(child_dist)) # Fill NaN with distribution values\n",
    "    return imputed"
   ]
  },
  {
   "cell_type": "code",
   "execution_count": 91,
   "metadata": {},
   "outputs": [
    {
     "data": {
      "text/plain": [
       "0.007494646680942184"
      ]
     },
     "execution_count": 91,
     "metadata": {},
     "output_type": "execute_result"
    }
   ],
   "source": [
    "# Check my function\n",
    "impute = impute_height_quant(child)\n",
    "check = pd.DataFrame({'child':child, 'imputed':impute})\n",
    "# check[check['child'].isna()]\n",
    "\n",
    "inds = []\n",
    "for elem in impute:\n",
    "    for j in range(10):\n",
    "        if elem >= bounds[j][0] and elem <= bounds[j][1]:\n",
    "            inds.append(j)\n",
    "np.sum(np.array(inds) == 8) / len(child)"
   ]
  },
  {
   "cell_type": "code",
   "execution_count": 92,
   "metadata": {},
   "outputs": [
    {
     "data": {
      "text/plain": [
       "True"
      ]
     },
     "execution_count": 92,
     "metadata": {},
     "output_type": "execute_result"
    }
   ],
   "source": [
    "np.isclose(impute.mean(), child.mean(), atol=0.5)"
   ]
  },
  {
   "cell_type": "code",
   "execution_count": 93,
   "metadata": {},
   "outputs": [
    {
     "name": "stdout",
     "output_type": "stream",
     "text": [
      "mean (original): 66.745931\n",
      "mean (missing):  66.648608\n",
      "mean (mean imp): 66.742283\n"
     ]
    }
   ],
   "source": [
    "print(\n",
    "    'mean (original): %f' % heights.child.mean(),\n",
    "    'mean (missing):  %f' % new_heights.child.mean(),\n",
    "    'mean (mean imp): %f' % impute.mean(),\n",
    "    sep='\\n'\n",
    ")"
   ]
  },
  {
   "cell_type": "code",
   "execution_count": 94,
   "metadata": {},
   "outputs": [
    {
     "name": "stdout",
     "output_type": "stream",
     "text": [
      "std (original): 3.579251\n",
      "std (missing):  3.654613\n",
      "std (mean imp): 3.681857\n"
     ]
    }
   ],
   "source": [
    "print(\n",
    "    'std (original): %f' % heights.child.std(),\n",
    "    'std (missing):  %f' % new_heights.child.std(),\n",
    "    'std (mean imp): %f' % impute.std(),\n",
    "    sep='\\n'\n",
    ")"
   ]
  },
  {
   "cell_type": "code",
   "execution_count": null,
   "metadata": {},
   "outputs": [],
   "source": []
  },
  {
   "cell_type": "markdown",
   "metadata": {},
   "source": [
    "# I'm ready for scraping! But am I allowed to?\n",
    "\n",
    "**Question 5**\n",
    "\n",
    "We know that many sites have a published policy allowing or disallowing automatic access to their site. Often, this policy is in a text file `robots.txt`. There is (`https://moz.com/learn/seo/robotstxt`) a good article that explains what these files are, where to find them, and how to use them. After reading the article please answer a few questions. \n",
    "\n",
    "**2.1: What is the purpose of `robots.txt`?**\n",
    "\n",
    "1) To informs agents which pages to crawl.\n",
    "\n",
    "2) To informs agents that the site is automated.\n",
    "\n",
    "3) To inform agents that robots will chase them down if their info is stolen.\n",
    "\n",
    "**2.2: Where do you put your `robots.txt` file?**\n",
    "\n",
    "1) In the folder you want to disallow.\n",
    "\n",
    "2) In the root directory of your website.\n",
    "\n",
    "3) In a Google search.\n",
    "\n",
    "\n",
    "**2.3: If a `robots.txt` is not present, does it mean you can legally scrape the site?**\n",
    "\n",
    "1) Yes\n",
    "\n",
    "2) No\n",
    "\n",
    "**2.4: Each subdomain on a root domain can use separate `robots.txt` file**\n",
    "\n",
    "1) Yes\n",
    "\n",
    "2) No\n",
    "\n",
    "\n",
    "**2.5: Website hunt**\n",
    "\n",
    "Next, find three websites that explicitly use a `robots.txt` file and allow scraping (by everyone) and three that do not allow generic user-agents to scrape it (denoted by `*`).\n",
    "\n",
    "* Note: Some websites may cause gradescope to time out. Please change a website if you encounter this issue. \n",
    "\n",
    "\n",
    "\n",
    "\n",
    "Now combine you answers to multiple choice questions in one list and urls of the sites you found in another list. \n",
    "Create an argument-free function `answers` to return both of lists.\n"
   ]
  },
  {
   "cell_type": "code",
   "execution_count": 59,
   "metadata": {},
   "outputs": [
    {
     "data": {
      "text/plain": [
       "[1, 2, 2, 1]"
      ]
     },
     "execution_count": 59,
     "metadata": {},
     "output_type": "execute_result"
    }
   ],
   "source": [
    "[1, 2, 2, 1]"
   ]
  },
  {
   "cell_type": "code",
   "execution_count": 60,
   "metadata": {},
   "outputs": [
    {
     "data": {
      "text/plain": [
       "['https://soundcloud.com/',\n",
       " 'https://cfmriweb.ucsd.edu/',\n",
       " 'https://www.thesaurus.com/',\n",
       " 'https://ucsd.sona-systems.com/',\n",
       " 'https://www.linkedin.com/',\n",
       " 'https://facebook.com/']"
      ]
     },
     "execution_count": 60,
     "metadata": {},
     "output_type": "execute_result"
    }
   ],
   "source": [
    "# Not quite understand what it means, there are still some blocked from scraping\n",
    "(['https://soundcloud.com/', # 1. soundcloud, allow everything\n",
    "  'https://cfmriweb.ucsd.edu/', # 1. wiki, some disallow\n",
    "  'https://www.thesaurus.com/', # 1. thesaurus, some disallow\n",
    "  'https://ucsd.sona-systems.com/', # 2. SONA, disallow completely\n",
    "  'https://www.linkedin.com/', # 2. LinkedIn, disallow completely\n",
    "  'https://facebook.com/'])  # 2. Facebook, disallow completely\n",
    "  # 'https://cfmriweb.ucsd.edu/', # Some disallow *\n",
    "  # 'https://www.evullab.org/', # Only one *, no allow or disallow. What does it mean?\n",
    "  # 'https://www.axiomlajolla.com/', # Some disallow *\n",
    "  # 'https://www.thesaurus.com/'# Some disallow *"
   ]
  },
  {
   "cell_type": "code",
   "execution_count": 61,
   "metadata": {},
   "outputs": [
    {
     "data": {
      "text/plain": [
       "[[1, 2, 2, 1],\n",
       " ['https://soundcloud.com/',\n",
       "  'https://cfmriweb.ucsd.edu/',\n",
       "  'https://www.thesaurus.com/',\n",
       "  'https://ucsd.sona-systems.com/',\n",
       "  'https://www.linkedin.com/',\n",
       "  'https://facebook.com/']]"
      ]
     },
     "execution_count": 61,
     "metadata": {},
     "output_type": "execute_result"
    }
   ],
   "source": [
    "lab.answers()"
   ]
  },
  {
   "cell_type": "code",
   "execution_count": null,
   "metadata": {},
   "outputs": [],
   "source": []
  },
  {
   "cell_type": "code",
   "execution_count": null,
   "metadata": {},
   "outputs": [],
   "source": []
  },
  {
   "cell_type": "markdown",
   "metadata": {},
   "source": [
    "## Congratulations! You're done!\n",
    "\n",
    "* Submit the lab on Gradescope"
   ]
  },
  {
   "cell_type": "code",
   "execution_count": null,
   "metadata": {},
   "outputs": [],
   "source": []
  }
 ],
 "metadata": {
  "kernelspec": {
   "display_name": "Python 3",
   "language": "python",
   "name": "python3"
  },
  "language_info": {
   "codemirror_mode": {
    "name": "ipython",
    "version": 3
   },
   "file_extension": ".py",
   "mimetype": "text/x-python",
   "name": "python",
   "nbconvert_exporter": "python",
   "pygments_lexer": "ipython3",
   "version": "3.7.1"
  }
 },
 "nbformat": 4,
 "nbformat_minor": 2
}
