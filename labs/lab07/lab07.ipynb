{
 "cells": [
  {
   "cell_type": "markdown",
   "metadata": {},
   "source": [
    "# DSC 80: Lab 07\n",
    "\n",
    "### Due Date: Tuesday, February 25 11:59PM"
   ]
  },
  {
   "cell_type": "markdown",
   "metadata": {},
   "source": [
    "## Instructions\n",
    "Much like in DSC 10, this Jupyter Notebook contains the statements of the problems and provides code and markdown cells to display your answers to the problems. Unlike DSC 10, the notebook is *only* for displaying a readable version of your final answers. The coding work will be developed in an accompanying `lab*.py` file, that will be imported into the current notebook.\n",
    "\n",
    "Labs and programming assignments will be graded in (at most) two ways:\n",
    "1. The functions and classes in the accompanying python file will be tested (a la DSC 20),\n",
    "2. The notebook will be graded (for graphs and free response questions).\n",
    "\n",
    "**Do not change the function names in the `*.py` file**\n",
    "- The functions in the `*.py` file are how your assignment is graded, and they are graded by their name. The dictionary at the end of the file (`GRADED FUNCTIONS`) contains the \"grading list\". The final function in the file allows your doctests to check that all the necessary functions exist.\n",
    "- If you changed something you weren't supposed to, just use git to revert!\n",
    "\n",
    "**Tips for working in the Notebook**:\n",
    "- The notebooks serve to present you the questions and give you a place to present your results for later review.\n",
    "- The notebook on *lab assignments* are not graded (only the `.py` file).\n",
    "- Notebooks for PAs will serve as a final report for the assignment, and contain conclusions and answers to open ended questions that are graded.\n",
    "- The notebook serves as a nice environment for 'pre-development' and experimentation before designing your function in your `.py` file.\n",
    "\n",
    "**Tips for developing in the .py file**:\n",
    "- Do not change the function names in the starter code; grading is done using these function names.\n",
    "- Do not change the docstrings in the functions. These are there to tell you if your work is on the right track!\n",
    "- You are encouraged to write your own additional functions to solve the lab! \n",
    "    - Developing in python usually consists of larger files, with many short functions.\n",
    "    - You may write your other functions in an additional `.py` file that you import in `lab**.py` (much like we do in the notebook).\n",
    "- Always document your code!"
   ]
  },
  {
   "cell_type": "markdown",
   "metadata": {},
   "source": [
    "### Importing code from `lab**.py`\n",
    "\n",
    "* We import our `.py` file that's contained in the same directory as this notebook.\n",
    "* We use the `autoreload` notebook extension to make changes to our `lab**.py` file immediately available in our notebook. Without this extension, we would need to restart the notebook kernel to see any changes to `lab**.py` in the notebook.\n",
    "    - `autoreload` is necessary because, upon import, `lab**.py` is compiled to bytecode (in the directory `__pycache__`). Subsequent imports of `lab**` merely import the existing compiled python."
   ]
  },
  {
   "cell_type": "code",
   "execution_count": 1,
   "metadata": {},
   "outputs": [],
   "source": [
    "%load_ext autoreload\n",
    "%autoreload 2"
   ]
  },
  {
   "cell_type": "code",
   "execution_count": 2,
   "metadata": {},
   "outputs": [],
   "source": [
    "import lab07 as lab"
   ]
  },
  {
   "cell_type": "code",
   "execution_count": 3,
   "metadata": {},
   "outputs": [],
   "source": [
    "%matplotlib inline\n",
    "import pandas as pd\n",
    "import numpy as np\n",
    "import matplotlib.pyplot as plt\n",
    "import glob\n",
    "import os\n",
    "import time\n",
    "import re"
   ]
  },
  {
   "cell_type": "code",
   "execution_count": 4,
   "metadata": {},
   "outputs": [],
   "source": [
    "import requests\n",
    "import json"
   ]
  },
  {
   "cell_type": "markdown",
   "metadata": {},
   "source": [
    "# Practice with regular expressions (Regex)\n",
    "\n",
    "**Question 1**\n",
    "\n",
    "You start with some basic regular expression exercises to get some practice using them. You will find function stubs and related doctests in the starter code. \n",
    "\n",
    "**Exercise 1:** A string that has a `[` as the third character and `]` as the sixth character.\n",
    "\n",
    "**Exercise 2:** Phone numbers that start with '(858)' and follow the format '(xxx) xxx-xxxx' (x represents a digit).\n",
    "\n",
    "*Notice: There is a space between (xxx) and xxx-xxxx*\n",
    "\n",
    "**Exercise 3:** A string whose length is between 6 to 10 and contains only word characters, white spaces and `?`. This string must have `?` as its last character.\n",
    "\n",
    "**Exercise 4:** A string that begins with '\\\\$' and with another '\\\\$' within, where:\n",
    "   - Characters between the two '\\\\$' can be anything (including nothing) except the letters 'a', 'b', 'c' (lower case).\n",
    "   - Characters after the second '\\\\$' can only have any number of the letters 'a', 'b', 'c' (upper or lower case), with every 'a' before every 'b', and every 'b' before every 'c'.\n",
    "       - E.g. 'AaBbbC' works, 'ACB' doesn't.\n",
    "\n",
    "**Exercise 5:** A string that represents a valid Python file name including the extension. \n",
    "\n",
    "*Notice*: For simplicity, assume that the file name contains only letters, numbers and an underscore `_`.\n",
    "\n",
    "**Exercise 6:** Find patterns of lowercase letters joined with an underscore.\n",
    "\n",
    "**Exercise 7:** Find patterns that start with and end with a `_`.\n",
    "\n",
    "**Exercise 8:**  Apple registration numbers and Apple hardware product serial numbers might have the number '0' (zero), but never the letter 'O'. Serial numbers don't have the number '1' (one) or the letter 'i'. Write a line of regex expression that checks if the given Serial number belongs to a genuine Apple product.\n",
    "\n",
    "**Exercise 9:** Check if a given ID number is from Los Angeles (LAX), San Diego(SAN) or the state of New York (NY). ID numbers have the following format `SC-NN-CCC-NNNN`. \n",
    "   - SC represents state code in uppercase \n",
    "   - NN represents a number with 2 digits \n",
    "   - CCC represents a three letter city code in uppercase\n",
    "   - NNNN represents a number with 4 digits\n",
    "\n",
    "**Exercise 10:**  Given an input string, cast it to lower case, remove spaces/punctuation, and return a list of every 3-character substring that satisfy the following:\n",
    "   - The first character doesn't start with 'a' or 'A'\n",
    "   - The last substring (and only the last substring) can be shorter than 3 characters, depending on the length of the input string.\n",
    "   - The substrings cannot overlap"
   ]
  },
  {
   "cell_type": "code",
   "execution_count": 7,
   "metadata": {},
   "outputs": [],
   "source": [
    "# Exercise 1\n",
    "def match_1(string):\n",
    "    \"\"\"\n",
    "    A string that has a [ as the third character and ] as the sixth character.\n",
    "    >>> match_1(\"abcde]\")\n",
    "    False\n",
    "    >>> match_1(\"ab[cde\")\n",
    "    False\n",
    "    >>> match_1(\"a[cd]\")\n",
    "    False\n",
    "    >>> match_1(\"ab[cd]\")\n",
    "    True\n",
    "    >>> match_1(\"1ab[cd]\")\n",
    "    False\n",
    "    >>> match_1(\"ab[cd]ef\")\n",
    "    True\n",
    "    >>> match_1(\"1b[#d] _\")\n",
    "    True\n",
    "    \"\"\"\n",
    "    #Your Code Here\n",
    "    pattern = '^.{2}\\[.{2}\\]'\n",
    "\n",
    "    #Do not edit following code\n",
    "    prog = re.compile(pattern)\n",
    "    return prog.search(string) is not None\n"
   ]
  },
  {
   "cell_type": "code",
   "execution_count": 11,
   "metadata": {},
   "outputs": [
    {
     "data": {
      "text/plain": [
       "True"
      ]
     },
     "execution_count": 11,
     "metadata": {},
     "output_type": "execute_result"
    }
   ],
   "source": [
    "match_1(\" `[  ] _\")"
   ]
  },
  {
   "cell_type": "code",
   "execution_count": 6,
   "metadata": {},
   "outputs": [],
   "source": [
    "# match_1(\"abcde]\") == False\n",
    "# match_1(\"ab[cde\") == False\n",
    "# match_1(\"a[cd]\") == False\n",
    "# match_1(\"ab[cd]\") == True\n",
    "# match_1(\"1ab[cd]\") == False\n",
    "# match_1(\"ab[cd]ef\") == True\n",
    "# match_1(\"1b[#d] _\") == True"
   ]
  },
  {
   "cell_type": "code",
   "execution_count": null,
   "metadata": {},
   "outputs": [],
   "source": []
  },
  {
   "cell_type": "code",
   "execution_count": 13,
   "metadata": {},
   "outputs": [],
   "source": [
    "# Exercise 2\n",
    "def match_2(string):\n",
    "    \"\"\"\n",
    "    Phone numbers that start with '(858)' and\n",
    "    follow the format '(xxx) xxx-xxxx' (x represents a digit)\n",
    "    Notice: There is a space between (xxx) and xxx-xxxx\n",
    "\n",
    "    >>> match_2(\"(123) 456-7890\")\n",
    "    False\n",
    "    >>> match_2(\"858-456-7890\")\n",
    "    False\n",
    "    >>> match_2(\"(858)45-7890\")\n",
    "    False\n",
    "    >>> match_2(\"(858) 456-7890\")\n",
    "    True\n",
    "    >>> match_2(\"(858)456-789\")\n",
    "    False\n",
    "    >>> match_2(\"(858)456-7890\")\n",
    "    False\n",
    "    >>> match_2(\"a(858) 456-7890\")\n",
    "    False\n",
    "    >>> match_2(\"(858) 456-7890b\")\n",
    "    False\n",
    "    \"\"\"\n",
    "    #Your Code Here\n",
    "    pattern = '^\\(858\\) \\d{3}-\\d{4}$'\n",
    "\n",
    "    #Do not edit following code\n",
    "    prog = re.compile(pattern)\n",
    "    return prog.search(string) is not None"
   ]
  },
  {
   "cell_type": "code",
   "execution_count": 19,
   "metadata": {},
   "outputs": [
    {
     "data": {
      "text/plain": [
       "False"
      ]
     },
     "execution_count": 19,
     "metadata": {},
     "output_type": "execute_result"
    }
   ],
   "source": [
    "match_2(\"(858) 45-7890\")"
   ]
  },
  {
   "cell_type": "code",
   "execution_count": 8,
   "metadata": {},
   "outputs": [],
   "source": [
    "# match_2(\"(123) 456-7890\") == False\n",
    "# match_2(\"858-456-7890\") == False\n",
    "# match_2(\"(858)45-7890\") == False\n",
    "# match_2(\"(858) 456-7890\") == True\n",
    "# match_2(\"(858)456-789\") == False\n",
    "# match_2(\"(858)456-7890\") == False\n",
    "# match_2(\"a(858) 456-7890\") == False\n",
    "# match_2(\"(858) 456-7890b\") == False"
   ]
  },
  {
   "cell_type": "code",
   "execution_count": null,
   "metadata": {},
   "outputs": [],
   "source": []
  },
  {
   "cell_type": "code",
   "execution_count": 34,
   "metadata": {},
   "outputs": [],
   "source": [
    "# Exercise 3\n",
    "def match_3(string):\n",
    "    \"\"\"\n",
    "    Find a pattern whose length is between 6 to 10\n",
    "    and contains only word character, white space and ?.\n",
    "    This string must have ? as its last character.\n",
    "\n",
    "    >>> match_3(\"qwertsd?\")\n",
    "    True\n",
    "    >>> match_3(\"qw?ertsd?\")\n",
    "    True\n",
    "    >>> match_3(\"ab c?\")\n",
    "    False\n",
    "    >>> match_3(\"ab   c ?\")\n",
    "    True\n",
    "    >>> match_3(\" asdfqwes ?\")\n",
    "    False\n",
    "    >>> match_3(\" adfqwes ?\")\n",
    "    True\n",
    "    >>> match_3(\" adf!qes ?\")\n",
    "    False\n",
    "    >>> match_3(\" adf!qe? \")\n",
    "    False\n",
    "    \"\"\"\n",
    "    #Your Code Here\n",
    "    pattern = '^[\\w \\\\?]{5,9}\\?$'\n",
    "\n",
    "    #Do not edit following code\n",
    "    prog = re.compile(pattern)\n",
    "    return prog.search(string) is not None"
   ]
  },
  {
   "cell_type": "code",
   "execution_count": 36,
   "metadata": {},
   "outputs": [
    {
     "data": {
      "text/plain": [
       "False"
      ]
     },
     "execution_count": 36,
     "metadata": {},
     "output_type": "execute_result"
    }
   ],
   "source": [
    "match_3(\"_A5??7e?\")"
   ]
  },
  {
   "cell_type": "code",
   "execution_count": 10,
   "metadata": {},
   "outputs": [],
   "source": [
    "# match_3(\"qwertsd?\") == True\n",
    "# match_3(\"qw?ertsd?\") == True\n",
    "# match_3(\"ab c?\") == False\n",
    "# match_3(\"ab   c ?\") == True\n",
    "# match_3(\" asdfqwes ?\") == False\n",
    "# match_3(\" adfqwes ?\") == True\n",
    "# match_3(\" adf!qes ?\") == False\n",
    "# match_3(\" adf!qe? \") == False \n"
   ]
  },
  {
   "cell_type": "code",
   "execution_count": null,
   "metadata": {},
   "outputs": [],
   "source": []
  },
  {
   "cell_type": "code",
   "execution_count": 47,
   "metadata": {},
   "outputs": [],
   "source": [
    "# Exercise 4\n",
    "def match_4(string):\n",
    "    \"\"\"\n",
    "    A string that begins with '$' and with another '$' within, where:\n",
    "        - Characters between the two '$' can be anything except the \n",
    "        letters 'a', 'b', 'c' (lower case).\n",
    "        - Characters after the second '$' can only have any number \n",
    "        of the letters 'a', 'b', 'c' (upper or lower case), with every \n",
    "        'a' before every 'b', and every 'b' before every 'c'.\n",
    "            - E.g. 'AaBbbC' works, 'ACB' doesn't.\n",
    "\n",
    "    >>> match_4(\"$$AaaaaBbbbc\")\n",
    "    True\n",
    "    >>> match_4(\"$!@#$aABc\")\n",
    "    True\n",
    "    >>> match_4(\"$a$aABc\")\n",
    "    False\n",
    "\n",
    "    >>> match_4(\"$iiuABc\")\n",
    "    False\n",
    "    >>> match_4(\"123$Abc\")\n",
    "    False\n",
    "    >>> match_4(\"$$Abc\")\n",
    "    True\n",
    "    >>> match_4(\"$qw345t$AAAc\")\n",
    "    False\n",
    "    >>> match_4(\"$s$Bca\")\n",
    "    False\n",
    "    >>> match_4(\"$s12B5rf';.t A$aABbbBBcCcCc\")\n",
    "    True\n",
    "    \"\"\"\n",
    "    #Your Code Here\n",
    "    pattern = '^\\$[^abc]*\\$[Aa]+[Bb]+[Cc]+$'\n",
    "\n",
    "    #Do not edit following code\n",
    "    prog = re.compile(pattern)\n",
    "    return prog.search(string) is not None"
   ]
  },
  {
   "cell_type": "code",
   "execution_count": 48,
   "metadata": {},
   "outputs": [
    {
     "data": {
      "text/plain": [
       "True"
      ]
     },
     "execution_count": 48,
     "metadata": {},
     "output_type": "execute_result"
    }
   ],
   "source": [
    "match_4(\"$s12B5rf';.t A$aABbbBBcCcCc\")"
   ]
  },
  {
   "cell_type": "code",
   "execution_count": 23,
   "metadata": {},
   "outputs": [],
   "source": [
    "# match_4(\"$$AaaaaBbbbc\") == True\n",
    "# match_4(\"$!@#$aABc\") == True\n",
    "# match_4(\"$a$aABc\") == False\n",
    "# match_4(\"$iiuABc\") == False\n",
    "# match_4(\"123$Abc\") == False\n",
    "# match_4(\"$$Abc\") == True\n",
    "# match_4(\"$qw345t$AAAc\") == False\n",
    "# match_4(\"$s$Bca\") == False"
   ]
  },
  {
   "cell_type": "code",
   "execution_count": null,
   "metadata": {},
   "outputs": [],
   "source": []
  },
  {
   "cell_type": "code",
   "execution_count": 57,
   "metadata": {},
   "outputs": [],
   "source": [
    "# Exercise 5\n",
    "def match_5(string):\n",
    "    \"\"\"\n",
    "    A string that represents a valid Python file name including the extension.\n",
    "    *Notice*: For simplicity, assume that the file name contains only letters, numbers and an underscore `_`.\n",
    "\n",
    "    >>> match_5(\"dsc80.py\")\n",
    "    True\n",
    "    >>> match_5(\"dsc80py\")\n",
    "    False\n",
    "    >>> match_5(\"dsc80..py\")\n",
    "    False\n",
    "    >>> match_5(\"dsc80+.py\")\n",
    "    False\n",
    "    >>> match_5(\"Prj78Je_.py\")\n",
    "    True\n",
    "    >>> match_5(\".py\")\n",
    "    False\n",
    "    \"\"\"\n",
    "\n",
    "    #Your Code Here\n",
    "    pattern = '^[\\w]+\\.py$'\n",
    "\n",
    "    #Do not edit following code\n",
    "    prog = re.compile(pattern)\n",
    "    return prog.search(string) is not None"
   ]
  },
  {
   "cell_type": "code",
   "execution_count": 58,
   "metadata": {},
   "outputs": [
    {
     "data": {
      "text/plain": [
       "False"
      ]
     },
     "execution_count": 58,
     "metadata": {},
     "output_type": "execute_result"
    }
   ],
   "source": [
    "match_5(\".py\")"
   ]
  },
  {
   "cell_type": "code",
   "execution_count": 25,
   "metadata": {},
   "outputs": [],
   "source": [
    "# match_5(\"dsc80.py\") == True\n",
    "# match_5(\"dsc80py\") == False\n",
    "# match_5(\"dsc80..py\") == False\n",
    "# match_5(\"dsc80+.py\") == False"
   ]
  },
  {
   "cell_type": "code",
   "execution_count": null,
   "metadata": {},
   "outputs": [],
   "source": []
  },
  {
   "cell_type": "code",
   "execution_count": 60,
   "metadata": {},
   "outputs": [],
   "source": [
    "# Exercise 6\n",
    "def match_6(string):\n",
    "    \"\"\"\n",
    "    Find patterns of lowercase letters joined with an underscore.\n",
    "    >>> match_6(\"aab_cbb_bc\")\n",
    "    False\n",
    "    >>> match_6(\"aab_cbbbc\")\n",
    "    True\n",
    "    >>> match_6(\"aab_Abbbc\")\n",
    "    False\n",
    "    >>> match_6(\"abcdef\")\n",
    "    False\n",
    "    >>> match_6(\"ABCDEF_ABCD\")\n",
    "    False\n",
    "    \"\"\"\n",
    "\n",
    "    #Your Code Here\n",
    "    pattern = '^[a-z]+\\_[a-z]+$'\n",
    "\n",
    "    #Do not edit following code\n",
    "    prog = re.compile(pattern)\n",
    "    return prog.search(string) is not None"
   ]
  },
  {
   "cell_type": "code",
   "execution_count": 63,
   "metadata": {},
   "outputs": [
    {
     "data": {
      "text/plain": [
       "False"
      ]
     },
     "execution_count": 63,
     "metadata": {},
     "output_type": "execute_result"
    }
   ],
   "source": [
    "match_6(\"a_bcdefA\")"
   ]
  },
  {
   "cell_type": "code",
   "execution_count": 27,
   "metadata": {},
   "outputs": [],
   "source": [
    "# match_6(\"aab_cbb_bc\") == False\n",
    "# match_6(\"aab_cbbbc\") == True\n",
    "# match_6(\"aab_Abbbc\") == False\n",
    "# match_6(\"abcdef\") == False\n",
    "# match_6(\"ABCDEF_ABCD\") == False\n"
   ]
  },
  {
   "cell_type": "code",
   "execution_count": null,
   "metadata": {},
   "outputs": [],
   "source": []
  },
  {
   "cell_type": "code",
   "execution_count": 64,
   "metadata": {},
   "outputs": [],
   "source": [
    "# Exercise 7\n",
    "def match_7(string):\n",
    "    \"\"\"\n",
    "    Find patterns that start with and end with a _\n",
    "    >>> match_7(\"_abc_\")\n",
    "    True\n",
    "    >>> match_7(\"abd\")\n",
    "    False\n",
    "    >>> match_7(\"bcd\")\n",
    "    False\n",
    "    >>> match_7(\"_ncde\")\n",
    "    False\n",
    "    >>> match_7(\"__\")\n",
    "    True\n",
    "    >>> match_7(\"_\")\n",
    "    False\n",
    "    \"\"\"\n",
    "    \n",
    "    #Your Code Here\n",
    "    pattern = '^\\_.*\\_$'\n",
    "\n",
    "    #Do not edit following code\n",
    "    prog = re.compile(pattern)\n",
    "    return prog.search(string) is not None"
   ]
  },
  {
   "cell_type": "code",
   "execution_count": 65,
   "metadata": {},
   "outputs": [
    {
     "data": {
      "text/plain": [
       "False"
      ]
     },
     "execution_count": 65,
     "metadata": {},
     "output_type": "execute_result"
    }
   ],
   "source": [
    "match_7(\"_\")"
   ]
  },
  {
   "cell_type": "code",
   "execution_count": 29,
   "metadata": {},
   "outputs": [],
   "source": [
    "# match_7(\"_abc_\") == True\n",
    "# match_7(\"abd\") == False\n",
    "# match_7(\"bcd\") == False\n",
    "# match_7(\"_ncde\") == False\n",
    "# match_7(\"__\") == True\n",
    "# match_7(\"_\") == False"
   ]
  },
  {
   "cell_type": "code",
   "execution_count": null,
   "metadata": {},
   "outputs": [],
   "source": []
  },
  {
   "cell_type": "code",
   "execution_count": 66,
   "metadata": {},
   "outputs": [],
   "source": [
    "# Exercise 8\n",
    "def match_8(string):\n",
    "    \"\"\"\n",
    "    Apple registration numbers and Apple hardware product serial numbers\n",
    "    might have the number \"0\" (zero), but never the letter \"O\".\n",
    "    Serial numbers don't have the number \"1\" (one) or the letter \"i\".\n",
    "\n",
    "    Write a line of regex expression that checks\n",
    "    if the given Serial number belongs to a genuine Apple product.\n",
    "\n",
    "    >>> match_8(\"ASJDKLFK10ASDO\")\n",
    "    False\n",
    "    >>> match_8(\"ASJDKLFK0ASDo\")\n",
    "    True\n",
    "    >>> match_8(\"JKLSDNM01IDKSL\")\n",
    "    False\n",
    "    >>> match_8(\"ASDKJLdsi0SKLl\")\n",
    "    False\n",
    "    >>> match_8(\"ASDJKL9380JKAL\")\n",
    "    True\n",
    "    >>> match_8(\"ASDJKL9380JKALIIIo000\")\n",
    "    True\n",
    "    \"\"\"\n",
    "\n",
    "    #Your Code Here\n",
    "    pattern = '^[^O1i]*$'\n",
    "\n",
    "    #Do not edit following code\n",
    "    prog = re.compile(pattern)\n",
    "    return prog.search(string) is not None"
   ]
  },
  {
   "cell_type": "code",
   "execution_count": 73,
   "metadata": {},
   "outputs": [],
   "source": [
    "# match_8(\"ASJDKLFK10ASDO\") == False\n",
    "# match_8(\"ASJDKLFK0ASDo\") == True\n",
    "# match_8(\"JKLSDNM01IDKSL\") == False\n",
    "# match_8(\"ASDKJLdsi0SKLl\") == False\n",
    "# match_8(\"ASDJKL9380JKAL\") == True\n",
    "# match_8(\"ASDJKL9380JKALIIIo000\") == True "
   ]
  },
  {
   "cell_type": "code",
   "execution_count": null,
   "metadata": {},
   "outputs": [],
   "source": []
  },
  {
   "cell_type": "code",
   "execution_count": 94,
   "metadata": {},
   "outputs": [],
   "source": [
    "# Exercise 9\n",
    "def match_9(string):\n",
    "    \"\"\"\n",
    "    Check if a given ID number is from Los Angeles (LAX), San Diego(SAN) or\n",
    "    the state of New York (NY). ID numbers have the following format SC-NN-CCC-NNNN.\n",
    "        - SC represents state code in uppercase\n",
    "        - NN represents a number with 2 digits\n",
    "        - CCC represents a three letter city code in uppercase\n",
    "        - NNNN represents a number with 4 digits\n",
    "    \n",
    "    >>> match_9('NY-32-NYC-1232')\n",
    "    True\n",
    "    >>> match_9('ca-23-SAN-1231')\n",
    "    False\n",
    "    >>> match_9('MA-36-BOS-5465')\n",
    "    False\n",
    "    >>> match_9('CA-56-LAX-7895')\n",
    "    True\n",
    "    >>> match_9('MA-11-LAX-0101')\n",
    "    False\n",
    "    >>> match_9('NY-36-BOS-5465')\n",
    "    True\n",
    "    \"\"\"\n",
    "\n",
    "    #Your Code Here\n",
    "    pattern = '(^NY)|(^CA-[0-9]{2}-((LAX)|(SAN))-[0-9]{4}$)'\n",
    "\n",
    "    #Do not edit following code\n",
    "    prog = re.compile(pattern)\n",
    "    return prog.search(string) is not None"
   ]
  },
  {
   "cell_type": "code",
   "execution_count": 95,
   "metadata": {},
   "outputs": [
    {
     "data": {
      "text/plain": [
       "True"
      ]
     },
     "execution_count": 95,
     "metadata": {},
     "output_type": "execute_result"
    }
   ],
   "source": [
    "match_9('NY-32-NYC-1232') == True\n",
    "match_9('ca-23-SAN-1231') == False\n",
    "match_9('MA-36-BOS-5465') == False\n",
    "match_9('CA-56-LAX-7895') == True\n",
    "match_9('MA-11-LAX-0101') == False\n",
    "# match_9('NY-36-BOS-5465') == True"
   ]
  },
  {
   "cell_type": "code",
   "execution_count": null,
   "metadata": {},
   "outputs": [],
   "source": []
  },
  {
   "cell_type": "code",
   "execution_count": 102,
   "metadata": {},
   "outputs": [],
   "source": [
    "# Exercise 10\n",
    "def match_10(string):\n",
    "    \"\"\"\n",
    "    Given an input string, cast it to lower case, remove spaces/punctuations, \n",
    "    and return a list of every 3-character substring that satisfy the following:\n",
    "        - The first character doesn't start with 'a' or 'A'\n",
    "        - The last substring (and only the last substring) can be shorter than \n",
    "        3 characters, depending on the length of the input string.\n",
    "        - The substrings cannot overlap\n",
    "    \n",
    "    >>> match_10('ABCdef')\n",
    "    ['def']\n",
    "    >>> match_10(' DEFaabc !g ')\n",
    "    ['def', 'cg']\n",
    "    >>> match_10('Come ti chiami?')\n",
    "    ['com', 'eti', 'chi']\n",
    "    >>> match_10('and')\n",
    "    []\n",
    "    >>> match_10( \"Ab..DEF\")\n",
    "    ['def']\n",
    "    >>> match_10( \"Ab..AEF\")\n",
    "    []\n",
    "    >>> match_10( \" t^racf_a..AEFcj\")\n",
    "    ['trc', 'j']\n",
    "    \"\"\"\n",
    "    no_space = string.replace(' ', '') # Remove space\n",
    "    lower_case = no_space.lower() # Cast to lower space\n",
    "    \n",
    "    # If the length of the string is 10, are we disregarding the last character or not?\n",
    "    # Example: string = 'ade$ffr% *', are we ignoring * in this first step?\n",
    "    # sequence = re.findall('..?.?', lower_case) # Find all three-character sequence\n",
    "    \n",
    "    # not_a = []\n",
    "    # for se in sequence: # Remove the ones start with a\n",
    "        # if se[0] != 'a':\n",
    "            # not_a.append(se)\n",
    "    \n",
    "    # complete = ''.join(not_a) # Join back into string\n",
    "    # punc = r'[\\!\\\"\\#\\$\\%\\&\\\\\\'\\(\\)\\*\\+\\,\\-\\.\\/\\:\\;\\<\\=\\>\\?\\@\\[\\]\\^\\_\\`\\{\\|\\}\\~]' # Punctuations\n",
    "    complete = re.sub(r'a.{2}', '', lower_case)\n",
    "    no_punc = re.sub(r'[^A-Za-z0-9 ]', '', complete)\n",
    "    com_sequence = re.findall(r'..?.?', no_punc) # Find complete three-character sequence\n",
    "    return com_sequence"
   ]
  },
  {
   "cell_type": "code",
   "execution_count": 103,
   "metadata": {},
   "outputs": [
    {
     "data": {
      "text/plain": [
       "'!\"#$%&\\'()*+,-./:;<=>?@[\\\\]^_`{|}~'"
      ]
     },
     "execution_count": 103,
     "metadata": {},
     "output_type": "execute_result"
    }
   ],
   "source": [
    "import string\n",
    "string.punctuation"
   ]
  },
  {
   "cell_type": "code",
   "execution_count": 104,
   "metadata": {},
   "outputs": [
    {
     "name": "stdout",
     "output_type": "stream",
     "text": [
      ".\n",
      "t^r_cj\n"
     ]
    },
    {
     "data": {
      "text/plain": [
       "['trc', 'j']"
      ]
     },
     "execution_count": 104,
     "metadata": {},
     "output_type": "execute_result"
    }
   ],
   "source": [
    "# match_10('ABCdef') == ['def']\n",
    "# match_10(' DEFaabc !g ') == ['def', 'cg']\n",
    "# match_10('Come ti chiami?') == ['com', 'eti', 'chi']\n",
    "# match_10('and') == []\n",
    "# match_10( \"Ab..DEF\") == ['def']\n",
    "match_10( \"Ab..AEF\")  == []\n",
    "match_10( \" t^racf_a..AEFcj\")\n",
    "# Check!!!!!!!!!!!!!!!!"
   ]
  },
  {
   "cell_type": "code",
   "execution_count": null,
   "metadata": {},
   "outputs": [],
   "source": []
  },
  {
   "cell_type": "code",
   "execution_count": null,
   "metadata": {},
   "outputs": [],
   "source": []
  },
  {
   "cell_type": "markdown",
   "metadata": {},
   "source": [
    "## Regex groups: extracting personal information from messy data\n",
    "\n",
    "**Question 2**\n",
    "\n",
    "The file in `data/messy.txt` contains personal information from a fictional website that a user scraped from webserver logs. Within this dataset, there are four fields that interest you:\n",
    "1. Email Addresses (assume they are alphanumeric user-names and domain-names),\n",
    "2. [Social Security Numbers](https://en.wikipedia.org/wiki/Social_Security_number#Structure)\n",
    "3. Bitcoin Addresses (alpha-numeric strings of long length)\n",
    "4. Street Addresses\n",
    "\n",
    "Create a function `extract_personal` that takes in a string like `open('data/messy.txt').read()` and returns a tuple of four separate lists containing values of the 4 pieces of information listed above (in the order given). Do **not** keep empty values.\n",
    "\n",
    "*Hint*: There are multiple \"delimiters\" in use in the file; there are few enough of them that you can safely determine what they are.\n",
    "\n",
    "*Note:* Since this data is messy/corrupted, your function will be allowed to miss ~5% of the records in each list. Good spot checking using certain useful substrings (e.g. `@` for emails) should help assure correctness! Your function will be tested on a sample of the file `messy.txt`."
   ]
  },
  {
   "cell_type": "code",
   "execution_count": 138,
   "metadata": {},
   "outputs": [],
   "source": [
    "fp = os.path.join('data', 'messy.txt')\n",
    "s = open(fp, encoding='utf8').read()"
   ]
  },
  {
   "cell_type": "code",
   "execution_count": 139,
   "metadata": {},
   "outputs": [
    {
     "data": {
      "text/plain": [
       "'1\\t4/12/2018\\tLorem ipsum dolor sit amet, consectetuer adipiscing elit. Proin risus. Praesent lectus.\\n\\nVestibulum quam sapien| varius ut, blandit non, interdum in, ante. Vestibulum ante ipsum primis in faucibus orci luctus et ultrices posuere cubilia Curae; Duis faucibus accumsan odio. Curabitur convallis.|dottewell0@gnu.org\\toR1mOq,!@#$%^&*(),[{bitcoin:18A8rBU3wvbLTSxMjqrPNc9mvonpA4XMiv\\tIP:192.232.9.210\\tccn:3563354617955160|ssn:380-09-9403}]|05-6609813,814 Monterey Court\\n2\\t12/18/2018\\tSuspendisse potenti. In eleifend quam a odio. In hac habitasse platea dictumst.\\n\\nMaecenas ut massa quis augue luctus tincidunt. Nulla mollis molestie lorem. Quisque ut erat.,bassiter1@sphinn.com\\tc5KvmarHX3o,test\\u2060test\\u202b,[{bitcoin:1EB7kYpnfJSqS7kUFpinsmPF3uiH9sfRf1,IP:20.73.13.197|ccn:3542723823957010\\tssn:118-12-8276}#{bitcoin:1E5fev4boabWZmXvHGVkHcNJZ2tLnpM6Zv*IP:238.206.212.148\\tccn:337941898369615,ssn:427-22-9352}#{bitcoin:1DqG3WcmGw74PjptjzcAmxGFuQdvWL7RCC,IP:171.241.15.98\\tccn:3574672962323693,ssn:649-16-224'"
      ]
     },
     "execution_count": 139,
     "metadata": {},
     "output_type": "execute_result"
    }
   ],
   "source": [
    "test = s[:1000]\n",
    "test\n",
    "# test = '#kdumphreyh@hc360.com|dtr04K,(╯°□°）╯︵ ┻━┻)'"
   ]
  },
  {
   "cell_type": "code",
   "execution_count": 140,
   "metadata": {},
   "outputs": [],
   "source": [
    "# No need to actually split????????????????? ASK!!!!!!!!!!!!!!!!\n",
    "# re.split(r'\\t|\\n', test)"
   ]
  },
  {
   "cell_type": "code",
   "execution_count": 141,
   "metadata": {},
   "outputs": [],
   "source": [
    "# What are some valid domain names? Would upper case be involved???? .com???.edu??? ASK!!!!!!!!!!!!!!!!!\n",
    "email_pat = r'([A-Za-z0-9]+@[A-Za-z0-9]+(\\.[A-Za-z0-9]+)+)'\n",
    "# Exception emails like egristonr7@pagesperso-orange.fr, jpitcaithleyre@t-online.de\n",
    "\n",
    "# ssn_pat = '(?!(000)|(666))[0-8][0-9]{2}-(?!(00))[0-9]{2}-(?!(0000))[0-9]{4}' # 423-00-9575 not match this, 00 for second group??????????????? ASK!!!!!!!!!\n",
    "ssn_pat = '((?!(000)|(666))[0-8][0-9]{2}-[0-9]{2}-(?!(0000))[0-9]{4})'\n",
    "\n",
    "# Online, something about the length of bitcoin, and not including O,I,l?????????? Need to consider this?\n",
    "bit_pat = '[13][A-Za-z0-9]{26,33}' \n",
    "\n",
    "add_pat = '\\d+( [A-z]+)+' # Too simple? What about St. Amerbse street?? Or things like this\n",
    "# Some weird address such as 0 Veith Drive, 04 Westport Lane, 04232 Monterey Circle?????"
   ]
  },
  {
   "cell_type": "code",
   "execution_count": 142,
   "metadata": {},
   "outputs": [],
   "source": [
    "# email_group = re.findall(email_pat, s)\n",
    "# emails = [group[0] for group in email_group]\n",
    "# len(emails) # 938 results\n",
    "# Search for @ only, has 963 results, within 5%\n",
    "\n",
    "# ssn_group = re.findall('[0-9]{3}-[0-9]{2}-[0-9]{4}', s)\n",
    "# ssn_group = re.findall(ssn_pat, s) # No difference???? Why bother??? hhh\n",
    "# ssns = [group[0] for group in ssn_group]\n",
    "# len(ssns) # 2571\n",
    "# Search for ssn, has 2858 results, null results has 286, n = 2572, within 5%\n",
    "\n",
    "# bits = re.findall(bit_pat, s)\n",
    "# len(bits) # 2781\n",
    "# Search for bitcoin, has 2857 results, null results has 76, n = 2781 (exact)\n",
    "\n",
    "# adds = re.findall(add_pat, s)\n",
    "# len(adds) # 942\n",
    "# [group[0] for group in adds]\n",
    "# Seems to make sense?? But when bitcoin is null, address does not necessary has to be null"
   ]
  },
  {
   "cell_type": "code",
   "execution_count": 143,
   "metadata": {},
   "outputs": [
    {
     "data": {
      "text/plain": [
       "(938, 2571, 2781, 942)"
      ]
     },
     "execution_count": 143,
     "metadata": {},
     "output_type": "execute_result"
    }
   ],
   "source": [
    "# Get email address\n",
    "email_group = re.findall(email_pat, s)\n",
    "emails = [group[0] for group in email_group]\n",
    "\n",
    "# Get social security number\n",
    "ssns = re.findall(ssn_pat, s) \n",
    "# ssns = [group[0] for group in ssn_group]\n",
    "\n",
    "# Get bitcoin address\n",
    "bits = re.findall(bit_pat, s)\n",
    "\n",
    "# Get address\n",
    "adds_group = re.findall(add_pat, s)\n",
    "adds = [group[0] for group in adds_group]\n",
    "(len(emails), len(ssns), len(bits), len(adds))"
   ]
  },
  {
   "cell_type": "code",
   "execution_count": 144,
   "metadata": {},
   "outputs": [],
   "source": [
    "def extract_personal(s):\n",
    "    \"\"\"\n",
    "    :Example:\n",
    "    >>> fp = os.path.join('data', 'messy.test.txt')\n",
    "    >>> s = open(fp, encoding='utf8').read()\n",
    "    >>> emails, ssn, bitcoin, addresses = extract_personal(s)\n",
    "    >>> emails[0] == 'test@test.com'\n",
    "    True\n",
    "    >>> ssn[0] == '423-00-9575'\n",
    "    True\n",
    "    >>> bitcoin[0] == '1BvBMSEYstWetqTFn5Au4m4GFg7xJaNVN2'\n",
    "    True\n",
    "    >>> addresses[0] == '530 High Street'\n",
    "    True\n",
    "    \"\"\"\n",
    "    # Pattern of each category\n",
    "    email_pat = r'([A-Za-z0-9]+@[A-Za-z0-9]+(\\.[A-Za-z0-9]+)+)'\n",
    "    ssn_pat = r'[0-9]{3}-[0-9]{2}-[0-9]{4}'\n",
    "    bit_pat = r'[13][A-Za-z0-9]{26,33}' \n",
    "    add_pat = r'(\\d+( [A-z]+)+)' \n",
    "\n",
    "    # Get email address\n",
    "    email_group = re.findall(email_pat, s)\n",
    "    emails = [group[0] for group in email_group]\n",
    "\n",
    "    # Get social security number\n",
    "    ssns = re.findall(ssn_pat, s) \n",
    "    # ssns = [group[0] for group in ssn_group]\n",
    "\n",
    "    # Get bitcoin address\n",
    "    bits = re.findall(bit_pat, s)\n",
    "\n",
    "    # Get address\n",
    "    adds_group = re.findall(add_pat, s)\n",
    "    adds = [group[0] for group in adds_group]\n",
    "    return (emails, ssns, bits, adds)"
   ]
  },
  {
   "cell_type": "code",
   "execution_count": 145,
   "metadata": {},
   "outputs": [],
   "source": [
    "emails, ssns, bits, adds = extract_personal(s)"
   ]
  },
  {
   "cell_type": "code",
   "execution_count": 146,
   "metadata": {},
   "outputs": [
    {
     "data": {
      "text/plain": [
       "(938, 2571, 2781, 942)"
      ]
     },
     "execution_count": 146,
     "metadata": {},
     "output_type": "execute_result"
    }
   ],
   "source": [
    "len(emails), len(ssns), len(bits), len(adds)"
   ]
  },
  {
   "cell_type": "code",
   "execution_count": 148,
   "metadata": {},
   "outputs": [],
   "source": [
    "# emails\n",
    "# ssns\n",
    "# bits\n",
    "# adds"
   ]
  },
  {
   "cell_type": "code",
   "execution_count": 136,
   "metadata": {},
   "outputs": [],
   "source": [
    "fp = os.path.join('data', 'messy.test.txt')\n",
    "s = open(fp, encoding='utf8').read()\n",
    "emails, ssn, bitcoin, addresses = extract_personal(s)\n",
    "# emails[0] == 'test@test.com'\n",
    "# ssn[0] == '423-00-9575'\n",
    "# bitcoin[0] == '1BvBMSEYstWetqTFn5Au4m4GFg7xJaNVN2'\n",
    "# addresses[0] == '530 High Street'"
   ]
  },
  {
   "cell_type": "code",
   "execution_count": null,
   "metadata": {},
   "outputs": [],
   "source": []
  },
  {
   "cell_type": "markdown",
   "metadata": {},
   "source": [
    "## Content in Amazon review data\n",
    "\n",
    "**Question 3**\n",
    "\n",
    "The dataset `reviews.txt` contains [Amazon reviews](http://jmcauley.ucsd.edu/data/amazon/) for ~200k phones and phone accessories. This dataset has been \"cleaned\" for you. The goal of this section is to create a function that takes in the review dataset and a review and returns the word that \"best summarizes the review\" using TF-IDF.'\n",
    "\n",
    "1. Create a function `tfidf_data(review, reviews)` that takes a review as well as the review data and returns a dataframe:\n",
    "    - indexed by the words in `review`,\n",
    "    - with columns given by (a) the number of times each word is found in the review (`cnt`), (b) the term frequency for each word (`tf`), (c) the inverse document frequency for each word (`idf`), and (d) the TF-IDF for each word (`tfidf`).\n",
    "    \n",
    "2. Create a function `relevant_word(tfidf_data)` which takes in a dataframe as above and returns the word that \"best summarizes the review\" described by `tfidf_data`.\n",
    "\n",
    "\n",
    "*Note:* Use this function to \"cluster\" review types -- run it on a sample of reviews and see which words come up most. Unfortunately, you will likely have to change your code from your answer above to run it on the entire dataset (to do this, you should compute as many of the frequencies \"ahead of time\" and look them up when needed; you should also likely filter out words that occur \"rarely\")"
   ]
  },
  {
   "cell_type": "markdown",
   "metadata": {},
   "source": [
    "### ASK! (not so sure what this is doing)"
   ]
  },
  {
   "cell_type": "code",
   "execution_count": 180,
   "metadata": {},
   "outputs": [],
   "source": [
    "# Small dataset testing\n",
    "fp = os.path.join('data', 'tests.txt')\n",
    "reviews = pd.read_csv(fp, header=None, squeeze=True)\n",
    "review = open(os.path.join('data', 'review.txt'), encoding='utf8').read().strip()"
   ]
  },
  {
   "cell_type": "code",
   "execution_count": 181,
   "metadata": {},
   "outputs": [
    {
     "data": {
      "text/plain": [
       "1"
      ]
     },
     "execution_count": 181,
     "metadata": {},
     "output_type": "execute_result"
    }
   ],
   "source": [
    "re_pat = '\\\\b%s\\\\b' % 'this'\n",
    "review.count(re_pat)\n",
    "#'\\\\b%s\\\\b' % 'this'\n",
    "temp = 'this hahathisthaha thirtthisth thisthit'\n",
    "temp.count('this ')"
   ]
  },
  {
   "cell_type": "code",
   "execution_count": 182,
   "metadata": {},
   "outputs": [],
   "source": [
    "# reviews"
   ]
  },
  {
   "cell_type": "markdown",
   "metadata": {},
   "source": [
    "## TfidfVectorizer to check answer"
   ]
  },
  {
   "cell_type": "code",
   "execution_count": 183,
   "metadata": {},
   "outputs": [],
   "source": [
    "uniqueWords = pd.Series(review.split()).unique()"
   ]
  },
  {
   "cell_type": "code",
   "execution_count": 184,
   "metadata": {},
   "outputs": [],
   "source": [
    "from sklearn.feature_extraction.text import TfidfVectorizer\n",
    "def computeTF(wordDict, bagOfWords):\n",
    "    tfDict = {}\n",
    "    bagOfWordsCount = len(bagOfWords)\n",
    "    for word, count in wordDict.items():\n",
    "        tfDict[word] = count / float(bagOfWordsCount)\n",
    "    return tfDict\n",
    "\n",
    "def computeIDF(documents):\n",
    "    import math\n",
    "    N = len(documents)\n",
    "    \n",
    "    idfDict = dict.fromkeys(documents[0].keys(), 0)\n",
    "    for document in documents:\n",
    "        for word, val in document.items():\n",
    "            if word in idfDict.keys():\n",
    "                idfDict[word] += 1\n",
    "    \n",
    "    for word, val in idfDict.items():\n",
    "        idfDict[word] = math.log(N / float(val))\n",
    "    return idfDict"
   ]
  },
  {
   "cell_type": "code",
   "execution_count": 185,
   "metadata": {},
   "outputs": [],
   "source": [
    "final = []\n",
    "for re in reviews:\n",
    "    \n",
    "    words = re.split()\n",
    "    uniquewords = pd.Series(words).unique()\n",
    "    freq = dict.fromkeys(uniquewords, 0)\n",
    "    for word in words:\n",
    "        freq[word] += 1\n",
    "    final.append(freq)\n",
    "# final"
   ]
  },
  {
   "cell_type": "code",
   "execution_count": 193,
   "metadata": {},
   "outputs": [
    {
     "data": {
      "text/plain": [
       "0"
      ]
     },
     "execution_count": 193,
     "metadata": {},
     "output_type": "execute_result"
    }
   ],
   "source": [
    "numOfWordsA = dict.fromkeys(uniquewords, 0)\n",
    "bagOfWordsA = review.split()\n",
    "for word in bagOfWordsA:\n",
    "    numOfWordsA[word] += 1\n",
    "# numOfWordsA\n",
    "# numOfWordsB = dict.fromkeys(uniqueWords, 0)\n",
    "# for word in bagOfWordsB:\n",
    "    # numOfWordsB[word] += 1\n",
    "pd.Series(numOfWordsA.values).equals(check['cnt'].values)\n",
    "np.count_nonzero(pd.Series(numOfWordsA) - (check['cnt']))"
   ]
  },
  {
   "cell_type": "code",
   "execution_count": 194,
   "metadata": {},
   "outputs": [
    {
     "data": {
      "text/plain": [
       "0"
      ]
     },
     "execution_count": 194,
     "metadata": {},
     "output_type": "execute_result"
    }
   ],
   "source": [
    "result = computeTF(numOfWordsA, bagOfWordsA)\n",
    "# pd.Series(result).equals(check['tf'])\n",
    "np.count_nonzero(pd.Series(result).values  - check['tf'])\n"
   ]
  },
  {
   "cell_type": "code",
   "execution_count": 212,
   "metadata": {},
   "outputs": [
    {
     "data": {
      "text/plain": [
       "this               0.313658\n",
       "is                 0.485508\n",
       "a                  0.424883\n",
       "great              1.312186\n",
       "new                3.258097\n",
       "case               1.871802\n",
       "design             3.258097\n",
       "that               0.773190\n",
       "i                  0.262364\n",
       "have               0.693147\n",
       "not                0.619039\n",
       "seen               2.564949\n",
       "before             2.564949\n",
       "it                 0.485508\n",
       "has                1.312186\n",
       "slim               3.258097\n",
       "silicone           3.258097\n",
       "skin               3.258097\n",
       "really             1.648659\n",
       "locks              3.258097\n",
       "in                 1.060872\n",
       "the                0.167054\n",
       "phone              0.619039\n",
       "to                 0.424883\n",
       "cover              2.159484\n",
       "and                0.485508\n",
       "protect            2.564949\n",
       "your               1.871802\n",
       "from               1.648659\n",
       "spills             3.258097\n",
       "such               1.871802\n",
       "also               1.466337\n",
       "hard               2.564949\n",
       "polycarbonate      3.258097\n",
       "outside            2.564949\n",
       "shell              3.258097\n",
       "guard              3.258097\n",
       "against            3.258097\n",
       "damage             3.258097\n",
       "comes              2.564949\n",
       "with               0.424883\n",
       "different          2.564949\n",
       "interchangeable    3.258097\n",
       "skins              3.258097\n",
       "covers             3.258097\n",
       "create             3.258097\n",
       "multiple           2.564949\n",
       "color              3.258097\n",
       "combinations       3.258097\n",
       "kind               2.564949\n",
       "of                 0.619039\n",
       "than               2.564949\n",
       "usual              3.258097\n",
       "chunk              2.564949\n",
       "plastic            2.564949\n",
       "innovative         3.258097\n",
       "suits              3.258097\n",
       "iphone             1.648659\n",
       "5                  2.564949\n",
       "perfectly          2.159484\n",
       "dtype: float64"
      ]
     },
     "execution_count": 212,
     "metadata": {},
     "output_type": "execute_result"
    }
   ],
   "source": [
    "np.count_nonzero(pd.Series(computeIDF(final)).values  - check['idf'])\n",
    "# pd.Series(computeIDF(final)).values  - check['idf']\n",
    "pd.Series(computeIDF(final))"
   ]
  },
  {
   "cell_type": "markdown",
   "metadata": {},
   "source": [
    "## What is the base of the log()? Question! (This is the asnwer)\n",
    "- How are we going to find the word that \"best summarizes the review\" described by tfidf_data? The highes tfidf?????\n",
    "- What is the difference between using series.str.split() and str.split()? later seems to not return ''"
   ]
  },
  {
   "cell_type": "code",
   "execution_count": 206,
   "metadata": {},
   "outputs": [
    {
     "data": {
      "text/plain": [
       "60"
      ]
     },
     "execution_count": 206,
     "metadata": {},
     "output_type": "execute_result"
    }
   ],
   "source": [
    "a = reviews.str.split().apply(lambda x: pd.Series(x).unique())"
   ]
  },
  {
   "cell_type": "code",
   "execution_count": 208,
   "metadata": {},
   "outputs": [
    {
     "data": {
      "text/html": [
       "<div>\n",
       "<style scoped>\n",
       "    .dataframe tbody tr th:only-of-type {\n",
       "        vertical-align: middle;\n",
       "    }\n",
       "\n",
       "    .dataframe tbody tr th {\n",
       "        vertical-align: top;\n",
       "    }\n",
       "\n",
       "    .dataframe thead th {\n",
       "        text-align: right;\n",
       "    }\n",
       "</style>\n",
       "<table border=\"1\" class=\"dataframe\">\n",
       "  <thead>\n",
       "    <tr style=\"text-align: right;\">\n",
       "      <th></th>\n",
       "      <th>cnt</th>\n",
       "      <th>tf</th>\n",
       "      <th>idf</th>\n",
       "      <th>tfidf</th>\n",
       "    </tr>\n",
       "  </thead>\n",
       "  <tbody>\n",
       "    <tr>\n",
       "      <th>this</th>\n",
       "      <td>3</td>\n",
       "      <td>0.0352941</td>\n",
       "      <td>0.313658</td>\n",
       "      <td>0.0110703</td>\n",
       "    </tr>\n",
       "    <tr>\n",
       "      <th>is</th>\n",
       "      <td>3</td>\n",
       "      <td>0.0352941</td>\n",
       "      <td>0.485508</td>\n",
       "      <td>0.0171356</td>\n",
       "    </tr>\n",
       "    <tr>\n",
       "      <th>a</th>\n",
       "      <td>4</td>\n",
       "      <td>0.0470588</td>\n",
       "      <td>0.424883</td>\n",
       "      <td>0.0199945</td>\n",
       "    </tr>\n",
       "    <tr>\n",
       "      <th>great</th>\n",
       "      <td>1</td>\n",
       "      <td>0.0117647</td>\n",
       "      <td>1.31219</td>\n",
       "      <td>0.0154375</td>\n",
       "    </tr>\n",
       "    <tr>\n",
       "      <th>new</th>\n",
       "      <td>1</td>\n",
       "      <td>0.0117647</td>\n",
       "      <td>3.2581</td>\n",
       "      <td>0.0383305</td>\n",
       "    </tr>\n",
       "    <tr>\n",
       "      <th>case</th>\n",
       "      <td>3</td>\n",
       "      <td>0.0352941</td>\n",
       "      <td>1.8718</td>\n",
       "      <td>0.0660636</td>\n",
       "    </tr>\n",
       "    <tr>\n",
       "      <th>design</th>\n",
       "      <td>1</td>\n",
       "      <td>0.0117647</td>\n",
       "      <td>3.2581</td>\n",
       "      <td>0.0383305</td>\n",
       "    </tr>\n",
       "    <tr>\n",
       "      <th>that</th>\n",
       "      <td>2</td>\n",
       "      <td>0.0235294</td>\n",
       "      <td>0.77319</td>\n",
       "      <td>0.0181927</td>\n",
       "    </tr>\n",
       "    <tr>\n",
       "      <th>i</th>\n",
       "      <td>1</td>\n",
       "      <td>0.0117647</td>\n",
       "      <td>0.262364</td>\n",
       "      <td>0.00308664</td>\n",
       "    </tr>\n",
       "    <tr>\n",
       "      <th>have</th>\n",
       "      <td>1</td>\n",
       "      <td>0.0117647</td>\n",
       "      <td>0.693147</td>\n",
       "      <td>0.00815467</td>\n",
       "    </tr>\n",
       "    <tr>\n",
       "      <th>not</th>\n",
       "      <td>1</td>\n",
       "      <td>0.0117647</td>\n",
       "      <td>0.619039</td>\n",
       "      <td>0.00728281</td>\n",
       "    </tr>\n",
       "    <tr>\n",
       "      <th>seen</th>\n",
       "      <td>1</td>\n",
       "      <td>0.0117647</td>\n",
       "      <td>2.56495</td>\n",
       "      <td>0.0301759</td>\n",
       "    </tr>\n",
       "    <tr>\n",
       "      <th>before</th>\n",
       "      <td>1</td>\n",
       "      <td>0.0117647</td>\n",
       "      <td>2.56495</td>\n",
       "      <td>0.0301759</td>\n",
       "    </tr>\n",
       "    <tr>\n",
       "      <th>it</th>\n",
       "      <td>3</td>\n",
       "      <td>0.0352941</td>\n",
       "      <td>0.485508</td>\n",
       "      <td>0.0171356</td>\n",
       "    </tr>\n",
       "    <tr>\n",
       "      <th>has</th>\n",
       "      <td>1</td>\n",
       "      <td>0.0117647</td>\n",
       "      <td>1.31219</td>\n",
       "      <td>0.0154375</td>\n",
       "    </tr>\n",
       "    <tr>\n",
       "      <th>slim</th>\n",
       "      <td>1</td>\n",
       "      <td>0.0117647</td>\n",
       "      <td>3.2581</td>\n",
       "      <td>0.0383305</td>\n",
       "    </tr>\n",
       "    <tr>\n",
       "      <th>silicone</th>\n",
       "      <td>1</td>\n",
       "      <td>0.0117647</td>\n",
       "      <td>3.2581</td>\n",
       "      <td>0.0383305</td>\n",
       "    </tr>\n",
       "    <tr>\n",
       "      <th>skin</th>\n",
       "      <td>1</td>\n",
       "      <td>0.0117647</td>\n",
       "      <td>3.2581</td>\n",
       "      <td>0.0383305</td>\n",
       "    </tr>\n",
       "    <tr>\n",
       "      <th>really</th>\n",
       "      <td>1</td>\n",
       "      <td>0.0117647</td>\n",
       "      <td>1.64866</td>\n",
       "      <td>0.019396</td>\n",
       "    </tr>\n",
       "    <tr>\n",
       "      <th>locks</th>\n",
       "      <td>1</td>\n",
       "      <td>0.0117647</td>\n",
       "      <td>3.2581</td>\n",
       "      <td>0.0383305</td>\n",
       "    </tr>\n",
       "    <tr>\n",
       "      <th>in</th>\n",
       "      <td>1</td>\n",
       "      <td>0.0117647</td>\n",
       "      <td>1.06087</td>\n",
       "      <td>0.0124808</td>\n",
       "    </tr>\n",
       "    <tr>\n",
       "      <th>the</th>\n",
       "      <td>3</td>\n",
       "      <td>0.0352941</td>\n",
       "      <td>0.167054</td>\n",
       "      <td>0.00589603</td>\n",
       "    </tr>\n",
       "    <tr>\n",
       "      <th>phone</th>\n",
       "      <td>2</td>\n",
       "      <td>0.0235294</td>\n",
       "      <td>0.619039</td>\n",
       "      <td>0.0145656</td>\n",
       "    </tr>\n",
       "    <tr>\n",
       "      <th>to</th>\n",
       "      <td>3</td>\n",
       "      <td>0.0352941</td>\n",
       "      <td>0.424883</td>\n",
       "      <td>0.0149959</td>\n",
       "    </tr>\n",
       "    <tr>\n",
       "      <th>cover</th>\n",
       "      <td>2</td>\n",
       "      <td>0.0235294</td>\n",
       "      <td>2.15948</td>\n",
       "      <td>0.0508114</td>\n",
       "    </tr>\n",
       "    <tr>\n",
       "      <th>and</th>\n",
       "      <td>5</td>\n",
       "      <td>0.0588235</td>\n",
       "      <td>0.485508</td>\n",
       "      <td>0.0285593</td>\n",
       "    </tr>\n",
       "    <tr>\n",
       "      <th>protect</th>\n",
       "      <td>1</td>\n",
       "      <td>0.0117647</td>\n",
       "      <td>2.56495</td>\n",
       "      <td>0.0301759</td>\n",
       "    </tr>\n",
       "    <tr>\n",
       "      <th>your</th>\n",
       "      <td>1</td>\n",
       "      <td>0.0117647</td>\n",
       "      <td>1.8718</td>\n",
       "      <td>0.0220212</td>\n",
       "    </tr>\n",
       "    <tr>\n",
       "      <th>from</th>\n",
       "      <td>1</td>\n",
       "      <td>0.0117647</td>\n",
       "      <td>1.64866</td>\n",
       "      <td>0.019396</td>\n",
       "    </tr>\n",
       "    <tr>\n",
       "      <th>spills</th>\n",
       "      <td>1</td>\n",
       "      <td>0.0117647</td>\n",
       "      <td>3.2581</td>\n",
       "      <td>0.0383305</td>\n",
       "    </tr>\n",
       "    <tr>\n",
       "      <th>such</th>\n",
       "      <td>1</td>\n",
       "      <td>0.0117647</td>\n",
       "      <td>1.8718</td>\n",
       "      <td>0.0220212</td>\n",
       "    </tr>\n",
       "    <tr>\n",
       "      <th>also</th>\n",
       "      <td>2</td>\n",
       "      <td>0.0235294</td>\n",
       "      <td>1.46634</td>\n",
       "      <td>0.034502</td>\n",
       "    </tr>\n",
       "    <tr>\n",
       "      <th>hard</th>\n",
       "      <td>1</td>\n",
       "      <td>0.0117647</td>\n",
       "      <td>2.56495</td>\n",
       "      <td>0.0301759</td>\n",
       "    </tr>\n",
       "    <tr>\n",
       "      <th>polycarbonate</th>\n",
       "      <td>1</td>\n",
       "      <td>0.0117647</td>\n",
       "      <td>3.2581</td>\n",
       "      <td>0.0383305</td>\n",
       "    </tr>\n",
       "    <tr>\n",
       "      <th>outside</th>\n",
       "      <td>1</td>\n",
       "      <td>0.0117647</td>\n",
       "      <td>2.56495</td>\n",
       "      <td>0.0301759</td>\n",
       "    </tr>\n",
       "    <tr>\n",
       "      <th>shell</th>\n",
       "      <td>1</td>\n",
       "      <td>0.0117647</td>\n",
       "      <td>3.2581</td>\n",
       "      <td>0.0383305</td>\n",
       "    </tr>\n",
       "    <tr>\n",
       "      <th>guard</th>\n",
       "      <td>1</td>\n",
       "      <td>0.0117647</td>\n",
       "      <td>3.2581</td>\n",
       "      <td>0.0383305</td>\n",
       "    </tr>\n",
       "    <tr>\n",
       "      <th>against</th>\n",
       "      <td>1</td>\n",
       "      <td>0.0117647</td>\n",
       "      <td>3.2581</td>\n",
       "      <td>0.0383305</td>\n",
       "    </tr>\n",
       "    <tr>\n",
       "      <th>damage</th>\n",
       "      <td>1</td>\n",
       "      <td>0.0117647</td>\n",
       "      <td>3.2581</td>\n",
       "      <td>0.0383305</td>\n",
       "    </tr>\n",
       "    <tr>\n",
       "      <th>comes</th>\n",
       "      <td>1</td>\n",
       "      <td>0.0117647</td>\n",
       "      <td>2.56495</td>\n",
       "      <td>0.0301759</td>\n",
       "    </tr>\n",
       "    <tr>\n",
       "      <th>with</th>\n",
       "      <td>1</td>\n",
       "      <td>0.0117647</td>\n",
       "      <td>0.424883</td>\n",
       "      <td>0.00499863</td>\n",
       "    </tr>\n",
       "    <tr>\n",
       "      <th>different</th>\n",
       "      <td>2</td>\n",
       "      <td>0.0235294</td>\n",
       "      <td>2.56495</td>\n",
       "      <td>0.0603517</td>\n",
       "    </tr>\n",
       "    <tr>\n",
       "      <th>interchangeable</th>\n",
       "      <td>1</td>\n",
       "      <td>0.0117647</td>\n",
       "      <td>3.2581</td>\n",
       "      <td>0.0383305</td>\n",
       "    </tr>\n",
       "    <tr>\n",
       "      <th>skins</th>\n",
       "      <td>1</td>\n",
       "      <td>0.0117647</td>\n",
       "      <td>3.2581</td>\n",
       "      <td>0.0383305</td>\n",
       "    </tr>\n",
       "    <tr>\n",
       "      <th>covers</th>\n",
       "      <td>1</td>\n",
       "      <td>0.0117647</td>\n",
       "      <td>3.2581</td>\n",
       "      <td>0.0383305</td>\n",
       "    </tr>\n",
       "    <tr>\n",
       "      <th>create</th>\n",
       "      <td>1</td>\n",
       "      <td>0.0117647</td>\n",
       "      <td>3.2581</td>\n",
       "      <td>0.0383305</td>\n",
       "    </tr>\n",
       "    <tr>\n",
       "      <th>multiple</th>\n",
       "      <td>1</td>\n",
       "      <td>0.0117647</td>\n",
       "      <td>2.56495</td>\n",
       "      <td>0.0301759</td>\n",
       "    </tr>\n",
       "    <tr>\n",
       "      <th>color</th>\n",
       "      <td>1</td>\n",
       "      <td>0.0117647</td>\n",
       "      <td>3.2581</td>\n",
       "      <td>0.0383305</td>\n",
       "    </tr>\n",
       "    <tr>\n",
       "      <th>combinations</th>\n",
       "      <td>1</td>\n",
       "      <td>0.0117647</td>\n",
       "      <td>3.2581</td>\n",
       "      <td>0.0383305</td>\n",
       "    </tr>\n",
       "    <tr>\n",
       "      <th>kind</th>\n",
       "      <td>1</td>\n",
       "      <td>0.0117647</td>\n",
       "      <td>2.56495</td>\n",
       "      <td>0.0301759</td>\n",
       "    </tr>\n",
       "    <tr>\n",
       "      <th>of</th>\n",
       "      <td>2</td>\n",
       "      <td>0.0235294</td>\n",
       "      <td>0.619039</td>\n",
       "      <td>0.0145656</td>\n",
       "    </tr>\n",
       "    <tr>\n",
       "      <th>than</th>\n",
       "      <td>1</td>\n",
       "      <td>0.0117647</td>\n",
       "      <td>2.56495</td>\n",
       "      <td>0.0301759</td>\n",
       "    </tr>\n",
       "    <tr>\n",
       "      <th>usual</th>\n",
       "      <td>1</td>\n",
       "      <td>0.0117647</td>\n",
       "      <td>3.2581</td>\n",
       "      <td>0.0383305</td>\n",
       "    </tr>\n",
       "    <tr>\n",
       "      <th>chunk</th>\n",
       "      <td>1</td>\n",
       "      <td>0.0117647</td>\n",
       "      <td>2.56495</td>\n",
       "      <td>0.0301759</td>\n",
       "    </tr>\n",
       "    <tr>\n",
       "      <th>plastic</th>\n",
       "      <td>1</td>\n",
       "      <td>0.0117647</td>\n",
       "      <td>2.56495</td>\n",
       "      <td>0.0301759</td>\n",
       "    </tr>\n",
       "    <tr>\n",
       "      <th>innovative</th>\n",
       "      <td>1</td>\n",
       "      <td>0.0117647</td>\n",
       "      <td>3.2581</td>\n",
       "      <td>0.0383305</td>\n",
       "    </tr>\n",
       "    <tr>\n",
       "      <th>suits</th>\n",
       "      <td>1</td>\n",
       "      <td>0.0117647</td>\n",
       "      <td>3.2581</td>\n",
       "      <td>0.0383305</td>\n",
       "    </tr>\n",
       "    <tr>\n",
       "      <th>iphone</th>\n",
       "      <td>1</td>\n",
       "      <td>0.0117647</td>\n",
       "      <td>1.64866</td>\n",
       "      <td>0.019396</td>\n",
       "    </tr>\n",
       "    <tr>\n",
       "      <th>5</th>\n",
       "      <td>1</td>\n",
       "      <td>0.0117647</td>\n",
       "      <td>2.56495</td>\n",
       "      <td>0.0301759</td>\n",
       "    </tr>\n",
       "    <tr>\n",
       "      <th>perfectly</th>\n",
       "      <td>1</td>\n",
       "      <td>0.0117647</td>\n",
       "      <td>2.15948</td>\n",
       "      <td>0.0254057</td>\n",
       "    </tr>\n",
       "  </tbody>\n",
       "</table>\n",
       "</div>"
      ],
      "text/plain": [
       "                cnt         tf       idf       tfidf\n",
       "this              3  0.0352941  0.313658   0.0110703\n",
       "is                3  0.0352941  0.485508   0.0171356\n",
       "a                 4  0.0470588  0.424883   0.0199945\n",
       "great             1  0.0117647   1.31219   0.0154375\n",
       "new               1  0.0117647    3.2581   0.0383305\n",
       "case              3  0.0352941    1.8718   0.0660636\n",
       "design            1  0.0117647    3.2581   0.0383305\n",
       "that              2  0.0235294   0.77319   0.0181927\n",
       "i                 1  0.0117647  0.262364  0.00308664\n",
       "have              1  0.0117647  0.693147  0.00815467\n",
       "not               1  0.0117647  0.619039  0.00728281\n",
       "seen              1  0.0117647   2.56495   0.0301759\n",
       "before            1  0.0117647   2.56495   0.0301759\n",
       "it                3  0.0352941  0.485508   0.0171356\n",
       "has               1  0.0117647   1.31219   0.0154375\n",
       "slim              1  0.0117647    3.2581   0.0383305\n",
       "silicone          1  0.0117647    3.2581   0.0383305\n",
       "skin              1  0.0117647    3.2581   0.0383305\n",
       "really            1  0.0117647   1.64866    0.019396\n",
       "locks             1  0.0117647    3.2581   0.0383305\n",
       "in                1  0.0117647   1.06087   0.0124808\n",
       "the               3  0.0352941  0.167054  0.00589603\n",
       "phone             2  0.0235294  0.619039   0.0145656\n",
       "to                3  0.0352941  0.424883   0.0149959\n",
       "cover             2  0.0235294   2.15948   0.0508114\n",
       "and               5  0.0588235  0.485508   0.0285593\n",
       "protect           1  0.0117647   2.56495   0.0301759\n",
       "your              1  0.0117647    1.8718   0.0220212\n",
       "from              1  0.0117647   1.64866    0.019396\n",
       "spills            1  0.0117647    3.2581   0.0383305\n",
       "such              1  0.0117647    1.8718   0.0220212\n",
       "also              2  0.0235294   1.46634    0.034502\n",
       "hard              1  0.0117647   2.56495   0.0301759\n",
       "polycarbonate     1  0.0117647    3.2581   0.0383305\n",
       "outside           1  0.0117647   2.56495   0.0301759\n",
       "shell             1  0.0117647    3.2581   0.0383305\n",
       "guard             1  0.0117647    3.2581   0.0383305\n",
       "against           1  0.0117647    3.2581   0.0383305\n",
       "damage            1  0.0117647    3.2581   0.0383305\n",
       "comes             1  0.0117647   2.56495   0.0301759\n",
       "with              1  0.0117647  0.424883  0.00499863\n",
       "different         2  0.0235294   2.56495   0.0603517\n",
       "interchangeable   1  0.0117647    3.2581   0.0383305\n",
       "skins             1  0.0117647    3.2581   0.0383305\n",
       "covers            1  0.0117647    3.2581   0.0383305\n",
       "create            1  0.0117647    3.2581   0.0383305\n",
       "multiple          1  0.0117647   2.56495   0.0301759\n",
       "color             1  0.0117647    3.2581   0.0383305\n",
       "combinations      1  0.0117647    3.2581   0.0383305\n",
       "kind              1  0.0117647   2.56495   0.0301759\n",
       "of                2  0.0235294  0.619039   0.0145656\n",
       "than              1  0.0117647   2.56495   0.0301759\n",
       "usual             1  0.0117647    3.2581   0.0383305\n",
       "chunk             1  0.0117647   2.56495   0.0301759\n",
       "plastic           1  0.0117647   2.56495   0.0301759\n",
       "innovative        1  0.0117647    3.2581   0.0383305\n",
       "suits             1  0.0117647    3.2581   0.0383305\n",
       "iphone            1  0.0117647   1.64866    0.019396\n",
       "5                 1  0.0117647   2.56495   0.0301759\n",
       "perfectly         1  0.0117647   2.15948   0.0254057"
      ]
     },
     "execution_count": 208,
     "metadata": {},
     "output_type": "execute_result"
    }
   ],
   "source": [
    "words = review.split()\n",
    "uniquewords = pd.Series(words).unique()\n",
    "freq = dict.fromkeys(uniquewords, 0)\n",
    "for word in words:\n",
    "    freq[word] += 1\n",
    "length = len(words)\n",
    "check = pd.DataFrame(columns=['cnt', 'tf', 'idf', 'tfidf'], index=uniquewords)  # dataframe of documents\n",
    "\n",
    "all_uniquewords = reviews.str.split().apply(lambda x: pd.Series(x).unique())\n",
    "all_freq = dict.fromkeys(uniquewords, 0)\n",
    "for word in uniquewords:\n",
    "    for un in all_uniquewords:\n",
    "        if word in un:\n",
    "            all_freq[word] += 1\n",
    "\n",
    "for word in uniquewords:\n",
    "    # print(word)\n",
    "    re_pat = '\\\\b%s\\\\b' % word\n",
    "    cnt = freq.get(word)\n",
    "    tf = cnt / length #(pd.Series(review).str.count('\\\\b') + 1).values[0]\n",
    "    # idf = np.log(len(reviews) / reviews.str.contains(re_pat).sum()) #.values[0]\n",
    "    idf = np.log(len(reviews) / all_freq.get(word))\n",
    "    # print(tf.values[0])\n",
    "    # df['cnt'], df['tf'], df['idf'], df['tfidf'] = cnt, tf, idf, tf * idf\n",
    "    check.loc[word, 'cnt'], check.loc[word, 'tfidf'] = cnt, tf * idf\n",
    "    check.loc[word, 'tf'], check.loc[word, 'idf'] = tf, idf\n",
    "    # df.loc[word] = pd.Series([cnt, tf, idf, tf * idf])\n",
    "# df.loc['this', 'cnt'] = 1\n",
    "\n",
    "check#['cnt'].sum()#.sort_values('tfidf', ascending=False)\n",
    "# com2 = df.index"
   ]
  },
  {
   "cell_type": "code",
   "execution_count": null,
   "metadata": {},
   "outputs": [],
   "source": []
  },
  {
   "cell_type": "code",
   "execution_count": null,
   "metadata": {},
   "outputs": [],
   "source": []
  },
  {
   "cell_type": "code",
   "execution_count": null,
   "metadata": {},
   "outputs": [],
   "source": []
  },
  {
   "cell_type": "code",
   "execution_count": null,
   "metadata": {},
   "outputs": [],
   "source": []
  },
  {
   "cell_type": "markdown",
   "metadata": {},
   "source": [
    "# Test|"
   ]
  },
  {
   "cell_type": "code",
   "execution_count": 255,
   "metadata": {},
   "outputs": [],
   "source": [
    "sent = [\n",
    "    'the fox and the moon',\n",
    "    'the cow and the moon',\n",
    "    'the cow and the spoon'\n",
    "]\n",
    "sentences = pd.Series(sent)\n",
    "sentence = 'the fox and the moon'"
   ]
  },
  {
   "cell_type": "code",
   "execution_count": 288,
   "metadata": {},
   "outputs": [
    {
     "data": {
      "text/html": [
       "<div>\n",
       "<style scoped>\n",
       "    .dataframe tbody tr th:only-of-type {\n",
       "        vertical-align: middle;\n",
       "    }\n",
       "\n",
       "    .dataframe tbody tr th {\n",
       "        vertical-align: top;\n",
       "    }\n",
       "\n",
       "    .dataframe thead th {\n",
       "        text-align: right;\n",
       "    }\n",
       "</style>\n",
       "<table border=\"1\" class=\"dataframe\">\n",
       "  <thead>\n",
       "    <tr style=\"text-align: right;\">\n",
       "      <th></th>\n",
       "      <th>cnt</th>\n",
       "      <th>tf</th>\n",
       "      <th>idf</th>\n",
       "      <th>tfidf</th>\n",
       "    </tr>\n",
       "  </thead>\n",
       "  <tbody>\n",
       "    <tr>\n",
       "      <th>the</th>\n",
       "      <td>2</td>\n",
       "      <td>0.4</td>\n",
       "      <td>0</td>\n",
       "      <td>0</td>\n",
       "    </tr>\n",
       "    <tr>\n",
       "      <th>fox</th>\n",
       "      <td>1</td>\n",
       "      <td>0.2</td>\n",
       "      <td>1.09861</td>\n",
       "      <td>0.219722</td>\n",
       "    </tr>\n",
       "    <tr>\n",
       "      <th>and</th>\n",
       "      <td>1</td>\n",
       "      <td>0.2</td>\n",
       "      <td>0</td>\n",
       "      <td>0</td>\n",
       "    </tr>\n",
       "    <tr>\n",
       "      <th>moon</th>\n",
       "      <td>1</td>\n",
       "      <td>0.2</td>\n",
       "      <td>0.405465</td>\n",
       "      <td>0.081093</td>\n",
       "    </tr>\n",
       "  </tbody>\n",
       "</table>\n",
       "</div>"
      ],
      "text/plain": [
       "     cnt   tf       idf     tfidf\n",
       "the    2  0.4         0         0\n",
       "fox    1  0.2   1.09861  0.219722\n",
       "and    1  0.2         0         0\n",
       "moon   1  0.2  0.405465  0.081093"
      ]
     },
     "execution_count": 288,
     "metadata": {},
     "output_type": "execute_result"
    }
   ],
   "source": [
    "words = sentence.split()\n",
    "uniquewords = pd.Series(words).unique()\n",
    "freq = dict.fromkeys(uniquewords, 0)\n",
    "for word in words:\n",
    "    freq[word] += 1\n",
    "length = len(words)\n",
    "check = pd.DataFrame(columns=['cnt', 'tf', 'idf', 'tfidf'], index=uniquewords)  # dataframe of documents\n",
    "\n",
    "all_uniquewords = sentences.str.split().apply(lambda x: pd.Series(x).unique())\n",
    "all_freq = dict.fromkeys(uniquewords, 0)\n",
    "for word in uniquewords:\n",
    "    for un in all_uniquewords:\n",
    "        if word in un:\n",
    "            all_freq[word] += 1\n",
    "\n",
    "for word in uniquewords:\n",
    "    # print(word)\n",
    "    re_pat = '\\\\b%s\\\\b' % word\n",
    "    cnt = freq.get(word)\n",
    "    tf = cnt / length #(pd.Series(review).str.count('\\\\b') + 1).values[0]\n",
    "    # idf = np.log(len(reviews) / reviews.str.contains(re_pat).sum()) #.values[0]\n",
    "    idf = np.log(len(sentences) / all_freq.get(word))\n",
    "    # print(tf.values[0])\n",
    "    # df['cnt'], df['tf'], df['idf'], df['tfidf'] = cnt, tf, idf, tf * idf\n",
    "    check.loc[word, 'cnt'], check.loc[word, 'tfidf'] = cnt, tf * idf\n",
    "    check.loc[word, 'tf'], check.loc[word, 'idf'] = tf, idf\n",
    "    # df.loc[word] = pd.Series([cnt, tf, idf, tf * idf])\n",
    "# df.loc['this', 'cnt'] = 1\n",
    "\n",
    "check#['cnt'].sum()#.sort_values('tfidf', ascending=False)\n",
    "# com2 = df.index"
   ]
  },
  {
   "cell_type": "code",
   "execution_count": 257,
   "metadata": {},
   "outputs": [
    {
     "data": {
      "text/plain": [
       "{'the': 3, 'fox': 1, 'and': 3, 'moon': 2}"
      ]
     },
     "execution_count": 257,
     "metadata": {},
     "output_type": "execute_result"
    }
   ],
   "source": [
    "all_freq"
   ]
  },
  {
   "cell_type": "code",
   "execution_count": 281,
   "metadata": {},
   "outputs": [
    {
     "data": {
      "text/plain": [
       "{'the': 0.4, 'cow': 0.2, 'and': 0.2, 'spoon': 0.2}"
      ]
     },
     "execution_count": 281,
     "metadata": {},
     "output_type": "execute_result"
    }
   ],
   "source": [
    "tf = computeTF(freq, words)\n",
    "tf"
   ]
  },
  {
   "cell_type": "code",
   "execution_count": 282,
   "metadata": {},
   "outputs": [
    {
     "data": {
      "text/plain": [
       "[{'the': 2, 'fox': 1, 'and': 1, 'moon': 1},\n",
       " {'the': 2, 'cow': 1, 'and': 1, 'moon': 1},\n",
       " {'the': 2, 'cow': 1, 'and': 1, 'spoon': 1}]"
      ]
     },
     "execution_count": 282,
     "metadata": {},
     "output_type": "execute_result"
    }
   ],
   "source": [
    "final = []\n",
    "for re in sentences:\n",
    "    \n",
    "    words = re.split()\n",
    "    uniquewords = pd.Series(words).unique()\n",
    "    freq = dict.fromkeys(uniquewords, 0)\n",
    "    for word in words:\n",
    "        freq[word] += 1\n",
    "    final.append(freq)\n",
    "final"
   ]
  },
  {
   "cell_type": "code",
   "execution_count": 283,
   "metadata": {},
   "outputs": [],
   "source": [
    "idf = computeIDF(final)"
   ]
  },
  {
   "cell_type": "code",
   "execution_count": 287,
   "metadata": {},
   "outputs": [
    {
     "data": {
      "text/plain": [
       "array([0.        , 0.21972246, 0.        , 0.08109302])"
      ]
     },
     "execution_count": 287,
     "metadata": {},
     "output_type": "execute_result"
    }
   ],
   "source": [
    "# np.array(tf.values()) * np.array(idf.values())\n",
    "tf.values()\n",
    "# idf.values()\n",
    "np.array([0.0, 1.0986122886681098, 0.0, 0.4054651081081644]) * np.array([0.4, 0.2, 0.2, 0.2])"
   ]
  },
  {
   "cell_type": "code",
   "execution_count": 262,
   "metadata": {},
   "outputs": [
    {
     "data": {
      "text/html": [
       "<div>\n",
       "<style scoped>\n",
       "    .dataframe tbody tr th:only-of-type {\n",
       "        vertical-align: middle;\n",
       "    }\n",
       "\n",
       "    .dataframe tbody tr th {\n",
       "        vertical-align: top;\n",
       "    }\n",
       "\n",
       "    .dataframe thead th {\n",
       "        text-align: right;\n",
       "    }\n",
       "</style>\n",
       "<table border=\"1\" class=\"dataframe\">\n",
       "  <thead>\n",
       "    <tr style=\"text-align: right;\">\n",
       "      <th></th>\n",
       "      <th>the</th>\n",
       "      <th>fox</th>\n",
       "      <th>and</th>\n",
       "      <th>moon</th>\n",
       "      <th>cow</th>\n",
       "      <th>spoon</th>\n",
       "    </tr>\n",
       "  </thead>\n",
       "  <tbody>\n",
       "    <tr>\n",
       "      <th>0</th>\n",
       "      <td>0.0</td>\n",
       "      <td>0.219722</td>\n",
       "      <td>0.0</td>\n",
       "      <td>0.081093</td>\n",
       "      <td>0.0</td>\n",
       "      <td>0.0</td>\n",
       "    </tr>\n",
       "    <tr>\n",
       "      <th>1</th>\n",
       "      <td>0.0</td>\n",
       "      <td>0.219722</td>\n",
       "      <td>0.0</td>\n",
       "      <td>0.081093</td>\n",
       "      <td>0.0</td>\n",
       "      <td>0.0</td>\n",
       "    </tr>\n",
       "    <tr>\n",
       "      <th>2</th>\n",
       "      <td>0.0</td>\n",
       "      <td>0.219722</td>\n",
       "      <td>0.0</td>\n",
       "      <td>0.081093</td>\n",
       "      <td>0.0</td>\n",
       "      <td>0.0</td>\n",
       "    </tr>\n",
       "  </tbody>\n",
       "</table>\n",
       "</div>"
      ],
      "text/plain": [
       "   the       fox  and      moon  cow  spoon\n",
       "0  0.0  0.219722  0.0  0.081093  0.0    0.0\n",
       "1  0.0  0.219722  0.0  0.081093  0.0    0.0\n",
       "2  0.0  0.219722  0.0  0.081093  0.0    0.0"
      ]
     },
     "execution_count": 262,
     "metadata": {},
     "output_type": "execute_result"
    }
   ],
   "source": [
    "words = pd.Series(sentences.str.split().sum())\n",
    "tfidf = pd.DataFrame([], index=sentences.index)  # dataframe of documents\n",
    "for w in words.unique():\n",
    "    re_pat = '\\\\b%s\\\\b' % w\n",
    "    tf = sentence.count(w) / (sentence.count(' ') + 1)\n",
    "    idf = np.log(len(sentences) / sentences.str.contains(re_pat).sum())\n",
    "    tfidf[w] = tf * idf\n",
    "tfidf"
   ]
  },
  {
   "cell_type": "code",
   "execution_count": null,
   "metadata": {},
   "outputs": [],
   "source": []
  },
  {
   "cell_type": "code",
   "execution_count": null,
   "metadata": {},
   "outputs": [],
   "source": []
  },
  {
   "cell_type": "code",
   "execution_count": null,
   "metadata": {},
   "outputs": [],
   "source": []
  },
  {
   "cell_type": "markdown",
   "metadata": {},
   "source": [
    "## Whole data set"
   ]
  },
  {
   "cell_type": "code",
   "execution_count": 290,
   "metadata": {},
   "outputs": [],
   "source": [
    "# Whole dataset testing\n",
    "fp = os.path.join('data', 'reviews.txt')\n",
    "reviews = pd.read_csv(fp, header=None, squeeze=True)\n",
    "review = open(os.path.join('data', 'review.txt'), encoding='utf8').read().strip()"
   ]
  },
  {
   "cell_type": "code",
   "execution_count": 318,
   "metadata": {},
   "outputs": [
    {
     "name": "stdout",
     "output_type": "stream",
     "text": [
      "Wall time: 48.4 s\n"
     ]
    },
    {
     "data": {
      "text/html": [
       "<div>\n",
       "<style scoped>\n",
       "    .dataframe tbody tr th:only-of-type {\n",
       "        vertical-align: middle;\n",
       "    }\n",
       "\n",
       "    .dataframe tbody tr th {\n",
       "        vertical-align: top;\n",
       "    }\n",
       "\n",
       "    .dataframe thead th {\n",
       "        text-align: right;\n",
       "    }\n",
       "</style>\n",
       "<table border=\"1\" class=\"dataframe\">\n",
       "  <thead>\n",
       "    <tr style=\"text-align: right;\">\n",
       "      <th></th>\n",
       "      <th>cnt</th>\n",
       "      <th>tf</th>\n",
       "      <th>idf</th>\n",
       "      <th>tfidf</th>\n",
       "    </tr>\n",
       "  </thead>\n",
       "  <tbody>\n",
       "    <tr>\n",
       "      <th>this</th>\n",
       "      <td>3</td>\n",
       "      <td>0.0352941</td>\n",
       "      <td>0.441322</td>\n",
       "      <td>0.0155761</td>\n",
       "    </tr>\n",
       "    <tr>\n",
       "      <th>is</th>\n",
       "      <td>3</td>\n",
       "      <td>0.0352941</td>\n",
       "      <td>0.51645</td>\n",
       "      <td>0.0182277</td>\n",
       "    </tr>\n",
       "    <tr>\n",
       "      <th>a</th>\n",
       "      <td>4</td>\n",
       "      <td>0.0470588</td>\n",
       "      <td>0.360441</td>\n",
       "      <td>0.0169619</td>\n",
       "    </tr>\n",
       "    <tr>\n",
       "      <th>great</th>\n",
       "      <td>1</td>\n",
       "      <td>0.0117647</td>\n",
       "      <td>1.30165</td>\n",
       "      <td>0.0153135</td>\n",
       "    </tr>\n",
       "    <tr>\n",
       "      <th>new</th>\n",
       "      <td>1</td>\n",
       "      <td>0.0117647</td>\n",
       "      <td>2.61168</td>\n",
       "      <td>0.0307257</td>\n",
       "    </tr>\n",
       "    <tr>\n",
       "      <th>case</th>\n",
       "      <td>3</td>\n",
       "      <td>0.0352941</td>\n",
       "      <td>1.12209</td>\n",
       "      <td>0.0396033</td>\n",
       "    </tr>\n",
       "    <tr>\n",
       "      <th>design</th>\n",
       "      <td>1</td>\n",
       "      <td>0.0117647</td>\n",
       "      <td>3.05513</td>\n",
       "      <td>0.0359427</td>\n",
       "    </tr>\n",
       "    <tr>\n",
       "      <th>that</th>\n",
       "      <td>2</td>\n",
       "      <td>0.0235294</td>\n",
       "      <td>0.871668</td>\n",
       "      <td>0.0205098</td>\n",
       "    </tr>\n",
       "    <tr>\n",
       "      <th>i</th>\n",
       "      <td>1</td>\n",
       "      <td>0.0117647</td>\n",
       "      <td>0.280584</td>\n",
       "      <td>0.00330098</td>\n",
       "    </tr>\n",
       "    <tr>\n",
       "      <th>have</th>\n",
       "      <td>1</td>\n",
       "      <td>0.0117647</td>\n",
       "      <td>0.975458</td>\n",
       "      <td>0.011476</td>\n",
       "    </tr>\n",
       "    <tr>\n",
       "      <th>not</th>\n",
       "      <td>1</td>\n",
       "      <td>0.0117647</td>\n",
       "      <td>0.961678</td>\n",
       "      <td>0.0113139</td>\n",
       "    </tr>\n",
       "    <tr>\n",
       "      <th>seen</th>\n",
       "      <td>1</td>\n",
       "      <td>0.0117647</td>\n",
       "      <td>4.10438</td>\n",
       "      <td>0.0482868</td>\n",
       "    </tr>\n",
       "    <tr>\n",
       "      <th>before</th>\n",
       "      <td>1</td>\n",
       "      <td>0.0117647</td>\n",
       "      <td>2.82062</td>\n",
       "      <td>0.0331837</td>\n",
       "    </tr>\n",
       "    <tr>\n",
       "      <th>it</th>\n",
       "      <td>3</td>\n",
       "      <td>0.0352941</td>\n",
       "      <td>0.281742</td>\n",
       "      <td>0.00994384</td>\n",
       "    </tr>\n",
       "    <tr>\n",
       "      <th>has</th>\n",
       "      <td>1</td>\n",
       "      <td>0.0117647</td>\n",
       "      <td>1.68212</td>\n",
       "      <td>0.0197896</td>\n",
       "    </tr>\n",
       "    <tr>\n",
       "      <th>slim</th>\n",
       "      <td>1</td>\n",
       "      <td>0.0117647</td>\n",
       "      <td>3.64102</td>\n",
       "      <td>0.0428356</td>\n",
       "    </tr>\n",
       "    <tr>\n",
       "      <th>silicone</th>\n",
       "      <td>1</td>\n",
       "      <td>0.0117647</td>\n",
       "      <td>4.34933</td>\n",
       "      <td>0.0511685</td>\n",
       "    </tr>\n",
       "    <tr>\n",
       "      <th>skin</th>\n",
       "      <td>1</td>\n",
       "      <td>0.0117647</td>\n",
       "      <td>4.87982</td>\n",
       "      <td>0.0574097</td>\n",
       "    </tr>\n",
       "    <tr>\n",
       "      <th>really</th>\n",
       "      <td>1</td>\n",
       "      <td>0.0117647</td>\n",
       "      <td>1.8967</td>\n",
       "      <td>0.0223141</td>\n",
       "    </tr>\n",
       "    <tr>\n",
       "      <th>locks</th>\n",
       "      <td>1</td>\n",
       "      <td>0.0117647</td>\n",
       "      <td>6.55455</td>\n",
       "      <td>0.0771124</td>\n",
       "    </tr>\n",
       "    <tr>\n",
       "      <th>in</th>\n",
       "      <td>1</td>\n",
       "      <td>0.0117647</td>\n",
       "      <td>0.844802</td>\n",
       "      <td>0.00993885</td>\n",
       "    </tr>\n",
       "    <tr>\n",
       "      <th>the</th>\n",
       "      <td>3</td>\n",
       "      <td>0.0352941</td>\n",
       "      <td>0.181416</td>\n",
       "      <td>0.00640293</td>\n",
       "    </tr>\n",
       "    <tr>\n",
       "      <th>phone</th>\n",
       "      <td>2</td>\n",
       "      <td>0.0235294</td>\n",
       "      <td>0.824803</td>\n",
       "      <td>0.0194071</td>\n",
       "    </tr>\n",
       "    <tr>\n",
       "      <th>to</th>\n",
       "      <td>3</td>\n",
       "      <td>0.0352941</td>\n",
       "      <td>0.382649</td>\n",
       "      <td>0.0135053</td>\n",
       "    </tr>\n",
       "    <tr>\n",
       "      <th>cover</th>\n",
       "      <td>2</td>\n",
       "      <td>0.0235294</td>\n",
       "      <td>2.6841</td>\n",
       "      <td>0.0631554</td>\n",
       "    </tr>\n",
       "    <tr>\n",
       "      <th>and</th>\n",
       "      <td>5</td>\n",
       "      <td>0.0588235</td>\n",
       "      <td>0.248188</td>\n",
       "      <td>0.0145993</td>\n",
       "    </tr>\n",
       "    <tr>\n",
       "      <th>protect</th>\n",
       "      <td>1</td>\n",
       "      <td>0.0117647</td>\n",
       "      <td>3.14297</td>\n",
       "      <td>0.0369761</td>\n",
       "    </tr>\n",
       "    <tr>\n",
       "      <th>your</th>\n",
       "      <td>1</td>\n",
       "      <td>0.0117647</td>\n",
       "      <td>1.66665</td>\n",
       "      <td>0.0196077</td>\n",
       "    </tr>\n",
       "    <tr>\n",
       "      <th>from</th>\n",
       "      <td>1</td>\n",
       "      <td>0.0117647</td>\n",
       "      <td>1.60596</td>\n",
       "      <td>0.0188937</td>\n",
       "    </tr>\n",
       "    <tr>\n",
       "      <th>spills</th>\n",
       "      <td>1</td>\n",
       "      <td>0.0117647</td>\n",
       "      <td>7.6061</td>\n",
       "      <td>0.0894835</td>\n",
       "    </tr>\n",
       "    <tr>\n",
       "      <th>such</th>\n",
       "      <td>1</td>\n",
       "      <td>0.0117647</td>\n",
       "      <td>3.53795</td>\n",
       "      <td>0.041623</td>\n",
       "    </tr>\n",
       "    <tr>\n",
       "      <th>also</th>\n",
       "      <td>2</td>\n",
       "      <td>0.0235294</td>\n",
       "      <td>1.92416</td>\n",
       "      <td>0.0452743</td>\n",
       "    </tr>\n",
       "    <tr>\n",
       "      <th>hard</th>\n",
       "      <td>1</td>\n",
       "      <td>0.0117647</td>\n",
       "      <td>2.60122</td>\n",
       "      <td>0.0306026</td>\n",
       "    </tr>\n",
       "    <tr>\n",
       "      <th>polycarbonate</th>\n",
       "      <td>1</td>\n",
       "      <td>0.0117647</td>\n",
       "      <td>6.4301</td>\n",
       "      <td>0.0756482</td>\n",
       "    </tr>\n",
       "    <tr>\n",
       "      <th>outside</th>\n",
       "      <td>1</td>\n",
       "      <td>0.0117647</td>\n",
       "      <td>4.19688</td>\n",
       "      <td>0.0493751</td>\n",
       "    </tr>\n",
       "    <tr>\n",
       "      <th>shell</th>\n",
       "      <td>1</td>\n",
       "      <td>0.0117647</td>\n",
       "      <td>4.48115</td>\n",
       "      <td>0.0527194</td>\n",
       "    </tr>\n",
       "    <tr>\n",
       "      <th>guard</th>\n",
       "      <td>1</td>\n",
       "      <td>0.0117647</td>\n",
       "      <td>6.53074</td>\n",
       "      <td>0.0768322</td>\n",
       "    </tr>\n",
       "    <tr>\n",
       "      <th>against</th>\n",
       "      <td>1</td>\n",
       "      <td>0.0117647</td>\n",
       "      <td>4.26653</td>\n",
       "      <td>0.0501945</td>\n",
       "    </tr>\n",
       "    <tr>\n",
       "      <th>damage</th>\n",
       "      <td>1</td>\n",
       "      <td>0.0117647</td>\n",
       "      <td>4.28504</td>\n",
       "      <td>0.0504122</td>\n",
       "    </tr>\n",
       "    <tr>\n",
       "      <th>comes</th>\n",
       "      <td>1</td>\n",
       "      <td>0.0117647</td>\n",
       "      <td>2.82958</td>\n",
       "      <td>0.0332892</td>\n",
       "    </tr>\n",
       "    <tr>\n",
       "      <th>with</th>\n",
       "      <td>1</td>\n",
       "      <td>0.0117647</td>\n",
       "      <td>0.843247</td>\n",
       "      <td>0.00992055</td>\n",
       "    </tr>\n",
       "    <tr>\n",
       "      <th>different</th>\n",
       "      <td>2</td>\n",
       "      <td>0.0235294</td>\n",
       "      <td>2.96005</td>\n",
       "      <td>0.0696482</td>\n",
       "    </tr>\n",
       "    <tr>\n",
       "      <th>interchangeable</th>\n",
       "      <td>1</td>\n",
       "      <td>0.0117647</td>\n",
       "      <td>6.60394</td>\n",
       "      <td>0.0776935</td>\n",
       "    </tr>\n",
       "    <tr>\n",
       "      <th>skins</th>\n",
       "      <td>1</td>\n",
       "      <td>0.0117647</td>\n",
       "      <td>6.7249</td>\n",
       "      <td>0.0791164</td>\n",
       "    </tr>\n",
       "    <tr>\n",
       "      <th>covers</th>\n",
       "      <td>1</td>\n",
       "      <td>0.0117647</td>\n",
       "      <td>3.74791</td>\n",
       "      <td>0.0440931</td>\n",
       "    </tr>\n",
       "    <tr>\n",
       "      <th>create</th>\n",
       "      <td>1</td>\n",
       "      <td>0.0117647</td>\n",
       "      <td>5.81434</td>\n",
       "      <td>0.068404</td>\n",
       "    </tr>\n",
       "    <tr>\n",
       "      <th>multiple</th>\n",
       "      <td>1</td>\n",
       "      <td>0.0117647</td>\n",
       "      <td>4.23287</td>\n",
       "      <td>0.0497985</td>\n",
       "    </tr>\n",
       "    <tr>\n",
       "      <th>color</th>\n",
       "      <td>1</td>\n",
       "      <td>0.0117647</td>\n",
       "      <td>2.83658</td>\n",
       "      <td>0.0333715</td>\n",
       "    </tr>\n",
       "    <tr>\n",
       "      <th>combinations</th>\n",
       "      <td>1</td>\n",
       "      <td>0.0117647</td>\n",
       "      <td>7.25982</td>\n",
       "      <td>0.0854096</td>\n",
       "    </tr>\n",
       "    <tr>\n",
       "      <th>kind</th>\n",
       "      <td>1</td>\n",
       "      <td>0.0117647</td>\n",
       "      <td>3.78573</td>\n",
       "      <td>0.0445381</td>\n",
       "    </tr>\n",
       "    <tr>\n",
       "      <th>of</th>\n",
       "      <td>2</td>\n",
       "      <td>0.0235294</td>\n",
       "      <td>0.741824</td>\n",
       "      <td>0.0174547</td>\n",
       "    </tr>\n",
       "    <tr>\n",
       "      <th>than</th>\n",
       "      <td>1</td>\n",
       "      <td>0.0117647</td>\n",
       "      <td>1.793</td>\n",
       "      <td>0.0210941</td>\n",
       "    </tr>\n",
       "    <tr>\n",
       "      <th>usual</th>\n",
       "      <td>1</td>\n",
       "      <td>0.0117647</td>\n",
       "      <td>5.40505</td>\n",
       "      <td>0.0635888</td>\n",
       "    </tr>\n",
       "    <tr>\n",
       "      <th>chunk</th>\n",
       "      <td>1</td>\n",
       "      <td>0.0117647</td>\n",
       "      <td>8.02895</td>\n",
       "      <td>0.0944583</td>\n",
       "    </tr>\n",
       "    <tr>\n",
       "      <th>plastic</th>\n",
       "      <td>1</td>\n",
       "      <td>0.0117647</td>\n",
       "      <td>2.74602</td>\n",
       "      <td>0.0323061</td>\n",
       "    </tr>\n",
       "    <tr>\n",
       "      <th>innovative</th>\n",
       "      <td>1</td>\n",
       "      <td>0.0117647</td>\n",
       "      <td>7.10219</td>\n",
       "      <td>0.0835552</td>\n",
       "    </tr>\n",
       "    <tr>\n",
       "      <th>suits</th>\n",
       "      <td>1</td>\n",
       "      <td>0.0117647</td>\n",
       "      <td>7.41804</td>\n",
       "      <td>0.0872711</td>\n",
       "    </tr>\n",
       "    <tr>\n",
       "      <th>iphone</th>\n",
       "      <td>1</td>\n",
       "      <td>0.0117647</td>\n",
       "      <td>1.87644</td>\n",
       "      <td>0.0220758</td>\n",
       "    </tr>\n",
       "    <tr>\n",
       "      <th>5</th>\n",
       "      <td>1</td>\n",
       "      <td>0.0117647</td>\n",
       "      <td>2.27872</td>\n",
       "      <td>0.0268085</td>\n",
       "    </tr>\n",
       "    <tr>\n",
       "      <th>perfectly</th>\n",
       "      <td>1</td>\n",
       "      <td>0.0117647</td>\n",
       "      <td>2.75703</td>\n",
       "      <td>0.0324357</td>\n",
       "    </tr>\n",
       "  </tbody>\n",
       "</table>\n",
       "</div>"
      ],
      "text/plain": [
       "                cnt         tf       idf       tfidf\n",
       "this              3  0.0352941  0.441322   0.0155761\n",
       "is                3  0.0352941   0.51645   0.0182277\n",
       "a                 4  0.0470588  0.360441   0.0169619\n",
       "great             1  0.0117647   1.30165   0.0153135\n",
       "new               1  0.0117647   2.61168   0.0307257\n",
       "case              3  0.0352941   1.12209   0.0396033\n",
       "design            1  0.0117647   3.05513   0.0359427\n",
       "that              2  0.0235294  0.871668   0.0205098\n",
       "i                 1  0.0117647  0.280584  0.00330098\n",
       "have              1  0.0117647  0.975458    0.011476\n",
       "not               1  0.0117647  0.961678   0.0113139\n",
       "seen              1  0.0117647   4.10438   0.0482868\n",
       "before            1  0.0117647   2.82062   0.0331837\n",
       "it                3  0.0352941  0.281742  0.00994384\n",
       "has               1  0.0117647   1.68212   0.0197896\n",
       "slim              1  0.0117647   3.64102   0.0428356\n",
       "silicone          1  0.0117647   4.34933   0.0511685\n",
       "skin              1  0.0117647   4.87982   0.0574097\n",
       "really            1  0.0117647    1.8967   0.0223141\n",
       "locks             1  0.0117647   6.55455   0.0771124\n",
       "in                1  0.0117647  0.844802  0.00993885\n",
       "the               3  0.0352941  0.181416  0.00640293\n",
       "phone             2  0.0235294  0.824803   0.0194071\n",
       "to                3  0.0352941  0.382649   0.0135053\n",
       "cover             2  0.0235294    2.6841   0.0631554\n",
       "and               5  0.0588235  0.248188   0.0145993\n",
       "protect           1  0.0117647   3.14297   0.0369761\n",
       "your              1  0.0117647   1.66665   0.0196077\n",
       "from              1  0.0117647   1.60596   0.0188937\n",
       "spills            1  0.0117647    7.6061   0.0894835\n",
       "such              1  0.0117647   3.53795    0.041623\n",
       "also              2  0.0235294   1.92416   0.0452743\n",
       "hard              1  0.0117647   2.60122   0.0306026\n",
       "polycarbonate     1  0.0117647    6.4301   0.0756482\n",
       "outside           1  0.0117647   4.19688   0.0493751\n",
       "shell             1  0.0117647   4.48115   0.0527194\n",
       "guard             1  0.0117647   6.53074   0.0768322\n",
       "against           1  0.0117647   4.26653   0.0501945\n",
       "damage            1  0.0117647   4.28504   0.0504122\n",
       "comes             1  0.0117647   2.82958   0.0332892\n",
       "with              1  0.0117647  0.843247  0.00992055\n",
       "different         2  0.0235294   2.96005   0.0696482\n",
       "interchangeable   1  0.0117647   6.60394   0.0776935\n",
       "skins             1  0.0117647    6.7249   0.0791164\n",
       "covers            1  0.0117647   3.74791   0.0440931\n",
       "create            1  0.0117647   5.81434    0.068404\n",
       "multiple          1  0.0117647   4.23287   0.0497985\n",
       "color             1  0.0117647   2.83658   0.0333715\n",
       "combinations      1  0.0117647   7.25982   0.0854096\n",
       "kind              1  0.0117647   3.78573   0.0445381\n",
       "of                2  0.0235294  0.741824   0.0174547\n",
       "than              1  0.0117647     1.793   0.0210941\n",
       "usual             1  0.0117647   5.40505   0.0635888\n",
       "chunk             1  0.0117647   8.02895   0.0944583\n",
       "plastic           1  0.0117647   2.74602   0.0323061\n",
       "innovative        1  0.0117647   7.10219   0.0835552\n",
       "suits             1  0.0117647   7.41804   0.0872711\n",
       "iphone            1  0.0117647   1.87644   0.0220758\n",
       "5                 1  0.0117647   2.27872   0.0268085\n",
       "perfectly         1  0.0117647   2.75703   0.0324357"
      ]
     },
     "execution_count": 318,
     "metadata": {},
     "output_type": "execute_result"
    }
   ],
   "source": [
    "%%time\n",
    "words = review.split()\n",
    "uniquewords = pd.Series(words).unique()\n",
    "freq = dict.fromkeys(uniquewords, 0)\n",
    "for word in words:\n",
    "    freq[word] += 1\n",
    "check = pd.DataFrame(columns=['cnt', 'tf', 'idf', 'tfidf'], index=uniquewords)  # dataframe of documents\n",
    "\n",
    "all_uniquewords = reviews.str.split().apply(lambda x: pd.Series(x).unique())\n",
    "all_freq = dict.fromkeys(uniquewords, 0)\n",
    "for word in uniquewords:\n",
    "    for un in all_uniquewords:\n",
    "        if word in un:\n",
    "            all_freq[word] += 1\n",
    "\n",
    "for word in uniquewords:\n",
    "    # print(word)\n",
    "    re_pat = '\\\\b%s\\\\b' % word\n",
    "    cnt = freq.get(word)\n",
    "    tf = cnt / len(words) #(pd.Series(review).str.count('\\\\b') + 1).values[0]\n",
    "    # idf = np.log(len(reviews) / reviews.str.contains(re_pat).sum()) #.values[0]\n",
    "    idf = np.log(len(reviews) / all_freq.get(word))\n",
    "    # print(tf.values[0])\n",
    "    # df['cnt'], df['tf'], df['idf'], df['tfidf'] = cnt, tf, idf, tf * idf\n",
    "    check.loc[word, 'cnt'], check.loc[word, 'tfidf'] = cnt, tf * idf\n",
    "    check.loc[word, 'tf'], check.loc[word, 'idf'] = tf, idf\n",
    "    # df.loc[word] = pd.Series([cnt, tf, idf, tf * idf])\n",
    "# df.loc['this', 'cnt'] = 1\n",
    "\n",
    "check#['cnt'].sum()#.sort_values('tfidf', ascending=False)\n",
    "# com2 = df.index"
   ]
  },
  {
   "cell_type": "code",
   "execution_count": 332,
   "metadata": {},
   "outputs": [
    {
     "data": {
      "text/plain": [
       "'chunk'"
      ]
     },
     "execution_count": 332,
     "metadata": {},
     "output_type": "execute_result"
    }
   ],
   "source": [
    "check.sort_values('tfidf', ascending=False).index[0]"
   ]
  },
  {
   "cell_type": "code",
   "execution_count": 319,
   "metadata": {},
   "outputs": [
    {
     "data": {
      "text/plain": [
       "{'this': 3,\n",
       " 'is': 3,\n",
       " 'a': 4,\n",
       " 'great': 1,\n",
       " 'new': 1,\n",
       " 'case': 3,\n",
       " 'design': 1,\n",
       " 'that': 2,\n",
       " 'i': 1,\n",
       " 'have': 1,\n",
       " 'not': 1,\n",
       " 'seen': 1,\n",
       " 'before': 1,\n",
       " 'it': 3,\n",
       " 'has': 1,\n",
       " 'slim': 1,\n",
       " 'silicone': 1,\n",
       " 'skin': 1,\n",
       " 'really': 1,\n",
       " 'locks': 1,\n",
       " 'in': 1,\n",
       " 'the': 3,\n",
       " 'phone': 2,\n",
       " 'to': 3,\n",
       " 'cover': 2,\n",
       " 'and': 5,\n",
       " 'protect': 1,\n",
       " 'your': 1,\n",
       " 'from': 1,\n",
       " 'spills': 1,\n",
       " 'such': 1,\n",
       " 'also': 2,\n",
       " 'hard': 1,\n",
       " 'polycarbonate': 1,\n",
       " 'outside': 1,\n",
       " 'shell': 1,\n",
       " 'guard': 1,\n",
       " 'against': 1,\n",
       " 'damage': 1,\n",
       " 'comes': 1,\n",
       " 'with': 1,\n",
       " 'different': 2,\n",
       " 'interchangeable': 1,\n",
       " 'skins': 1,\n",
       " 'covers': 1,\n",
       " 'create': 1,\n",
       " 'multiple': 1,\n",
       " 'color': 1,\n",
       " 'combinations': 1,\n",
       " 'kind': 1,\n",
       " 'of': 2,\n",
       " 'than': 1,\n",
       " 'usual': 1,\n",
       " 'chunk': 1,\n",
       " 'plastic': 1,\n",
       " 'innovative': 1,\n",
       " 'suits': 1,\n",
       " 'iphone': 1,\n",
       " '5': 1,\n",
       " 'perfectly': 1}"
      ]
     },
     "execution_count": 319,
     "metadata": {},
     "output_type": "execute_result"
    }
   ],
   "source": [
    "freq"
   ]
  },
  {
   "cell_type": "code",
   "execution_count": 299,
   "metadata": {},
   "outputs": [],
   "source": [
    "tf = computeTF(freq, words)"
   ]
  },
  {
   "cell_type": "code",
   "execution_count": 311,
   "metadata": {},
   "outputs": [
    {
     "data": {
      "text/plain": [
       "0"
      ]
     },
     "execution_count": 311,
     "metadata": {},
     "output_type": "execute_result"
    }
   ],
   "source": [
    "np.count_nonzero(pd.Series(tf).values  - check['tf'])"
   ]
  },
  {
   "cell_type": "code",
   "execution_count": 320,
   "metadata": {},
   "outputs": [],
   "source": [
    "final = []\n",
    "for re in reviews:\n",
    "    \n",
    "    words = re.split()\n",
    "    uniquewords = pd.Series(words).unique()\n",
    "    ffreq = dict.fromkeys(uniquewords, 0)\n",
    "    for word in words:\n",
    "        ffreq[word] += 1\n",
    "    final.append(ffreq)"
   ]
  },
  {
   "cell_type": "code",
   "execution_count": 321,
   "metadata": {},
   "outputs": [],
   "source": [
    "def computeIDF(documents):\n",
    "    import math\n",
    "    N = len(documents)\n",
    "    \n",
    "    idfDict = dict.fromkeys(freq.keys(), 0)\n",
    "    for document in documents:\n",
    "        for word, val in document.items():\n",
    "            if word in idfDict.keys():\n",
    "                idfDict[word] += 1\n",
    "    \n",
    "    for word, val in idfDict.items():\n",
    "        idfDict[word] = math.log(N / float(val))\n",
    "    return idfDict"
   ]
  },
  {
   "cell_type": "code",
   "execution_count": 322,
   "metadata": {},
   "outputs": [],
   "source": [
    "all_freq = computeIDF(final)"
   ]
  },
  {
   "cell_type": "code",
   "execution_count": 323,
   "metadata": {},
   "outputs": [
    {
     "data": {
      "text/plain": [
       "{'this': 0.44132213213122035,\n",
       " 'is': 0.5164501387097523,\n",
       " 'a': 0.36044077948648456,\n",
       " 'great': 1.301647044659039,\n",
       " 'new': 2.6116833884916515,\n",
       " 'case': 1.1220925562769521,\n",
       " 'design': 3.0551269909722203,\n",
       " 'that': 0.8716682089233411,\n",
       " 'i': 0.2805835005227631,\n",
       " 'have': 0.9754579542394205,\n",
       " 'not': 0.9616777194604947,\n",
       " 'seen': 4.1043772264017875,\n",
       " 'before': 2.82061762432342,\n",
       " 'it': 0.2817422623678435,\n",
       " 'has': 1.6821166875953122,\n",
       " 'slim': 3.641022471138432,\n",
       " 'silicone': 4.3493264492676005,\n",
       " 'skin': 4.879821907022358,\n",
       " 'really': 1.8966969899612296,\n",
       " 'locks': 6.554551069270896,\n",
       " 'in': 0.8448024915109945,\n",
       " 'the': 0.18141633731929982,\n",
       " 'phone': 0.824803405865114,\n",
       " 'to': 0.3826492696762584,\n",
       " 'cover': 2.684103354067177,\n",
       " 'and': 0.24818784317671289,\n",
       " 'protect': 3.1429660592471627,\n",
       " 'your': 1.6666508108049962,\n",
       " 'from': 1.605962089848536,\n",
       " 'spills': 7.60609584708102,\n",
       " 'such': 3.537953657252943,\n",
       " 'also': 1.9241594654860683,\n",
       " 'hard': 2.601224257701514,\n",
       " 'polycarbonate': 6.43009689479749,\n",
       " 'outside': 4.196884684695311,\n",
       " 'shell': 4.481151842047023,\n",
       " 'guard': 6.530740420577177,\n",
       " 'against': 4.266529340464747,\n",
       " 'damage': 4.285036963120732,\n",
       " 'comes': 2.829583700296009,\n",
       " 'with': 0.8432467539173596,\n",
       " 'different': 2.960048495680822,\n",
       " 'interchangeable': 6.6039438246004725,\n",
       " 'skins': 6.724896435018135,\n",
       " 'covers': 3.7479102042851995,\n",
       " 'create': 5.814336377852965,\n",
       " 'multiple': 4.232872317461271,\n",
       " 'color': 2.836580813391958,\n",
       " 'combinations': 7.259819610363186,\n",
       " 'kind': 3.7857345129525384,\n",
       " 'of': 0.7418241474727464,\n",
       " 'than': 1.7929951814643834,\n",
       " 'usual': 5.405047173306397,\n",
       " 'chunk': 8.028952697901053,\n",
       " 'plastic': 2.746016170233459,\n",
       " 'innovative': 7.102190666159603,\n",
       " 'suits': 7.41804361557808,\n",
       " 'iphone': 1.8764439924464018,\n",
       " '5': 2.2787219805205017,\n",
       " 'perfectly': 2.757033344681338}"
      ]
     },
     "execution_count": 323,
     "metadata": {},
     "output_type": "execute_result"
    }
   ],
   "source": [
    "all_freq"
   ]
  },
  {
   "cell_type": "code",
   "execution_count": 324,
   "metadata": {},
   "outputs": [
    {
     "data": {
      "text/plain": [
       "(60, (60,))"
      ]
     },
     "execution_count": 324,
     "metadata": {},
     "output_type": "execute_result"
    }
   ],
   "source": [
    "len(all_freq), check['idf'].shape"
   ]
  },
  {
   "cell_type": "code",
   "execution_count": null,
   "metadata": {},
   "outputs": [],
   "source": []
  },
  {
   "cell_type": "code",
   "execution_count": 325,
   "metadata": {},
   "outputs": [
    {
     "data": {
      "text/plain": [
       "0"
      ]
     },
     "execution_count": 325,
     "metadata": {},
     "output_type": "execute_result"
    }
   ],
   "source": [
    "np.count_nonzero(pd.Series(all_freq).values  - check['idf'])"
   ]
  },
  {
   "cell_type": "code",
   "execution_count": 41,
   "metadata": {},
   "outputs": [],
   "source": [
    "def tfidf_data(review, reviews):\n",
    "    \"\"\"\n",
    "    :Example:\n",
    "    >>> fp = os.path.join('data', 'reviews.txt')\n",
    "    >>> reviews = pd.read_csv(fp, header=None, squeeze=True)\n",
    "    >>> review = open(os.path.join('data', 'review.txt'), encoding='utf8').read().strip()\n",
    "    >>> out = tfidf_data(review, reviews)\n",
    "    >>> out['cnt'].sum()\n",
    "    85\n",
    "    >>> 'before' in out.index\n",
    "    True\n",
    "    \"\"\"\n",
    "    # Check review frequency\n",
    "    words = review.split() # Split review words\n",
    "    uniquewords = pd.Series(words).unique() # Get unique review words\n",
    "    freq = dict.fromkeys(uniquewords, 0) # Get frequency\n",
    "    for word in words:\n",
    "        freq[word] += 1\n",
    "\n",
    "    # Check number of documents word appear\n",
    "    all_uniquewords = reviews.str.split().apply(lambda x: pd.Series(x).unique()) # All words in all reviews\n",
    "    all_freq = dict.fromkeys(uniquewords, 0) # Get the number of documents word appear\n",
    "    for word in uniquewords: # Word\n",
    "        for un in all_uniquewords: # Single review of reviews\n",
    "            if word in un:\n",
    "                all_freq[word] += 1 # Appear in one review\n",
    "\n",
    "    check = pd.DataFrame(columns=['cnt', 'tf', 'idf', 'tfidf'], index=uniquewords)  # tfidf dataframe\n",
    "    for word in uniquewords:\n",
    "        re_pat = '\\\\b%s\\\\b' % word # Word pattern\n",
    "        cnt = freq.get(word) # Frequency\n",
    "        tf = cnt / len(words) # tf\n",
    "        idf = np.log(len(reviews) / all_freq.get(word)) # idf\n",
    "        # Put into dataframe\n",
    "        check.loc[word, 'cnt'], check.loc[word, 'tfidf'] = cnt, tf * idf\n",
    "        check.loc[word, 'tf'], check.loc[word, 'idf'] = tf, idf\n",
    "\n",
    "    return check"
   ]
  },
  {
   "cell_type": "code",
   "execution_count": 42,
   "metadata": {},
   "outputs": [],
   "source": [
    "def relevant_word(out):\n",
    "    \"\"\"\n",
    "    :Example:\n",
    "    >>> fp = os.path.join('data', 'reviews.txt')\n",
    "    >>> reviews = pd.read_csv(fp, header=None, squeeze=True)\n",
    "    >>> review = open(os.path.join('data', 'review.txt'), encoding='utf8').read().strip()\n",
    "    >>> out = tfidf_data(review, reviews)\n",
    "    >>> relevant_word(out) in out.index\n",
    "    True\n",
    "    \"\"\"\n",
    "    return out.sort_values('tfidf', ascending=False).index[0]"
   ]
  },
  {
   "cell_type": "code",
   "execution_count": null,
   "metadata": {},
   "outputs": [],
   "source": []
  },
  {
   "cell_type": "markdown",
   "metadata": {},
   "source": [
    "### Tweet Analysis: Internet Research Agency\n",
    "\n",
    "The dataset `data/ira.csv` contains tweets tagged by Twitter as likely being posted by the *Internet Research Angency* (the tweet factory facing allegations for attempting to influence US political elections).\n",
    "\n",
    "The questions in this section will focus on the following:\n",
    "1. We will look at the hashtags present in the text and trends in their makeup.\n",
    "2. We will prepare this dataset for modeling by creating features out of the text fields.\n",
    "\n",
    "**Question 4 (HashTags)**\n",
    "\n",
    "You may assume that a hashtag is any string without whitespace following a `#` (this is more permissive than Twitters rules for hashtags; you are encouraged to go down this rabbit-hole to better figure out how to clean your data!).\n",
    "\n",
    "* Create a function `hashtag_list` that takes in a column of tweet-text and returns a column containing the list of hashtags present in the tweet text. If a tweet doesn't contain a hashtag, the function should return an empty list.\n",
    "\n",
    "* Create a function `most_common_hashtag` that takes in a column of hashtag-lists (the output above) and returns a column consisting a single hashtag from the tweet-text. \n",
    "    - If the text has no hashtags, the entry should be `NaN`,\n",
    "    - If the text has one distinct hashtag, the entry should contain that hashtag,\n",
    "    - If the text has more than one hashtag, the entry should be the most common hashtag (among all hashtags in the column). If there is a tie for most common, any of the most common can be returned.\n",
    "        - E.g. if the input column was: `pd.Series([[1, 2, 2], [3, 2, 3]])`, the output would be: `pd.Series([2, 2])`. Even though `3` was more common in the second list, `2` is the most common among all hashtags in the column."
   ]
  },
  {
   "cell_type": "code",
   "execution_count": 5,
   "metadata": {},
   "outputs": [
    {
     "data": {
      "text/html": [
       "<div>\n",
       "<style scoped>\n",
       "    .dataframe tbody tr th:only-of-type {\n",
       "        vertical-align: middle;\n",
       "    }\n",
       "\n",
       "    .dataframe tbody tr th {\n",
       "        vertical-align: top;\n",
       "    }\n",
       "\n",
       "    .dataframe thead th {\n",
       "        text-align: right;\n",
       "    }\n",
       "</style>\n",
       "<table border=\"1\" class=\"dataframe\">\n",
       "  <thead>\n",
       "    <tr style=\"text-align: right;\">\n",
       "      <th></th>\n",
       "      <th>id</th>\n",
       "      <th>name</th>\n",
       "      <th>date</th>\n",
       "      <th>text</th>\n",
       "    </tr>\n",
       "  </thead>\n",
       "  <tbody>\n",
       "    <tr>\n",
       "      <th>0</th>\n",
       "      <td>3906258</td>\n",
       "      <td>ea85ac8be1e8ab479064ca4c0fe3ac6587f76b1ef97452...</td>\n",
       "      <td>2016-11-16 09:04</td>\n",
       "      <td>The Best Exercise To Lose Belly Fat In 2 weeks...</td>\n",
       "    </tr>\n",
       "    <tr>\n",
       "      <th>1</th>\n",
       "      <td>1051443</td>\n",
       "      <td>8e58ab0f46d273103d9e71aa92cdaffb6e330ec7d15ae5...</td>\n",
       "      <td>2016-12-24 04:31</td>\n",
       "      <td>RT @Philanthropy: Dozens of ‘hate groups’ have...</td>\n",
       "    </tr>\n",
       "    <tr>\n",
       "      <th>2</th>\n",
       "      <td>2823399</td>\n",
       "      <td>Room Of Rumor</td>\n",
       "      <td>2016-08-18 20:26</td>\n",
       "      <td>Artificial intelligence can find, map poverty,...</td>\n",
       "    </tr>\n",
       "    <tr>\n",
       "      <th>3</th>\n",
       "      <td>272878</td>\n",
       "      <td>San Francisco Daily</td>\n",
       "      <td>2016-03-18 19:28</td>\n",
       "      <td>Uber balks at rules proposed by world’s busies...</td>\n",
       "    </tr>\n",
       "    <tr>\n",
       "      <th>4</th>\n",
       "      <td>7697802</td>\n",
       "      <td>41bb9ae5991f53996752a0ab8dd36b543821abca8d5aed...</td>\n",
       "      <td>2016-07-30 15:44</td>\n",
       "      <td>RT @dirtroaddiva1: #IHatePokemonGoBecause he  ...</td>\n",
       "    </tr>\n",
       "  </tbody>\n",
       "</table>\n",
       "</div>"
      ],
      "text/plain": [
       "        id                                               name  \\\n",
       "0  3906258  ea85ac8be1e8ab479064ca4c0fe3ac6587f76b1ef97452...   \n",
       "1  1051443  8e58ab0f46d273103d9e71aa92cdaffb6e330ec7d15ae5...   \n",
       "2  2823399                                      Room Of Rumor   \n",
       "3   272878                                San Francisco Daily   \n",
       "4  7697802  41bb9ae5991f53996752a0ab8dd36b543821abca8d5aed...   \n",
       "\n",
       "               date                                               text  \n",
       "0  2016-11-16 09:04  The Best Exercise To Lose Belly Fat In 2 weeks...  \n",
       "1  2016-12-24 04:31  RT @Philanthropy: Dozens of ‘hate groups’ have...  \n",
       "2  2016-08-18 20:26  Artificial intelligence can find, map poverty,...  \n",
       "3  2016-03-18 19:28  Uber balks at rules proposed by world’s busies...  \n",
       "4  2016-07-30 15:44  RT @dirtroaddiva1: #IHatePokemonGoBecause he  ...  "
      ]
     },
     "execution_count": 5,
     "metadata": {},
     "output_type": "execute_result"
    }
   ],
   "source": [
    "fp = os.path.join('data', 'ira.csv')\n",
    "ira = pd.read_csv(fp, names=['id', 'name', 'date', 'text'])\n",
    "ira.head()"
   ]
  },
  {
   "cell_type": "code",
   "execution_count": 6,
   "metadata": {},
   "outputs": [
    {
     "data": {
      "text/plain": [
       "0        [Exercise, LoseBellyFat, CatTV, TeenWolf]\n",
       "1                                               []\n",
       "2                                           [tech]\n",
       "3                                           [news]\n",
       "4           [IHatePokemonGoBecause, PokesAreJokes]\n",
       "                           ...                    \n",
       "89995                                   [politics]\n",
       "89996                        [ThingsYouCantIgnore]\n",
       "89997                                           []\n",
       "89998                               [rantfortoday]\n",
       "89999                                       [news]\n",
       "Name: text, Length: 90000, dtype: object"
      ]
     },
     "execution_count": 6,
     "metadata": {},
     "output_type": "execute_result"
    }
   ],
   "source": [
    "tweet_text = ira['text']\n",
    "hashtag_pat = '#(\\w+)'\n",
    "prog = re.compile(hashtag_pat)\n",
    "tweet_text.apply(lambda x: prog.findall(x))"
   ]
  },
  {
   "cell_type": "code",
   "execution_count": 7,
   "metadata": {},
   "outputs": [],
   "source": [
    "def hashtag_list(tweet_text):\n",
    "    \"\"\"\n",
    "    :Example:\n",
    "    >>> testdata = [['RT @DSC80: Text-cleaning is cool! #NLP https://t.co/xsfdw88d #NLP1 #NLP1']]\n",
    "    >>> test = pd.DataFrame(testdata, columns=['text'])\n",
    "    >>> out = hashtag_list(test['text'])\n",
    "    >>> (out.iloc[0] == ['NLP', 'NLP1', 'NLP1'])\n",
    "    True\n",
    "    \"\"\"\n",
    "    hashtag_pat = '#(\\w+)' # Hash Tag pattern\n",
    "    prog = re.compile(hashtag_pat) # Compile\n",
    "    tags = tweet_text.apply(lambda x: prog.findall(x)) # Find all\n",
    "    return tags"
   ]
  },
  {
   "cell_type": "code",
   "execution_count": 8,
   "metadata": {},
   "outputs": [
    {
     "data": {
      "text/plain": [
       "0    [NLP, NLP1, NLP1]\n",
       "Name: text, dtype: object"
      ]
     },
     "execution_count": 8,
     "metadata": {},
     "output_type": "execute_result"
    }
   ],
   "source": [
    "testdata = [['RT @DSC80: Text-cleaning is cool! #NLP https://t.co/xsfdw88d #NLP1 #NLP1']]\n",
    "test = pd.DataFrame(testdata, columns=['text'])\n",
    "out = hashtag_list(test['text'])\n",
    "(out.iloc[0] == ['NLP', 'NLP1', 'NLP1'])\n",
    "out"
   ]
  },
  {
   "cell_type": "code",
   "execution_count": 9,
   "metadata": {},
   "outputs": [],
   "source": [
    "# tweet_lists = hashtag_list(ira['text'])\n",
    "# freq = pd.Series(tweet_lists.sum())"
   ]
  },
  {
   "cell_type": "code",
   "execution_count": 9,
   "metadata": {},
   "outputs": [],
   "source": [
    "# counts = freq.value_counts()"
   ]
  },
  {
   "cell_type": "code",
   "execution_count": 10,
   "metadata": {},
   "outputs": [],
   "source": [
    "def most_common(tweet_list):\n",
    "    \"\"\"Helper function to compute one single list\"\"\"\n",
    "    if len(tweet_list) == 0: # Empty list\n",
    "        return np.nan\n",
    "    \n",
    "    if len(tweet_list) == 1: # One elem\n",
    "        return tweet_list[0]\n",
    "    \n",
    "    for com in counts: # Highest to lowest freq\n",
    "        if com in tweet_list: # Check if in tweet\n",
    "            return com"
   ]
  },
  {
   "cell_type": "code",
   "execution_count": 11,
   "metadata": {},
   "outputs": [],
   "source": [
    "def most_common_hashtag(tweet_lists):\n",
    "    \"\"\"\n",
    "    :Example:\n",
    "    >>> testdata = [['RT @DSC80: Text-cleaning is cool! #NLP https://t.co/xsfdw88d #NLP1 #NLP1']]\n",
    "    >>> test = hashtag_list(pd.DataFrame(testdata, columns=['text'])['text'])\n",
    "    >>> most_common_hashtag(test).iloc[0]\n",
    "    'NLP1'\n",
    "    \"\"\"\n",
    "    freq = pd.Series(tweet_lists.sum()) # Total Frequency Series\n",
    "    counts = freq.value_counts() # Count occurrences\n",
    "\n",
    "    def most_common(tweet_list):\n",
    "        \"\"\"Helper function to compute one single list\"\"\"\n",
    "        if len(tweet_list) == 0: # Empty list\n",
    "            return np.nan\n",
    "\n",
    "        if len(tweet_list) == 1: # One elem\n",
    "            return tweet_list[0]\n",
    "\n",
    "        for com in counts.index: # Highest to lowest freq\n",
    "            if com in tweet_list: # Check if in tweet\n",
    "                return com\n",
    "    \n",
    "    return tweet_lists.apply(most_common)"
   ]
  },
  {
   "cell_type": "code",
   "execution_count": 12,
   "metadata": {},
   "outputs": [
    {
     "data": {
      "text/plain": [
       "'NLP1'"
      ]
     },
     "execution_count": 12,
     "metadata": {},
     "output_type": "execute_result"
    }
   ],
   "source": [
    "testdata = [['RT @DSC80: Text-cleaning is cool! #NLP https://t.co/xsfdw88d #NLP1 #NLP1']]\n",
    "test = hashtag_list(pd.DataFrame(testdata, columns=['text'])['text'])\n",
    "most_common_hashtag(test).iloc[0]"
   ]
  },
  {
   "cell_type": "code",
   "execution_count": 13,
   "metadata": {},
   "outputs": [
    {
     "data": {
      "text/plain": [
       "0    NLP\n",
       "1    NLP\n",
       "Name: text, dtype: object"
      ]
     },
     "execution_count": 13,
     "metadata": {},
     "output_type": "execute_result"
    }
   ],
   "source": [
    "testdata = ([['RT @DSC80:#NLP #Text- #cleaning is#NLP cool! #NLP #https://t.co/xsfdw88d #https #https'],\n",
    "             ['#Text- #cleaning iscool! #http://t.co/xsfdw88d #NLP #NLP1 #http']])\n",
    "test = hashtag_list(pd.DataFrame(testdata, columns=['text'])['text'])\n",
    "most_common_hashtag(test)#.iloc[0]"
   ]
  },
  {
   "cell_type": "code",
   "execution_count": 14,
   "metadata": {},
   "outputs": [
    {
     "data": {
      "text/plain": [
       "0    2\n",
       "1    2\n",
       "Name: text, dtype: object"
      ]
     },
     "execution_count": 14,
     "metadata": {},
     "output_type": "execute_result"
    }
   ],
   "source": [
    "test = [['#1, #2, #2'], ['#3, #2, #3']]\n",
    "test = hashtag_list(pd.DataFrame(test, columns=['text'])['text'])\n",
    "most_common_hashtag(test)"
   ]
  },
  {
   "cell_type": "code",
   "execution_count": null,
   "metadata": {},
   "outputs": [],
   "source": []
  },
  {
   "cell_type": "markdown",
   "metadata": {},
   "source": [
    "**Question 5 (Features)**\n",
    "\n",
    "Now create a dataframe of features from the `ira` data.  That is create a function `create_features` that takes in the `ira` data and returns a dataframe with the same index as `ira` (i.e. the rows correspond to the same tweets) and the following columns:\n",
    "* `num_hashtags` gives the number of hashtags present in a tweet,\n",
    "* `mc_hashtags` gives the most common hashtag associated to a tweet (as given by the problem above),\n",
    "* `num_tags` gives the number of tags a given tweet has (look for the presence of `@`),\n",
    "* `num_links` gives the number of hyper-links present in a given tweet \n",
    "    - (a hyper-link is a string starting with `http(s)://` not followed by whitespaces),\n",
    "* A boolean column `is_retweet` that describes if the given tweet is a retweet (i.e. `RT`),\n",
    "* A 'clean' text field `text` that contains the tweet text with:\n",
    "    - The non-alphanumeric characters removed (except spaces),\n",
    "    - All words should be separated by exactly one space,\n",
    "    - The characters all lowercase,\n",
    "    - All the meta-information above (Retweet info, tags, hyperlinks, hashtags) removed.\n",
    "\n",
    "*Note:* You should make a helper function for each column.\n",
    "\n",
    "*Note:* This will take a while to run on the entire dataset -- test it on a small sample first!"
   ]
  },
  {
   "cell_type": "code",
   "execution_count": 15,
   "metadata": {},
   "outputs": [],
   "source": [
    "fp = os.path.join('data', 'ira.csv')\n",
    "ira = pd.read_csv(fp, names=['id', 'name', 'date', 'text'])"
   ]
  },
  {
   "cell_type": "code",
   "execution_count": 16,
   "metadata": {},
   "outputs": [],
   "source": [
    "# ira['text'].sum()"
   ]
  },
  {
   "cell_type": "code",
   "execution_count": 17,
   "metadata": {},
   "outputs": [],
   "source": [
    "def hashtag_list2(tweet_text):# Not really needed??????????\n",
    "    \"\"\"Helper function to get the hashtag list\"\"\"\n",
    "    hashtag_pat = '(#(\\w+))' # Hash Tag pattern\n",
    "    prog = re.compile(hashtag_pat) # Compile\n",
    "    tup = tweet_text.apply(lambda x: prog.findall(x)) # Find all\n",
    "    tags = tup.apply(lambda x: [group[0] for group in x]) # Get full hashtags\n",
    "    return tags"
   ]
  },
  {
   "cell_type": "code",
   "execution_count": 18,
   "metadata": {},
   "outputs": [],
   "source": [
    "# hashtag_list2(tweet_text) # Done "
   ]
  },
  {
   "cell_type": "markdown",
   "metadata": {},
   "source": [
    "### ASK!"
   ]
  },
  {
   "cell_type": "code",
   "execution_count": 19,
   "metadata": {},
   "outputs": [],
   "source": [
    "def tag_list(tweet_text): # As long as there is a @, it would be a tag right???????????? ASK!!!!!!!!!!!!!!!!!!\n",
    "    \"\"\"Helper function to get the tag list\"\"\"\n",
    "    tag_pat = '@\\w+' # Hash Tag pattern\n",
    "    prog = re.compile(tag_pat) # Compile\n",
    "    tags = tweet_text.apply(lambda x: prog.findall(x)) # Find all\n",
    "    # tags = tup.apply(lambda x: [group[0] for group in x]) # Get full tags\n",
    "    return tags"
   ]
  },
  {
   "cell_type": "code",
   "execution_count": 20,
   "metadata": {},
   "outputs": [
    {
     "data": {
      "text/plain": [
       "0                              []\n",
       "1                 [@Philanthropy]\n",
       "2                              []\n",
       "3                              []\n",
       "4                [@dirtroaddiva1]\n",
       "                   ...           \n",
       "89995                          []\n",
       "89996                [@JefLeeson]\n",
       "89997    [@nealcarter, @thetrudz]\n",
       "89998             [@indigenous01]\n",
       "89999                          []\n",
       "Name: text, Length: 90000, dtype: object"
      ]
     },
     "execution_count": 20,
     "metadata": {},
     "output_type": "execute_result"
    }
   ],
   "source": [
    "tag_list(tweet_text) # Done"
   ]
  },
  {
   "cell_type": "markdown",
   "metadata": {},
   "source": [
    "### ASK!"
   ]
  },
  {
   "cell_type": "code",
   "execution_count": 21,
   "metadata": {},
   "outputs": [],
   "source": [
    "# Does 'https://t.…\"' also count as hyperlink??????????????????????????????????????\n",
    "def link_list(tweet_text): # My search turns out that there is no link followed by white spaces???????????? ASK!!!!!!!!!!!!\n",
    "    \"\"\"Helper function to get the hyperlink list\"\"\"\n",
    "    link_pat = 'https?:\\/\\/(?! )*.+ ' # Hash Tag pattern\n",
    "    prog = re.compile(link_pat) # Compile\n",
    "    links = tweet_text.apply(lambda x: prog.findall(x)) # Find all\n",
    "    return links"
   ]
  },
  {
   "cell_type": "code",
   "execution_count": 22,
   "metadata": {},
   "outputs": [],
   "source": [
    "def is_retweet(tweet_text):\n",
    "    \"\"\"Helper function to check if retweet\"\"\"\n",
    "    rt_pat = '^RT' # Hash Tag pattern\n",
    "    prog = re.compile(rt_pat) # Compile\n",
    "    rt = tweet_text.apply(lambda x: prog.findall(x)) # Find all\n",
    "    return rt.apply(lambda x: True if len(x) != 0 else False)"
   ]
  },
  {
   "cell_type": "code",
   "execution_count": null,
   "metadata": {},
   "outputs": [],
   "source": []
  },
  {
   "cell_type": "code",
   "execution_count": null,
   "metadata": {},
   "outputs": [],
   "source": []
  },
  {
   "cell_type": "code",
   "execution_count": 38,
   "metadata": {},
   "outputs": [],
   "source": [
    "def clean_text(tweet_text):\n",
    "    \"\"\"Helper function to clean single text string\"\"\"\n",
    "    remove_rt = re.sub(r'^RT', '', tweet_text) # Remove Retweet\n",
    "    remove_hash = re.sub(r'#\\w+', '', remove_rt) # Remove hashtags\n",
    "    remove_tags = re.sub(r'@\\w+', '', remove_hash) # Remove tags\n",
    "    remove_link = re.sub('https?:\\/\\/(?! )*.+ ', '', remove_tags) # Remove links\n",
    "    substitute = re.sub(r'[^A-Za-z0-9 ]', ' ', remove_link) # Remove non-alphanumeric\n",
    "    space = re.sub(r' +', ' ', substitute) # Fix space\n",
    "    lower = space.lower().strip() # Lowercase\n",
    "    return lower"
   ]
  },
  {
   "cell_type": "code",
   "execution_count": 24,
   "metadata": {},
   "outputs": [],
   "source": [
    "tweet_text = ira.sample(5)['text']\n",
    "tweet_lists = hashtag_list(tweet_text) # List of hashtags\n",
    "num_hashtags = tweet_lists.apply(len) # Number of hashtags\n",
    "mc_hashtags = most_common_hashtag(tweet_lists) # Most common hashtags\n",
    "num_tags = tag_list(tweet_text).apply(len) # Number of tags\n",
    "num_links = link_list(tweet_text).apply(len) # Number of links\n",
    "is_retweet = is_retweet(tweet_text) # If tweet is retweeted"
   ]
  },
  {
   "cell_type": "code",
   "execution_count": 43,
   "metadata": {},
   "outputs": [
    {
     "data": {
      "text/plain": [
       "'family reunion grandpa why is there plastic on your furniture leans in whispers grandma s a squirter'"
      ]
     },
     "execution_count": 43,
     "metadata": {},
     "output_type": "execute_result"
    }
   ],
   "source": [
    "tweet_text.apply(clean_text).iloc[3]"
   ]
  },
  {
   "cell_type": "code",
   "execution_count": 44,
   "metadata": {},
   "outputs": [
    {
     "data": {
      "text/plain": [
       "\"RT @phalguy: [Family reunion] Grandpa, why is there plastic on your furniture?  *leans in, whispers: Grandma's a squirter.\""
      ]
     },
     "execution_count": 44,
     "metadata": {},
     "output_type": "execute_result"
    }
   ],
   "source": [
    "ira.loc[68815]['text'] # 6180, 19425, 68815, 18094"
   ]
  },
  {
   "cell_type": "code",
   "execution_count": null,
   "metadata": {},
   "outputs": [],
   "source": []
  },
  {
   "cell_type": "code",
   "execution_count": 73,
   "metadata": {},
   "outputs": [],
   "source": [
    "def create_features(ira):\n",
    "    \"\"\"\n",
    "    :Example:\n",
    "    >>> testdata = [['RT @DSC80: Text-cleaning is cool! #NLP https://t.co/xsfdw88d #NLP1 #NLP1']]\n",
    "    >>> test = pd.DataFrame(testdata, columns=['text'])\n",
    "    >>> out = create_features(test)\n",
    "    >>> anscols = ['text', 'num_hashtags', 'mc_hashtags', 'num_tags', 'num_links', 'is_retweet']\n",
    "    >>> ansdata = [['text cleaning is cool', 3, 'NLP1', 1, 1, True]]\n",
    "    >>> ans = pd.DataFrame(ansdata, columns=anscols)\n",
    "    >>> (out == ans).all().all()\n",
    "    True\n",
    "    \"\"\"\n",
    "\n",
    "    def tag_list(tweet_text):\n",
    "        \"\"\"Helper function to get the tag list\"\"\"\n",
    "        tag_pat = '@\\w+' # Hash Tag pattern\n",
    "        prog = re.compile(tag_pat) # Compile\n",
    "        tags = tweet_text.apply(lambda x: prog.findall(x)) # Find all\n",
    "        # tags = tup.apply(lambda x: [group[0] for group in x]) # Get full tags\n",
    "        return tags\n",
    "\n",
    "    def link_list(tweet_text):\n",
    "        \"\"\"Helper function to get the hyperlink list\"\"\"\n",
    "        link_pat = 'https?:\\/\\/(?! )*.' # Hash Tag pattern\n",
    "        prog = re.compile(link_pat) # Compile\n",
    "        links = tweet_text.apply(lambda x: prog.findall(x)) # Find all\n",
    "        return links\n",
    "\n",
    "    def is_retweet(tweet_text):\n",
    "        \"\"\"Helper function to check if retweet\"\"\"\n",
    "        rt_pat = '^RT' # Hash Tag pattern\n",
    "        prog = re.compile(rt_pat) # Compile\n",
    "        rt = tweet_text.apply(lambda x: prog.findall(x)) # Find all\n",
    "        return rt.apply(lambda x: True if len(x) != 0 else False)\n",
    "\n",
    "    def clean_text(tweet_text):\n",
    "        \"\"\"Helper function to clean single text string\"\"\"\n",
    "        remove_rt = re.sub(r'^RT', '', tweet_text) # Remove Retweet\n",
    "        remove_hash = re.sub(r'#\\w+', '', remove_rt) # Remove hashtags\n",
    "        remove_tags = re.sub(r'@\\w+', '', remove_hash) # Remove tags\n",
    "        remove_link = re.sub('https?:\\/\\/(?! )*.+', '', remove_tags) # Remove links\n",
    "        substitute = re.sub(r'[^A-Za-z0-9 ]', ' ', remove_link) # Remove non-alphanumeric\n",
    "        space = re.sub(r' +', ' ', substitute) # Fix space\n",
    "        lower = space.lower().strip() # Lowercase\n",
    "        return lower\n",
    "\n",
    "    tweet_text = ira['text']\n",
    "    tweet_lists = hashtag_list(tweet_text) # List of hashtags\n",
    "    num_hashtags = tweet_lists.apply(len) # Number of hashtags\n",
    "    mc_hashtags = most_common_hashtag(tweet_lists) # Most common hashtags\n",
    "    num_tags = tag_list(tweet_text).apply(len) # Number of tags\n",
    "    num_links = link_list(tweet_text).apply(len) # Number of links\n",
    "    is_retweet = is_retweet(tweet_text) # If tweet is retweeted\n",
    "    text = tweet_text.apply(clean_text) # Cleaned text\n",
    "    \n",
    "    # Make dataframe\n",
    "    cols = ['num_hashtags', 'mc_hashtags', 'num_tags', 'num_links', 'is_retweet', 'text']\n",
    "    content = [num_hashtags, mc_hashtags, num_tags, num_links, is_retweet, text]\n",
    "    index = ira.index\n",
    "    return pd.DataFrame(dict(zip(cols, content)), index = ira.index)"
   ]
  },
  {
   "cell_type": "code",
   "execution_count": 90,
   "metadata": {},
   "outputs": [],
   "source": [
    "test = ira.sample(5)"
   ]
  },
  {
   "cell_type": "code",
   "execution_count": 91,
   "metadata": {},
   "outputs": [
    {
     "data": {
      "text/html": [
       "<div>\n",
       "<style scoped>\n",
       "    .dataframe tbody tr th:only-of-type {\n",
       "        vertical-align: middle;\n",
       "    }\n",
       "\n",
       "    .dataframe tbody tr th {\n",
       "        vertical-align: top;\n",
       "    }\n",
       "\n",
       "    .dataframe thead th {\n",
       "        text-align: right;\n",
       "    }\n",
       "</style>\n",
       "<table border=\"1\" class=\"dataframe\">\n",
       "  <thead>\n",
       "    <tr style=\"text-align: right;\">\n",
       "      <th></th>\n",
       "      <th>num_hashtags</th>\n",
       "      <th>mc_hashtags</th>\n",
       "      <th>num_tags</th>\n",
       "      <th>num_links</th>\n",
       "      <th>is_retweet</th>\n",
       "      <th>text</th>\n",
       "    </tr>\n",
       "  </thead>\n",
       "  <tbody>\n",
       "    <tr>\n",
       "      <th>22508</th>\n",
       "      <td>4</td>\n",
       "      <td>Peshmerga</td>\n",
       "      <td>0</td>\n",
       "      <td>2</td>\n",
       "      <td>False</td>\n",
       "      <td>dozens of militants killed in coalition airstr...</td>\n",
       "    </tr>\n",
       "    <tr>\n",
       "      <th>698</th>\n",
       "      <td>0</td>\n",
       "      <td>NaN</td>\n",
       "      <td>2</td>\n",
       "      <td>1</td>\n",
       "      <td>True</td>\n",
       "      <td>happy birthday to charliie from your angels wi...</td>\n",
       "    </tr>\n",
       "    <tr>\n",
       "      <th>8516</th>\n",
       "      <td>3</td>\n",
       "      <td>TheFourHorsemen</td>\n",
       "      <td>1</td>\n",
       "      <td>2</td>\n",
       "      <td>True</td>\n",
       "      <td>listen to the title track of the upcoming mash...</td>\n",
       "    </tr>\n",
       "    <tr>\n",
       "      <th>16318</th>\n",
       "      <td>0</td>\n",
       "      <td>NaN</td>\n",
       "      <td>4</td>\n",
       "      <td>0</td>\n",
       "      <td>True</td>\n",
       "      <td>and obama never showed up at a single one of t...</td>\n",
       "    </tr>\n",
       "    <tr>\n",
       "      <th>83762</th>\n",
       "      <td>1</td>\n",
       "      <td>Aleppo</td>\n",
       "      <td>1</td>\n",
       "      <td>1</td>\n",
       "      <td>False</td>\n",
       "      <td>the left sided against the u s with the soviet...</td>\n",
       "    </tr>\n",
       "  </tbody>\n",
       "</table>\n",
       "</div>"
      ],
      "text/plain": [
       "       num_hashtags      mc_hashtags  num_tags  num_links  is_retweet  \\\n",
       "22508             4        Peshmerga         0          2       False   \n",
       "698               0              NaN         2          1        True   \n",
       "8516              3  TheFourHorsemen         1          2        True   \n",
       "16318             0              NaN         4          0        True   \n",
       "83762             1           Aleppo         1          1       False   \n",
       "\n",
       "                                                    text  \n",
       "22508  dozens of militants killed in coalition airstr...  \n",
       "698    happy birthday to charliie from your angels wi...  \n",
       "8516   listen to the title track of the upcoming mash...  \n",
       "16318  and obama never showed up at a single one of t...  \n",
       "83762  the left sided against the u s with the soviet...  "
      ]
     },
     "execution_count": 91,
     "metadata": {},
     "output_type": "execute_result"
    }
   ],
   "source": [
    "out = create_features(test)\n",
    "out"
   ]
  },
  {
   "cell_type": "code",
   "execution_count": 94,
   "metadata": {},
   "outputs": [
    {
     "data": {
      "text/plain": [
       "'RT @denise_actress: @Heritage @Trumpocrats @DailySignal and Obama never showed up at a single one of their funerals'"
      ]
     },
     "execution_count": 94,
     "metadata": {},
     "output_type": "execute_result"
    }
   ],
   "source": [
    "t = test['text']\n",
    "t[16318]"
   ]
  },
  {
   "cell_type": "code",
   "execution_count": null,
   "metadata": {},
   "outputs": [],
   "source": []
  },
  {
   "cell_type": "code",
   "execution_count": 95,
   "metadata": {},
   "outputs": [
    {
     "name": "stdout",
     "output_type": "stream",
     "text": [
      "dozens of militants killed in coalition airstrikes shelling near\n",
      "happy birthday to charliie from your angels with love\n",
      "listen to the title track of the upcoming mashup album ft\n",
      "and obama never showed up at a single one of their funerals\n",
      "the left sided against the u s with the soviet union and now suddenly they re all tough on russia\n"
     ]
    }
   ],
   "source": [
    "for text in out['text']:\n",
    "    print(text)"
   ]
  },
  {
   "cell_type": "code",
   "execution_count": null,
   "metadata": {},
   "outputs": [],
   "source": []
  },
  {
   "cell_type": "markdown",
   "metadata": {},
   "source": [
    "### ASK!"
   ]
  },
  {
   "cell_type": "code",
   "execution_count": null,
   "metadata": {},
   "outputs": [],
   "source": [
    "# Help!!!!!!!!!!!!! ASK!!!!!!!!!!!!!!!!!!! Trying to get the link, but not successful here\n",
    "string = 'http://t.co/JESLKxfiu1 #AfricanArchitecture #Pyramids'\n",
    "link_pat = 'https?:\\/\\/(?! )*.+ ' # Hash Tag pattern\n",
    "# prog = re.compile(link_pat) # Compile\n",
    "# links = prog.findall(string) # Find all\n",
    "# links\n",
    "remove_hash = re.sub(r'#\\w+', '', string)\n",
    "remove_tags = re.sub(r'@\\w+', '', remove_hash)\n",
    "remove_link = re.sub('https?:\\/\\/(?! )*.+ ', '', remove_tags)\n",
    "remove_link"
   ]
  },
  {
   "cell_type": "code",
   "execution_count": null,
   "metadata": {},
   "outputs": [],
   "source": []
  },
  {
   "cell_type": "code",
   "execution_count": null,
   "metadata": {},
   "outputs": [],
   "source": []
  },
  {
   "cell_type": "code",
   "execution_count": null,
   "metadata": {},
   "outputs": [],
   "source": []
  },
  {
   "cell_type": "code",
   "execution_count": null,
   "metadata": {},
   "outputs": [],
   "source": []
  },
  {
   "cell_type": "code",
   "execution_count": null,
   "metadata": {},
   "outputs": [],
   "source": []
  },
  {
   "cell_type": "markdown",
   "metadata": {},
   "source": [
    "## Congratulations! You're done!\n",
    "\n",
    "* Submit the lab on Gradescope"
   ]
  },
  {
   "cell_type": "code",
   "execution_count": null,
   "metadata": {},
   "outputs": [],
   "source": []
  }
 ],
 "metadata": {
  "kernelspec": {
   "display_name": "Python 3",
   "language": "python",
   "name": "python3"
  },
  "language_info": {
   "codemirror_mode": {
    "name": "ipython",
    "version": 3
   },
   "file_extension": ".py",
   "mimetype": "text/x-python",
   "name": "python",
   "nbconvert_exporter": "python",
   "pygments_lexer": "ipython3",
   "version": "3.7.6"
  }
 },
 "nbformat": 4,
 "nbformat_minor": 2
}
