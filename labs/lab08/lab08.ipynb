{
 "cells": [
  {
   "cell_type": "markdown",
   "metadata": {},
   "source": [
    "# DSC 80: Lab 08\n",
    "\n",
    "### Due Date: Tuesday, March 2 Midnight (11:59pm)"
   ]
  },
  {
   "cell_type": "markdown",
   "metadata": {},
   "source": [
    "## Instructions\n",
    "Much like in DSC 10, this Jupyter Notebook contains the statements of the problems and provides code and markdown cells to display your answers to the problems. Unlike DSC 10, the notebook is *only* for displaying a readable version of your final answers. The coding work will be developed in an accompanying `lab*.py` file, that will be imported into the current notebook.\n",
    "\n",
    "Labs and programming assignments will be graded in (at most) two ways:\n",
    "1. The functions and classes in the accompanying python file will be tested (a la DSC 20),\n",
    "2. The notebook will be graded (for graphs and free response questions).\n",
    "\n",
    "**Do not change the function names in the `*.py` file**\n",
    "- The functions in the `*.py` file are how your assignment is graded, and they are graded by their name. The dictionary at the end of the file (`GRADED FUNCTIONS`) contains the \"grading list\". The final function in the file allows your doctests to check that all the necessary functions exist.\n",
    "- If you changed something you weren't supposed to, just use git to revert!\n",
    "\n",
    "**Tips for working in the Notebook**:\n",
    "- The notebooks serve to present you the questions and give you a place to present your results for later review.\n",
    "- The notebook on *lab assignments* are not graded (only the `.py` file).\n",
    "- Notebooks for PAs will serve as a final report for the assignment, and contain conclusions and answers to open ended questions that are graded.\n",
    "- The notebook serves as a nice environment for 'pre-development' and experimentation before designing your function in your `.py` file.\n",
    "\n",
    "**Tips for developing in the .py file**:\n",
    "- Do not change the function names in the starter code; grading is done using these function names.\n",
    "- Do not change the docstrings in the functions. These are there to tell you if your work is on the right track!\n",
    "- You are encouraged to write your own additional functions to solve the lab! \n",
    "    - Developing in python usually consists of larger files, with many short functions.\n",
    "    - You may write your other functions in an additional `.py` file that you import in `lab**.py` (much like we do in the notebook).\n",
    "- Always document your code!"
   ]
  },
  {
   "cell_type": "markdown",
   "metadata": {},
   "source": [
    "### Importing code from `lab**.py`\n",
    "\n",
    "* We import our `.py` file that's contained in the same directory as this notebook.\n",
    "* We use the `autoreload` notebook extension to make changes to our `lab**.py` file immediately available in our notebook. Without this extension, we would need to restart the notebook kernel to see any changes to `lab**.py` in the notebook.\n",
    "    - `autoreload` is necessary because, upon import, `lab**.py` is compiled to bytecode (in the directory `__pycache__`). Subsequent imports of `lab**` merely import the existing compiled python."
   ]
  },
  {
   "cell_type": "code",
   "execution_count": 1,
   "metadata": {},
   "outputs": [],
   "source": [
    "%load_ext autoreload\n",
    "%autoreload 2"
   ]
  },
  {
   "cell_type": "code",
   "execution_count": 2,
   "metadata": {},
   "outputs": [],
   "source": [
    "import lab08 as lab"
   ]
  },
  {
   "cell_type": "code",
   "execution_count": 3,
   "metadata": {},
   "outputs": [],
   "source": [
    "%matplotlib inline\n",
    "import pandas as pd\n",
    "import numpy as np\n",
    "import matplotlib.pyplot as plt\n",
    "import seaborn as sns\n",
    "import os\n",
    "import scipy"
   ]
  },
  {
   "cell_type": "markdown",
   "metadata": {},
   "source": [
    "# Scaling Transformations: log vs square root\n",
    "\n",
    "**Question 1**\n",
    "\n",
    "A scaling transformation transforms the scale of the data of a particular quantitative column. Mathematically, each data point $x_i$ is replaced with the transformed value $y_i = f(x_i)$, where $f$ is a transformation function. In general, it is not easy to select a good transformation for a given prediction problem. There are many transformations to choose from and each has a different mathematical intuition. \n",
    "\n",
    "Generally, the goal of a scaling transformation is to change the data from a complicated, non-linear relationship into a *linear* relationship. Linear relationships are very easy to understand and easily used by models (e.g. linear regression).\n",
    "\n",
    "Non-linear growth is a commonly seen relationship in data. Sometimes this growth is *exponential* and sometimes it is by a *fixed power*. The scaling transformations that turn these types of growth linear are *log* and *root* transformations respectively.\n",
    "\n",
    "In this problem you need to decide what transformation can be applied to a given dataset in order to make the relationship as *linear as possible*.\n",
    "\n",
    "\n",
    "* To practice: create a dataframe consisting of the numbers $1$ to $99$ squared and plot the values. Then apply the square root transformation, add another column to the original dataframe and plot the columns side by side. What change do you observe?  \n",
    "\n",
    "* Now repeat exactly the same steps but this time create a dataframe with an exponential distribution by raising the value `e` to the powers 1 to 99. Plot these values, perform a log transformation and plot the results, as above. What did you observe?\n",
    "\n",
    "* Let's apply these ideas to the real dataset `homeruns`. You are given a MLB home run dataset with 120 yearly observations from 1900 to 2019. It includes a count of the number of [home runs](http://m.mlb.com/glossary/standard-stats/home-run) hit each year. You need to decide what transformation works better for this dataset: square root or a log transformation. \n",
    "\n",
    "*Note (A few helpful hints)*: \n",
    "* You may find `sns.regplot` and `scipy.stats.linregress` useful for judging the effectiveness of your transformations! \n",
    "* Recall that a well fit linear model has no patterns in it's residuals -- `sns.residplot` can help with this decision.\n",
    "* If you need a refresher on correlation coefficients, see [DSC10](https://www.inferentialthinking.com/chapters/15/1/Correlation.html) as well as the Discussion 08 notebook.\n",
    "\n",
    "Create a function `best_transformation` that returns an integer with the value corresponding to the following choices:\n",
    "\n",
    "1. Square root transformation.\n",
    "2. Log transformation\n",
    "3. Both work the same.\n",
    "4. Neither gives a transformation revealing a linear relationship. \n"
   ]
  },
  {
   "cell_type": "markdown",
   "metadata": {},
   "source": [
    "# ASK!!!! \n",
    "## Not sure what this question is doing???? Best in terms of R? "
   ]
  },
  {
   "cell_type": "code",
   "execution_count": 4,
   "metadata": {},
   "outputs": [
    {
     "data": {
      "text/plain": [
       "<matplotlib.axes._subplots.AxesSubplot at 0x7f82cc25fa20>"
      ]
     },
     "execution_count": 4,
     "metadata": {},
     "output_type": "execute_result"
    },
    {
     "data": {
      "image/png": "[encoded data removed]",
      "text/plain": [
       "<Figure size 432x288 with 1 Axes>"
      ]
     },
     "metadata": {
      "needs_background": "light"
     },
     "output_type": "display_data"
    }
   ],
   "source": [
    "# Test - Square\n",
    "data = {'Val':np.arange(1, 100), 'Val Sq':np.arange(1, 100) ** 2}\n",
    "square = pd.DataFrame(data)\n",
    "square.plot()"
   ]
  },
  {
   "cell_type": "code",
   "execution_count": 5,
   "metadata": {},
   "outputs": [
    {
     "data": {
      "text/plain": [
       "<matplotlib.axes._subplots.AxesSubplot at 0x7f82cc15ccf8>"
      ]
     },
     "execution_count": 5,
     "metadata": {},
     "output_type": "execute_result"
    },
    {
     "data": {
      "image/png": "[encoded data removed]",
      "text/plain": [
       "<Figure size 432x288 with 1 Axes>"
      ]
     },
     "metadata": {
      "needs_background": "light"
     },
     "output_type": "display_data"
    }
   ],
   "source": [
    "# Test - Log\n",
    "data = {'Val':np.arange(1, 100), 'Val Log':np.exp(np.arange(1, 100))}\n",
    "square = pd.DataFrame(data)\n",
    "square.plot()"
   ]
  },
  {
   "cell_type": "code",
   "execution_count": 6,
   "metadata": {},
   "outputs": [],
   "source": [
    "homeruns_fp = os.path.join('data', 'homeruns.csv')\n",
    "homeruns = pd.read_csv(homeruns_fp)"
   ]
  },
  {
   "cell_type": "code",
   "execution_count": 7,
   "metadata": {},
   "outputs": [
    {
     "data": {
      "text/html": [
       "<div>\n",
       "<style scoped>\n",
       "    .dataframe tbody tr th:only-of-type {\n",
       "        vertical-align: middle;\n",
       "    }\n",
       "\n",
       "    .dataframe tbody tr th {\n",
       "        vertical-align: top;\n",
       "    }\n",
       "\n",
       "    .dataframe thead th {\n",
       "        text-align: right;\n",
       "    }\n",
       "</style>\n",
       "<table border=\"1\" class=\"dataframe\">\n",
       "  <thead>\n",
       "    <tr style=\"text-align: right;\">\n",
       "      <th></th>\n",
       "      <th>Year</th>\n",
       "      <th>Homeruns</th>\n",
       "    </tr>\n",
       "  </thead>\n",
       "  <tbody>\n",
       "    <tr>\n",
       "      <th>0</th>\n",
       "      <td>1900</td>\n",
       "      <td>254</td>\n",
       "    </tr>\n",
       "    <tr>\n",
       "      <th>1</th>\n",
       "      <td>1901</td>\n",
       "      <td>455</td>\n",
       "    </tr>\n",
       "    <tr>\n",
       "      <th>2</th>\n",
       "      <td>1902</td>\n",
       "      <td>354</td>\n",
       "    </tr>\n",
       "    <tr>\n",
       "      <th>3</th>\n",
       "      <td>1903</td>\n",
       "      <td>335</td>\n",
       "    </tr>\n",
       "    <tr>\n",
       "      <th>4</th>\n",
       "      <td>1904</td>\n",
       "      <td>331</td>\n",
       "    </tr>\n",
       "  </tbody>\n",
       "</table>\n",
       "</div>"
      ],
      "text/plain": [
       "   Year  Homeruns\n",
       "0  1900       254\n",
       "1  1901       455\n",
       "2  1902       354\n",
       "3  1903       335\n",
       "4  1904       331"
      ]
     },
     "execution_count": 7,
     "metadata": {},
     "output_type": "execute_result"
    }
   ],
   "source": [
    "homeruns.head()"
   ]
  },
  {
   "cell_type": "code",
   "execution_count": 8,
   "metadata": {},
   "outputs": [
    {
     "data": {
      "text/plain": [
       "LinregressResult(slope=46.85801791791097, intercept=-89327.73611014655, rvalue=0.9557604405463247, pvalue=1.4957133568538366e-64, stderr=1.3275689460582019)"
      ]
     },
     "execution_count": 8,
     "metadata": {},
     "output_type": "execute_result"
    }
   ],
   "source": [
    "scipy.stats.linregress(homeruns)"
   ]
  },
  {
   "cell_type": "code",
   "execution_count": 9,
   "metadata": {},
   "outputs": [
    {
     "data": {
      "text/plain": [
       "<matplotlib.axes._subplots.AxesSubplot at 0x7f82cc0d2b70>"
      ]
     },
     "execution_count": 9,
     "metadata": {},
     "output_type": "execute_result"
    },
    {
     "data": {
      "image/png": "[encoded data removed]",
      "text/plain": [
       "<Figure size 432x288 with 1 Axes>"
      ]
     },
     "metadata": {
      "needs_background": "light"
     },
     "output_type": "display_data"
    }
   ],
   "source": [
    "sns.regplot(data=homeruns, x='Year', y='Homeruns')"
   ]
  },
  {
   "cell_type": "code",
   "execution_count": 10,
   "metadata": {},
   "outputs": [
    {
     "data": {
      "text/plain": [
       "<matplotlib.axes._subplots.AxesSubplot at 0x7f82cc06b5f8>"
      ]
     },
     "execution_count": 10,
     "metadata": {},
     "output_type": "execute_result"
    },
    {
     "data": {
      "image/png": "[encoded data removed]",
      "text/plain": [
       "<Figure size 432x288 with 1 Axes>"
      ]
     },
     "metadata": {
      "needs_background": "light"
     },
     "output_type": "display_data"
    }
   ],
   "source": [
    "sns.residplot(data=homeruns, x='Year', y='Homeruns')"
   ]
  },
  {
   "cell_type": "markdown",
   "metadata": {},
   "source": [
    "### Log Transformation"
   ]
  },
  {
   "cell_type": "code",
   "execution_count": 11,
   "metadata": {},
   "outputs": [],
   "source": [
    "log = homeruns.copy()\n",
    "log['Homeruns'] = log['Homeruns'].apply(np.log)"
   ]
  },
  {
   "cell_type": "code",
   "execution_count": 12,
   "metadata": {},
   "outputs": [
    {
     "data": {
      "text/plain": [
       "LinregressResult(slope=0.02461719558857972, intercept=-40.73942975083988, rvalue=0.9442735182825754, pvalue=8.787444983618044e-59, stderr=0.000789967556045467)"
      ]
     },
     "execution_count": 12,
     "metadata": {},
     "output_type": "execute_result"
    }
   ],
   "source": [
    "scipy.stats.linregress(log)"
   ]
  },
  {
   "cell_type": "code",
   "execution_count": 13,
   "metadata": {},
   "outputs": [
    {
     "data": {
      "text/plain": [
       "<matplotlib.axes._subplots.AxesSubplot at 0x7f82c07481d0>"
      ]
     },
     "execution_count": 13,
     "metadata": {},
     "output_type": "execute_result"
    },
    {
     "data": {
      "image/png": "[encoded data removed]",
      "text/plain": [
       "<Figure size 432x288 with 1 Axes>"
      ]
     },
     "metadata": {
      "needs_background": "light"
     },
     "output_type": "display_data"
    }
   ],
   "source": [
    "sns.regplot(data=log, x='Year', y='Homeruns')"
   ]
  },
  {
   "cell_type": "code",
   "execution_count": 14,
   "metadata": {},
   "outputs": [
    {
     "data": {
      "text/plain": [
       "<matplotlib.axes._subplots.AxesSubplot at 0x7f82c06e6470>"
      ]
     },
     "execution_count": 14,
     "metadata": {},
     "output_type": "execute_result"
    },
    {
     "data": {
      "image/png": "[encoded data removed]",
      "text/plain": [
       "<Figure size 432x288 with 1 Axes>"
      ]
     },
     "metadata": {
      "needs_background": "light"
     },
     "output_type": "display_data"
    }
   ],
   "source": [
    "sns.residplot(data=log, x='Year', y='Homeruns')"
   ]
  },
  {
   "cell_type": "code",
   "execution_count": null,
   "metadata": {},
   "outputs": [],
   "source": []
  },
  {
   "cell_type": "markdown",
   "metadata": {},
   "source": [
    "### Square Root Transformation"
   ]
  },
  {
   "cell_type": "code",
   "execution_count": 127,
   "metadata": {},
   "outputs": [
    {
     "data": {
      "text/plain": [
       "0      15.937377\n",
       "1      21.330729\n",
       "2      18.814888\n",
       "3      18.303005\n",
       "4      18.193405\n",
       "         ...    \n",
       "115    70.064256\n",
       "116    74.899933\n",
       "117    78.134499\n",
       "118    74.732858\n",
       "119    82.316463\n",
       "Name: Homeruns, Length: 120, dtype: float64"
      ]
     },
     "execution_count": 127,
     "metadata": {},
     "output_type": "execute_result"
    }
   ],
   "source": [
    "sqrt = homeruns.copy()\n",
    "sqrt['Homeruns'] = sqrt['Homeruns'].apply(np.sqrt)\n",
    "sqrt['Homeruns']"
   ]
  },
  {
   "cell_type": "code",
   "execution_count": 16,
   "metadata": {},
   "outputs": [
    {
     "data": {
      "text/plain": [
       "LinregressResult(slope=0.5066406225988712, intercept=-946.237670462341, rvalue=0.9719878986889177, pvalue=4.676843532127833e-76, stderr=0.011277766903363394)"
      ]
     },
     "execution_count": 16,
     "metadata": {},
     "output_type": "execute_result"
    }
   ],
   "source": [
    "scipy.stats.linregress(sqrt)"
   ]
  },
  {
   "cell_type": "code",
   "execution_count": 17,
   "metadata": {},
   "outputs": [
    {
     "data": {
      "text/plain": [
       "<matplotlib.axes._subplots.AxesSubplot at 0x7f82c0653390>"
      ]
     },
     "execution_count": 17,
     "metadata": {},
     "output_type": "execute_result"
    },
    {
     "data": {
      "image/png": "[encoded data removed]",
      "text/plain": [
       "<Figure size 432x288 with 1 Axes>"
      ]
     },
     "metadata": {
      "needs_background": "light"
     },
     "output_type": "display_data"
    }
   ],
   "source": [
    "sns.regplot(data=sqrt, x='Year', y='Homeruns')"
   ]
  },
  {
   "cell_type": "code",
   "execution_count": 18,
   "metadata": {},
   "outputs": [
    {
     "data": {
      "text/plain": [
       "<matplotlib.axes._subplots.AxesSubplot at 0x7f82c0631860>"
      ]
     },
     "execution_count": 18,
     "metadata": {},
     "output_type": "execute_result"
    },
    {
     "data": {
      "image/png": "[encoded data removed]",
      "text/plain": [
       "<Figure size 432x288 with 1 Axes>"
      ]
     },
     "metadata": {
      "needs_background": "light"
     },
     "output_type": "display_data"
    }
   ],
   "source": [
    "sns.residplot(data=sqrt, x='Year', y='Homeruns')"
   ]
  },
  {
   "cell_type": "code",
   "execution_count": null,
   "metadata": {},
   "outputs": [],
   "source": []
  },
  {
   "cell_type": "code",
   "execution_count": null,
   "metadata": {},
   "outputs": [],
   "source": []
  },
  {
   "cell_type": "code",
   "execution_count": 19,
   "metadata": {},
   "outputs": [],
   "source": [
    "def best_transformation():\n",
    "    \"\"\"\n",
    "    Returns an integer corresponding to the correct option.\n",
    "\n",
    "    :Example:\n",
    "    >>> best_transformation() in [1,2,3,4]\n",
    "    True\n",
    "    \"\"\"\n",
    "\n",
    "    # take log and square root of the dataset\n",
    "    # look at the fit of the regression line (and R^2)\n",
    "\n",
    "    return 1\n"
   ]
  },
  {
   "cell_type": "code",
   "execution_count": null,
   "metadata": {},
   "outputs": [],
   "source": []
  },
  {
   "cell_type": "markdown",
   "metadata": {},
   "source": [
    "# Diamond Pricing \n",
    "\n",
    "The next problems deal with predicting the price of a diamond based on standard measured properties of diamonds. You will use linear regression to predict the price, while improving the quality of your predictions using *feature engineering*.\n",
    "\n",
    "Since this question is supposed to help you understand feature engineering, **you will be building these features from scratch**, instead of using the built in `sklearn` or `pandas` methods.\n",
    "\n",
    "The diamond dataset is downloaded using `seaborn`, via `sns.load_dataset('diamonds')`. The dataset is a DataFrame with 53940 rows and 10 variables:\n",
    "\n",
    "|column|description|\n",
    "|---|---|\n",
    "|price|price in US dollars (326 - 18,823 USD)|\n",
    "|carat|weight of the diamond (0.2 - 5.01)|\n",
    "|cut|quality of the cut (Fair, Good, Very Good, Premium, Ideal)|\n",
    "|color|diamond colour, from J (worst) to D (best)|\n",
    "|clarity|a measurement of how clear the diamond is (I1 (worst), SI2, SI1, VS2, VS1, VVS2, VVS1, IF (best))|\n",
    "|x|length in mm (0 - 10.74)|\n",
    "|y|width in mm (0 - 58.9)|\n",
    "|z|depth in mm (0 - 31.8)|\n",
    "|depth|total depth percentage = z / mean(x, y) = 2 * z / (x + y) (43 - 79)|\n",
    "|table|width of top of diamond relative to widest point (43 - 95)|"
   ]
  },
  {
   "cell_type": "code",
   "execution_count": 129,
   "metadata": {},
   "outputs": [
    {
     "data": {
      "text/html": [
       "<div>\n",
       "<style scoped>\n",
       "    .dataframe tbody tr th:only-of-type {\n",
       "        vertical-align: middle;\n",
       "    }\n",
       "\n",
       "    .dataframe tbody tr th {\n",
       "        vertical-align: top;\n",
       "    }\n",
       "\n",
       "    .dataframe thead th {\n",
       "        text-align: right;\n",
       "    }\n",
       "</style>\n",
       "<table border=\"1\" class=\"dataframe\">\n",
       "  <thead>\n",
       "    <tr style=\"text-align: right;\">\n",
       "      <th></th>\n",
       "      <th>carat</th>\n",
       "      <th>cut</th>\n",
       "      <th>color</th>\n",
       "      <th>clarity</th>\n",
       "      <th>depth</th>\n",
       "      <th>table</th>\n",
       "      <th>price</th>\n",
       "      <th>x</th>\n",
       "      <th>y</th>\n",
       "      <th>z</th>\n",
       "    </tr>\n",
       "  </thead>\n",
       "  <tbody>\n",
       "    <tr>\n",
       "      <th>0</th>\n",
       "      <td>0.23</td>\n",
       "      <td>Ideal</td>\n",
       "      <td>E</td>\n",
       "      <td>SI2</td>\n",
       "      <td>61.5</td>\n",
       "      <td>55.0</td>\n",
       "      <td>326</td>\n",
       "      <td>3.95</td>\n",
       "      <td>3.98</td>\n",
       "      <td>2.43</td>\n",
       "    </tr>\n",
       "    <tr>\n",
       "      <th>1</th>\n",
       "      <td>0.21</td>\n",
       "      <td>Premium</td>\n",
       "      <td>E</td>\n",
       "      <td>SI1</td>\n",
       "      <td>59.8</td>\n",
       "      <td>61.0</td>\n",
       "      <td>326</td>\n",
       "      <td>3.89</td>\n",
       "      <td>3.84</td>\n",
       "      <td>2.31</td>\n",
       "    </tr>\n",
       "    <tr>\n",
       "      <th>2</th>\n",
       "      <td>0.23</td>\n",
       "      <td>Good</td>\n",
       "      <td>E</td>\n",
       "      <td>VS1</td>\n",
       "      <td>56.9</td>\n",
       "      <td>65.0</td>\n",
       "      <td>327</td>\n",
       "      <td>4.05</td>\n",
       "      <td>4.07</td>\n",
       "      <td>2.31</td>\n",
       "    </tr>\n",
       "    <tr>\n",
       "      <th>3</th>\n",
       "      <td>0.29</td>\n",
       "      <td>Premium</td>\n",
       "      <td>I</td>\n",
       "      <td>VS2</td>\n",
       "      <td>62.4</td>\n",
       "      <td>58.0</td>\n",
       "      <td>334</td>\n",
       "      <td>4.20</td>\n",
       "      <td>4.23</td>\n",
       "      <td>2.63</td>\n",
       "    </tr>\n",
       "    <tr>\n",
       "      <th>4</th>\n",
       "      <td>0.31</td>\n",
       "      <td>Good</td>\n",
       "      <td>J</td>\n",
       "      <td>SI2</td>\n",
       "      <td>63.3</td>\n",
       "      <td>58.0</td>\n",
       "      <td>335</td>\n",
       "      <td>4.34</td>\n",
       "      <td>4.35</td>\n",
       "      <td>2.75</td>\n",
       "    </tr>\n",
       "  </tbody>\n",
       "</table>\n",
       "</div>"
      ],
      "text/plain": [
       "   carat      cut color clarity  depth  table  price     x     y     z\n",
       "0   0.23    Ideal     E     SI2   61.5   55.0    326  3.95  3.98  2.43\n",
       "1   0.21  Premium     E     SI1   59.8   61.0    326  3.89  3.84  2.31\n",
       "2   0.23     Good     E     VS1   56.9   65.0    327  4.05  4.07  2.31\n",
       "3   0.29  Premium     I     VS2   62.4   58.0    334  4.20  4.23  2.63\n",
       "4   0.31     Good     J     SI2   63.3   58.0    335  4.34  4.35  2.75"
      ]
     },
     "execution_count": 129,
     "metadata": {},
     "output_type": "execute_result"
    }
   ],
   "source": [
    "diamonds = sns.load_dataset('diamonds')\n",
    "diamonds.head()"
   ]
  },
  {
   "cell_type": "code",
   "execution_count": null,
   "metadata": {},
   "outputs": [],
   "source": []
  },
  {
   "cell_type": "markdown",
   "metadata": {},
   "source": [
    "### Ordinal Encoding\n",
    "\n",
    "**Question 2**\n",
    "\n",
    "Every categorical variable in the dataset is an ordinal column. Recall that *ordinal encoding* is a feature transformation that maps the values of an ordinal column to the natural numbers (preserving the order of the column values). Create a function `create_ordinal` that takes in `diamonds` and returns a dataframe of ordinal features with names `ordinal_<col>` where `<col>` is the original categorical column name.\n",
    "\n",
    "*Note*: Remember, you are creating this function using basic pandas. You should create a helper function that takes in a single column and an ordering for that column!"
   ]
  },
  {
   "cell_type": "code",
   "execution_count": 130,
   "metadata": {},
   "outputs": [
    {
     "name": "stdout",
     "output_type": "stream",
     "text": [
      "<class 'pandas.core.frame.DataFrame'>\n",
      "RangeIndex: 53940 entries, 0 to 53939\n",
      "Data columns (total 10 columns):\n",
      "carat      53940 non-null float64\n",
      "cut        53940 non-null object\n",
      "color      53940 non-null object\n",
      "clarity    53940 non-null object\n",
      "depth      53940 non-null float64\n",
      "table      53940 non-null float64\n",
      "price      53940 non-null int64\n",
      "x          53940 non-null float64\n",
      "y          53940 non-null float64\n",
      "z          53940 non-null float64\n",
      "dtypes: float64(6), int64(1), object(3)\n",
      "memory usage: 4.1+ MB\n"
     ]
    }
   ],
   "source": [
    "diamonds.info()"
   ]
  },
  {
   "cell_type": "code",
   "execution_count": 131,
   "metadata": {},
   "outputs": [],
   "source": [
    "df = diamonds.copy()\n",
    "\n",
    "# Helper function to change categorical into ordinal number\n",
    "def cat2ordinal(col, order):\n",
    "    name = 'ordinal_' + col.name # Name of column\n",
    "    ordinal = []\n",
    "    for elem in col: # Loop through elem in col\n",
    "        for ind in range(len(order)): # Loop through order\n",
    "            if elem == order[ind]:\n",
    "                ordinal.append(ind)\n",
    "                break # Break out for next elem\n",
    "    \n",
    "    return pd.Series(ordinal, index=col.index, name=name)\n",
    "\n",
    "# Order of ordinal columns\n",
    "cut_order = ['Fair', 'Good', 'Very Good', 'Premium', 'Ideal'] # 5\n",
    "color_order = ['J', 'I', 'H', 'G' , 'F', 'E', 'D'] # 7\n",
    "clarity_order = ['I1', 'SI2', 'SI1', 'VS2', 'VS1', 'VVS2', 'VVS1', 'IF'] # 8\n",
    "\n",
    "# Get ordinal data\n",
    "cut_ordinal = cat2ordinal(df['cut'], cut_order)\n",
    "color_ordinal = cat2ordinal(df['color'], color_order)\n",
    "clarity_ordinal = cat2ordinal(df['clarity'], clarity_order)\n",
    "\n",
    "out = pd.DataFrame(data=[cut_ordinal, color_ordinal, clarity_ordinal]).T"
   ]
  },
  {
   "cell_type": "markdown",
   "metadata": {},
   "source": [
    "### Test"
   ]
  },
  {
   "cell_type": "code",
   "execution_count": 140,
   "metadata": {},
   "outputs": [
    {
     "data": {
      "text/html": [
       "<div>\n",
       "<style scoped>\n",
       "    .dataframe tbody tr th:only-of-type {\n",
       "        vertical-align: middle;\n",
       "    }\n",
       "\n",
       "    .dataframe tbody tr th {\n",
       "        vertical-align: top;\n",
       "    }\n",
       "\n",
       "    .dataframe thead th {\n",
       "        text-align: right;\n",
       "    }\n",
       "</style>\n",
       "<table border=\"1\" class=\"dataframe\">\n",
       "  <thead>\n",
       "    <tr style=\"text-align: right;\">\n",
       "      <th></th>\n",
       "      <th>ordinal_cut</th>\n",
       "      <th>ordinal_color</th>\n",
       "      <th>ordinal_clarity</th>\n",
       "    </tr>\n",
       "  </thead>\n",
       "  <tbody>\n",
       "    <tr>\n",
       "      <th>11394</th>\n",
       "      <td>2</td>\n",
       "      <td>1</td>\n",
       "      <td>5</td>\n",
       "    </tr>\n",
       "    <tr>\n",
       "      <th>27747</th>\n",
       "      <td>4</td>\n",
       "      <td>3</td>\n",
       "      <td>7</td>\n",
       "    </tr>\n",
       "    <tr>\n",
       "      <th>6502</th>\n",
       "      <td>0</td>\n",
       "      <td>4</td>\n",
       "      <td>2</td>\n",
       "    </tr>\n",
       "    <tr>\n",
       "      <th>10636</th>\n",
       "      <td>4</td>\n",
       "      <td>0</td>\n",
       "      <td>2</td>\n",
       "    </tr>\n",
       "    <tr>\n",
       "      <th>23195</th>\n",
       "      <td>0</td>\n",
       "      <td>2</td>\n",
       "      <td>1</td>\n",
       "    </tr>\n",
       "  </tbody>\n",
       "</table>\n",
       "</div>"
      ],
      "text/plain": [
       "       ordinal_cut  ordinal_color  ordinal_clarity\n",
       "11394            2              1                5\n",
       "27747            4              3                7\n",
       "6502             0              4                2\n",
       "10636            4              0                2\n",
       "23195            0              2                1"
      ]
     },
     "execution_count": 140,
     "metadata": {},
     "output_type": "execute_result"
    }
   ],
   "source": [
    "out.sample(5)"
   ]
  },
  {
   "cell_type": "code",
   "execution_count": 141,
   "metadata": {},
   "outputs": [
    {
     "data": {
      "text/plain": [
       "cut        Ideal\n",
       "color          G\n",
       "clarity       IF\n",
       "Name: 27747, dtype: object"
      ]
     },
     "execution_count": 141,
     "metadata": {},
     "output_type": "execute_result"
    }
   ],
   "source": [
    "diamonds.loc[27747, ['cut', 'color', 'clarity']]"
   ]
  },
  {
   "cell_type": "markdown",
   "metadata": {},
   "source": [
    "### Test"
   ]
  },
  {
   "cell_type": "code",
   "execution_count": null,
   "metadata": {},
   "outputs": [],
   "source": []
  },
  {
   "cell_type": "code",
   "execution_count": 25,
   "metadata": {},
   "outputs": [],
   "source": [
    "def create_ordinal(df):\n",
    "    \"\"\"\n",
    "    create_ordinal takes in diamonds and returns a dataframe of ordinal\n",
    "    features with names ordinal_<col> where <col> is the original\n",
    "    categorical column name.\n",
    "\n",
    "    :Example:\n",
    "    >>> diamonds = sns.load_dataset('diamonds')\n",
    "    >>> out = create_ordinal(diamonds)\n",
    "    >>> set(out.columns) == {'ordinal_cut', 'ordinal_clarity', 'ordinal_color'}\n",
    "    True\n",
    "    >>> np.unique(out['ordinal_cut']).tolist() == [0, 1, 2, 3, 4]\n",
    "    True\n",
    "    \"\"\"\n",
    "    # Helper function to change categorical into ordinal number\n",
    "    def cat2ordinal(col, order):\n",
    "        name = 'ordinal_' + col.name # Name of column\n",
    "        ordinal = []\n",
    "        for elem in col: # Loop through elem in col\n",
    "            for ind in range(len(order)): # Loop through order\n",
    "                if elem == order[ind]:\n",
    "                    ordinal.append(ind)\n",
    "                    break # Break out for next elem\n",
    "\n",
    "        return pd.Series(ordinal, index=col.index, name=name)\n",
    "\n",
    "    # Order of ordinal columns\n",
    "    cut_order = ['Fair', 'Good', 'Very Good', 'Premium', 'Ideal']\n",
    "    color_order = ['J', 'I', 'H', 'G' , 'F', 'E', 'D']\n",
    "    clarity_order = ['I1', 'SI2', 'SI1', 'VS2', 'VS1', 'VVS2', 'VVS1', 'IF']\n",
    "\n",
    "    # Get ordinal data\n",
    "    cut_ordinal = cat2ordinal(df['cut'], cut_order)\n",
    "    color_ordinal = cat2ordinal(df['color'], color_order)\n",
    "    clarity_ordinal = cat2ordinal(df['clarity'], clarity_order)\n",
    "\n",
    "    out = pd.DataFrame(data=[cut_ordinal, color_ordinal, clarity_ordinal]).T\n",
    "    return out"
   ]
  },
  {
   "cell_type": "code",
   "execution_count": 142,
   "metadata": {},
   "outputs": [
    {
     "data": {
      "text/plain": [
       "True"
      ]
     },
     "execution_count": 142,
     "metadata": {},
     "output_type": "execute_result"
    }
   ],
   "source": [
    "# Test output of py\n",
    "create_ordinal(df).equals(lab.create_ordinal(df))"
   ]
  },
  {
   "cell_type": "code",
   "execution_count": null,
   "metadata": {},
   "outputs": [],
   "source": []
  },
  {
   "cell_type": "markdown",
   "metadata": {},
   "source": [
    "### Nominal Encoding \n",
    "\n",
    "**Question 3**\n",
    "\n",
    "**One-hot encoding**\n",
    "\n",
    "Even though the categorical variables in the dataset are ordinal, we can still treat them as nominal by forgetting about the ordering of the columns. Treating the categorical columns as nominal, we might one-hot encode them. \n",
    "\n",
    "Create a function `create_one_hot` that takes in `diamonds` and returns a dataframe of one-hot encoded features with names `one_hot_<col>_<val>` where `<col>` is the original categorical column name, and `<val>` is the value found in the categorical column `<col>`.\n",
    "\n",
    "*Note 1:* Create a helper function that creates the one-hot encoding for a single column. **Do not** use `sklearn` or `pd.get_dummies` for this question!\n",
    "\n",
    "*Note 2:* The code in lecture for one-hot-encoding is inefficient and simply there to illustrate how it works. Make sure this function you create is optimized otherwise it will timeout on gradescope."
   ]
  },
  {
   "cell_type": "markdown",
   "metadata": {},
   "source": [
    "### Use sklearn"
   ]
  },
  {
   "cell_type": "code",
   "execution_count": 143,
   "metadata": {},
   "outputs": [],
   "source": [
    "from sklearn.preprocessing import OneHotEncoder"
   ]
  },
  {
   "cell_type": "code",
   "execution_count": 144,
   "metadata": {},
   "outputs": [
    {
     "data": {
      "text/plain": [
       "[array(['Fair', 'Good', 'Ideal', 'Premium', 'Very Good'], dtype=object),\n",
       " array(['D', 'E', 'F', 'G', 'H', 'I', 'J'], dtype=object),\n",
       " array(['I1', 'IF', 'SI1', 'SI2', 'VS1', 'VS2', 'VVS1', 'VVS2'],\n",
       "       dtype=object)]"
      ]
     },
     "execution_count": 144,
     "metadata": {},
     "output_type": "execute_result"
    }
   ],
   "source": [
    "regdata = diamonds[['cut', 'color', 'clarity']]\n",
    "ohe = OneHotEncoder()  # create\n",
    "ohe.fit(regdata)       # fit to data\n",
    "ohe.categories_        # you can look into created categories ="
   ]
  },
  {
   "cell_type": "code",
   "execution_count": 145,
   "metadata": {},
   "outputs": [
    {
     "data": {
      "text/plain": [
       "array([[0., 0., 1., 0., 0., 0., 1., 0., 0., 0., 0., 0., 0., 0., 0., 1.,\n",
       "        0., 0., 0., 0.],\n",
       "       [0., 0., 0., 1., 0., 0., 1., 0., 0., 0., 0., 0., 0., 0., 1., 0.,\n",
       "        0., 0., 0., 0.],\n",
       "       [0., 1., 0., 0., 0., 0., 1., 0., 0., 0., 0., 0., 0., 0., 0., 0.,\n",
       "        1., 0., 0., 0.],\n",
       "       [0., 0., 0., 1., 0., 0., 0., 0., 0., 0., 1., 0., 0., 0., 0., 0.,\n",
       "        0., 1., 0., 0.],\n",
       "       [0., 1., 0., 0., 0., 0., 0., 0., 0., 0., 0., 1., 0., 0., 0., 1.,\n",
       "        0., 0., 0., 0.],\n",
       "       [0., 0., 0., 0., 1., 0., 0., 0., 0., 0., 0., 1., 0., 0., 0., 0.,\n",
       "        0., 0., 0., 1.],\n",
       "       [0., 0., 0., 0., 1., 0., 0., 0., 0., 0., 1., 0., 0., 0., 0., 0.,\n",
       "        0., 0., 1., 0.],\n",
       "       [0., 0., 0., 0., 1., 0., 0., 0., 0., 1., 0., 0., 0., 0., 1., 0.,\n",
       "        0., 0., 0., 0.],\n",
       "       [1., 0., 0., 0., 0., 0., 1., 0., 0., 0., 0., 0., 0., 0., 0., 0.,\n",
       "        0., 1., 0., 0.],\n",
       "       [0., 0., 0., 0., 1., 0., 0., 0., 0., 1., 0., 0., 0., 0., 0., 0.,\n",
       "        1., 0., 0., 0.]])"
      ]
     },
     "execution_count": 145,
     "metadata": {},
     "output_type": "execute_result"
    }
   ],
   "source": [
    "features = ohe.transform(regdata).toarray()  # why toarray()? to avoid sparse matrix!\n",
    "features[:10]"
   ]
  },
  {
   "cell_type": "code",
   "execution_count": 146,
   "metadata": {},
   "outputs": [
    {
     "data": {
      "text/html": [
       "<div>\n",
       "<style scoped>\n",
       "    .dataframe tbody tr th:only-of-type {\n",
       "        vertical-align: middle;\n",
       "    }\n",
       "\n",
       "    .dataframe tbody tr th {\n",
       "        vertical-align: top;\n",
       "    }\n",
       "\n",
       "    .dataframe thead th {\n",
       "        text-align: right;\n",
       "    }\n",
       "</style>\n",
       "<table border=\"1\" class=\"dataframe\">\n",
       "  <thead>\n",
       "    <tr style=\"text-align: right;\">\n",
       "      <th></th>\n",
       "      <th>one_hot_cut_Fair</th>\n",
       "      <th>one_hot_cut_Good</th>\n",
       "      <th>one_hot_cut_Ideal</th>\n",
       "      <th>one_hot_cut_Premium</th>\n",
       "      <th>one_hot_cut_Very Good</th>\n",
       "      <th>one_hot_color_D</th>\n",
       "      <th>one_hot_color_E</th>\n",
       "      <th>one_hot_color_F</th>\n",
       "      <th>one_hot_color_G</th>\n",
       "      <th>one_hot_color_H</th>\n",
       "      <th>one_hot_color_I</th>\n",
       "      <th>one_hot_color_J</th>\n",
       "      <th>one_hot_clarity_I1</th>\n",
       "      <th>one_hot_clarity_IF</th>\n",
       "      <th>one_hot_clarity_SI1</th>\n",
       "      <th>one_hot_clarity_SI2</th>\n",
       "      <th>one_hot_clarity_VS1</th>\n",
       "      <th>one_hot_clarity_VS2</th>\n",
       "      <th>one_hot_clarity_VVS1</th>\n",
       "      <th>one_hot_clarity_VVS2</th>\n",
       "    </tr>\n",
       "  </thead>\n",
       "  <tbody>\n",
       "    <tr>\n",
       "      <th>34354</th>\n",
       "      <td>0.0</td>\n",
       "      <td>0.0</td>\n",
       "      <td>0.0</td>\n",
       "      <td>0.0</td>\n",
       "      <td>1.0</td>\n",
       "      <td>0.0</td>\n",
       "      <td>0.0</td>\n",
       "      <td>1.0</td>\n",
       "      <td>0.0</td>\n",
       "      <td>0.0</td>\n",
       "      <td>0.0</td>\n",
       "      <td>0.0</td>\n",
       "      <td>0.0</td>\n",
       "      <td>0.0</td>\n",
       "      <td>0.0</td>\n",
       "      <td>0.0</td>\n",
       "      <td>1.0</td>\n",
       "      <td>0.0</td>\n",
       "      <td>0.0</td>\n",
       "      <td>0.0</td>\n",
       "    </tr>\n",
       "    <tr>\n",
       "      <th>11586</th>\n",
       "      <td>0.0</td>\n",
       "      <td>0.0</td>\n",
       "      <td>0.0</td>\n",
       "      <td>1.0</td>\n",
       "      <td>0.0</td>\n",
       "      <td>0.0</td>\n",
       "      <td>1.0</td>\n",
       "      <td>0.0</td>\n",
       "      <td>0.0</td>\n",
       "      <td>0.0</td>\n",
       "      <td>0.0</td>\n",
       "      <td>0.0</td>\n",
       "      <td>0.0</td>\n",
       "      <td>0.0</td>\n",
       "      <td>1.0</td>\n",
       "      <td>0.0</td>\n",
       "      <td>0.0</td>\n",
       "      <td>0.0</td>\n",
       "      <td>0.0</td>\n",
       "      <td>0.0</td>\n",
       "    </tr>\n",
       "    <tr>\n",
       "      <th>6290</th>\n",
       "      <td>0.0</td>\n",
       "      <td>0.0</td>\n",
       "      <td>1.0</td>\n",
       "      <td>0.0</td>\n",
       "      <td>0.0</td>\n",
       "      <td>0.0</td>\n",
       "      <td>0.0</td>\n",
       "      <td>0.0</td>\n",
       "      <td>1.0</td>\n",
       "      <td>0.0</td>\n",
       "      <td>0.0</td>\n",
       "      <td>0.0</td>\n",
       "      <td>0.0</td>\n",
       "      <td>0.0</td>\n",
       "      <td>0.0</td>\n",
       "      <td>1.0</td>\n",
       "      <td>0.0</td>\n",
       "      <td>0.0</td>\n",
       "      <td>0.0</td>\n",
       "      <td>0.0</td>\n",
       "    </tr>\n",
       "    <tr>\n",
       "      <th>42925</th>\n",
       "      <td>0.0</td>\n",
       "      <td>0.0</td>\n",
       "      <td>1.0</td>\n",
       "      <td>0.0</td>\n",
       "      <td>0.0</td>\n",
       "      <td>0.0</td>\n",
       "      <td>0.0</td>\n",
       "      <td>0.0</td>\n",
       "      <td>1.0</td>\n",
       "      <td>0.0</td>\n",
       "      <td>0.0</td>\n",
       "      <td>0.0</td>\n",
       "      <td>0.0</td>\n",
       "      <td>0.0</td>\n",
       "      <td>1.0</td>\n",
       "      <td>0.0</td>\n",
       "      <td>0.0</td>\n",
       "      <td>0.0</td>\n",
       "      <td>0.0</td>\n",
       "      <td>0.0</td>\n",
       "    </tr>\n",
       "    <tr>\n",
       "      <th>40256</th>\n",
       "      <td>0.0</td>\n",
       "      <td>0.0</td>\n",
       "      <td>0.0</td>\n",
       "      <td>1.0</td>\n",
       "      <td>0.0</td>\n",
       "      <td>0.0</td>\n",
       "      <td>1.0</td>\n",
       "      <td>0.0</td>\n",
       "      <td>0.0</td>\n",
       "      <td>0.0</td>\n",
       "      <td>0.0</td>\n",
       "      <td>0.0</td>\n",
       "      <td>0.0</td>\n",
       "      <td>0.0</td>\n",
       "      <td>0.0</td>\n",
       "      <td>0.0</td>\n",
       "      <td>1.0</td>\n",
       "      <td>0.0</td>\n",
       "      <td>0.0</td>\n",
       "      <td>0.0</td>\n",
       "    </tr>\n",
       "  </tbody>\n",
       "</table>\n",
       "</div>"
      ],
      "text/plain": [
       "       one_hot_cut_Fair  one_hot_cut_Good  one_hot_cut_Ideal  \\\n",
       "34354               0.0               0.0                0.0   \n",
       "11586               0.0               0.0                0.0   \n",
       "6290                0.0               0.0                1.0   \n",
       "42925               0.0               0.0                1.0   \n",
       "40256               0.0               0.0                0.0   \n",
       "\n",
       "       one_hot_cut_Premium  one_hot_cut_Very Good  one_hot_color_D  \\\n",
       "34354                  0.0                    1.0              0.0   \n",
       "11586                  1.0                    0.0              0.0   \n",
       "6290                   0.0                    0.0              0.0   \n",
       "42925                  0.0                    0.0              0.0   \n",
       "40256                  1.0                    0.0              0.0   \n",
       "\n",
       "       one_hot_color_E  one_hot_color_F  one_hot_color_G  one_hot_color_H  \\\n",
       "34354              0.0              1.0              0.0              0.0   \n",
       "11586              1.0              0.0              0.0              0.0   \n",
       "6290               0.0              0.0              1.0              0.0   \n",
       "42925              0.0              0.0              1.0              0.0   \n",
       "40256              1.0              0.0              0.0              0.0   \n",
       "\n",
       "       one_hot_color_I  one_hot_color_J  one_hot_clarity_I1  \\\n",
       "34354              0.0              0.0                 0.0   \n",
       "11586              0.0              0.0                 0.0   \n",
       "6290               0.0              0.0                 0.0   \n",
       "42925              0.0              0.0                 0.0   \n",
       "40256              0.0              0.0                 0.0   \n",
       "\n",
       "       one_hot_clarity_IF  one_hot_clarity_SI1  one_hot_clarity_SI2  \\\n",
       "34354                 0.0                  0.0                  0.0   \n",
       "11586                 0.0                  1.0                  0.0   \n",
       "6290                  0.0                  0.0                  1.0   \n",
       "42925                 0.0                  1.0                  0.0   \n",
       "40256                 0.0                  0.0                  0.0   \n",
       "\n",
       "       one_hot_clarity_VS1  one_hot_clarity_VS2  one_hot_clarity_VVS1  \\\n",
       "34354                  1.0                  0.0                   0.0   \n",
       "11586                  0.0                  0.0                   0.0   \n",
       "6290                   0.0                  0.0                   0.0   \n",
       "42925                  0.0                  0.0                   0.0   \n",
       "40256                  1.0                  0.0                   0.0   \n",
       "\n",
       "       one_hot_clarity_VVS2  \n",
       "34354                   0.0  \n",
       "11586                   0.0  \n",
       "6290                    0.0  \n",
       "42925                   0.0  \n",
       "40256                   0.0  "
      ]
     },
     "execution_count": 146,
     "metadata": {},
     "output_type": "execute_result"
    }
   ],
   "source": [
    "ohe_cols = []\n",
    "cut_val, color_val, clar_val = ohe.categories_\n",
    "for col in ['cut', 'color', 'clarity']:\n",
    "    if col == 'cut':\n",
    "        values = cut_val\n",
    "    elif col == 'color':\n",
    "        values = color_val\n",
    "    else:\n",
    "        values = clar_val\n",
    "        \n",
    "    for val in values:\n",
    "        ohe_cols.append('one_hot_'+col+'_'+val)\n",
    "sklearn_answer = pd.DataFrame(data=features, columns=ohe_cols)\n",
    "sklearn_answer.sample(5)"
   ]
  },
  {
   "cell_type": "code",
   "execution_count": null,
   "metadata": {},
   "outputs": [],
   "source": []
  },
  {
   "cell_type": "markdown",
   "metadata": {},
   "source": [
    "### Own transformation"
   ]
  },
  {
   "cell_type": "code",
   "execution_count": 149,
   "metadata": {},
   "outputs": [
    {
     "data": {
      "text/html": [
       "<div>\n",
       "<style scoped>\n",
       "    .dataframe tbody tr th:only-of-type {\n",
       "        vertical-align: middle;\n",
       "    }\n",
       "\n",
       "    .dataframe tbody tr th {\n",
       "        vertical-align: top;\n",
       "    }\n",
       "\n",
       "    .dataframe thead th {\n",
       "        text-align: right;\n",
       "    }\n",
       "</style>\n",
       "<table border=\"1\" class=\"dataframe\">\n",
       "  <thead>\n",
       "    <tr style=\"text-align: right;\">\n",
       "      <th></th>\n",
       "      <th>one_hot_cut_Fair</th>\n",
       "      <th>one_hot_cut_Good</th>\n",
       "      <th>one_hot_cut_Ideal</th>\n",
       "      <th>one_hot_cut_Premium</th>\n",
       "      <th>one_hot_cut_Very Good</th>\n",
       "      <th>one_hot_color_D</th>\n",
       "      <th>one_hot_color_E</th>\n",
       "      <th>one_hot_color_F</th>\n",
       "      <th>one_hot_color_G</th>\n",
       "      <th>one_hot_color_H</th>\n",
       "      <th>one_hot_color_I</th>\n",
       "      <th>one_hot_color_J</th>\n",
       "      <th>one_hot_clarity_I1</th>\n",
       "      <th>one_hot_clarity_IF</th>\n",
       "      <th>one_hot_clarity_SI1</th>\n",
       "      <th>one_hot_clarity_SI2</th>\n",
       "      <th>one_hot_clarity_VS1</th>\n",
       "      <th>one_hot_clarity_VS2</th>\n",
       "      <th>one_hot_clarity_VVS1</th>\n",
       "      <th>one_hot_clarity_VVS2</th>\n",
       "    </tr>\n",
       "  </thead>\n",
       "  <tbody>\n",
       "    <tr>\n",
       "      <th>0</th>\n",
       "      <td>0</td>\n",
       "      <td>0</td>\n",
       "      <td>1</td>\n",
       "      <td>0</td>\n",
       "      <td>0</td>\n",
       "      <td>0</td>\n",
       "      <td>1</td>\n",
       "      <td>0</td>\n",
       "      <td>0</td>\n",
       "      <td>0</td>\n",
       "      <td>0</td>\n",
       "      <td>0</td>\n",
       "      <td>0</td>\n",
       "      <td>0</td>\n",
       "      <td>0</td>\n",
       "      <td>1</td>\n",
       "      <td>0</td>\n",
       "      <td>0</td>\n",
       "      <td>0</td>\n",
       "      <td>0</td>\n",
       "    </tr>\n",
       "    <tr>\n",
       "      <th>1</th>\n",
       "      <td>0</td>\n",
       "      <td>0</td>\n",
       "      <td>0</td>\n",
       "      <td>1</td>\n",
       "      <td>0</td>\n",
       "      <td>0</td>\n",
       "      <td>1</td>\n",
       "      <td>0</td>\n",
       "      <td>0</td>\n",
       "      <td>0</td>\n",
       "      <td>0</td>\n",
       "      <td>0</td>\n",
       "      <td>0</td>\n",
       "      <td>0</td>\n",
       "      <td>1</td>\n",
       "      <td>0</td>\n",
       "      <td>0</td>\n",
       "      <td>0</td>\n",
       "      <td>0</td>\n",
       "      <td>0</td>\n",
       "    </tr>\n",
       "    <tr>\n",
       "      <th>2</th>\n",
       "      <td>0</td>\n",
       "      <td>1</td>\n",
       "      <td>0</td>\n",
       "      <td>0</td>\n",
       "      <td>0</td>\n",
       "      <td>0</td>\n",
       "      <td>1</td>\n",
       "      <td>0</td>\n",
       "      <td>0</td>\n",
       "      <td>0</td>\n",
       "      <td>0</td>\n",
       "      <td>0</td>\n",
       "      <td>0</td>\n",
       "      <td>0</td>\n",
       "      <td>0</td>\n",
       "      <td>0</td>\n",
       "      <td>1</td>\n",
       "      <td>0</td>\n",
       "      <td>0</td>\n",
       "      <td>0</td>\n",
       "    </tr>\n",
       "    <tr>\n",
       "      <th>3</th>\n",
       "      <td>0</td>\n",
       "      <td>0</td>\n",
       "      <td>0</td>\n",
       "      <td>1</td>\n",
       "      <td>0</td>\n",
       "      <td>0</td>\n",
       "      <td>0</td>\n",
       "      <td>0</td>\n",
       "      <td>0</td>\n",
       "      <td>0</td>\n",
       "      <td>1</td>\n",
       "      <td>0</td>\n",
       "      <td>0</td>\n",
       "      <td>0</td>\n",
       "      <td>0</td>\n",
       "      <td>0</td>\n",
       "      <td>0</td>\n",
       "      <td>1</td>\n",
       "      <td>0</td>\n",
       "      <td>0</td>\n",
       "    </tr>\n",
       "    <tr>\n",
       "      <th>4</th>\n",
       "      <td>0</td>\n",
       "      <td>1</td>\n",
       "      <td>0</td>\n",
       "      <td>0</td>\n",
       "      <td>0</td>\n",
       "      <td>0</td>\n",
       "      <td>0</td>\n",
       "      <td>0</td>\n",
       "      <td>0</td>\n",
       "      <td>0</td>\n",
       "      <td>0</td>\n",
       "      <td>1</td>\n",
       "      <td>0</td>\n",
       "      <td>0</td>\n",
       "      <td>0</td>\n",
       "      <td>1</td>\n",
       "      <td>0</td>\n",
       "      <td>0</td>\n",
       "      <td>0</td>\n",
       "      <td>0</td>\n",
       "    </tr>\n",
       "  </tbody>\n",
       "</table>\n",
       "</div>"
      ],
      "text/plain": [
       "   one_hot_cut_Fair  one_hot_cut_Good  one_hot_cut_Ideal  one_hot_cut_Premium  \\\n",
       "0                 0                 0                  1                    0   \n",
       "1                 0                 0                  0                    1   \n",
       "2                 0                 1                  0                    0   \n",
       "3                 0                 0                  0                    1   \n",
       "4                 0                 1                  0                    0   \n",
       "\n",
       "   one_hot_cut_Very Good  one_hot_color_D  one_hot_color_E  one_hot_color_F  \\\n",
       "0                      0                0                1                0   \n",
       "1                      0                0                1                0   \n",
       "2                      0                0                1                0   \n",
       "3                      0                0                0                0   \n",
       "4                      0                0                0                0   \n",
       "\n",
       "   one_hot_color_G  one_hot_color_H  one_hot_color_I  one_hot_color_J  \\\n",
       "0                0                0                0                0   \n",
       "1                0                0                0                0   \n",
       "2                0                0                0                0   \n",
       "3                0                0                1                0   \n",
       "4                0                0                0                1   \n",
       "\n",
       "   one_hot_clarity_I1  one_hot_clarity_IF  one_hot_clarity_SI1  \\\n",
       "0                   0                   0                    0   \n",
       "1                   0                   0                    1   \n",
       "2                   0                   0                    0   \n",
       "3                   0                   0                    0   \n",
       "4                   0                   0                    0   \n",
       "\n",
       "   one_hot_clarity_SI2  one_hot_clarity_VS1  one_hot_clarity_VS2  \\\n",
       "0                    1                    0                    0   \n",
       "1                    0                    0                    0   \n",
       "2                    0                    1                    0   \n",
       "3                    0                    0                    1   \n",
       "4                    1                    0                    0   \n",
       "\n",
       "   one_hot_clarity_VVS1  one_hot_clarity_VVS2  \n",
       "0                     0                     0  \n",
       "1                     0                     0  \n",
       "2                     0                     0  \n",
       "3                     0                     0  \n",
       "4                     0                     0  "
      ]
     },
     "execution_count": 149,
     "metadata": {},
     "output_type": "execute_result"
    }
   ],
   "source": [
    "df = diamonds.copy()\n",
    "\n",
    "# Helper function to change categorical into onehot encoding\n",
    "def cat2onehot(col):\n",
    "    ohe_name = 'one_hot_' + col.name + '_' # Prefix of onehot col name\n",
    "    unique_val = np.array(col.unique()) # Unique values\n",
    "    unique_val.sort()\n",
    "    ohe_names = [] # onehot columns names\n",
    "    for value in unique_val: # Get unique values in col\n",
    "        ohe_names.append(ohe_name+value)\n",
    "    \n",
    "    ohe = []\n",
    "    for elem in col: # Loop through column values\n",
    "        # Create hit/not hit\n",
    "        ohe.append((unique_val == elem) * 1)\n",
    "    \n",
    "    return pd.DataFrame(data=ohe, index=col.index, columns=ohe_names)\n",
    "\n",
    "# Get onehot dataframe\n",
    "cut_ohe = cat2onehot(df['cut'])\n",
    "color_ohe = cat2onehot(df['color'])\n",
    "clarity_ohe = cat2onehot(df['clarity'])\n",
    "\n",
    "out = pd.concat([cut_ohe, color_ohe, clarity_ohe], axis=1, sort=False)\n",
    "out.head()"
   ]
  },
  {
   "cell_type": "code",
   "execution_count": 150,
   "metadata": {},
   "outputs": [
    {
     "data": {
      "text/plain": [
       "False"
      ]
     },
     "execution_count": 150,
     "metadata": {},
     "output_type": "execute_result"
    }
   ],
   "source": [
    "out.equals(sklearn_answer) # True when convert values into float"
   ]
  },
  {
   "cell_type": "code",
   "execution_count": null,
   "metadata": {},
   "outputs": [],
   "source": []
  },
  {
   "cell_type": "code",
   "execution_count": 155,
   "metadata": {},
   "outputs": [],
   "source": [
    "def create_one_hot(df):\n",
    "    \"\"\"\n",
    "    create_one_hot takes in diamonds and returns a dataframe of one-hot \n",
    "    encoded features with names one_hot_<col>_<val> where <col> is the \n",
    "    original categorical column name, and <val> is the value found in \n",
    "    the categorical column <col>.\n",
    "\n",
    "    :Example:\n",
    "    >>> diamonds = sns.load_dataset('diamonds')\n",
    "    >>> out = create_one_hot(diamonds)\n",
    "    >>> out.shape == (53940, 20)\n",
    "    True\n",
    "    >>> out.columns.str.startswith('one_hot').all()\n",
    "    True\n",
    "    >>> out.isin([0,1]).all().all()\n",
    "    True\n",
    "    \"\"\"\n",
    "\n",
    "    # Helper function to change categorical into onehot encoding\n",
    "    def cat2onehot(col):\n",
    "        ohe_name = 'one_hot_' + col.name + '_' # Prefix of onehot col name\n",
    "        unique_val = np.array(col.unique()) # Unique values\n",
    "        unique_val.sort()\n",
    "        ohe_names = [] # onehot columns names\n",
    "        for value in unique_val: # Get unique values in col\n",
    "            ohe_names.append(ohe_name+value)\n",
    "\n",
    "        ohe = []\n",
    "        for elem in col: # Loop through column values\n",
    "            # Create hit/not hit\n",
    "            ohe.append((unique_val == elem) * 1.0)\n",
    "\n",
    "        return pd.DataFrame(data=ohe, index=col.index, columns=ohe_names)\n",
    "\n",
    "    # Get onehot dataframe\n",
    "    cut_ohe = cat2onehot(df['cut'])\n",
    "    color_ohe = cat2onehot(df['color'])\n",
    "    clarity_ohe = cat2onehot(df['clarity'])\n",
    "\n",
    "    return pd.concat([cut_ohe, color_ohe, clarity_ohe], axis=1, sort=False)\n"
   ]
  },
  {
   "cell_type": "code",
   "execution_count": 156,
   "metadata": {},
   "outputs": [
    {
     "data": {
      "text/plain": [
       "True"
      ]
     },
     "execution_count": 156,
     "metadata": {},
     "output_type": "execute_result"
    }
   ],
   "source": [
    "# Test output of py\n",
    "create_one_hot(df).equals(lab.create_one_hot(df))"
   ]
  },
  {
   "cell_type": "code",
   "execution_count": null,
   "metadata": {},
   "outputs": [],
   "source": []
  },
  {
   "cell_type": "markdown",
   "metadata": {},
   "source": [
    "**Encoding with proportions**\n",
    "\n",
    "Similar to the one-hot encoding case, you can replace a value in a nominal column with the likelihood that value appears in the column. This might be a reasonable approach to predicting the price of a diamond, as you might expect *rarer attributes to be considered more valuable* than common ones.\n",
    "\n",
    "Create a function `create_proportions` that takes in `diamonds` and returns a dataframe of proportion-encoded features with names `proportion_<col>` where `<col>` is the original categorical column name.\n",
    "\n",
    "*Note:* If a column consists of the values `['a', 'b', 'a', 'c']`, then the proportion encoded column is `[0.5, 0.25, 0.5, 0.25]`. "
   ]
  },
  {
   "cell_type": "code",
   "execution_count": 161,
   "metadata": {},
   "outputs": [],
   "source": [
    "df = diamonds.copy()\n",
    "\n",
    "# Helper function to change categorical into prop encoding\n",
    "def cat2prop(col):\n",
    "    prop = col.value_counts(normalize=True) # Normalized (prop)\n",
    "    replaced = col.replace(to_replace=prop.index, value=prop.values) # Replace val with prop\n",
    "    return replaced.rename('proportion_' + col.name)\n",
    "\n",
    "# Get prop data\n",
    "cut_prop = cat2prop(df['cut'])\n",
    "color_prop = cat2prop(df['color'])\n",
    "clarity_prop = cat2prop(df['clarity'])\n",
    "\n",
    "out = pd.DataFrame(data=[cut_prop, color_prop, clarity_prop]).T"
   ]
  },
  {
   "cell_type": "markdown",
   "metadata": {},
   "source": [
    "### Test"
   ]
  },
  {
   "cell_type": "code",
   "execution_count": 176,
   "metadata": {},
   "outputs": [
    {
     "data": {
      "text/html": [
       "<div>\n",
       "<style scoped>\n",
       "    .dataframe tbody tr th:only-of-type {\n",
       "        vertical-align: middle;\n",
       "    }\n",
       "\n",
       "    .dataframe tbody tr th {\n",
       "        vertical-align: top;\n",
       "    }\n",
       "\n",
       "    .dataframe thead th {\n",
       "        text-align: right;\n",
       "    }\n",
       "</style>\n",
       "<table border=\"1\" class=\"dataframe\">\n",
       "  <thead>\n",
       "    <tr style=\"text-align: right;\">\n",
       "      <th></th>\n",
       "      <th>proportion_cut</th>\n",
       "      <th>proportion_color</th>\n",
       "      <th>proportion_clarity</th>\n",
       "    </tr>\n",
       "  </thead>\n",
       "  <tbody>\n",
       "    <tr>\n",
       "      <th>31422</th>\n",
       "      <td>0.399537</td>\n",
       "      <td>0.176900</td>\n",
       "      <td>0.170449</td>\n",
       "    </tr>\n",
       "    <tr>\n",
       "      <th>8317</th>\n",
       "      <td>0.399537</td>\n",
       "      <td>0.176900</td>\n",
       "      <td>0.242214</td>\n",
       "    </tr>\n",
       "    <tr>\n",
       "      <th>19252</th>\n",
       "      <td>0.399537</td>\n",
       "      <td>0.153949</td>\n",
       "      <td>0.227253</td>\n",
       "    </tr>\n",
       "    <tr>\n",
       "      <th>43459</th>\n",
       "      <td>0.223990</td>\n",
       "      <td>0.181628</td>\n",
       "      <td>0.151483</td>\n",
       "    </tr>\n",
       "    <tr>\n",
       "      <th>31520</th>\n",
       "      <td>0.399537</td>\n",
       "      <td>0.181628</td>\n",
       "      <td>0.242214</td>\n",
       "    </tr>\n",
       "  </tbody>\n",
       "</table>\n",
       "</div>"
      ],
      "text/plain": [
       "       proportion_cut  proportion_color  proportion_clarity\n",
       "31422        0.399537          0.176900            0.170449\n",
       "8317         0.399537          0.176900            0.242214\n",
       "19252        0.399537          0.153949            0.227253\n",
       "43459        0.223990          0.181628            0.151483\n",
       "31520        0.399537          0.181628            0.242214"
      ]
     },
     "execution_count": 176,
     "metadata": {},
     "output_type": "execute_result"
    }
   ],
   "source": [
    "out.sample(5)"
   ]
  },
  {
   "cell_type": "code",
   "execution_count": 177,
   "metadata": {},
   "outputs": [
    {
     "data": {
      "text/plain": [
       "cut        Ideal\n",
       "color          H\n",
       "clarity      VS2\n",
       "Name: 19252, dtype: object"
      ]
     },
     "execution_count": 177,
     "metadata": {},
     "output_type": "execute_result"
    }
   ],
   "source": [
    "df.loc[19252, ['cut', 'color', 'clarity']]"
   ]
  },
  {
   "cell_type": "code",
   "execution_count": 174,
   "metadata": {},
   "outputs": [
    {
     "data": {
      "text/plain": [
       "(Ideal        0.399537\n",
       " Premium      0.255673\n",
       " Very Good    0.223990\n",
       " Good         0.090953\n",
       " Fair         0.029848\n",
       " Name: cut, dtype: float64, G    0.209344\n",
       " E    0.181628\n",
       " F    0.176900\n",
       " H    0.153949\n",
       " D    0.125603\n",
       " I    0.100519\n",
       " J    0.052058\n",
       " Name: color, dtype: float64, SI1     0.242214\n",
       " VS2     0.227253\n",
       " SI2     0.170449\n",
       " VS1     0.151483\n",
       " VVS2    0.093919\n",
       " VVS1    0.067760\n",
       " IF      0.033185\n",
       " I1      0.013737\n",
       " Name: clarity, dtype: float64)"
      ]
     },
     "execution_count": 174,
     "metadata": {},
     "output_type": "execute_result"
    }
   ],
   "source": [
    "df['cut'].value_counts(normalize=True), df['color'].value_counts(normalize=True), df['clarity'].value_counts(normalize=True)"
   ]
  },
  {
   "cell_type": "markdown",
   "metadata": {},
   "source": [
    "### Test"
   ]
  },
  {
   "cell_type": "code",
   "execution_count": null,
   "metadata": {},
   "outputs": [],
   "source": []
  },
  {
   "cell_type": "code",
   "execution_count": 34,
   "metadata": {},
   "outputs": [],
   "source": [
    "def create_proportions(df):\n",
    "    \"\"\"\n",
    "    create_proportions takes in diamonds and returns a \n",
    "    dataframe of proportion-encoded features with names \n",
    "    proportion_<col> where <col> is the original \n",
    "    categorical column name.\n",
    "\n",
    "    >>> diamonds = sns.load_dataset('diamonds')\n",
    "    >>> out = create_proportions(diamonds)\n",
    "    >>> out.shape[1] == 3\n",
    "    True\n",
    "    >>> out.columns.str.startswith('proportion_').all()\n",
    "    True\n",
    "    >>> ((out >= 0) & (out <= 1)).all().all()\n",
    "    True\n",
    "    \"\"\"\n",
    "\n",
    "    # Helper function to change categorical into prop encoding\n",
    "    def cat2prop(col):\n",
    "        prop = col.value_counts(normalize=True) # Normalized (prop)\n",
    "        replaced = col.replace(to_replace=prop.index, value=prop.values) # Replace val with prop\n",
    "        return replaced.rename('proportion_' + col.name)\n",
    "\n",
    "    # Get prop data\n",
    "    cut_prop = cat2prop(df['cut'])\n",
    "    color_prop = cat2prop(df['color'])\n",
    "    clarity_prop = cat2prop(df['clarity'])\n",
    "\n",
    "    return pd.DataFrame(data=[cut_prop, color_prop, clarity_prop]).T\n"
   ]
  },
  {
   "cell_type": "code",
   "execution_count": 158,
   "metadata": {},
   "outputs": [
    {
     "data": {
      "text/plain": [
       "True"
      ]
     },
     "execution_count": 158,
     "metadata": {},
     "output_type": "execute_result"
    }
   ],
   "source": [
    "# Test output of py\n",
    "create_proportions(df).equals(lab.create_proportions(df))"
   ]
  },
  {
   "cell_type": "code",
   "execution_count": 3,
   "metadata": {},
   "outputs": [
    {
     "data": {
      "text/plain": [
       "'0.22.1'"
      ]
     },
     "execution_count": 3,
     "metadata": {},
     "output_type": "execute_result"
    }
   ],
   "source": [
    "import sklearn\n",
    "sklearn.__version__"
   ]
  },
  {
   "cell_type": "markdown",
   "metadata": {},
   "source": [
    "### Quantitative Encoding (quadratic features)\n",
    "\n",
    "**Question 4**\n",
    "\n",
    "Linear regression doesn't capture non-linear dependencies between variables. However, you can create features that encode such dependencies *before* fitting your regression model. Creating polynomial features is one way to do this. For example, the `diamonds` dataset contains each dimension for the stone (`x`,`y`,`z`). However, different combinations of size may be more valuable than others: a \"deep and wide\" diamond might be considered more valuable than a shallow, but \"long and wide\" diamond.\n",
    "\n",
    "Create a function `create_quadratics` that takes in `diamonds` and returns a dataframe of quadratic-encoded features `<col1> * <col2>` where `<col1>` and `<col2>` are the original quantitative columns. The output array should contain every distinct pair of pairs of columns - aside from `price`, which should be left out).\n",
    "\n",
    "*Note*: **Do not** use `sklearn` for this question! It is ok to loop through the columns of `diamonds` to do this question."
   ]
  },
  {
   "cell_type": "markdown",
   "metadata": {},
   "source": [
    "|column|description|\n",
    "|---|---|\n",
    "|price|price in US dollars (326 - 18,823 USD)|\n",
    "|carat|weight of the diamond (0.2 - 5.01)|\n",
    "|cut|quality of the cut (Fair, Good, Very Good, Premium, Ideal)|\n",
    "|color|diamond colour, from J (worst) to D (best)|\n",
    "|clarity|a measurement of how clear the diamond is (I1 (worst), SI2, SI1, VS2, VS1, VVS2, VVS1, IF (best))|\n",
    "|x|length in mm (0 - 10.74)|\n",
    "|y|width in mm (0 - 58.9)|\n",
    "|z|depth in mm (0 - 31.8)|\n",
    "|depth|total depth percentage = z / mean(x, y) = 2 * z / (x + y) (43 - 79)|\n",
    "|table|width of top of diamond relative to widest point (43 - 95)|"
   ]
  },
  {
   "cell_type": "markdown",
   "metadata": {},
   "source": [
    "### Use sklearn"
   ]
  },
  {
   "cell_type": "code",
   "execution_count": 180,
   "metadata": {},
   "outputs": [
    {
     "data": {
      "text/html": [
       "<div>\n",
       "<style scoped>\n",
       "    .dataframe tbody tr th:only-of-type {\n",
       "        vertical-align: middle;\n",
       "    }\n",
       "\n",
       "    .dataframe tbody tr th {\n",
       "        vertical-align: top;\n",
       "    }\n",
       "\n",
       "    .dataframe thead th {\n",
       "        text-align: right;\n",
       "    }\n",
       "</style>\n",
       "<table border=\"1\" class=\"dataframe\">\n",
       "  <thead>\n",
       "    <tr style=\"text-align: right;\">\n",
       "      <th></th>\n",
       "      <th>carat</th>\n",
       "      <th>x</th>\n",
       "      <th>y</th>\n",
       "      <th>z</th>\n",
       "      <th>depth</th>\n",
       "      <th>table</th>\n",
       "    </tr>\n",
       "  </thead>\n",
       "  <tbody>\n",
       "    <tr>\n",
       "      <th>0</th>\n",
       "      <td>0.23</td>\n",
       "      <td>3.95</td>\n",
       "      <td>3.98</td>\n",
       "      <td>2.43</td>\n",
       "      <td>61.5</td>\n",
       "      <td>55.0</td>\n",
       "    </tr>\n",
       "    <tr>\n",
       "      <th>1</th>\n",
       "      <td>0.21</td>\n",
       "      <td>3.89</td>\n",
       "      <td>3.84</td>\n",
       "      <td>2.31</td>\n",
       "      <td>59.8</td>\n",
       "      <td>61.0</td>\n",
       "    </tr>\n",
       "    <tr>\n",
       "      <th>2</th>\n",
       "      <td>0.23</td>\n",
       "      <td>4.05</td>\n",
       "      <td>4.07</td>\n",
       "      <td>2.31</td>\n",
       "      <td>56.9</td>\n",
       "      <td>65.0</td>\n",
       "    </tr>\n",
       "    <tr>\n",
       "      <th>3</th>\n",
       "      <td>0.29</td>\n",
       "      <td>4.20</td>\n",
       "      <td>4.23</td>\n",
       "      <td>2.63</td>\n",
       "      <td>62.4</td>\n",
       "      <td>58.0</td>\n",
       "    </tr>\n",
       "    <tr>\n",
       "      <th>4</th>\n",
       "      <td>0.31</td>\n",
       "      <td>4.34</td>\n",
       "      <td>4.35</td>\n",
       "      <td>2.75</td>\n",
       "      <td>63.3</td>\n",
       "      <td>58.0</td>\n",
       "    </tr>\n",
       "  </tbody>\n",
       "</table>\n",
       "</div>"
      ],
      "text/plain": [
       "   carat     x     y     z  depth  table\n",
       "0   0.23  3.95  3.98  2.43   61.5   55.0\n",
       "1   0.21  3.89  3.84  2.31   59.8   61.0\n",
       "2   0.23  4.05  4.07  2.31   56.9   65.0\n",
       "3   0.29  4.20  4.23  2.63   62.4   58.0\n",
       "4   0.31  4.34  4.35  2.75   63.3   58.0"
      ]
     },
     "execution_count": 180,
     "metadata": {},
     "output_type": "execute_result"
    }
   ],
   "source": [
    "regdata = diamonds[['carat', 'x', 'y', 'z', 'depth', 'table']]\n",
    "regdata.head()"
   ]
  },
  {
   "cell_type": "code",
   "execution_count": 181,
   "metadata": {},
   "outputs": [],
   "source": [
    "# x: length, y: width, z: depth\n",
    "from sklearn.preprocessing import PolynomialFeatures"
   ]
  },
  {
   "cell_type": "code",
   "execution_count": 182,
   "metadata": {},
   "outputs": [
    {
     "data": {
      "text/html": [
       "<div>\n",
       "<style scoped>\n",
       "    .dataframe tbody tr th:only-of-type {\n",
       "        vertical-align: middle;\n",
       "    }\n",
       "\n",
       "    .dataframe tbody tr th {\n",
       "        vertical-align: top;\n",
       "    }\n",
       "\n",
       "    .dataframe thead th {\n",
       "        text-align: right;\n",
       "    }\n",
       "</style>\n",
       "<table border=\"1\" class=\"dataframe\">\n",
       "  <thead>\n",
       "    <tr style=\"text-align: right;\">\n",
       "      <th></th>\n",
       "      <th>carat x</th>\n",
       "      <th>carat y</th>\n",
       "      <th>carat z</th>\n",
       "      <th>carat depth</th>\n",
       "      <th>carat table</th>\n",
       "      <th>x y</th>\n",
       "      <th>x z</th>\n",
       "      <th>x depth</th>\n",
       "      <th>x table</th>\n",
       "      <th>y z</th>\n",
       "      <th>y depth</th>\n",
       "      <th>y table</th>\n",
       "      <th>z depth</th>\n",
       "      <th>z table</th>\n",
       "      <th>depth table</th>\n",
       "    </tr>\n",
       "  </thead>\n",
       "  <tbody>\n",
       "    <tr>\n",
       "      <th>50640</th>\n",
       "      <td>1.3392</td>\n",
       "      <td>1.3547</td>\n",
       "      <td>0.8246</td>\n",
       "      <td>18.972</td>\n",
       "      <td>17.98</td>\n",
       "      <td>18.8784</td>\n",
       "      <td>11.4912</td>\n",
       "      <td>264.384</td>\n",
       "      <td>250.56</td>\n",
       "      <td>11.6242</td>\n",
       "      <td>267.444</td>\n",
       "      <td>253.46</td>\n",
       "      <td>162.792</td>\n",
       "      <td>154.28</td>\n",
       "      <td>3549.6</td>\n",
       "    </tr>\n",
       "    <tr>\n",
       "      <th>21957</th>\n",
       "      <td>7.3696</td>\n",
       "      <td>7.4592</td>\n",
       "      <td>4.6256</td>\n",
       "      <td>69.888</td>\n",
       "      <td>66.08</td>\n",
       "      <td>43.8228</td>\n",
       "      <td>27.1754</td>\n",
       "      <td>410.592</td>\n",
       "      <td>388.22</td>\n",
       "      <td>27.5058</td>\n",
       "      <td>415.584</td>\n",
       "      <td>392.94</td>\n",
       "      <td>257.712</td>\n",
       "      <td>243.67</td>\n",
       "      <td>3681.6</td>\n",
       "    </tr>\n",
       "    <tr>\n",
       "      <th>8548</th>\n",
       "      <td>6.4337</td>\n",
       "      <td>6.4741</td>\n",
       "      <td>4.0703</td>\n",
       "      <td>63.731</td>\n",
       "      <td>60.60</td>\n",
       "      <td>40.8317</td>\n",
       "      <td>25.6711</td>\n",
       "      <td>401.947</td>\n",
       "      <td>382.20</td>\n",
       "      <td>25.8323</td>\n",
       "      <td>404.471</td>\n",
       "      <td>384.60</td>\n",
       "      <td>254.293</td>\n",
       "      <td>241.80</td>\n",
       "      <td>3786.0</td>\n",
       "    </tr>\n",
       "    <tr>\n",
       "      <th>40204</th>\n",
       "      <td>2.7136</td>\n",
       "      <td>2.7030</td>\n",
       "      <td>1.7278</td>\n",
       "      <td>33.814</td>\n",
       "      <td>30.21</td>\n",
       "      <td>26.1120</td>\n",
       "      <td>16.6912</td>\n",
       "      <td>326.656</td>\n",
       "      <td>291.84</td>\n",
       "      <td>16.6260</td>\n",
       "      <td>325.380</td>\n",
       "      <td>290.70</td>\n",
       "      <td>207.988</td>\n",
       "      <td>185.82</td>\n",
       "      <td>3636.6</td>\n",
       "    </tr>\n",
       "    <tr>\n",
       "      <th>36556</th>\n",
       "      <td>1.8960</td>\n",
       "      <td>1.8840</td>\n",
       "      <td>1.1760</td>\n",
       "      <td>24.880</td>\n",
       "      <td>23.20</td>\n",
       "      <td>22.3254</td>\n",
       "      <td>13.9356</td>\n",
       "      <td>294.828</td>\n",
       "      <td>274.92</td>\n",
       "      <td>13.8474</td>\n",
       "      <td>292.962</td>\n",
       "      <td>273.18</td>\n",
       "      <td>182.868</td>\n",
       "      <td>170.52</td>\n",
       "      <td>3607.6</td>\n",
       "    </tr>\n",
       "  </tbody>\n",
       "</table>\n",
       "</div>"
      ],
      "text/plain": [
       "       carat x  carat y  carat z  carat depth  carat table      x y      x z  \\\n",
       "50640   1.3392   1.3547   0.8246       18.972        17.98  18.8784  11.4912   \n",
       "21957   7.3696   7.4592   4.6256       69.888        66.08  43.8228  27.1754   \n",
       "8548    6.4337   6.4741   4.0703       63.731        60.60  40.8317  25.6711   \n",
       "40204   2.7136   2.7030   1.7278       33.814        30.21  26.1120  16.6912   \n",
       "36556   1.8960   1.8840   1.1760       24.880        23.20  22.3254  13.9356   \n",
       "\n",
       "       x depth  x table      y z  y depth  y table  z depth  z table  \\\n",
       "50640  264.384   250.56  11.6242  267.444   253.46  162.792   154.28   \n",
       "21957  410.592   388.22  27.5058  415.584   392.94  257.712   243.67   \n",
       "8548   401.947   382.20  25.8323  404.471   384.60  254.293   241.80   \n",
       "40204  326.656   291.84  16.6260  325.380   290.70  207.988   185.82   \n",
       "36556  294.828   274.92  13.8474  292.962   273.18  182.868   170.52   \n",
       "\n",
       "       depth table  \n",
       "50640       3549.6  \n",
       "21957       3681.6  \n",
       "8548        3786.0  \n",
       "40204       3636.6  \n",
       "36556       3607.6  "
      ]
     },
     "execution_count": 182,
     "metadata": {},
     "output_type": "execute_result"
    }
   ],
   "source": [
    "poly = PolynomialFeatures(interaction_only=True, include_bias=False) # create\n",
    "features = pd.DataFrame(poly.fit_transform(regdata), columns=poly.get_feature_names(regdata.columns))\n",
    "sklearn_answer = features.loc[:,~features.columns.isin(['carat', 'x', 'y', 'z', 'depth', 'table'])]\n",
    "sklearn_answer.sample(5)"
   ]
  },
  {
   "cell_type": "code",
   "execution_count": null,
   "metadata": {},
   "outputs": [],
   "source": []
  },
  {
   "cell_type": "markdown",
   "metadata": {},
   "source": [
    "### Own transformation"
   ]
  },
  {
   "cell_type": "code",
   "execution_count": 185,
   "metadata": {},
   "outputs": [
    {
     "data": {
      "text/html": [
       "<div>\n",
       "<style scoped>\n",
       "    .dataframe tbody tr th:only-of-type {\n",
       "        vertical-align: middle;\n",
       "    }\n",
       "\n",
       "    .dataframe tbody tr th {\n",
       "        vertical-align: top;\n",
       "    }\n",
       "\n",
       "    .dataframe thead th {\n",
       "        text-align: right;\n",
       "    }\n",
       "</style>\n",
       "<table border=\"1\" class=\"dataframe\">\n",
       "  <thead>\n",
       "    <tr style=\"text-align: right;\">\n",
       "      <th></th>\n",
       "      <th>carat * x</th>\n",
       "      <th>carat * y</th>\n",
       "      <th>carat * z</th>\n",
       "      <th>carat * depth</th>\n",
       "      <th>carat * table</th>\n",
       "      <th>x * y</th>\n",
       "      <th>x * z</th>\n",
       "      <th>x * depth</th>\n",
       "      <th>x * table</th>\n",
       "      <th>y * z</th>\n",
       "      <th>y * depth</th>\n",
       "      <th>y * table</th>\n",
       "      <th>z * depth</th>\n",
       "      <th>z * table</th>\n",
       "      <th>depth * table</th>\n",
       "    </tr>\n",
       "  </thead>\n",
       "  <tbody>\n",
       "    <tr>\n",
       "      <th>0</th>\n",
       "      <td>0.9085</td>\n",
       "      <td>0.9154</td>\n",
       "      <td>0.5589</td>\n",
       "      <td>14.145</td>\n",
       "      <td>12.65</td>\n",
       "      <td>15.7210</td>\n",
       "      <td>9.5985</td>\n",
       "      <td>242.925</td>\n",
       "      <td>217.25</td>\n",
       "      <td>9.6714</td>\n",
       "      <td>244.770</td>\n",
       "      <td>218.90</td>\n",
       "      <td>149.445</td>\n",
       "      <td>133.65</td>\n",
       "      <td>3382.5</td>\n",
       "    </tr>\n",
       "    <tr>\n",
       "      <th>1</th>\n",
       "      <td>0.8169</td>\n",
       "      <td>0.8064</td>\n",
       "      <td>0.4851</td>\n",
       "      <td>12.558</td>\n",
       "      <td>12.81</td>\n",
       "      <td>14.9376</td>\n",
       "      <td>8.9859</td>\n",
       "      <td>232.622</td>\n",
       "      <td>237.29</td>\n",
       "      <td>8.8704</td>\n",
       "      <td>229.632</td>\n",
       "      <td>234.24</td>\n",
       "      <td>138.138</td>\n",
       "      <td>140.91</td>\n",
       "      <td>3647.8</td>\n",
       "    </tr>\n",
       "    <tr>\n",
       "      <th>2</th>\n",
       "      <td>0.9315</td>\n",
       "      <td>0.9361</td>\n",
       "      <td>0.5313</td>\n",
       "      <td>13.087</td>\n",
       "      <td>14.95</td>\n",
       "      <td>16.4835</td>\n",
       "      <td>9.3555</td>\n",
       "      <td>230.445</td>\n",
       "      <td>263.25</td>\n",
       "      <td>9.4017</td>\n",
       "      <td>231.583</td>\n",
       "      <td>264.55</td>\n",
       "      <td>131.439</td>\n",
       "      <td>150.15</td>\n",
       "      <td>3698.5</td>\n",
       "    </tr>\n",
       "    <tr>\n",
       "      <th>3</th>\n",
       "      <td>1.2180</td>\n",
       "      <td>1.2267</td>\n",
       "      <td>0.7627</td>\n",
       "      <td>18.096</td>\n",
       "      <td>16.82</td>\n",
       "      <td>17.7660</td>\n",
       "      <td>11.0460</td>\n",
       "      <td>262.080</td>\n",
       "      <td>243.60</td>\n",
       "      <td>11.1249</td>\n",
       "      <td>263.952</td>\n",
       "      <td>245.34</td>\n",
       "      <td>164.112</td>\n",
       "      <td>152.54</td>\n",
       "      <td>3619.2</td>\n",
       "    </tr>\n",
       "    <tr>\n",
       "      <th>4</th>\n",
       "      <td>1.3454</td>\n",
       "      <td>1.3485</td>\n",
       "      <td>0.8525</td>\n",
       "      <td>19.623</td>\n",
       "      <td>17.98</td>\n",
       "      <td>18.8790</td>\n",
       "      <td>11.9350</td>\n",
       "      <td>274.722</td>\n",
       "      <td>251.72</td>\n",
       "      <td>11.9625</td>\n",
       "      <td>275.355</td>\n",
       "      <td>252.30</td>\n",
       "      <td>174.075</td>\n",
       "      <td>159.50</td>\n",
       "      <td>3671.4</td>\n",
       "    </tr>\n",
       "  </tbody>\n",
       "</table>\n",
       "</div>"
      ],
      "text/plain": [
       "   carat * x  carat * y  carat * z  carat * depth  carat * table    x * y  \\\n",
       "0     0.9085     0.9154     0.5589         14.145          12.65  15.7210   \n",
       "1     0.8169     0.8064     0.4851         12.558          12.81  14.9376   \n",
       "2     0.9315     0.9361     0.5313         13.087          14.95  16.4835   \n",
       "3     1.2180     1.2267     0.7627         18.096          16.82  17.7660   \n",
       "4     1.3454     1.3485     0.8525         19.623          17.98  18.8790   \n",
       "\n",
       "     x * z  x * depth  x * table    y * z  y * depth  y * table  z * depth  \\\n",
       "0   9.5985    242.925     217.25   9.6714    244.770     218.90    149.445   \n",
       "1   8.9859    232.622     237.29   8.8704    229.632     234.24    138.138   \n",
       "2   9.3555    230.445     263.25   9.4017    231.583     264.55    131.439   \n",
       "3  11.0460    262.080     243.60  11.1249    263.952     245.34    164.112   \n",
       "4  11.9350    274.722     251.72  11.9625    275.355     252.30    174.075   \n",
       "\n",
       "   z * table  depth * table  \n",
       "0     133.65         3382.5  \n",
       "1     140.91         3647.8  \n",
       "2     150.15         3698.5  \n",
       "3     152.54         3619.2  \n",
       "4     159.50         3671.4  "
      ]
     },
     "execution_count": 185,
     "metadata": {},
     "output_type": "execute_result"
    }
   ],
   "source": [
    "df = diamonds.copy()\n",
    "\n",
    "continu_cols = ['carat', 'x', 'y', 'z', 'depth', 'table']\n",
    "# regdata = df[continu_cols]\n",
    "polynomial = []\n",
    "for i in range(len(continu_cols) - 1): # Loop through continous columns\n",
    "    col_m = df[continu_cols[i]] # ith col\n",
    "    for j in range(i+1, len(continu_cols)): # Loop through cols after ith\n",
    "        col_n = df[continu_cols[j]] # jth col\n",
    "        name = col_m.name + ' * ' + col_n.name # Poly col name\n",
    "        values = pd.Series(col_m * col_n, name=name) # Quadratics value\n",
    "        polynomial.append(values)\n",
    "\n",
    "out = pd.DataFrame(polynomial).T\n",
    "out.head()"
   ]
  },
  {
   "cell_type": "code",
   "execution_count": 186,
   "metadata": {},
   "outputs": [
    {
     "data": {
      "text/plain": [
       "False"
      ]
     },
     "execution_count": 186,
     "metadata": {},
     "output_type": "execute_result"
    }
   ],
   "source": [
    "out.equals(sklearn_answer) # True when column name no *"
   ]
  },
  {
   "cell_type": "code",
   "execution_count": null,
   "metadata": {},
   "outputs": [],
   "source": []
  },
  {
   "cell_type": "code",
   "execution_count": 40,
   "metadata": {},
   "outputs": [],
   "source": [
    "def create_quadratics(df):\n",
    "    \"\"\"\n",
    "    create_quadratics that takes in diamonds and returns a dataframe \n",
    "    of quadratic-encoded features <col1> * <col2> where <col1> and <col2> \n",
    "    are the original quantitative columns \n",
    "    (col1 and col2 should be distinct columns).\n",
    "\n",
    "    :Example:\n",
    "    >>> diamonds = sns.load_dataset('diamonds')\n",
    "    >>> out = create_quadratics(diamonds)\n",
    "    >>> out.columns.str.contains(' * ').all()\n",
    "    True\n",
    "    >>> ('x * z' in out.columns) or ('z * x' in out.columns)\n",
    "    True\n",
    "    >>> out.shape[1] == 15\n",
    "    True\n",
    "    \"\"\"\n",
    "    continu_cols = ['carat', 'x', 'y', 'z', 'depth', 'table']\n",
    "    polynomial = []\n",
    "    for i in range(len(continu_cols) - 1): # Loop through continous columns\n",
    "        col_m = df[continu_cols[i]] # ith col\n",
    "        for j in range(i+1, len(continu_cols)): # Loop through cols after ith\n",
    "            col_n = df[continu_cols[j]] # jth col\n",
    "            name = col_m.name + ' * ' + col_n.name # Poly col name\n",
    "            values = pd.Series(col_m * col_n, name=name) # Quadratics value\n",
    "            polynomial.append(values)\n",
    "\n",
    "    return pd.DataFrame(polynomial).T"
   ]
  },
  {
   "cell_type": "code",
   "execution_count": 187,
   "metadata": {},
   "outputs": [
    {
     "data": {
      "text/plain": [
       "True"
      ]
     },
     "execution_count": 187,
     "metadata": {},
     "output_type": "execute_result"
    }
   ],
   "source": [
    "# Test output of py\n",
    "create_quadratics(df).equals(lab.create_quadratics(df))"
   ]
  },
  {
   "cell_type": "code",
   "execution_count": null,
   "metadata": {},
   "outputs": [],
   "source": []
  },
  {
   "cell_type": "markdown",
   "metadata": {},
   "source": [
    "### Comparing Performance\n",
    "\n",
    "**Question 5**\n",
    "\n",
    "Which features are most able to predict the price of a diamond in a linear regression model? \n",
    "\n",
    "Among the original columns, `carat` gives the best predictions when used in a *single-variable* linear regression model. Below, you will fit a single-variable linear regression model for each variable (both in the dataset, as well as the engineered features from the questions above).\n",
    "\n",
    "* What is the $R^2$ of a regression model built on the variable `carat`?\n",
    "* What is the RMSE of the linear-predictor built on `carat` (in USD)?\n",
    "* What is the *second best* feature in the original dataset (as measured by $R^2$)?\n",
    "* What is the best *new* feature engineered (including the ones in Q2, Q3, Q4) in the question above (as measured by $R^2$)?\n",
    "* Which *categorical* feature results in the best predictor (as measured by $R^2$)?\n",
    "\n",
    "Now, you will compare a multivariate regression model fitted with the original (quantitative) columns with a multivariate regression model fitted with both the original (quantitative) columns, as well as the features engineered in the problem above. \n",
    "\n",
    "* What is the percent decrease in RMSE between the two models (given as a number between 0 and 1)? (*Note*: RMSE is measured in USD! But no need to round).\n",
    "\n",
    "Create a function `comparing_performance` that returns a list containing the 6 answers above.\n",
    "\n",
    "*Hint:* Use the `sklearn` pattern included below. Train many linear regression models and sift through the results!"
   ]
  },
  {
   "cell_type": "markdown",
   "metadata": {},
   "source": [
    "# ASK!!!! \n",
    "## Check what to ask!!!!!!!!!"
   ]
  },
  {
   "cell_type": "code",
   "execution_count": 41,
   "metadata": {},
   "outputs": [],
   "source": [
    "from sklearn.linear_model import LinearRegression"
   ]
  },
  {
   "cell_type": "code",
   "execution_count": 42,
   "metadata": {},
   "outputs": [
    {
     "data": {
      "text/plain": [
       "Index(['carat', 'cut', 'color', 'clarity', 'depth', 'table', 'price', 'x', 'y',\n",
       "       'z'],\n",
       "      dtype='object')"
      ]
     },
     "execution_count": 42,
     "metadata": {},
     "output_type": "execute_result"
    }
   ],
   "source": [
    "diamonds.columns"
   ]
  },
  {
   "cell_type": "code",
   "execution_count": 194,
   "metadata": {},
   "outputs": [
    {
     "data": {
      "text/plain": [
       "0.016163029068700662"
      ]
     },
     "execution_count": 194,
     "metadata": {},
     "output_type": "execute_result"
    }
   ],
   "source": [
    "# Q1 - Q3\n",
    "\n",
    "# for col in ['carat', 'cut', 'color', 'clarity', 'depth', 'table', 'x', 'y', 'z']:\n",
    "    # df = \n",
    "\n",
    "# X = diamonds[['carat', 'x', 'y', 'z', 'depth', 'table']]\n",
    "X = diamonds['carat']\n",
    "X = diamonds['x']\n",
    "X = diamonds['y']\n",
    "X = diamonds['z']\n",
    "X = diamonds['depth']\n",
    "X = diamonds['table']\n",
    "y = diamonds['price']\n",
    "\n",
    "lr = LinearRegression()\n",
    "ln = scipy.stats.linregress(diamonds[['table', 'price']])  # X is dataframe of training data; y a series of prices\n",
    "# lr.score(X, y)  # R-squared\n",
    "# lr.predict(X) # predicted prices\n",
    "ln.rvalue ** 2"
   ]
  },
  {
   "cell_type": "code",
   "execution_count": 225,
   "metadata": {},
   "outputs": [
    {
     "data": {
      "text/html": [
       "<div>\n",
       "<style scoped>\n",
       "    .dataframe tbody tr th:only-of-type {\n",
       "        vertical-align: middle;\n",
       "    }\n",
       "\n",
       "    .dataframe tbody tr th {\n",
       "        vertical-align: top;\n",
       "    }\n",
       "\n",
       "    .dataframe thead th {\n",
       "        text-align: right;\n",
       "    }\n",
       "</style>\n",
       "<table border=\"1\" class=\"dataframe\">\n",
       "  <thead>\n",
       "    <tr style=\"text-align: right;\">\n",
       "      <th></th>\n",
       "      <th>rsquare</th>\n",
       "      <th>rmse</th>\n",
       "    </tr>\n",
       "  </thead>\n",
       "  <tbody>\n",
       "    <tr>\n",
       "      <th>carat</th>\n",
       "      <td>0.849331</td>\n",
       "      <td>1548.533193</td>\n",
       "    </tr>\n",
       "    <tr>\n",
       "      <th>depth</th>\n",
       "      <td>0.000113</td>\n",
       "      <td>3989.176617</td>\n",
       "    </tr>\n",
       "    <tr>\n",
       "      <th>table</th>\n",
       "      <td>0.016163</td>\n",
       "      <td>3957.031002</td>\n",
       "    </tr>\n",
       "    <tr>\n",
       "      <th>x</th>\n",
       "      <td>0.782226</td>\n",
       "      <td>1861.707045</td>\n",
       "    </tr>\n",
       "    <tr>\n",
       "      <th>y</th>\n",
       "      <td>0.748953</td>\n",
       "      <td>1998.872604</td>\n",
       "    </tr>\n",
       "    <tr>\n",
       "      <th>z</th>\n",
       "      <td>0.741751</td>\n",
       "      <td>2027.344440</td>\n",
       "    </tr>\n",
       "  </tbody>\n",
       "</table>\n",
       "</div>"
      ],
      "text/plain": [
       "        rsquare         rmse\n",
       "carat  0.849331  1548.533193\n",
       "depth  0.000113  3989.176617\n",
       "table  0.016163  3957.031002\n",
       "x      0.782226  1861.707045\n",
       "y      0.748953  1998.872604\n",
       "z      0.741751  2027.344440"
      ]
     },
     "execution_count": 225,
     "metadata": {},
     "output_type": "execute_result"
    }
   ],
   "source": [
    "# Q1 - Q3\n",
    "# for col in ['carat', 'cut', 'color', 'clarity', 'depth', 'table', 'x', 'y', 'z']: # include categorical\n",
    "index_lst, rsquare_lst, rmse_lst = [], [], []\n",
    "for col in ['carat', 'depth', 'table', 'x', 'y', 'z']:\n",
    "    X = diamonds[[col]]\n",
    "    y = diamonds['price']\n",
    "\n",
    "    lr = LinearRegression()\n",
    "    lr.fit(X, y)  # X is dataframe of training data; y a series of prices\n",
    "    rsquare = lr.score(X, y)  # R-squared\n",
    "    pred_price = lr.predict(X) # predicted prices\n",
    "    rmse = np.sqrt(np.mean((pred_price - y)**2)) # RMSE\n",
    "    \n",
    "    index_lst.append(col)\n",
    "    rsquare_lst.append(rsquare)\n",
    "    rmse_lst.append(rmse)\n",
    "    # print(col + ': R-square = ' + str(rsquare) + '; RMSE = ' + str(rmse))\n",
    "# print([rsquare_lst, rmse_lst])\n",
    "info = pd.DataFrame(index=index_lst, data=dict(zip('rsquare rmse'.split(), [rsquare_lst, rmse_lst])))\n",
    "info"
   ]
  },
  {
   "cell_type": "code",
   "execution_count": 226,
   "metadata": {},
   "outputs": [
    {
     "data": {
      "text/html": [
       "<div>\n",
       "<style scoped>\n",
       "    .dataframe tbody tr th:only-of-type {\n",
       "        vertical-align: middle;\n",
       "    }\n",
       "\n",
       "    .dataframe tbody tr th {\n",
       "        vertical-align: top;\n",
       "    }\n",
       "\n",
       "    .dataframe thead th {\n",
       "        text-align: right;\n",
       "    }\n",
       "</style>\n",
       "<table border=\"1\" class=\"dataframe\">\n",
       "  <thead>\n",
       "    <tr style=\"text-align: right;\">\n",
       "      <th></th>\n",
       "      <th>rsquare</th>\n",
       "      <th>rmse</th>\n",
       "    </tr>\n",
       "  </thead>\n",
       "  <tbody>\n",
       "    <tr>\n",
       "      <th>carat</th>\n",
       "      <td>0.849331</td>\n",
       "      <td>1548.533193</td>\n",
       "    </tr>\n",
       "    <tr>\n",
       "      <th>x</th>\n",
       "      <td>0.782226</td>\n",
       "      <td>1861.707045</td>\n",
       "    </tr>\n",
       "    <tr>\n",
       "      <th>y</th>\n",
       "      <td>0.748953</td>\n",
       "      <td>1998.872604</td>\n",
       "    </tr>\n",
       "    <tr>\n",
       "      <th>z</th>\n",
       "      <td>0.741751</td>\n",
       "      <td>2027.344440</td>\n",
       "    </tr>\n",
       "    <tr>\n",
       "      <th>table</th>\n",
       "      <td>0.016163</td>\n",
       "      <td>3957.031002</td>\n",
       "    </tr>\n",
       "    <tr>\n",
       "      <th>depth</th>\n",
       "      <td>0.000113</td>\n",
       "      <td>3989.176617</td>\n",
       "    </tr>\n",
       "  </tbody>\n",
       "</table>\n",
       "</div>"
      ],
      "text/plain": [
       "        rsquare         rmse\n",
       "carat  0.849331  1548.533193\n",
       "x      0.782226  1861.707045\n",
       "y      0.748953  1998.872604\n",
       "z      0.741751  2027.344440\n",
       "table  0.016163  3957.031002\n",
       "depth  0.000113  3989.176617"
      ]
     },
     "execution_count": 226,
     "metadata": {},
     "output_type": "execute_result"
    }
   ],
   "source": [
    "info.sort_values('rsquare', ascending=False)"
   ]
  },
  {
   "cell_type": "code",
   "execution_count": null,
   "metadata": {},
   "outputs": [],
   "source": []
  },
  {
   "cell_type": "code",
   "execution_count": 223,
   "metadata": {},
   "outputs": [],
   "source": [
    "ordinal = create_ordinal(diamonds)\n",
    "one_hot = create_one_hot(diamonds)\n",
    "prop = create_proportions(diamonds)\n",
    "poly = create_quadratics(diamonds)"
   ]
  },
  {
   "cell_type": "code",
   "execution_count": 227,
   "metadata": {},
   "outputs": [
    {
     "data": {
      "text/html": [
       "<div>\n",
       "<style scoped>\n",
       "    .dataframe tbody tr th:only-of-type {\n",
       "        vertical-align: middle;\n",
       "    }\n",
       "\n",
       "    .dataframe tbody tr th {\n",
       "        vertical-align: top;\n",
       "    }\n",
       "\n",
       "    .dataframe thead th {\n",
       "        text-align: right;\n",
       "    }\n",
       "</style>\n",
       "<table border=\"1\" class=\"dataframe\">\n",
       "  <thead>\n",
       "    <tr style=\"text-align: right;\">\n",
       "      <th></th>\n",
       "      <th>rsquare</th>\n",
       "      <th>rmse</th>\n",
       "    </tr>\n",
       "  </thead>\n",
       "  <tbody>\n",
       "    <tr>\n",
       "      <th>ordinal_cut</th>\n",
       "      <td>2.861251e-03</td>\n",
       "      <td>3983.691328</td>\n",
       "    </tr>\n",
       "    <tr>\n",
       "      <th>ordinal_color</th>\n",
       "      <td>2.976002e-02</td>\n",
       "      <td>3929.592051</td>\n",
       "    </tr>\n",
       "    <tr>\n",
       "      <th>ordinal_clarity</th>\n",
       "      <td>2.155026e-02</td>\n",
       "      <td>3946.182301</td>\n",
       "    </tr>\n",
       "    <tr>\n",
       "      <th>one_hot_cut_Fair</th>\n",
       "      <td>3.507462e-04</td>\n",
       "      <td>3988.703062</td>\n",
       "    </tr>\n",
       "    <tr>\n",
       "      <th>one_hot_cut_Good</th>\n",
       "      <td>9.735619e-08</td>\n",
       "      <td>3989.402563</td>\n",
       "    </tr>\n",
       "  </tbody>\n",
       "</table>\n",
       "</div>"
      ],
      "text/plain": [
       "                       rsquare         rmse\n",
       "ordinal_cut       2.861251e-03  3983.691328\n",
       "ordinal_color     2.976002e-02  3929.592051\n",
       "ordinal_clarity   2.155026e-02  3946.182301\n",
       "one_hot_cut_Fair  3.507462e-04  3988.703062\n",
       "one_hot_cut_Good  9.735619e-08  3989.402563"
      ]
     },
     "execution_count": 227,
     "metadata": {},
     "output_type": "execute_result"
    }
   ],
   "source": [
    "index_lst, rsquare_lst, rmse_lst = [], [], []\n",
    "for df in [ordinal, one_hot, prop, poly]:\n",
    "    for col in df.columns:\n",
    "        X = df[[col]]\n",
    "        y = diamonds['price']\n",
    "\n",
    "        lr = LinearRegression()\n",
    "        lr.fit(X, y)  # X is dataframe of training data; y a series of prices\n",
    "        rsquare = lr.score(X, y)  # R-squared\n",
    "        pred_price = lr.predict(X) # predicted prices\n",
    "        rmse = np.sqrt(np.mean((pred_price - y)**2)) # RMSE\n",
    "        \n",
    "        \n",
    "        index_lst.append(col)\n",
    "        rsquare_lst.append(rsquare)\n",
    "        rmse_lst.append(rmse)\n",
    "        # print(col + ': R-square = ' + str(rsquare) + '; RMSE = ' + str(rmse))\n",
    "info = pd.DataFrame(index=index_lst, data=dict(zip('rsquare rmse'.split(), [rsquare_lst, rmse_lst])))\n",
    "info.head()"
   ]
  },
  {
   "cell_type": "code",
   "execution_count": 228,
   "metadata": {},
   "outputs": [
    {
     "data": {
      "text/html": [
       "<div>\n",
       "<style scoped>\n",
       "    .dataframe tbody tr th:only-of-type {\n",
       "        vertical-align: middle;\n",
       "    }\n",
       "\n",
       "    .dataframe tbody tr th {\n",
       "        vertical-align: top;\n",
       "    }\n",
       "\n",
       "    .dataframe thead th {\n",
       "        text-align: right;\n",
       "    }\n",
       "</style>\n",
       "<table border=\"1\" class=\"dataframe\">\n",
       "  <thead>\n",
       "    <tr style=\"text-align: right;\">\n",
       "      <th></th>\n",
       "      <th>rsquare</th>\n",
       "      <th>rmse</th>\n",
       "    </tr>\n",
       "  </thead>\n",
       "  <tbody>\n",
       "    <tr>\n",
       "      <th>carat * x</th>\n",
       "      <td>8.524271e-01</td>\n",
       "      <td>1532.537946</td>\n",
       "    </tr>\n",
       "    <tr>\n",
       "      <th>carat * z</th>\n",
       "      <td>8.463425e-01</td>\n",
       "      <td>1563.813022</td>\n",
       "    </tr>\n",
       "    <tr>\n",
       "      <th>carat * y</th>\n",
       "      <td>8.440007e-01</td>\n",
       "      <td>1575.684321</td>\n",
       "    </tr>\n",
       "    <tr>\n",
       "      <th>carat * depth</th>\n",
       "      <td>8.424153e-01</td>\n",
       "      <td>1583.670844</td>\n",
       "    </tr>\n",
       "    <tr>\n",
       "      <th>carat * table</th>\n",
       "      <td>8.391936e-01</td>\n",
       "      <td>1599.777601</td>\n",
       "    </tr>\n",
       "    <tr>\n",
       "      <th>x * z</th>\n",
       "      <td>8.163134e-01</td>\n",
       "      <td>1709.805163</td>\n",
       "    </tr>\n",
       "    <tr>\n",
       "      <th>x * y</th>\n",
       "      <td>8.120750e-01</td>\n",
       "      <td>1729.418648</td>\n",
       "    </tr>\n",
       "    <tr>\n",
       "      <th>y * z</th>\n",
       "      <td>7.741500e-01</td>\n",
       "      <td>1895.911068</td>\n",
       "    </tr>\n",
       "    <tr>\n",
       "      <th>x * depth</th>\n",
       "      <td>7.720373e-01</td>\n",
       "      <td>1904.757913</td>\n",
       "    </tr>\n",
       "    <tr>\n",
       "      <th>y * depth</th>\n",
       "      <td>7.427547e-01</td>\n",
       "      <td>2023.399482</td>\n",
       "    </tr>\n",
       "    <tr>\n",
       "      <th>x * table</th>\n",
       "      <td>7.399856e-01</td>\n",
       "      <td>2034.260684</td>\n",
       "    </tr>\n",
       "    <tr>\n",
       "      <th>z * table</th>\n",
       "      <td>7.178725e-01</td>\n",
       "      <td>2118.998300</td>\n",
       "    </tr>\n",
       "    <tr>\n",
       "      <th>y * table</th>\n",
       "      <td>7.145972e-01</td>\n",
       "      <td>2131.262819</td>\n",
       "    </tr>\n",
       "    <tr>\n",
       "      <th>z * depth</th>\n",
       "      <td>7.105099e-01</td>\n",
       "      <td>2146.469782</td>\n",
       "    </tr>\n",
       "    <tr>\n",
       "      <th>ordinal_color</th>\n",
       "      <td>2.976002e-02</td>\n",
       "      <td>3929.592051</td>\n",
       "    </tr>\n",
       "    <tr>\n",
       "      <th>ordinal_clarity</th>\n",
       "      <td>2.155026e-02</td>\n",
       "      <td>3946.182301</td>\n",
       "    </tr>\n",
       "    <tr>\n",
       "      <th>one_hot_clarity_SI2</th>\n",
       "      <td>1.649177e-02</td>\n",
       "      <td>3956.369839</td>\n",
       "    </tr>\n",
       "    <tr>\n",
       "      <th>depth * table</th>\n",
       "      <td>1.444209e-02</td>\n",
       "      <td>3960.490333</td>\n",
       "    </tr>\n",
       "    <tr>\n",
       "      <th>one_hot_color_E</th>\n",
       "      <td>1.021906e-02</td>\n",
       "      <td>3968.966440</td>\n",
       "    </tr>\n",
       "    <tr>\n",
       "      <th>one_hot_cut_Ideal</th>\n",
       "      <td>9.443055e-03</td>\n",
       "      <td>3970.522003</td>\n",
       "    </tr>\n",
       "    <tr>\n",
       "      <th>one_hot_color_I</th>\n",
       "      <td>9.433310e-03</td>\n",
       "      <td>3970.541535</td>\n",
       "    </tr>\n",
       "    <tr>\n",
       "      <th>one_hot_cut_Premium</th>\n",
       "      <td>9.159633e-03</td>\n",
       "      <td>3971.089994</td>\n",
       "    </tr>\n",
       "    <tr>\n",
       "      <th>one_hot_clarity_VVS1</th>\n",
       "      <td>9.075642e-03</td>\n",
       "      <td>3971.258300</td>\n",
       "    </tr>\n",
       "    <tr>\n",
       "      <th>proportion_color</th>\n",
       "      <td>8.312774e-03</td>\n",
       "      <td>3972.786652</td>\n",
       "    </tr>\n",
       "    <tr>\n",
       "      <th>one_hot_color_J</th>\n",
       "      <td>6.676583e-03</td>\n",
       "      <td>3976.062665</td>\n",
       "    </tr>\n",
       "    <tr>\n",
       "      <th>proportion_clarity</th>\n",
       "      <td>6.333681e-03</td>\n",
       "      <td>3976.748887</td>\n",
       "    </tr>\n",
       "    <tr>\n",
       "      <th>one_hot_color_D</th>\n",
       "      <td>5.252270e-03</td>\n",
       "      <td>3978.912255</td>\n",
       "    </tr>\n",
       "    <tr>\n",
       "      <th>proportion_cut</th>\n",
       "      <td>5.004174e-03</td>\n",
       "      <td>3979.408406</td>\n",
       "    </tr>\n",
       "    <tr>\n",
       "      <th>one_hot_color_H</th>\n",
       "      <td>3.507348e-03</td>\n",
       "      <td>3982.400500</td>\n",
       "    </tr>\n",
       "    <tr>\n",
       "      <th>ordinal_cut</th>\n",
       "      <td>2.861251e-03</td>\n",
       "      <td>3983.691328</td>\n",
       "    </tr>\n",
       "    <tr>\n",
       "      <th>one_hot_clarity_VVS2</th>\n",
       "      <td>2.743751e-03</td>\n",
       "      <td>3983.926033</td>\n",
       "    </tr>\n",
       "    <tr>\n",
       "      <th>one_hot_clarity_IF</th>\n",
       "      <td>2.459764e-03</td>\n",
       "      <td>3984.493242</td>\n",
       "    </tr>\n",
       "    <tr>\n",
       "      <th>one_hot_color_F</th>\n",
       "      <td>5.837473e-04</td>\n",
       "      <td>3988.238186</td>\n",
       "    </tr>\n",
       "    <tr>\n",
       "      <th>one_hot_cut_Fair</th>\n",
       "      <td>3.507462e-04</td>\n",
       "      <td>3988.703062</td>\n",
       "    </tr>\n",
       "    <tr>\n",
       "      <th>one_hot_clarity_VS1</th>\n",
       "      <td>9.773810e-05</td>\n",
       "      <td>3989.207795</td>\n",
       "    </tr>\n",
       "    <tr>\n",
       "      <th>one_hot_clarity_SI1</th>\n",
       "      <td>8.022129e-05</td>\n",
       "      <td>3989.242737</td>\n",
       "    </tr>\n",
       "    <tr>\n",
       "      <th>one_hot_color_G</th>\n",
       "      <td>7.320729e-05</td>\n",
       "      <td>3989.256728</td>\n",
       "    </tr>\n",
       "    <tr>\n",
       "      <th>one_hot_cut_Very Good</th>\n",
       "      <td>4.347408e-05</td>\n",
       "      <td>3989.316039</td>\n",
       "    </tr>\n",
       "    <tr>\n",
       "      <th>one_hot_clarity_VS2</th>\n",
       "      <td>1.127181e-06</td>\n",
       "      <td>3989.400509</td>\n",
       "    </tr>\n",
       "    <tr>\n",
       "      <th>one_hot_cut_Good</th>\n",
       "      <td>9.735619e-08</td>\n",
       "      <td>3989.402563</td>\n",
       "    </tr>\n",
       "    <tr>\n",
       "      <th>one_hot_clarity_I1</th>\n",
       "      <td>6.519651e-08</td>\n",
       "      <td>3989.402628</td>\n",
       "    </tr>\n",
       "  </tbody>\n",
       "</table>\n",
       "</div>"
      ],
      "text/plain": [
       "                            rsquare         rmse\n",
       "carat * x              8.524271e-01  1532.537946\n",
       "carat * z              8.463425e-01  1563.813022\n",
       "carat * y              8.440007e-01  1575.684321\n",
       "carat * depth          8.424153e-01  1583.670844\n",
       "carat * table          8.391936e-01  1599.777601\n",
       "x * z                  8.163134e-01  1709.805163\n",
       "x * y                  8.120750e-01  1729.418648\n",
       "y * z                  7.741500e-01  1895.911068\n",
       "x * depth              7.720373e-01  1904.757913\n",
       "y * depth              7.427547e-01  2023.399482\n",
       "x * table              7.399856e-01  2034.260684\n",
       "z * table              7.178725e-01  2118.998300\n",
       "y * table              7.145972e-01  2131.262819\n",
       "z * depth              7.105099e-01  2146.469782\n",
       "ordinal_color          2.976002e-02  3929.592051\n",
       "ordinal_clarity        2.155026e-02  3946.182301\n",
       "one_hot_clarity_SI2    1.649177e-02  3956.369839\n",
       "depth * table          1.444209e-02  3960.490333\n",
       "one_hot_color_E        1.021906e-02  3968.966440\n",
       "one_hot_cut_Ideal      9.443055e-03  3970.522003\n",
       "one_hot_color_I        9.433310e-03  3970.541535\n",
       "one_hot_cut_Premium    9.159633e-03  3971.089994\n",
       "one_hot_clarity_VVS1   9.075642e-03  3971.258300\n",
       "proportion_color       8.312774e-03  3972.786652\n",
       "one_hot_color_J        6.676583e-03  3976.062665\n",
       "proportion_clarity     6.333681e-03  3976.748887\n",
       "one_hot_color_D        5.252270e-03  3978.912255\n",
       "proportion_cut         5.004174e-03  3979.408406\n",
       "one_hot_color_H        3.507348e-03  3982.400500\n",
       "ordinal_cut            2.861251e-03  3983.691328\n",
       "one_hot_clarity_VVS2   2.743751e-03  3983.926033\n",
       "one_hot_clarity_IF     2.459764e-03  3984.493242\n",
       "one_hot_color_F        5.837473e-04  3988.238186\n",
       "one_hot_cut_Fair       3.507462e-04  3988.703062\n",
       "one_hot_clarity_VS1    9.773810e-05  3989.207795\n",
       "one_hot_clarity_SI1    8.022129e-05  3989.242737\n",
       "one_hot_color_G        7.320729e-05  3989.256728\n",
       "one_hot_cut_Very Good  4.347408e-05  3989.316039\n",
       "one_hot_clarity_VS2    1.127181e-06  3989.400509\n",
       "one_hot_cut_Good       9.735619e-08  3989.402563\n",
       "one_hot_clarity_I1     6.519651e-08  3989.402628"
      ]
     },
     "execution_count": 228,
     "metadata": {},
     "output_type": "execute_result"
    }
   ],
   "source": [
    "info.sort_values('rsquare', ascending=False)"
   ]
  },
  {
   "cell_type": "code",
   "execution_count": null,
   "metadata": {},
   "outputs": [],
   "source": []
  },
  {
   "cell_type": "code",
   "execution_count": 235,
   "metadata": {},
   "outputs": [
    {
     "name": "stdout",
     "output_type": "stream",
     "text": [
      "R-square = 0.8592186831580987; RMSE = 1496.8572842935746\n"
     ]
    }
   ],
   "source": [
    "origin = diamonds[['carat', 'depth', 'table', 'x', 'y', 'z']] # Original quantitative cols\n",
    "X = origin\n",
    "y = diamonds['price']\n",
    "\n",
    "lr = LinearRegression()\n",
    "lr.fit(X, y)  # X is dataframe of training data; y a series of prices\n",
    "rsquare = lr.score(X, y)  # R-squared\n",
    "pred_price = lr.predict(X) # predicted prices\n",
    "rmse = np.sqrt(np.mean((pred_price - y)**2)) # RMSE\n",
    "print('R-square = ' + str(rsquare) + '; RMSE = ' + str(rmse))"
   ]
  },
  {
   "cell_type": "code",
   "execution_count": 252,
   "metadata": {},
   "outputs": [
    {
     "data": {
      "text/plain": [
       "44"
      ]
     },
     "execution_count": 252,
     "metadata": {},
     "output_type": "execute_result"
    }
   ],
   "source": [
    "all_features = pd.concat([origin, ordinal, one_hot, poly], axis=1, sort=False)\n",
    "origin.shape[1] + ordinal.shape[1] + one_hot.shape[1] + poly.shape[1] # 44 cols"
   ]
  },
  {
   "cell_type": "code",
   "execution_count": 240,
   "metadata": {},
   "outputs": [
    {
     "name": "stdout",
     "output_type": "stream",
     "text": [
      "R-square = 0.9259185493409197; RMSE = 1085.831965501109\n"
     ]
    }
   ],
   "source": [
    "X = all_features\n",
    "y = diamonds['price']\n",
    "\n",
    "lr = LinearRegression()\n",
    "lr.fit(X, y)  # X is dataframe of training data; y a series of prices\n",
    "rsquare = lr.score(X, y)  # R-squared\n",
    "pred_price = lr.predict(X) # predicted prices\n",
    "rmse = np.sqrt(np.mean((pred_price - y)**2)) # RMSE\n",
    "print('R-square = ' + str(rsquare) + '; RMSE = ' + str(rmse))"
   ]
  },
  {
   "cell_type": "code",
   "execution_count": 241,
   "metadata": {},
   "outputs": [
    {
     "data": {
      "text/plain": [
       "0.27459218931913376"
      ]
     },
     "execution_count": 241,
     "metadata": {},
     "output_type": "execute_result"
    }
   ],
   "source": [
    "(1496.8572842935746 - 1085.831965501109) / 1496.8572842935746 # Decrease, return negative?"
   ]
  },
  {
   "cell_type": "code",
   "execution_count": null,
   "metadata": {},
   "outputs": [],
   "source": []
  },
  {
   "cell_type": "code",
   "execution_count": null,
   "metadata": {},
   "outputs": [],
   "source": []
  },
  {
   "cell_type": "code",
   "execution_count": null,
   "metadata": {},
   "outputs": [],
   "source": []
  },
  {
   "cell_type": "code",
   "execution_count": 49,
   "metadata": {},
   "outputs": [],
   "source": [
    "# Answer\n",
    "rsquare = 0.8493305264354857 # Q1\n",
    "rmse = 1548.5331930613174 # Q2\n",
    "second_best = 'x' # Q3\n",
    "best_new_feature = 'carat * x' # Q4\n",
    "best_category = 'ordinal_color' # Q5\n",
    "percent_decrease = 0.27459218931913376 # Q6"
   ]
  },
  {
   "cell_type": "code",
   "execution_count": 247,
   "metadata": {},
   "outputs": [],
   "source": [
    "def comparing_performance():\n",
    "    \"\"\"\n",
    "    Hard coded answers to comparing_performance.\n",
    "\n",
    "    :Example:\n",
    "    >>> out = comparing_performance()\n",
    "    >>> len(out) == 6\n",
    "    True\n",
    "    >>> import numbers\n",
    "    >>> isinstance(out[0], numbers.Real)\n",
    "    True\n",
    "    >>> all(isinstance(x, str) for x in out[2:-1])\n",
    "    True\n",
    "    >>> 0 <= out[-1] <= 1\n",
    "    True\n",
    "    \"\"\"\n",
    "\n",
    "    # create a model per variable => (variable, R^2, RMSE) table\n",
    "    # Answer\n",
    "    rsquare = 0.8493305264354857 # Q1\n",
    "    rmse = 1548.5331930613174 # Q2\n",
    "    second_best = 'x' # Q3\n",
    "    best_new_feature = 'carat * x' # Q4\n",
    "    best_category = 'ordinal_color' # Q5\n",
    "    percent_decrease = 0.27459218931913376 # Q6\n",
    "    return [rsquare, rmse, second_best, best_new_feature, best_category, percent_decrease]"
   ]
  },
  {
   "cell_type": "code",
   "execution_count": 250,
   "metadata": {},
   "outputs": [
    {
     "data": {
      "text/plain": [
       "True"
      ]
     },
     "execution_count": 250,
     "metadata": {},
     "output_type": "execute_result"
    }
   ],
   "source": [
    "# Test output of py\n",
    "comparing_performance() == (lab.comparing_performance())"
   ]
  },
  {
   "cell_type": "code",
   "execution_count": null,
   "metadata": {},
   "outputs": [],
   "source": []
  },
  {
   "cell_type": "markdown",
   "metadata": {},
   "source": [
    "# Feature engineering with `Sklearn`\n",
    "\n",
    "In this section, you will use `sklearn` transformers/estimators for feature engineering. While everything you do with `sklearn` is possible to do with Pandas, `sklearn` transformers will enable you to couple your feature engineering with your modeling. This will allow you to more quickly build and assess your models in `sklearn`.\n",
    "\n",
    "Recall from lecture that `sklearn` is built on `numpy`, and so it's objects speak `ndarray` objcets *not* `DataFrame` objects! Each of the methods below should (1) first turn the input Pandas DataFrame into a numpy array, then (2) use the `.transform` method of an initialized `sklearn.Transformer` object. You should **not** use dataframe methods like apply in this problem."
   ]
  },
  {
   "cell_type": "code",
   "execution_count": 51,
   "metadata": {},
   "outputs": [],
   "source": [
    "from sklearn.preprocessing import Binarizer, QuantileTransformer, FunctionTransformer"
   ]
  },
  {
   "cell_type": "markdown",
   "metadata": {},
   "source": [
    "### Turning a quantitative column into a binary column\n",
    "\n",
    "In this section, you will create a `TransformDiamonds` class that contains the transformation-methods below. In the starter code, there is a skeleton for `TransformDiamonds` that is initialized with a dataframe `diamonds`.\n",
    "\n",
    "**Question 6**\n",
    "\n",
    "In the `diamonds` dataset, define a stone as *large* if it is greater than or equal to 1 carat. Use the `Binarizer` class to code up this transformation logic. Create a method `transformCarat` that takes in a dataframe like `diamonds` and returns a binarized `carat` column (an `np.ndarray`) as described above."
   ]
  },
  {
   "cell_type": "code",
   "execution_count": 267,
   "metadata": {},
   "outputs": [
    {
     "data": {
      "text/plain": [
       "array([[0.],\n",
       "       [0.],\n",
       "       [0.],\n",
       "       ...,\n",
       "       [0.],\n",
       "       [0.],\n",
       "       [0.]])"
      ]
     },
     "execution_count": 267,
     "metadata": {},
     "output_type": "execute_result"
    }
   ],
   "source": [
    "bi = Binarizer(threshold = 0.999) # initialize with the parameter\n",
    "binarized = bi.transform(diamonds[['carat']].values) # called transform on a data \n",
    "binarized"
   ]
  },
  {
   "cell_type": "code",
   "execution_count": 276,
   "metadata": {},
   "outputs": [
    {
     "data": {
      "text/plain": [
       "array([1.])"
      ]
     },
     "execution_count": 276,
     "metadata": {},
     "output_type": "execute_result"
    }
   ],
   "source": [
    "np.count_nonzero(pd.DataFrame(binarized)[0]) # 19060\n",
    "binarized[465]"
   ]
  },
  {
   "cell_type": "code",
   "execution_count": 272,
   "metadata": {},
   "outputs": [
    {
     "data": {
      "text/html": [
       "<div>\n",
       "<style scoped>\n",
       "    .dataframe tbody tr th:only-of-type {\n",
       "        vertical-align: middle;\n",
       "    }\n",
       "\n",
       "    .dataframe tbody tr th {\n",
       "        vertical-align: top;\n",
       "    }\n",
       "\n",
       "    .dataframe thead th {\n",
       "        text-align: right;\n",
       "    }\n",
       "</style>\n",
       "<table border=\"1\" class=\"dataframe\">\n",
       "  <thead>\n",
       "    <tr style=\"text-align: right;\">\n",
       "      <th></th>\n",
       "      <th>carat</th>\n",
       "      <th>cut</th>\n",
       "      <th>color</th>\n",
       "      <th>clarity</th>\n",
       "      <th>depth</th>\n",
       "      <th>table</th>\n",
       "      <th>price</th>\n",
       "      <th>x</th>\n",
       "      <th>y</th>\n",
       "      <th>z</th>\n",
       "    </tr>\n",
       "  </thead>\n",
       "  <tbody>\n",
       "    <tr>\n",
       "      <th>284</th>\n",
       "      <td>1.0</td>\n",
       "      <td>Premium</td>\n",
       "      <td>I</td>\n",
       "      <td>SI2</td>\n",
       "      <td>58.2</td>\n",
       "      <td>60.0</td>\n",
       "      <td>2795</td>\n",
       "      <td>6.61</td>\n",
       "      <td>6.55</td>\n",
       "      <td>3.83</td>\n",
       "    </tr>\n",
       "    <tr>\n",
       "      <th>324</th>\n",
       "      <td>1.0</td>\n",
       "      <td>Premium</td>\n",
       "      <td>J</td>\n",
       "      <td>SI2</td>\n",
       "      <td>62.3</td>\n",
       "      <td>58.0</td>\n",
       "      <td>2801</td>\n",
       "      <td>6.45</td>\n",
       "      <td>6.34</td>\n",
       "      <td>3.98</td>\n",
       "    </tr>\n",
       "    <tr>\n",
       "      <th>369</th>\n",
       "      <td>1.0</td>\n",
       "      <td>Fair</td>\n",
       "      <td>G</td>\n",
       "      <td>I1</td>\n",
       "      <td>66.4</td>\n",
       "      <td>59.0</td>\n",
       "      <td>2808</td>\n",
       "      <td>6.16</td>\n",
       "      <td>6.09</td>\n",
       "      <td>4.07</td>\n",
       "    </tr>\n",
       "    <tr>\n",
       "      <th>384</th>\n",
       "      <td>1.0</td>\n",
       "      <td>Fair</td>\n",
       "      <td>J</td>\n",
       "      <td>VS2</td>\n",
       "      <td>65.7</td>\n",
       "      <td>59.0</td>\n",
       "      <td>2811</td>\n",
       "      <td>6.14</td>\n",
       "      <td>6.07</td>\n",
       "      <td>4.01</td>\n",
       "    </tr>\n",
       "    <tr>\n",
       "      <th>465</th>\n",
       "      <td>1.0</td>\n",
       "      <td>Premium</td>\n",
       "      <td>H</td>\n",
       "      <td>I1</td>\n",
       "      <td>61.3</td>\n",
       "      <td>60.0</td>\n",
       "      <td>2818</td>\n",
       "      <td>6.43</td>\n",
       "      <td>6.39</td>\n",
       "      <td>3.93</td>\n",
       "    </tr>\n",
       "    <tr>\n",
       "      <th>...</th>\n",
       "      <td>...</td>\n",
       "      <td>...</td>\n",
       "      <td>...</td>\n",
       "      <td>...</td>\n",
       "      <td>...</td>\n",
       "      <td>...</td>\n",
       "      <td>...</td>\n",
       "      <td>...</td>\n",
       "      <td>...</td>\n",
       "      <td>...</td>\n",
       "    </tr>\n",
       "    <tr>\n",
       "      <th>53353</th>\n",
       "      <td>1.0</td>\n",
       "      <td>Ideal</td>\n",
       "      <td>J</td>\n",
       "      <td>SI2</td>\n",
       "      <td>61.2</td>\n",
       "      <td>56.0</td>\n",
       "      <td>2657</td>\n",
       "      <td>6.49</td>\n",
       "      <td>6.38</td>\n",
       "      <td>3.94</td>\n",
       "    </tr>\n",
       "    <tr>\n",
       "      <th>53564</th>\n",
       "      <td>1.0</td>\n",
       "      <td>Premium</td>\n",
       "      <td>H</td>\n",
       "      <td>I1</td>\n",
       "      <td>61.3</td>\n",
       "      <td>60.0</td>\n",
       "      <td>2695</td>\n",
       "      <td>6.39</td>\n",
       "      <td>6.43</td>\n",
       "      <td>3.93</td>\n",
       "    </tr>\n",
       "    <tr>\n",
       "      <th>53692</th>\n",
       "      <td>1.0</td>\n",
       "      <td>Good</td>\n",
       "      <td>F</td>\n",
       "      <td>I1</td>\n",
       "      <td>64.2</td>\n",
       "      <td>59.0</td>\n",
       "      <td>2717</td>\n",
       "      <td>6.26</td>\n",
       "      <td>6.30</td>\n",
       "      <td>4.03</td>\n",
       "    </tr>\n",
       "    <tr>\n",
       "      <th>53745</th>\n",
       "      <td>1.0</td>\n",
       "      <td>Fair</td>\n",
       "      <td>G</td>\n",
       "      <td>I1</td>\n",
       "      <td>61.7</td>\n",
       "      <td>57.0</td>\n",
       "      <td>2723</td>\n",
       "      <td>6.39</td>\n",
       "      <td>6.28</td>\n",
       "      <td>3.91</td>\n",
       "    </tr>\n",
       "    <tr>\n",
       "      <th>53863</th>\n",
       "      <td>1.0</td>\n",
       "      <td>Fair</td>\n",
       "      <td>I</td>\n",
       "      <td>SI2</td>\n",
       "      <td>66.8</td>\n",
       "      <td>56.0</td>\n",
       "      <td>2743</td>\n",
       "      <td>6.22</td>\n",
       "      <td>6.12</td>\n",
       "      <td>4.13</td>\n",
       "    </tr>\n",
       "  </tbody>\n",
       "</table>\n",
       "<p>1558 rows × 10 columns</p>\n",
       "</div>"
      ],
      "text/plain": [
       "       carat      cut color clarity  depth  table  price     x     y     z\n",
       "284      1.0  Premium     I     SI2   58.2   60.0   2795  6.61  6.55  3.83\n",
       "324      1.0  Premium     J     SI2   62.3   58.0   2801  6.45  6.34  3.98\n",
       "369      1.0     Fair     G      I1   66.4   59.0   2808  6.16  6.09  4.07\n",
       "384      1.0     Fair     J     VS2   65.7   59.0   2811  6.14  6.07  4.01\n",
       "465      1.0  Premium     H      I1   61.3   60.0   2818  6.43  6.39  3.93\n",
       "...      ...      ...   ...     ...    ...    ...    ...   ...   ...   ...\n",
       "53353    1.0    Ideal     J     SI2   61.2   56.0   2657  6.49  6.38  3.94\n",
       "53564    1.0  Premium     H      I1   61.3   60.0   2695  6.39  6.43  3.93\n",
       "53692    1.0     Good     F      I1   64.2   59.0   2717  6.26  6.30  4.03\n",
       "53745    1.0     Fair     G      I1   61.7   57.0   2723  6.39  6.28  3.91\n",
       "53863    1.0     Fair     I     SI2   66.8   56.0   2743  6.22  6.12  4.13\n",
       "\n",
       "[1558 rows x 10 columns]"
      ]
     },
     "execution_count": 272,
     "metadata": {},
     "output_type": "execute_result"
    }
   ],
   "source": [
    "diamonds[diamonds['carat'] == 1]"
   ]
  },
  {
   "cell_type": "code",
   "execution_count": 53,
   "metadata": {},
   "outputs": [],
   "source": [
    "class TransformDiamonds(object):\n",
    "    \n",
    "    def __init__(self, diamonds):\n",
    "        self.data = diamonds\n",
    "        \n",
    "    def transformCarat(self, data):\n",
    "        \"\"\"\n",
    "        transformCarat takes in a dataframe like diamonds \n",
    "        and returns a binarized carat column (an np.ndarray).\n",
    "\n",
    "        :Example:\n",
    "        >>> diamonds = sns.load_dataset('diamonds')\n",
    "        >>> out = TransformDiamonds(diamonds)\n",
    "        >>> transformed = out.transformCarat(diamonds)\n",
    "        >>> isinstance(transformed, np.ndarray)\n",
    "        True\n",
    "        >>> transformed[172, 0] == 1\n",
    "        True\n",
    "        >>> transformed[0, 0] == 0\n",
    "        True\n",
    "        \"\"\"\n",
    "        bi = Binarizer(threshold = 0.999) # initialize with the parameter\n",
    "        binarized = bi.transform(diamonds[['carat']].values) # called transform on a data \n",
    "        return binarized\n",
    "    \n",
    "    def transform_to_quantile(self, data):\n",
    "        \"\"\"\n",
    "        transform_to_quantiles takes in a dataframe like diamonds \n",
    "        and returns an np.ndarray of quantiles of the weight \n",
    "        (i.e. carats) of each diamond.\n",
    "\n",
    "        :Example:\n",
    "        >>> diamonds = sns.load_dataset('diamonds')\n",
    "        >>> out = TransformDiamonds(diamonds.head(10))\n",
    "        >>> transformed = out.transform_to_quantile(diamonds)\n",
    "        >>> isinstance(transformed, np.ndarray)\n",
    "        True\n",
    "        >>> 0.2 <= transformed[0,0] <= 0.5\n",
    "        True\n",
    "        >>> np.isclose(transformed[1,0], 0, atol=1e-06)\n",
    "        True\n",
    "        \"\"\"\n",
    "        qt = QuantileTransformer() # , output_distribution='normal'\n",
    "        ft = qt.fit(self.data[['carat']].values)\n",
    "        transformed = ft.transform(data[['carat']].values)\n",
    "        return transformed\n",
    "    \n",
    "    def transform_to_depth_pct(self, data):\n",
    "        \"\"\"\n",
    "        transform_to_volume takes in a dataframe like diamonds \n",
    "        and returns an np.ndarray consisting of the approximate \n",
    "        depth percentage of each diamond.\n",
    "\n",
    "        :Example:\n",
    "        >>> diamonds = sns.load_dataset('diamonds').drop(columns='depth')\n",
    "        >>> out = TransformDiamonds(diamonds)\n",
    "        >>> transformed = out.transform_to_depth_pct(diamonds)\n",
    "        >>> len(transformed.shape) == 1\n",
    "        True\n",
    "        >>> np.isclose(transformed[0], 61.286, atol=0.0001)\n",
    "        True\n",
    "        \"\"\"\n",
    "        # Custom function to calc depth percentage\n",
    "        def depth_pct(arrs):\n",
    "            depth_pct = []\n",
    "            for arr in arrs:\n",
    "                x, y, z = arr[0], arr[1], arr[2]\n",
    "                depth_pct.append(100 * z / ((x + y) / 2))\n",
    "            return np.array(depth_pct)\n",
    "\n",
    "        trans = FunctionTransformer(depth_pct, validate=True)\n",
    "        transformed = trans.transform(data[['x', 'y', 'z']].values)\n",
    "        return transformed"
   ]
  },
  {
   "cell_type": "code",
   "execution_count": null,
   "metadata": {},
   "outputs": [],
   "source": []
  },
  {
   "cell_type": "markdown",
   "metadata": {},
   "source": [
    "**Question 7**. You now will transform the `carat` column so that each diamonds weight (in carats) is replaced with the *percentile* in which its weight lies. The percentile is measure with reference to the entire input dataset to the object `TransformDiamonds`. Create a method `transform_to_quantiles` that takes in a dataframe like `diamonds` and returns an `np.ndarray` of quantiles of the weight (i.e. carats) of each diamond.\n",
    "\n",
    "*Hint:* To do this, use `QuantileTransformer` in `sklearn.preprocessing`. Note, that you will have to use the `.fit` method before transforming, because `QuantileTransformer` needs to know what the percentiles it can map values to their quantiles!\n",
    "\n",
    "*Note:* You will see an warning in the doctest saying there is less number of rows (10) than the default number of quantiles (1000) for `QuantileTransformer`. This is expected behavior since the doctest only transforms the first 10 rows of the dataframe."
   ]
  },
  {
   "cell_type": "markdown",
   "metadata": {},
   "source": [
    "# ASK!!!! \n",
    "## Keep getting errors?"
   ]
  },
  {
   "cell_type": "code",
   "execution_count": 93,
   "metadata": {},
   "outputs": [
    {
     "name": "stderr",
     "output_type": "stream",
     "text": [
      "/opt/conda/lib/python3.7/site-packages/sklearn/preprocessing/_data.py:2357: UserWarning: n_quantiles (1000) is greater than the total number of samples (10). n_quantiles is set to n_samples.\n",
      "  % (self.n_quantiles, n_samples))\n"
     ]
    },
    {
     "data": {
      "text/plain": [
       "array([[0.33333333],\n",
       "       [0.        ],\n",
       "       [0.33333333],\n",
       "       ...,\n",
       "       [1.        ],\n",
       "       [1.        ],\n",
       "       [1.        ]])"
      ]
     },
     "execution_count": 93,
     "metadata": {},
     "output_type": "execute_result"
    }
   ],
   "source": [
    "qt = QuantileTransformer() # , output_distribution='normal'\n",
    "ft = qt.fit(diamonds.head(10)[['carat']].values)\n",
    "transformed = ft.transform(diamonds[['carat']].values)\n",
    "transformed"
   ]
  },
  {
   "cell_type": "code",
   "execution_count": 126,
   "metadata": {},
   "outputs": [
    {
     "data": {
      "text/plain": [
       "array([[0.23],\n",
       "       [0.21],\n",
       "       [0.23],\n",
       "       ...,\n",
       "       [0.7 ],\n",
       "       [0.86],\n",
       "       [0.75]])"
      ]
     },
     "execution_count": 126,
     "metadata": {},
     "output_type": "execute_result"
    }
   ],
   "source": [
    "diamonds[['carat']].values"
   ]
  },
  {
   "cell_type": "code",
   "execution_count": 94,
   "metadata": {},
   "outputs": [
    {
     "data": {
      "text/plain": [
       "True"
      ]
     },
     "execution_count": 94,
     "metadata": {},
     "output_type": "execute_result"
    }
   ],
   "source": [
    "isinstance(transformed, np.ndarray)"
   ]
  },
  {
   "cell_type": "code",
   "execution_count": 95,
   "metadata": {},
   "outputs": [
    {
     "data": {
      "text/plain": [
       "True"
      ]
     },
     "execution_count": 95,
     "metadata": {},
     "output_type": "execute_result"
    }
   ],
   "source": [
    "0.2 <= transformed[0,0] <= 0.5"
   ]
  },
  {
   "cell_type": "code",
   "execution_count": 96,
   "metadata": {},
   "outputs": [
    {
     "data": {
      "text/plain": [
       "True"
      ]
     },
     "execution_count": 96,
     "metadata": {},
     "output_type": "execute_result"
    }
   ],
   "source": [
    "np.isclose(transformed[1,0], 0, atol=1e-06)"
   ]
  },
  {
   "cell_type": "code",
   "execution_count": null,
   "metadata": {},
   "outputs": [],
   "source": []
  },
  {
   "cell_type": "markdown",
   "metadata": {},
   "source": [
    "**Question 8** Next, you will recreate a feature giving the \"depth percentage\" of a diamond. Suppose the approximate depth percentage of a diamond is $Depth \\% = \\frac{z}{(x+y)/2} \\times 100$ where $x,y,z$ are the dimensions of the diamond given by columns of the same name. Create a method `transform_to_depth_pct` that takes in a dataframe like `diamonds` and returns an `np.ndarray` consisting of the approximate depth percentage of each diamond. Percentage should be between 0 and 100. You can compare your results from the `depth` column in the original dataset. \n",
    "\n",
    "*Hint:* Use `FunctionTransformer` in `sklearn.preprocessing`; your 'custom function' needs to input an `ndarray`, not a `DataFrame`.\n",
    "\n",
    "*Again*: It may seems like unnecessary function because **apply** does the \"same\" thing. You will learn in the lecture that `FunctionTransformer` greatly simplifies the preprocessing step\n",
    "\n",
    "*Note*: Zero division errors can be ignored, use `np.NaN` as is."
   ]
  },
  {
   "cell_type": "markdown",
   "metadata": {},
   "source": [
    "# ASK!!!! \n",
    "## Why only a value between 0 and 100? What if z > (x+y)/2???"
   ]
  },
  {
   "cell_type": "code",
   "execution_count": 58,
   "metadata": {},
   "outputs": [
    {
     "data": {
      "text/plain": [
       "array([[2.07944154],\n",
       "       [1.09861229],\n",
       "       [0.        ],\n",
       "       [0.69314718],\n",
       "       [0.        ]])"
      ]
     },
     "execution_count": 58,
     "metadata": {},
     "output_type": "execute_result"
    }
   ],
   "source": [
    "X = pd.DataFrame(\n",
    "    np.array([5,7,8, np.NaN, np.NaN, np.NaN, -5,\n",
    "              0,25,999,1,-1, np.NaN, 0, np.NaN])\\\n",
    "              .reshape((5,3)))\n",
    "X.fillna(X.mean(), inplace=True)\n",
    "X.columns = ['f1', 'f2', 'f3'] #feature 1, feature 2, feature 3\n",
    "transformer = FunctionTransformer(np.log1p, validate=True)\n",
    "transformer.fit_transform(X.f2.values.reshape(-1, 1)) #same output\n",
    "# X.f2.apply(lambda x : np.log1p(x)) #same output"
   ]
  },
  {
   "cell_type": "code",
   "execution_count": 125,
   "metadata": {},
   "outputs": [
    {
     "data": {
      "text/plain": [
       "array([[7.],\n",
       "       [2.],\n",
       "       [0.],\n",
       "       [1.],\n",
       "       [0.]])"
      ]
     },
     "execution_count": 125,
     "metadata": {},
     "output_type": "execute_result"
    }
   ],
   "source": [
    "X.f2.values.reshape(-1, 1)"
   ]
  },
  {
   "cell_type": "code",
   "execution_count": 113,
   "metadata": {},
   "outputs": [],
   "source": [
    "# Custom function to calc depth percentage\n",
    "def depth_pct(arrs):\n",
    "    depth_pct = []\n",
    "    for arr in arrs:\n",
    "        x, y, z = arr[0], arr[1], arr[2]\n",
    "        # try:\n",
    "        depth_pct.append(100 * z / ((x + y) / 2))\n",
    "        # except: # Zero division errors\n",
    "            # depth_pct.append(np.nan)\n",
    "    return np.array(depth_pct)"
   ]
  },
  {
   "cell_type": "code",
   "execution_count": 114,
   "metadata": {},
   "outputs": [
    {
     "name": "stderr",
     "output_type": "stream",
     "text": [
      "/opt/conda/lib/python3.7/site-packages/ipykernel_launcher.py:7: RuntimeWarning: invalid value encountered in double_scalars\n",
      "  import sys\n"
     ]
    },
    {
     "data": {
      "text/plain": [
       "array([61.28625473, 59.76714101, 56.89655172, ..., 62.78659612,\n",
       "       60.96169519, 62.22222222])"
      ]
     },
     "execution_count": 114,
     "metadata": {},
     "output_type": "execute_result"
    }
   ],
   "source": [
    "trans = FunctionTransformer(depth_pct, validate=True)\n",
    "transformed = trans.transform(diamonds[['x', 'y', 'z']].values)\n",
    "transformed"
   ]
  },
  {
   "cell_type": "code",
   "execution_count": 115,
   "metadata": {},
   "outputs": [
    {
     "data": {
      "text/plain": [
       "True"
      ]
     },
     "execution_count": 115,
     "metadata": {},
     "output_type": "execute_result"
    }
   ],
   "source": [
    "len(transformed.shape) == 1"
   ]
  },
  {
   "cell_type": "code",
   "execution_count": 116,
   "metadata": {},
   "outputs": [
    {
     "data": {
      "text/plain": [
       "True"
      ]
     },
     "execution_count": 116,
     "metadata": {},
     "output_type": "execute_result"
    }
   ],
   "source": [
    "np.isclose(transformed[0], 61.286, atol=0.0001)"
   ]
  },
  {
   "cell_type": "code",
   "execution_count": 117,
   "metadata": {},
   "outputs": [],
   "source": []
  },
  {
   "cell_type": "code",
   "execution_count": 121,
   "metadata": {},
   "outputs": [],
   "source": []
  },
  {
   "cell_type": "code",
   "execution_count": null,
   "metadata": {},
   "outputs": [],
   "source": []
  },
  {
   "cell_type": "markdown",
   "metadata": {},
   "source": [
    "### Test"
   ]
  },
  {
   "cell_type": "code",
   "execution_count": 63,
   "metadata": {},
   "outputs": [
    {
     "data": {
      "text/plain": [
       "0        61.286255\n",
       "1        59.767141\n",
       "2        56.896552\n",
       "3        62.396204\n",
       "4        63.291139\n",
       "           ...    \n",
       "53935    60.816681\n",
       "53936    63.111888\n",
       "53937    62.786596\n",
       "53938    60.961695\n",
       "53939    62.222222\n",
       "Length: 53940, dtype: float64"
      ]
     },
     "execution_count": 63,
     "metadata": {},
     "output_type": "execute_result"
    }
   ],
   "source": [
    "(200 * diamonds['z'] / (diamonds['x'] + diamonds['y']))"
   ]
  },
  {
   "cell_type": "code",
   "execution_count": 64,
   "metadata": {
    "scrolled": true
   },
   "outputs": [
    {
     "data": {
      "text/plain": [
       "array([[3.95, 3.98, 2.43],\n",
       "       [3.89, 3.84, 2.31],\n",
       "       [4.05, 4.07, 2.31],\n",
       "       ...,\n",
       "       [5.66, 5.68, 3.56],\n",
       "       [6.15, 6.12, 3.74],\n",
       "       [5.83, 5.87, 3.64]])"
      ]
     },
     "execution_count": 64,
     "metadata": {},
     "output_type": "execute_result"
    }
   ],
   "source": [
    "diamonds[['x', 'y', 'z']].values"
   ]
  },
  {
   "cell_type": "markdown",
   "metadata": {},
   "source": [
    "### Test"
   ]
  },
  {
   "cell_type": "code",
   "execution_count": null,
   "metadata": {},
   "outputs": [],
   "source": []
  },
  {
   "cell_type": "code",
   "execution_count": null,
   "metadata": {},
   "outputs": [],
   "source": []
  },
  {
   "cell_type": "markdown",
   "metadata": {},
   "source": [
    "## Congratulations! You're done!\n",
    "\n",
    "* Submit the lab on Gradescope"
   ]
  }
 ],
 "metadata": {
  "kernelspec": {
   "display_name": "Python 3",
   "language": "python",
   "name": "python3"
  },
  "language_info": {
   "codemirror_mode": {
    "name": "ipython",
    "version": 3
   },
   "file_extension": ".py",
   "mimetype": "text/x-python",
   "name": "python",
   "nbconvert_exporter": "python",
   "pygments_lexer": "ipython3",
   "version": "3.7.6"
  }
 },
 "nbformat": 4,
 "nbformat_minor": 2
}
