{
 "cells": [
  {
   "cell_type": "markdown",
   "metadata": {},
   "source": [
    "# DSC 80: Lab 08\n",
    "\n",
    "### Due Date: Tuesday, March 2 Midnight (11:59pm)"
   ]
  },
  {
   "cell_type": "markdown",
   "metadata": {},
   "source": [
    "## Instructions\n",
    "Much like in DSC 10, this Jupyter Notebook contains the statements of the problems and provides code and markdown cells to display your answers to the problems. Unlike DSC 10, the notebook is *only* for displaying a readable version of your final answers. The coding work will be developed in an accompanying `lab*.py` file, that will be imported into the current notebook.\n",
    "\n",
    "Labs and programming assignments will be graded in (at most) two ways:\n",
    "1. The functions and classes in the accompanying python file will be tested (a la DSC 20),\n",
    "2. The notebook will be graded (for graphs and free response questions).\n",
    "\n",
    "**Do not change the function names in the `*.py` file**\n",
    "- The functions in the `*.py` file are how your assignment is graded, and they are graded by their name. The dictionary at the end of the file (`GRADED FUNCTIONS`) contains the \"grading list\". The final function in the file allows your doctests to check that all the necessary functions exist.\n",
    "- If you changed something you weren't supposed to, just use git to revert!\n",
    "\n",
    "**Tips for working in the Notebook**:\n",
    "- The notebooks serve to present you the questions and give you a place to present your results for later review.\n",
    "- The notebook on *lab assignments* are not graded (only the `.py` file).\n",
    "- Notebooks for PAs will serve as a final report for the assignment, and contain conclusions and answers to open ended questions that are graded.\n",
    "- The notebook serves as a nice environment for 'pre-development' and experimentation before designing your function in your `.py` file.\n",
    "\n",
    "**Tips for developing in the .py file**:\n",
    "- Do not change the function names in the starter code; grading is done using these function names.\n",
    "- Do not change the docstrings in the functions. These are there to tell you if your work is on the right track!\n",
    "- You are encouraged to write your own additional functions to solve the lab! \n",
    "    - Developing in python usually consists of larger files, with many short functions.\n",
    "    - You may write your other functions in an additional `.py` file that you import in `lab**.py` (much like we do in the notebook).\n",
    "- Always document your code!"
   ]
  },
  {
   "cell_type": "markdown",
   "metadata": {},
   "source": [
    "### Importing code from `lab**.py`\n",
    "\n",
    "* We import our `.py` file that's contained in the same directory as this notebook.\n",
    "* We use the `autoreload` notebook extension to make changes to our `lab**.py` file immediately available in our notebook. Without this extension, we would need to restart the notebook kernel to see any changes to `lab**.py` in the notebook.\n",
    "    - `autoreload` is necessary because, upon import, `lab**.py` is compiled to bytecode (in the directory `__pycache__`). Subsequent imports of `lab**` merely import the existing compiled python."
   ]
  },
  {
   "cell_type": "code",
   "execution_count": 1,
   "metadata": {},
   "outputs": [],
   "source": [
    "%load_ext autoreload\n",
    "%autoreload 2"
   ]
  },
  {
   "cell_type": "code",
   "execution_count": 2,
   "metadata": {},
   "outputs": [],
   "source": [
    "import lab08 as lab"
   ]
  },
  {
   "cell_type": "code",
   "execution_count": 3,
   "metadata": {},
   "outputs": [],
   "source": [
    "%matplotlib inline\n",
    "import pandas as pd\n",
    "import numpy as np\n",
    "import matplotlib.pyplot as plt\n",
    "import seaborn as sns\n",
    "import os\n",
    "import scipy"
   ]
  },
  {
   "cell_type": "markdown",
   "metadata": {},
   "source": [
    "# Scaling Transformations: log vs square root\n",
    "\n",
    "**Question 1**\n",
    "\n",
    "A scaling transformation transforms the scale of the data of a particular quantitative column. Mathematically, each data point $x_i$ is replaced with the transformed value $y_i = f(x_i)$, where $f$ is a transformation function. In general, it is not easy to select a good transformation for a given prediction problem. There are many transformations to choose from and each has a different mathematical intuition. \n",
    "\n",
    "Generally, the goal of a scaling transformation is to change the data from a complicated, non-linear relationship into a *linear* relationship. Linear relationships are very easy to understand and easily used by models (e.g. linear regression).\n",
    "\n",
    "Non-linear growth is a commonly seen relationship in data. Sometimes this growth is *exponential* and sometimes it is by a *fixed power*. The scaling transformations that turn these types of growth linear are *log* and *root* transformations respectively.\n",
    "\n",
    "In this problem you need to decide what transformation can be applied to a given dataset in order to make the relationship as *linear as possible*.\n",
    "\n",
    "\n",
    "* To practice: create a dataframe consisting of the numbers $1$ to $99$ squared and plot the values. Then apply the square root transformation, add another column to the original dataframe and plot the columns side by side. What change do you observe?  \n",
    "\n",
    "* Now repeat exactly the same steps but this time create a dataframe with an exponential distribution by raising the value `e` to the powers 1 to 99. Plot these values, perform a log transformation and plot the results, as above. What did you observe?\n",
    "\n",
    "* Let's apply these ideas to the real dataset `homeruns`. You are given a MLB home run dataset with 120 yearly observations from 1900 to 2019. It includes a count of the number of [home runs](http://m.mlb.com/glossary/standard-stats/home-run) hit each year. You need to decide what transformation works better for this dataset: square root or a log transformation. \n",
    "\n",
    "*Note (A few helpful hints)*: \n",
    "* You may find `sns.regplot` and `scipy.stats.linregress` useful for judging the effectiveness of your transformations! \n",
    "* Recall that a well fit linear model has no patterns in it's residuals -- `sns.residplot` can help with this decision.\n",
    "* If you need a refresher on correlation coefficients, see [DSC10](https://www.inferentialthinking.com/chapters/15/1/Correlation.html) as well as the Discussion 08 notebook.\n",
    "\n",
    "Create a function `best_transformation` that returns an integer with the value corresponding to the following choices:\n",
    "\n",
    "1. Square root transformation.\n",
    "2. Log transformation\n",
    "3. Both work the same.\n",
    "4. Neither gives a transformation revealing a linear relationship. \n"
   ]
  },
  {
   "cell_type": "markdown",
   "metadata": {},
   "source": [
    "# ASK!!!! \n",
    "## Not sure what this question is doing????"
   ]
  },
  {
   "cell_type": "code",
   "execution_count": 4,
   "metadata": {},
   "outputs": [
    {
     "data": {
      "text/plain": [
       "<matplotlib.axes._subplots.AxesSubplot at 0x7f59092f4978>"
      ]
     },
     "execution_count": 4,
     "metadata": {},
     "output_type": "execute_result"
    },
    {
     "data": {
      "image/png": "[encoded data removed]",
      "text/plain": [
       "<Figure size 432x288 with 1 Axes>"
      ]
     },
     "metadata": {
      "needs_background": "light"
     },
     "output_type": "display_data"
    }
   ],
   "source": [
    "# Test - Square\n",
    "data = {'Val':np.arange(1, 100), 'Val Sq':np.arange(1, 100) ** 2}\n",
    "square = pd.DataFrame(data)\n",
    "square.plot()"
   ]
  },
  {
   "cell_type": "code",
   "execution_count": 5,
   "metadata": {},
   "outputs": [
    {
     "data": {
      "text/plain": [
       "<matplotlib.axes._subplots.AxesSubplot at 0x7f59092045f8>"
      ]
     },
     "execution_count": 5,
     "metadata": {},
     "output_type": "execute_result"
    },
    {
     "data": {
      "image/png": "[encoded data removed]",
      "text/plain": [
       "<Figure size 432x288 with 1 Axes>"
      ]
     },
     "metadata": {
      "needs_background": "light"
     },
     "output_type": "display_data"
    }
   ],
   "source": [
    "# Test - Log\n",
    "data = {'Val':np.arange(1, 100), 'Val Log':np.exp(np.arange(1, 100))}\n",
    "square = pd.DataFrame(data)\n",
    "square.plot()"
   ]
  },
  {
   "cell_type": "code",
   "execution_count": 6,
   "metadata": {},
   "outputs": [],
   "source": [
    "homeruns_fp = os.path.join('data', 'homeruns.csv')\n",
    "homeruns = pd.read_csv(homeruns_fp)"
   ]
  },
  {
   "cell_type": "code",
   "execution_count": 7,
   "metadata": {},
   "outputs": [
    {
     "data": {
      "text/html": [
       "<div>\n",
       "<style scoped>\n",
       "    .dataframe tbody tr th:only-of-type {\n",
       "        vertical-align: middle;\n",
       "    }\n",
       "\n",
       "    .dataframe tbody tr th {\n",
       "        vertical-align: top;\n",
       "    }\n",
       "\n",
       "    .dataframe thead th {\n",
       "        text-align: right;\n",
       "    }\n",
       "</style>\n",
       "<table border=\"1\" class=\"dataframe\">\n",
       "  <thead>\n",
       "    <tr style=\"text-align: right;\">\n",
       "      <th></th>\n",
       "      <th>Year</th>\n",
       "      <th>Homeruns</th>\n",
       "    </tr>\n",
       "  </thead>\n",
       "  <tbody>\n",
       "    <tr>\n",
       "      <th>0</th>\n",
       "      <td>1900</td>\n",
       "      <td>254</td>\n",
       "    </tr>\n",
       "    <tr>\n",
       "      <th>1</th>\n",
       "      <td>1901</td>\n",
       "      <td>455</td>\n",
       "    </tr>\n",
       "    <tr>\n",
       "      <th>2</th>\n",
       "      <td>1902</td>\n",
       "      <td>354</td>\n",
       "    </tr>\n",
       "    <tr>\n",
       "      <th>3</th>\n",
       "      <td>1903</td>\n",
       "      <td>335</td>\n",
       "    </tr>\n",
       "    <tr>\n",
       "      <th>4</th>\n",
       "      <td>1904</td>\n",
       "      <td>331</td>\n",
       "    </tr>\n",
       "  </tbody>\n",
       "</table>\n",
       "</div>"
      ],
      "text/plain": [
       "   Year  Homeruns\n",
       "0  1900       254\n",
       "1  1901       455\n",
       "2  1902       354\n",
       "3  1903       335\n",
       "4  1904       331"
      ]
     },
     "execution_count": 7,
     "metadata": {},
     "output_type": "execute_result"
    }
   ],
   "source": [
    "homeruns.head()"
   ]
  },
  {
   "cell_type": "code",
   "execution_count": 8,
   "metadata": {},
   "outputs": [
    {
     "data": {
      "text/plain": [
       "LinregressResult(slope=46.85801791791097, intercept=-89327.73611014655, rvalue=0.9557604405463247, pvalue=1.4957133568538366e-64, stderr=1.3275689460582019)"
      ]
     },
     "execution_count": 8,
     "metadata": {},
     "output_type": "execute_result"
    }
   ],
   "source": [
    "scipy.stats.linregress(homeruns)"
   ]
  },
  {
   "cell_type": "code",
   "execution_count": 9,
   "metadata": {},
   "outputs": [
    {
     "name": "stderr",
     "output_type": "stream",
     "text": [
      "/opt/conda/lib/python3.6/site-packages/scipy/stats/stats.py:1713: FutureWarning: Using a non-tuple sequence for multidimensional indexing is deprecated; use `arr[tuple(seq)]` instead of `arr[seq]`. In the future this will be interpreted as an array index, `arr[np.array(seq)]`, which will result either in an error or a different result.\n",
      "  return np.add.reduce(sorted[indexer] * weights, axis=axis) / sumval\n"
     ]
    },
    {
     "data": {
      "text/plain": [
       "<matplotlib.axes._subplots.AxesSubplot at 0x7f59091e4438>"
      ]
     },
     "execution_count": 9,
     "metadata": {},
     "output_type": "execute_result"
    },
    {
     "data": {
      "image/png": "[encoded data removed]",
      "text/plain": [
       "<Figure size 432x288 with 1 Axes>"
      ]
     },
     "metadata": {
      "needs_background": "light"
     },
     "output_type": "display_data"
    }
   ],
   "source": [
    "sns.regplot(data=homeruns, x='Year', y='Homeruns')"
   ]
  },
  {
   "cell_type": "code",
   "execution_count": 10,
   "metadata": {},
   "outputs": [
    {
     "data": {
      "text/plain": [
       "<matplotlib.axes._subplots.AxesSubplot at 0x7f5908889ac8>"
      ]
     },
     "execution_count": 10,
     "metadata": {},
     "output_type": "execute_result"
    },
    {
     "data": {
      "image/png": "[encoded data removed]",
      "text/plain": [
       "<Figure size 432x288 with 1 Axes>"
      ]
     },
     "metadata": {
      "needs_background": "light"
     },
     "output_type": "display_data"
    }
   ],
   "source": [
    "sns.residplot(data=homeruns, x='Year', y='Homeruns')"
   ]
  },
  {
   "cell_type": "markdown",
   "metadata": {},
   "source": [
    "### Log Transformation"
   ]
  },
  {
   "cell_type": "code",
   "execution_count": 11,
   "metadata": {},
   "outputs": [],
   "source": [
    "log = homeruns.copy()\n",
    "log['Homeruns'] = log['Homeruns'].apply(np.log)"
   ]
  },
  {
   "cell_type": "code",
   "execution_count": 12,
   "metadata": {},
   "outputs": [
    {
     "data": {
      "text/plain": [
       "LinregressResult(slope=0.02461719558857972, intercept=-40.73942975083988, rvalue=0.9442735182825754, pvalue=8.787444983618044e-59, stderr=0.000789967556045467)"
      ]
     },
     "execution_count": 12,
     "metadata": {},
     "output_type": "execute_result"
    }
   ],
   "source": [
    "scipy.stats.linregress(log)"
   ]
  },
  {
   "cell_type": "code",
   "execution_count": 13,
   "metadata": {},
   "outputs": [
    {
     "data": {
      "text/plain": [
       "<matplotlib.axes._subplots.AxesSubplot at 0x7f5908763f28>"
      ]
     },
     "execution_count": 13,
     "metadata": {},
     "output_type": "execute_result"
    },
    {
     "data": {
      "image/png": "[encoded data removed]",
      "text/plain": [
       "<Figure size 432x288 with 1 Axes>"
      ]
     },
     "metadata": {
      "needs_background": "light"
     },
     "output_type": "display_data"
    }
   ],
   "source": [
    "sns.regplot(data=log, x='Year', y='Homeruns')"
   ]
  },
  {
   "cell_type": "code",
   "execution_count": 14,
   "metadata": {},
   "outputs": [
    {
     "data": {
      "text/plain": [
       "<matplotlib.axes._subplots.AxesSubplot at 0x7f590879d278>"
      ]
     },
     "execution_count": 14,
     "metadata": {},
     "output_type": "execute_result"
    },
    {
     "data": {
      "image/png": "[encoded data removed]",
      "text/plain": [
       "<Figure size 432x288 with 1 Axes>"
      ]
     },
     "metadata": {
      "needs_background": "light"
     },
     "output_type": "display_data"
    }
   ],
   "source": [
    "sns.residplot(data=log, x='Year', y='Homeruns')"
   ]
  },
  {
   "cell_type": "code",
   "execution_count": null,
   "metadata": {},
   "outputs": [],
   "source": []
  },
  {
   "cell_type": "markdown",
   "metadata": {},
   "source": [
    "### Square Root Transformation"
   ]
  },
  {
   "cell_type": "code",
   "execution_count": 15,
   "metadata": {},
   "outputs": [],
   "source": [
    "sqrt = homeruns.copy()\n",
    "sqrt['Homeruns'] = sqrt['Homeruns'].apply(np.sqrt)"
   ]
  },
  {
   "cell_type": "code",
   "execution_count": 16,
   "metadata": {},
   "outputs": [
    {
     "data": {
      "text/plain": [
       "LinregressResult(slope=0.5066406225988712, intercept=-946.237670462341, rvalue=0.9719878986889177, pvalue=4.676843532127833e-76, stderr=0.011277766903363394)"
      ]
     },
     "execution_count": 16,
     "metadata": {},
     "output_type": "execute_result"
    }
   ],
   "source": [
    "scipy.stats.linregress(sqrt)"
   ]
  },
  {
   "cell_type": "code",
   "execution_count": 17,
   "metadata": {},
   "outputs": [
    {
     "data": {
      "text/plain": [
       "<matplotlib.axes._subplots.AxesSubplot at 0x7f590871a240>"
      ]
     },
     "execution_count": 17,
     "metadata": {},
     "output_type": "execute_result"
    },
    {
     "data": {
      "image/png": "[encoded data removed]",
      "text/plain": [
       "<Figure size 432x288 with 1 Axes>"
      ]
     },
     "metadata": {
      "needs_background": "light"
     },
     "output_type": "display_data"
    }
   ],
   "source": [
    "sns.regplot(data=sqrt, x='Year', y='Homeruns')"
   ]
  },
  {
   "cell_type": "code",
   "execution_count": 18,
   "metadata": {},
   "outputs": [
    {
     "data": {
      "text/plain": [
       "<matplotlib.axes._subplots.AxesSubplot at 0x7f590863c550>"
      ]
     },
     "execution_count": 18,
     "metadata": {},
     "output_type": "execute_result"
    },
    {
     "data": {
      "image/png": "[encoded data removed]",
      "text/plain": [
       "<Figure size 432x288 with 1 Axes>"
      ]
     },
     "metadata": {
      "needs_background": "light"
     },
     "output_type": "display_data"
    }
   ],
   "source": [
    "sns.residplot(data=sqrt, x='Year', y='Homeruns')"
   ]
  },
  {
   "cell_type": "code",
   "execution_count": null,
   "metadata": {},
   "outputs": [],
   "source": []
  },
  {
   "cell_type": "code",
   "execution_count": null,
   "metadata": {},
   "outputs": [],
   "source": []
  },
  {
   "cell_type": "code",
   "execution_count": 19,
   "metadata": {},
   "outputs": [],
   "source": [
    "def best_transformation():\n",
    "    \"\"\"\n",
    "    Returns an integer corresponding to the correct option.\n",
    "\n",
    "    :Example:\n",
    "    >>> best_transformation() in [1,2,3,4]\n",
    "    True\n",
    "    \"\"\"\n",
    "\n",
    "    # take log and square root of the dataset\n",
    "    # look at the fit of the regression line (and R^2)\n",
    "\n",
    "    return 1\n"
   ]
  },
  {
   "cell_type": "code",
   "execution_count": null,
   "metadata": {},
   "outputs": [],
   "source": []
  },
  {
   "cell_type": "markdown",
   "metadata": {},
   "source": [
    "# Diamond Pricing \n",
    "\n",
    "The next problems deal with predicting the price of a diamond based on standard measured properties of diamonds. You will use linear regression to predict the price, while improving the quality of your predictions using *feature engineering*.\n",
    "\n",
    "Since this question is supposed to help you understand feature engineering, **you will be building these features from scratch**, instead of using the built in `sklearn` or `pandas` methods.\n",
    "\n",
    "The diamond dataset is downloaded using `seaborn`, via `sns.load_dataset('diamonds')`. The dataset is a DataFrame with 53940 rows and 10 variables:\n",
    "\n",
    "|column|description|\n",
    "|---|---|\n",
    "|price|price in US dollars (326 - 18,823 USD)|\n",
    "|carat|weight of the diamond (0.2 - 5.01)|\n",
    "|cut|quality of the cut (Fair, Good, Very Good, Premium, Ideal)|\n",
    "|color|diamond colour, from J (worst) to D (best)|\n",
    "|clarity|a measurement of how clear the diamond is (I1 (worst), SI2, SI1, VS2, VS1, VVS2, VVS1, IF (best))|\n",
    "|x|length in mm (0 - 10.74)|\n",
    "|y|width in mm (0 - 58.9)|\n",
    "|z|depth in mm (0 - 31.8)|\n",
    "|depth|total depth percentage = z / mean(x, y) = 2 * z / (x + y) (43 - 79)|\n",
    "|table|width of top of diamond relative to widest point (43 - 95)|"
   ]
  },
  {
   "cell_type": "code",
   "execution_count": 21,
   "metadata": {},
   "outputs": [
    {
     "data": {
      "text/html": [
       "<div>\n",
       "<style scoped>\n",
       "    .dataframe tbody tr th:only-of-type {\n",
       "        vertical-align: middle;\n",
       "    }\n",
       "\n",
       "    .dataframe tbody tr th {\n",
       "        vertical-align: top;\n",
       "    }\n",
       "\n",
       "    .dataframe thead th {\n",
       "        text-align: right;\n",
       "    }\n",
       "</style>\n",
       "<table border=\"1\" class=\"dataframe\">\n",
       "  <thead>\n",
       "    <tr style=\"text-align: right;\">\n",
       "      <th></th>\n",
       "      <th>carat</th>\n",
       "      <th>cut</th>\n",
       "      <th>color</th>\n",
       "      <th>clarity</th>\n",
       "      <th>depth</th>\n",
       "      <th>table</th>\n",
       "      <th>price</th>\n",
       "      <th>x</th>\n",
       "      <th>y</th>\n",
       "      <th>z</th>\n",
       "    </tr>\n",
       "  </thead>\n",
       "  <tbody>\n",
       "    <tr>\n",
       "      <th>0</th>\n",
       "      <td>0.23</td>\n",
       "      <td>Ideal</td>\n",
       "      <td>E</td>\n",
       "      <td>SI2</td>\n",
       "      <td>61.5</td>\n",
       "      <td>55.0</td>\n",
       "      <td>326</td>\n",
       "      <td>3.95</td>\n",
       "      <td>3.98</td>\n",
       "      <td>2.43</td>\n",
       "    </tr>\n",
       "    <tr>\n",
       "      <th>1</th>\n",
       "      <td>0.21</td>\n",
       "      <td>Premium</td>\n",
       "      <td>E</td>\n",
       "      <td>SI1</td>\n",
       "      <td>59.8</td>\n",
       "      <td>61.0</td>\n",
       "      <td>326</td>\n",
       "      <td>3.89</td>\n",
       "      <td>3.84</td>\n",
       "      <td>2.31</td>\n",
       "    </tr>\n",
       "    <tr>\n",
       "      <th>2</th>\n",
       "      <td>0.23</td>\n",
       "      <td>Good</td>\n",
       "      <td>E</td>\n",
       "      <td>VS1</td>\n",
       "      <td>56.9</td>\n",
       "      <td>65.0</td>\n",
       "      <td>327</td>\n",
       "      <td>4.05</td>\n",
       "      <td>4.07</td>\n",
       "      <td>2.31</td>\n",
       "    </tr>\n",
       "    <tr>\n",
       "      <th>3</th>\n",
       "      <td>0.29</td>\n",
       "      <td>Premium</td>\n",
       "      <td>I</td>\n",
       "      <td>VS2</td>\n",
       "      <td>62.4</td>\n",
       "      <td>58.0</td>\n",
       "      <td>334</td>\n",
       "      <td>4.20</td>\n",
       "      <td>4.23</td>\n",
       "      <td>2.63</td>\n",
       "    </tr>\n",
       "    <tr>\n",
       "      <th>4</th>\n",
       "      <td>0.31</td>\n",
       "      <td>Good</td>\n",
       "      <td>J</td>\n",
       "      <td>SI2</td>\n",
       "      <td>63.3</td>\n",
       "      <td>58.0</td>\n",
       "      <td>335</td>\n",
       "      <td>4.34</td>\n",
       "      <td>4.35</td>\n",
       "      <td>2.75</td>\n",
       "    </tr>\n",
       "  </tbody>\n",
       "</table>\n",
       "</div>"
      ],
      "text/plain": [
       "   carat      cut color clarity  depth  table  price     x     y     z\n",
       "0   0.23    Ideal     E     SI2   61.5   55.0    326  3.95  3.98  2.43\n",
       "1   0.21  Premium     E     SI1   59.8   61.0    326  3.89  3.84  2.31\n",
       "2   0.23     Good     E     VS1   56.9   65.0    327  4.05  4.07  2.31\n",
       "3   0.29  Premium     I     VS2   62.4   58.0    334  4.20  4.23  2.63\n",
       "4   0.31     Good     J     SI2   63.3   58.0    335  4.34  4.35  2.75"
      ]
     },
     "execution_count": 21,
     "metadata": {},
     "output_type": "execute_result"
    }
   ],
   "source": [
    "diamonds = sns.load_dataset('diamonds')\n",
    "diamonds.head()"
   ]
  },
  {
   "cell_type": "code",
   "execution_count": null,
   "metadata": {},
   "outputs": [],
   "source": []
  },
  {
   "cell_type": "markdown",
   "metadata": {},
   "source": [
    "### Ordinal Encoding\n",
    "\n",
    "**Question 2**\n",
    "\n",
    "Every categorical variable in the dataset is an ordinal column. Recall that *ordinal encoding* is a feature transformation that maps the values of an ordinal column to the natural numbers (preserving the order of the column values). Create a function `create_ordinal` that takes in `diamonds` and returns a dataframe of ordinal features with names `ordinal_<col>` where `<col>` is the original categorical column name.\n",
    "\n",
    "*Note*: Remember, you are creating this function using basic pandas. You should create a helper function that takes in a single column and an ordering for that column!"
   ]
  },
  {
   "cell_type": "code",
   "execution_count": 22,
   "metadata": {},
   "outputs": [
    {
     "name": "stdout",
     "output_type": "stream",
     "text": [
      "<class 'pandas.core.frame.DataFrame'>\n",
      "RangeIndex: 53940 entries, 0 to 53939\n",
      "Data columns (total 10 columns):\n",
      "carat      53940 non-null float64\n",
      "cut        53940 non-null object\n",
      "color      53940 non-null object\n",
      "clarity    53940 non-null object\n",
      "depth      53940 non-null float64\n",
      "table      53940 non-null float64\n",
      "price      53940 non-null int64\n",
      "x          53940 non-null float64\n",
      "y          53940 non-null float64\n",
      "z          53940 non-null float64\n",
      "dtypes: float64(6), int64(1), object(3)\n",
      "memory usage: 4.1+ MB\n"
     ]
    }
   ],
   "source": [
    "diamonds.info()"
   ]
  },
  {
   "cell_type": "code",
   "execution_count": 121,
   "metadata": {},
   "outputs": [],
   "source": [
    "df = diamonds.copy()\n",
    "\n",
    "# Helper function to change categorical into ordinal number\n",
    "def cat2ordinal(col, order):\n",
    "    name = 'ordinal_' + col.name # Name of column\n",
    "    ordinal = []\n",
    "    for elem in col: # Loop through elem in col\n",
    "        for ind in range(len(order)): # Loop through order\n",
    "            if elem == order[ind]:\n",
    "                ordinal.append(ind)\n",
    "                break # Break out for next elem\n",
    "    \n",
    "    return pd.Series(ordinal, index=col.index, name=name)\n",
    "\n",
    "# Order of ordinal columns\n",
    "cut_order = ['Fair', 'Good', 'Very Good', 'Premium', 'Ideal']\n",
    "color_order = ['J', 'I', 'H', 'G' , 'F', 'E', 'D']\n",
    "clarity_order = ['I1', 'SI2', 'SI1', 'VS2', 'VS1', 'VVS2', 'VVS1', 'IF']\n",
    "\n",
    "# Get ordinal data\n",
    "cut_ordinal = cat2ordinal(df['cut'], cut_order)\n",
    "color_ordinal = cat2ordinal(df['color'], color_order)\n",
    "clarity_ordinal = cat2ordinal(df['clarity'], clarity_order)\n",
    "\n",
    "out = pd.DataFrame(data=[cut_ordinal, color_ordinal, clarity_ordinal]).T"
   ]
  },
  {
   "cell_type": "code",
   "execution_count": 122,
   "metadata": {},
   "outputs": [
    {
     "data": {
      "text/html": [
       "<div>\n",
       "<style scoped>\n",
       "    .dataframe tbody tr th:only-of-type {\n",
       "        vertical-align: middle;\n",
       "    }\n",
       "\n",
       "    .dataframe tbody tr th {\n",
       "        vertical-align: top;\n",
       "    }\n",
       "\n",
       "    .dataframe thead th {\n",
       "        text-align: right;\n",
       "    }\n",
       "</style>\n",
       "<table border=\"1\" class=\"dataframe\">\n",
       "  <thead>\n",
       "    <tr style=\"text-align: right;\">\n",
       "      <th></th>\n",
       "      <th>ordinal_cut</th>\n",
       "      <th>ordinal_color</th>\n",
       "      <th>ordinal_clarity</th>\n",
       "    </tr>\n",
       "  </thead>\n",
       "  <tbody>\n",
       "    <tr>\n",
       "      <th>35925</th>\n",
       "      <td>4</td>\n",
       "      <td>5</td>\n",
       "      <td>1</td>\n",
       "    </tr>\n",
       "    <tr>\n",
       "      <th>20861</th>\n",
       "      <td>3</td>\n",
       "      <td>2</td>\n",
       "      <td>3</td>\n",
       "    </tr>\n",
       "    <tr>\n",
       "      <th>27944</th>\n",
       "      <td>2</td>\n",
       "      <td>3</td>\n",
       "      <td>5</td>\n",
       "    </tr>\n",
       "    <tr>\n",
       "      <th>18874</th>\n",
       "      <td>4</td>\n",
       "      <td>0</td>\n",
       "      <td>4</td>\n",
       "    </tr>\n",
       "    <tr>\n",
       "      <th>47574</th>\n",
       "      <td>4</td>\n",
       "      <td>3</td>\n",
       "      <td>5</td>\n",
       "    </tr>\n",
       "  </tbody>\n",
       "</table>\n",
       "</div>"
      ],
      "text/plain": [
       "       ordinal_cut  ordinal_color  ordinal_clarity\n",
       "35925            4              5                1\n",
       "20861            3              2                3\n",
       "27944            2              3                5\n",
       "18874            4              0                4\n",
       "47574            4              3                5"
      ]
     },
     "execution_count": 122,
     "metadata": {},
     "output_type": "execute_result"
    }
   ],
   "source": [
    "out.sample(5)"
   ]
  },
  {
   "cell_type": "code",
   "execution_count": 123,
   "metadata": {},
   "outputs": [
    {
     "data": {
      "text/plain": [
       "cut        Very Good\n",
       "color              F\n",
       "clarity          SI1\n",
       "Name: 11268, dtype: object"
      ]
     },
     "execution_count": 123,
     "metadata": {},
     "output_type": "execute_result"
    }
   ],
   "source": [
    "diamonds.loc[11268, ['cut', 'color', 'clarity']]"
   ]
  },
  {
   "cell_type": "code",
   "execution_count": null,
   "metadata": {},
   "outputs": [],
   "source": []
  },
  {
   "cell_type": "code",
   "execution_count": 124,
   "metadata": {},
   "outputs": [],
   "source": [
    "def create_ordinal(df):\n",
    "    \"\"\"\n",
    "    create_ordinal takes in diamonds and returns a dataframe of ordinal\n",
    "    features with names ordinal_<col> where <col> is the original\n",
    "    categorical column name.\n",
    "\n",
    "    :Example:\n",
    "    >>> diamonds = sns.load_dataset('diamonds')\n",
    "    >>> out = create_ordinal(diamonds)\n",
    "    >>> set(out.columns) == {'ordinal_cut', 'ordinal_clarity', 'ordinal_color'}\n",
    "    True\n",
    "    >>> np.unique(out['ordinal_cut']).tolist() == [0, 1, 2, 3, 4]\n",
    "    True\n",
    "    \"\"\"\n",
    "    # Helper function to change categorical into ordinal number\n",
    "    def cat2ordinal(col, order):\n",
    "        name = 'ordinal_' + col.name # Name of column\n",
    "        ordinal = []\n",
    "        for elem in col: # Loop through elem in col\n",
    "            for ind in range(len(order)): # Loop through order\n",
    "                if elem == order[ind]:\n",
    "                    ordinal.append(ind)\n",
    "                    break # Break out for next elem\n",
    "\n",
    "        return pd.Series(ordinal, index=col.index, name=name)\n",
    "\n",
    "    # Order of ordinal columns\n",
    "    cut_order = ['Fair', 'Good', 'Very Good', 'Premium', 'Ideal']\n",
    "    color_order = ['J', 'I', 'H', 'G' , 'F', 'E', 'D']\n",
    "    clarity_order = ['I1', 'SI2', 'SI1', 'VS2', 'VS1', 'VVS2', 'VVS1', 'IF']\n",
    "\n",
    "    # Get ordinal data\n",
    "    cut_ordinal = cat2ordinal(df['cut'], cut_order)\n",
    "    color_ordinal = cat2ordinal(df['color'], color_order)\n",
    "    clarity_ordinal = cat2ordinal(df['clarity'], clarity_order)\n",
    "\n",
    "    out = pd.DataFrame(data=[cut_ordinal, color_ordinal, clarity_ordinal]).T\n",
    "    return out"
   ]
  },
  {
   "cell_type": "code",
   "execution_count": null,
   "metadata": {},
   "outputs": [],
   "source": []
  },
  {
   "cell_type": "markdown",
   "metadata": {},
   "source": [
    "### Nominal Encoding \n",
    "\n",
    "**Question 3**\n",
    "\n",
    "**One-hot encoding**\n",
    "\n",
    "Even though the categorical variables in the dataset are ordinal, we can still treat them as nominal by forgetting about the ordering of the columns. Treating the categorical columns as nominal, we might one-hot encode them. \n",
    "\n",
    "Create a function `create_one_hot` that takes in `diamonds` and returns a dataframe of one-hot encoded features with names `one_hot_<col>_<val>` where `<col>` is the original categorical column name, and `<val>` is the value found in the categorical column `<col>`.\n",
    "\n",
    "*Note 1:* Create a helper function that creates the one-hot encoding for a single column. **Do not** use `sklearn` or `pd.get_dummies` for this question!\n",
    "\n",
    "*Note 2:* The code in lecture for one-hot-encoding is inefficient and simply there to illustrate how it works. Make sure this function you create is optimized otherwise it will timeout on gradescope."
   ]
  },
  {
   "cell_type": "markdown",
   "metadata": {},
   "source": [
    "### Use sklearn"
   ]
  },
  {
   "cell_type": "code",
   "execution_count": 125,
   "metadata": {},
   "outputs": [],
   "source": [
    "from sklearn.preprocessing import OneHotEncoder"
   ]
  },
  {
   "cell_type": "code",
   "execution_count": 146,
   "metadata": {},
   "outputs": [
    {
     "data": {
      "text/plain": [
       "[array(['Fair', 'Good', 'Ideal', 'Premium', 'Very Good'], dtype=object),\n",
       " array(['D', 'E', 'F', 'G', 'H', 'I', 'J'], dtype=object),\n",
       " array(['I1', 'IF', 'SI1', 'SI2', 'VS1', 'VS2', 'VVS1', 'VVS2'],\n",
       "       dtype=object)]"
      ]
     },
     "execution_count": 146,
     "metadata": {},
     "output_type": "execute_result"
    }
   ],
   "source": [
    "regdata = diamonds[['cut', 'color', 'clarity']]\n",
    "ohe = OneHotEncoder()  # create\n",
    "ohe.fit(regdata)       # fit to data\n",
    "ohe.categories_        # you can look into created categories ="
   ]
  },
  {
   "cell_type": "code",
   "execution_count": 127,
   "metadata": {},
   "outputs": [
    {
     "data": {
      "text/plain": [
       "array([[0., 0., 1., 0., 0., 0., 1., 0., 0., 0., 0., 0., 0., 0., 0., 1.,\n",
       "        0., 0., 0., 0.],\n",
       "       [0., 0., 0., 1., 0., 0., 1., 0., 0., 0., 0., 0., 0., 0., 1., 0.,\n",
       "        0., 0., 0., 0.],\n",
       "       [0., 1., 0., 0., 0., 0., 1., 0., 0., 0., 0., 0., 0., 0., 0., 0.,\n",
       "        1., 0., 0., 0.],\n",
       "       [0., 0., 0., 1., 0., 0., 0., 0., 0., 0., 1., 0., 0., 0., 0., 0.,\n",
       "        0., 1., 0., 0.],\n",
       "       [0., 1., 0., 0., 0., 0., 0., 0., 0., 0., 0., 1., 0., 0., 0., 1.,\n",
       "        0., 0., 0., 0.],\n",
       "       [0., 0., 0., 0., 1., 0., 0., 0., 0., 0., 0., 1., 0., 0., 0., 0.,\n",
       "        0., 0., 0., 1.],\n",
       "       [0., 0., 0., 0., 1., 0., 0., 0., 0., 0., 1., 0., 0., 0., 0., 0.,\n",
       "        0., 0., 1., 0.],\n",
       "       [0., 0., 0., 0., 1., 0., 0., 0., 0., 1., 0., 0., 0., 0., 1., 0.,\n",
       "        0., 0., 0., 0.],\n",
       "       [1., 0., 0., 0., 0., 0., 1., 0., 0., 0., 0., 0., 0., 0., 0., 0.,\n",
       "        0., 1., 0., 0.],\n",
       "       [0., 0., 0., 0., 1., 0., 0., 0., 0., 1., 0., 0., 0., 0., 0., 0.,\n",
       "        1., 0., 0., 0.]])"
      ]
     },
     "execution_count": 127,
     "metadata": {},
     "output_type": "execute_result"
    }
   ],
   "source": [
    "features = ohe.transform(regdata).toarray()  # why toarray()? to avoid sparse matrix!\n",
    "features[:10]"
   ]
  },
  {
   "cell_type": "code",
   "execution_count": 128,
   "metadata": {},
   "outputs": [
    {
     "data": {
      "text/html": [
       "<div>\n",
       "<style scoped>\n",
       "    .dataframe tbody tr th:only-of-type {\n",
       "        vertical-align: middle;\n",
       "    }\n",
       "\n",
       "    .dataframe tbody tr th {\n",
       "        vertical-align: top;\n",
       "    }\n",
       "\n",
       "    .dataframe thead th {\n",
       "        text-align: right;\n",
       "    }\n",
       "</style>\n",
       "<table border=\"1\" class=\"dataframe\">\n",
       "  <thead>\n",
       "    <tr style=\"text-align: right;\">\n",
       "      <th></th>\n",
       "      <th>one_hot_cut_Fair</th>\n",
       "      <th>one_hot_cut_Good</th>\n",
       "      <th>one_hot_cut_Ideal</th>\n",
       "      <th>one_hot_cut_Premium</th>\n",
       "      <th>one_hot_cut_Very Good</th>\n",
       "      <th>one_hot_color_D</th>\n",
       "      <th>one_hot_color_E</th>\n",
       "      <th>one_hot_color_F</th>\n",
       "      <th>one_hot_color_G</th>\n",
       "      <th>one_hot_color_H</th>\n",
       "      <th>one_hot_color_I</th>\n",
       "      <th>one_hot_color_J</th>\n",
       "      <th>one_hot_clarity_I1</th>\n",
       "      <th>one_hot_clarity_IF</th>\n",
       "      <th>one_hot_clarity_SI1</th>\n",
       "      <th>one_hot_clarity_SI2</th>\n",
       "      <th>one_hot_clarity_VS1</th>\n",
       "      <th>one_hot_clarity_VS2</th>\n",
       "      <th>one_hot_clarity_VVS1</th>\n",
       "      <th>one_hot_clarity_VVS2</th>\n",
       "    </tr>\n",
       "  </thead>\n",
       "  <tbody>\n",
       "    <tr>\n",
       "      <th>38752</th>\n",
       "      <td>0.0</td>\n",
       "      <td>0.0</td>\n",
       "      <td>1.0</td>\n",
       "      <td>0.0</td>\n",
       "      <td>0.0</td>\n",
       "      <td>0.0</td>\n",
       "      <td>1.0</td>\n",
       "      <td>0.0</td>\n",
       "      <td>0.0</td>\n",
       "      <td>0.0</td>\n",
       "      <td>0.0</td>\n",
       "      <td>0.0</td>\n",
       "      <td>0.0</td>\n",
       "      <td>0.0</td>\n",
       "      <td>0.0</td>\n",
       "      <td>0.0</td>\n",
       "      <td>0.0</td>\n",
       "      <td>0.0</td>\n",
       "      <td>1.0</td>\n",
       "      <td>0.0</td>\n",
       "    </tr>\n",
       "    <tr>\n",
       "      <th>51013</th>\n",
       "      <td>0.0</td>\n",
       "      <td>1.0</td>\n",
       "      <td>0.0</td>\n",
       "      <td>0.0</td>\n",
       "      <td>0.0</td>\n",
       "      <td>0.0</td>\n",
       "      <td>0.0</td>\n",
       "      <td>0.0</td>\n",
       "      <td>0.0</td>\n",
       "      <td>1.0</td>\n",
       "      <td>0.0</td>\n",
       "      <td>0.0</td>\n",
       "      <td>0.0</td>\n",
       "      <td>0.0</td>\n",
       "      <td>0.0</td>\n",
       "      <td>0.0</td>\n",
       "      <td>0.0</td>\n",
       "      <td>1.0</td>\n",
       "      <td>0.0</td>\n",
       "      <td>0.0</td>\n",
       "    </tr>\n",
       "    <tr>\n",
       "      <th>11589</th>\n",
       "      <td>1.0</td>\n",
       "      <td>0.0</td>\n",
       "      <td>0.0</td>\n",
       "      <td>0.0</td>\n",
       "      <td>0.0</td>\n",
       "      <td>0.0</td>\n",
       "      <td>0.0</td>\n",
       "      <td>0.0</td>\n",
       "      <td>0.0</td>\n",
       "      <td>1.0</td>\n",
       "      <td>0.0</td>\n",
       "      <td>0.0</td>\n",
       "      <td>0.0</td>\n",
       "      <td>0.0</td>\n",
       "      <td>0.0</td>\n",
       "      <td>0.0</td>\n",
       "      <td>0.0</td>\n",
       "      <td>1.0</td>\n",
       "      <td>0.0</td>\n",
       "      <td>0.0</td>\n",
       "    </tr>\n",
       "    <tr>\n",
       "      <th>22352</th>\n",
       "      <td>0.0</td>\n",
       "      <td>0.0</td>\n",
       "      <td>1.0</td>\n",
       "      <td>0.0</td>\n",
       "      <td>0.0</td>\n",
       "      <td>0.0</td>\n",
       "      <td>0.0</td>\n",
       "      <td>0.0</td>\n",
       "      <td>0.0</td>\n",
       "      <td>1.0</td>\n",
       "      <td>0.0</td>\n",
       "      <td>0.0</td>\n",
       "      <td>0.0</td>\n",
       "      <td>0.0</td>\n",
       "      <td>0.0</td>\n",
       "      <td>0.0</td>\n",
       "      <td>0.0</td>\n",
       "      <td>1.0</td>\n",
       "      <td>0.0</td>\n",
       "      <td>0.0</td>\n",
       "    </tr>\n",
       "    <tr>\n",
       "      <th>36342</th>\n",
       "      <td>0.0</td>\n",
       "      <td>0.0</td>\n",
       "      <td>1.0</td>\n",
       "      <td>0.0</td>\n",
       "      <td>0.0</td>\n",
       "      <td>0.0</td>\n",
       "      <td>0.0</td>\n",
       "      <td>0.0</td>\n",
       "      <td>1.0</td>\n",
       "      <td>0.0</td>\n",
       "      <td>0.0</td>\n",
       "      <td>0.0</td>\n",
       "      <td>0.0</td>\n",
       "      <td>0.0</td>\n",
       "      <td>0.0</td>\n",
       "      <td>0.0</td>\n",
       "      <td>0.0</td>\n",
       "      <td>0.0</td>\n",
       "      <td>1.0</td>\n",
       "      <td>0.0</td>\n",
       "    </tr>\n",
       "  </tbody>\n",
       "</table>\n",
       "</div>"
      ],
      "text/plain": [
       "       one_hot_cut_Fair  one_hot_cut_Good  one_hot_cut_Ideal  \\\n",
       "38752               0.0               0.0                1.0   \n",
       "51013               0.0               1.0                0.0   \n",
       "11589               1.0               0.0                0.0   \n",
       "22352               0.0               0.0                1.0   \n",
       "36342               0.0               0.0                1.0   \n",
       "\n",
       "       one_hot_cut_Premium  one_hot_cut_Very Good  one_hot_color_D  \\\n",
       "38752                  0.0                    0.0              0.0   \n",
       "51013                  0.0                    0.0              0.0   \n",
       "11589                  0.0                    0.0              0.0   \n",
       "22352                  0.0                    0.0              0.0   \n",
       "36342                  0.0                    0.0              0.0   \n",
       "\n",
       "       one_hot_color_E  one_hot_color_F  one_hot_color_G  one_hot_color_H  \\\n",
       "38752              1.0              0.0              0.0              0.0   \n",
       "51013              0.0              0.0              0.0              1.0   \n",
       "11589              0.0              0.0              0.0              1.0   \n",
       "22352              0.0              0.0              0.0              1.0   \n",
       "36342              0.0              0.0              1.0              0.0   \n",
       "\n",
       "       one_hot_color_I  one_hot_color_J  one_hot_clarity_I1  \\\n",
       "38752              0.0              0.0                 0.0   \n",
       "51013              0.0              0.0                 0.0   \n",
       "11589              0.0              0.0                 0.0   \n",
       "22352              0.0              0.0                 0.0   \n",
       "36342              0.0              0.0                 0.0   \n",
       "\n",
       "       one_hot_clarity_IF  one_hot_clarity_SI1  one_hot_clarity_SI2  \\\n",
       "38752                 0.0                  0.0                  0.0   \n",
       "51013                 0.0                  0.0                  0.0   \n",
       "11589                 0.0                  0.0                  0.0   \n",
       "22352                 0.0                  0.0                  0.0   \n",
       "36342                 0.0                  0.0                  0.0   \n",
       "\n",
       "       one_hot_clarity_VS1  one_hot_clarity_VS2  one_hot_clarity_VVS1  \\\n",
       "38752                  0.0                  0.0                   1.0   \n",
       "51013                  0.0                  1.0                   0.0   \n",
       "11589                  0.0                  1.0                   0.0   \n",
       "22352                  0.0                  1.0                   0.0   \n",
       "36342                  0.0                  0.0                   1.0   \n",
       "\n",
       "       one_hot_clarity_VVS2  \n",
       "38752                   0.0  \n",
       "51013                   0.0  \n",
       "11589                   0.0  \n",
       "22352                   0.0  \n",
       "36342                   0.0  "
      ]
     },
     "execution_count": 128,
     "metadata": {},
     "output_type": "execute_result"
    }
   ],
   "source": [
    "ohe_cols = []\n",
    "cut_val, color_val, clar_val = ohe.categories_\n",
    "for col in ['cut', 'color', 'clarity']:\n",
    "    if col == 'cut':\n",
    "        values = cut_val\n",
    "    elif col == 'color':\n",
    "        values = color_val\n",
    "    else:\n",
    "        values = clar_val\n",
    "        \n",
    "    for val in values:\n",
    "        ohe_cols.append('one_hot_'+col+'_'+val)\n",
    "sklearn_answer = pd.DataFrame(data=features, columns=ohe_cols)\n",
    "sklearn_answer.sample(5)"
   ]
  },
  {
   "cell_type": "code",
   "execution_count": null,
   "metadata": {},
   "outputs": [],
   "source": []
  },
  {
   "cell_type": "markdown",
   "metadata": {},
   "source": [
    "### Own transformation"
   ]
  },
  {
   "cell_type": "code",
   "execution_count": 142,
   "metadata": {},
   "outputs": [
    {
     "data": {
      "text/html": [
       "<div>\n",
       "<style scoped>\n",
       "    .dataframe tbody tr th:only-of-type {\n",
       "        vertical-align: middle;\n",
       "    }\n",
       "\n",
       "    .dataframe tbody tr th {\n",
       "        vertical-align: top;\n",
       "    }\n",
       "\n",
       "    .dataframe thead th {\n",
       "        text-align: right;\n",
       "    }\n",
       "</style>\n",
       "<table border=\"1\" class=\"dataframe\">\n",
       "  <thead>\n",
       "    <tr style=\"text-align: right;\">\n",
       "      <th></th>\n",
       "      <th>one_hot_cut_Fair</th>\n",
       "      <th>one_hot_cut_Good</th>\n",
       "      <th>one_hot_cut_Ideal</th>\n",
       "      <th>one_hot_cut_Premium</th>\n",
       "      <th>one_hot_cut_Very Good</th>\n",
       "      <th>one_hot_color_D</th>\n",
       "      <th>one_hot_color_E</th>\n",
       "      <th>one_hot_color_F</th>\n",
       "      <th>one_hot_color_G</th>\n",
       "      <th>one_hot_color_H</th>\n",
       "      <th>one_hot_color_I</th>\n",
       "      <th>one_hot_color_J</th>\n",
       "      <th>one_hot_clarity_I1</th>\n",
       "      <th>one_hot_clarity_IF</th>\n",
       "      <th>one_hot_clarity_SI1</th>\n",
       "      <th>one_hot_clarity_SI2</th>\n",
       "      <th>one_hot_clarity_VS1</th>\n",
       "      <th>one_hot_clarity_VS2</th>\n",
       "      <th>one_hot_clarity_VVS1</th>\n",
       "      <th>one_hot_clarity_VVS2</th>\n",
       "    </tr>\n",
       "  </thead>\n",
       "  <tbody>\n",
       "    <tr>\n",
       "      <th>0</th>\n",
       "      <td>0.0</td>\n",
       "      <td>0.0</td>\n",
       "      <td>1.0</td>\n",
       "      <td>0.0</td>\n",
       "      <td>0.0</td>\n",
       "      <td>0.0</td>\n",
       "      <td>1.0</td>\n",
       "      <td>0.0</td>\n",
       "      <td>0.0</td>\n",
       "      <td>0.0</td>\n",
       "      <td>0.0</td>\n",
       "      <td>0.0</td>\n",
       "      <td>0.0</td>\n",
       "      <td>0.0</td>\n",
       "      <td>0.0</td>\n",
       "      <td>1.0</td>\n",
       "      <td>0.0</td>\n",
       "      <td>0.0</td>\n",
       "      <td>0.0</td>\n",
       "      <td>0.0</td>\n",
       "    </tr>\n",
       "    <tr>\n",
       "      <th>1</th>\n",
       "      <td>0.0</td>\n",
       "      <td>0.0</td>\n",
       "      <td>0.0</td>\n",
       "      <td>1.0</td>\n",
       "      <td>0.0</td>\n",
       "      <td>0.0</td>\n",
       "      <td>1.0</td>\n",
       "      <td>0.0</td>\n",
       "      <td>0.0</td>\n",
       "      <td>0.0</td>\n",
       "      <td>0.0</td>\n",
       "      <td>0.0</td>\n",
       "      <td>0.0</td>\n",
       "      <td>0.0</td>\n",
       "      <td>1.0</td>\n",
       "      <td>0.0</td>\n",
       "      <td>0.0</td>\n",
       "      <td>0.0</td>\n",
       "      <td>0.0</td>\n",
       "      <td>0.0</td>\n",
       "    </tr>\n",
       "    <tr>\n",
       "      <th>2</th>\n",
       "      <td>0.0</td>\n",
       "      <td>1.0</td>\n",
       "      <td>0.0</td>\n",
       "      <td>0.0</td>\n",
       "      <td>0.0</td>\n",
       "      <td>0.0</td>\n",
       "      <td>1.0</td>\n",
       "      <td>0.0</td>\n",
       "      <td>0.0</td>\n",
       "      <td>0.0</td>\n",
       "      <td>0.0</td>\n",
       "      <td>0.0</td>\n",
       "      <td>0.0</td>\n",
       "      <td>0.0</td>\n",
       "      <td>0.0</td>\n",
       "      <td>0.0</td>\n",
       "      <td>1.0</td>\n",
       "      <td>0.0</td>\n",
       "      <td>0.0</td>\n",
       "      <td>0.0</td>\n",
       "    </tr>\n",
       "    <tr>\n",
       "      <th>3</th>\n",
       "      <td>0.0</td>\n",
       "      <td>0.0</td>\n",
       "      <td>0.0</td>\n",
       "      <td>1.0</td>\n",
       "      <td>0.0</td>\n",
       "      <td>0.0</td>\n",
       "      <td>0.0</td>\n",
       "      <td>0.0</td>\n",
       "      <td>0.0</td>\n",
       "      <td>0.0</td>\n",
       "      <td>1.0</td>\n",
       "      <td>0.0</td>\n",
       "      <td>0.0</td>\n",
       "      <td>0.0</td>\n",
       "      <td>0.0</td>\n",
       "      <td>0.0</td>\n",
       "      <td>0.0</td>\n",
       "      <td>1.0</td>\n",
       "      <td>0.0</td>\n",
       "      <td>0.0</td>\n",
       "    </tr>\n",
       "    <tr>\n",
       "      <th>4</th>\n",
       "      <td>0.0</td>\n",
       "      <td>1.0</td>\n",
       "      <td>0.0</td>\n",
       "      <td>0.0</td>\n",
       "      <td>0.0</td>\n",
       "      <td>0.0</td>\n",
       "      <td>0.0</td>\n",
       "      <td>0.0</td>\n",
       "      <td>0.0</td>\n",
       "      <td>0.0</td>\n",
       "      <td>0.0</td>\n",
       "      <td>1.0</td>\n",
       "      <td>0.0</td>\n",
       "      <td>0.0</td>\n",
       "      <td>0.0</td>\n",
       "      <td>1.0</td>\n",
       "      <td>0.0</td>\n",
       "      <td>0.0</td>\n",
       "      <td>0.0</td>\n",
       "      <td>0.0</td>\n",
       "    </tr>\n",
       "  </tbody>\n",
       "</table>\n",
       "</div>"
      ],
      "text/plain": [
       "   one_hot_cut_Fair  one_hot_cut_Good  one_hot_cut_Ideal  one_hot_cut_Premium  \\\n",
       "0               0.0               0.0                1.0                  0.0   \n",
       "1               0.0               0.0                0.0                  1.0   \n",
       "2               0.0               1.0                0.0                  0.0   \n",
       "3               0.0               0.0                0.0                  1.0   \n",
       "4               0.0               1.0                0.0                  0.0   \n",
       "\n",
       "   one_hot_cut_Very Good  one_hot_color_D  one_hot_color_E  one_hot_color_F  \\\n",
       "0                    0.0              0.0              1.0              0.0   \n",
       "1                    0.0              0.0              1.0              0.0   \n",
       "2                    0.0              0.0              1.0              0.0   \n",
       "3                    0.0              0.0              0.0              0.0   \n",
       "4                    0.0              0.0              0.0              0.0   \n",
       "\n",
       "   one_hot_color_G  one_hot_color_H  one_hot_color_I  one_hot_color_J  \\\n",
       "0              0.0              0.0              0.0              0.0   \n",
       "1              0.0              0.0              0.0              0.0   \n",
       "2              0.0              0.0              0.0              0.0   \n",
       "3              0.0              0.0              1.0              0.0   \n",
       "4              0.0              0.0              0.0              1.0   \n",
       "\n",
       "   one_hot_clarity_I1  one_hot_clarity_IF  one_hot_clarity_SI1  \\\n",
       "0                 0.0                 0.0                  0.0   \n",
       "1                 0.0                 0.0                  1.0   \n",
       "2                 0.0                 0.0                  0.0   \n",
       "3                 0.0                 0.0                  0.0   \n",
       "4                 0.0                 0.0                  0.0   \n",
       "\n",
       "   one_hot_clarity_SI2  one_hot_clarity_VS1  one_hot_clarity_VS2  \\\n",
       "0                  1.0                  0.0                  0.0   \n",
       "1                  0.0                  0.0                  0.0   \n",
       "2                  0.0                  1.0                  0.0   \n",
       "3                  0.0                  0.0                  1.0   \n",
       "4                  1.0                  0.0                  0.0   \n",
       "\n",
       "   one_hot_clarity_VVS1  one_hot_clarity_VVS2  \n",
       "0                   0.0                   0.0  \n",
       "1                   0.0                   0.0  \n",
       "2                   0.0                   0.0  \n",
       "3                   0.0                   0.0  \n",
       "4                   0.0                   0.0  "
      ]
     },
     "execution_count": 142,
     "metadata": {},
     "output_type": "execute_result"
    }
   ],
   "source": [
    "df = diamonds.copy()\n",
    "\n",
    "# Helper function to change categorical into onehot encoding\n",
    "def cat2onehot(col):\n",
    "    ohe_name = 'one_hot_' + col.name + '_' # Prefix of onehot col name\n",
    "    unique_val = np.array(col.unique()) # Unique values\n",
    "    unique_val.sort()\n",
    "    ohe_names = [] # onehot columns names\n",
    "    for value in unique_val: # Get unique values in col\n",
    "        ohe_names.append(ohe_name+value)\n",
    "    \n",
    "    ohe = []\n",
    "    for elem in col: # Loop through column values\n",
    "        # Create hit/not hit\n",
    "        ohe.append((unique_val == elem) * 1.0)\n",
    "    \n",
    "    return pd.DataFrame(data=ohe, index=col.index, columns=ohe_names)\n",
    "\n",
    "# Get onehot dataframe\n",
    "cut_ohe = cat2onehot(df['cut'])\n",
    "color_ohe = cat2onehot(df['color'])\n",
    "clarity_ohe = cat2onehot(df['clarity'])\n",
    "\n",
    "out = pd.concat([cut_ohe, color_ohe, clarity_ohe], axis=1, sort=False)\n",
    "out.head()"
   ]
  },
  {
   "cell_type": "code",
   "execution_count": 143,
   "metadata": {},
   "outputs": [
    {
     "data": {
      "text/plain": [
       "True"
      ]
     },
     "execution_count": 143,
     "metadata": {},
     "output_type": "execute_result"
    }
   ],
   "source": [
    "out.equals(sklearn_answer) # True when convert values into float"
   ]
  },
  {
   "cell_type": "code",
   "execution_count": null,
   "metadata": {},
   "outputs": [],
   "source": []
  },
  {
   "cell_type": "code",
   "execution_count": 144,
   "metadata": {},
   "outputs": [],
   "source": [
    "def create_one_hot(df):\n",
    "    \"\"\"\n",
    "    create_one_hot takes in diamonds and returns a dataframe of one-hot \n",
    "    encoded features with names one_hot_<col>_<val> where <col> is the \n",
    "    original categorical column name, and <val> is the value found in \n",
    "    the categorical column <col>.\n",
    "\n",
    "    :Example:\n",
    "    >>> diamonds = sns.load_dataset('diamonds')\n",
    "    >>> out = create_one_hot(diamonds)\n",
    "    >>> out.shape == (53940, 20)\n",
    "    True\n",
    "    >>> out.columns.str.startswith('one_hot').all()\n",
    "    True\n",
    "    >>> out.isin([0,1]).all().all()\n",
    "    True\n",
    "    \"\"\"\n",
    "\n",
    "    # Helper function to change categorical into onehot encoding\n",
    "    def cat2onehot(col):\n",
    "        ohe_name = 'one_hot_' + col.name + '_' # Prefix of onehot col name\n",
    "        unique_val = np.array(col.unique()) # Unique values\n",
    "        unique_val.sort()\n",
    "        ohe_names = [] # onehot columns names\n",
    "        for value in unique_val: # Get unique values in col\n",
    "            ohe_names.append(ohe_name+value)\n",
    "\n",
    "        ohe = []\n",
    "        for elem in col: # Loop through column values\n",
    "            # Create hit/not hit\n",
    "            ohe.append((unique_val == elem) * 1.0)\n",
    "\n",
    "        return pd.DataFrame(data=ohe, index=col.index, columns=ohe_names)\n",
    "\n",
    "    # Get onehot dataframe\n",
    "    cut_ohe = cat2onehot(df['cut'])\n",
    "    color_ohe = cat2onehot(df['color'])\n",
    "    clarity_ohe = cat2onehot(df['clarity'])\n",
    "\n",
    "    return pd.concat([cut_ohe, color_ohe, clarity_ohe], axis=1, sort=False)\n"
   ]
  },
  {
   "cell_type": "code",
   "execution_count": null,
   "metadata": {},
   "outputs": [],
   "source": []
  },
  {
   "cell_type": "markdown",
   "metadata": {},
   "source": [
    "**Encoding with proportions**\n",
    "\n",
    "Similar to the one-hot encoding case, you can replace a value in a nominal column with the likelihood that value appears in the column. This might be a reasonable approach to predicting the price of a diamond, as you might expect *rarer attributes to be considered more valuable* than common ones.\n",
    "\n",
    "Create a function `create_proportions` that takes in `diamonds` and returns a dataframe of proportion-encoded features with names `proportion_<col>` where `<col>` is the original categorical column name.\n",
    "\n",
    "*Note:* If a column consists of the values `['a', 'b', 'a', 'c']`, then the proportion encoded column is `[0.5, 0.25, 0.5, 0.25]`. "
   ]
  },
  {
   "cell_type": "code",
   "execution_count": 185,
   "metadata": {},
   "outputs": [
    {
     "data": {
      "text/html": [
       "<div>\n",
       "<style scoped>\n",
       "    .dataframe tbody tr th:only-of-type {\n",
       "        vertical-align: middle;\n",
       "    }\n",
       "\n",
       "    .dataframe tbody tr th {\n",
       "        vertical-align: top;\n",
       "    }\n",
       "\n",
       "    .dataframe thead th {\n",
       "        text-align: right;\n",
       "    }\n",
       "</style>\n",
       "<table border=\"1\" class=\"dataframe\">\n",
       "  <thead>\n",
       "    <tr style=\"text-align: right;\">\n",
       "      <th></th>\n",
       "      <th>proportion_cut</th>\n",
       "      <th>proportion_color</th>\n",
       "      <th>proportion_clarity</th>\n",
       "    </tr>\n",
       "  </thead>\n",
       "  <tbody>\n",
       "    <tr>\n",
       "      <th>0</th>\n",
       "      <td>0.399537</td>\n",
       "      <td>0.181628</td>\n",
       "      <td>0.170449</td>\n",
       "    </tr>\n",
       "    <tr>\n",
       "      <th>1</th>\n",
       "      <td>0.255673</td>\n",
       "      <td>0.181628</td>\n",
       "      <td>0.242214</td>\n",
       "    </tr>\n",
       "    <tr>\n",
       "      <th>2</th>\n",
       "      <td>0.090953</td>\n",
       "      <td>0.181628</td>\n",
       "      <td>0.151483</td>\n",
       "    </tr>\n",
       "    <tr>\n",
       "      <th>3</th>\n",
       "      <td>0.255673</td>\n",
       "      <td>0.100519</td>\n",
       "      <td>0.227253</td>\n",
       "    </tr>\n",
       "    <tr>\n",
       "      <th>4</th>\n",
       "      <td>0.090953</td>\n",
       "      <td>0.052058</td>\n",
       "      <td>0.170449</td>\n",
       "    </tr>\n",
       "  </tbody>\n",
       "</table>\n",
       "</div>"
      ],
      "text/plain": [
       "   proportion_cut  proportion_color  proportion_clarity\n",
       "0        0.399537          0.181628            0.170449\n",
       "1        0.255673          0.181628            0.242214\n",
       "2        0.090953          0.181628            0.151483\n",
       "3        0.255673          0.100519            0.227253\n",
       "4        0.090953          0.052058            0.170449"
      ]
     },
     "execution_count": 185,
     "metadata": {},
     "output_type": "execute_result"
    }
   ],
   "source": [
    "df = diamonds.copy()\n",
    "\n",
    "# Helper function to change categorical into prop encoding\n",
    "def cat2prop(col):\n",
    "    prop = col.value_counts(normalize=True) # Normalized (prop)\n",
    "    replaced = col.replace(to_replace=prop.index, value=prop.values) # Replace val with prop\n",
    "    return replaced.rename('proportion_' + col.name)\n",
    "\n",
    "# Get prop data\n",
    "cut_prop = cat2prop(df['cut'])\n",
    "color_prop = cat2prop(df['color'])\n",
    "clarity_prop = cat2prop(df['clarity'])\n",
    "\n",
    "out = pd.DataFrame(data=[cut_prop, color_prop, clarity_prop]).T\n",
    "out.head()"
   ]
  },
  {
   "cell_type": "code",
   "execution_count": null,
   "metadata": {},
   "outputs": [],
   "source": []
  },
  {
   "cell_type": "code",
   "execution_count": 182,
   "metadata": {},
   "outputs": [
    {
     "data": {
      "text/plain": [
       "0    0.50\n",
       "1    0.25\n",
       "2    0.50\n",
       "3    0.25\n",
       "dtype: float64"
      ]
     },
     "execution_count": 182,
     "metadata": {},
     "output_type": "execute_result"
    }
   ],
   "source": [
    "cat2prop(pd.Series(['a', 'b', 'a', 'c']))"
   ]
  },
  {
   "cell_type": "code",
   "execution_count": null,
   "metadata": {},
   "outputs": [],
   "source": []
  },
  {
   "cell_type": "code",
   "execution_count": null,
   "metadata": {},
   "outputs": [],
   "source": []
  },
  {
   "cell_type": "code",
   "execution_count": 186,
   "metadata": {},
   "outputs": [],
   "source": [
    "def create_proportions(df):\n",
    "    \"\"\"\n",
    "    create_proportions takes in diamonds and returns a \n",
    "    dataframe of proportion-encoded features with names \n",
    "    proportion_<col> where <col> is the original \n",
    "    categorical column name.\n",
    "\n",
    "    >>> diamonds = sns.load_dataset('diamonds')\n",
    "    >>> out = create_proportions(diamonds)\n",
    "    >>> out.shape[1] == 3\n",
    "    True\n",
    "    >>> out.columns.str.startswith('proportion_').all()\n",
    "    True\n",
    "    >>> ((out >= 0) & (out <= 1)).all().all()\n",
    "    True\n",
    "    \"\"\"\n",
    "\n",
    "    # Helper function to change categorical into prop encoding\n",
    "    def cat2prop(col):\n",
    "        prop = col.value_counts(normalize=True) # Normalized (prop)\n",
    "        replaced = col.replace(to_replace=prop.index, value=prop.values) # Replace val with prop\n",
    "        return replaced.rename('proportion_' + col.name)\n",
    "\n",
    "    # Get prop data\n",
    "    cut_prop = cat2prop(df['cut'])\n",
    "    color_prop = cat2prop(df['color'])\n",
    "    clarity_prop = cat2prop(df['clarity'])\n",
    "\n",
    "    return pd.DataFrame(data=[cut_prop, color_prop, clarity_prop]).T\n"
   ]
  },
  {
   "cell_type": "code",
   "execution_count": null,
   "metadata": {},
   "outputs": [],
   "source": []
  },
  {
   "cell_type": "markdown",
   "metadata": {},
   "source": [
    "### Quantitative Encoding (quadratic features)\n",
    "\n",
    "**Question 4**\n",
    "\n",
    "Linear regression doesn't capture non-linear dependencies between variables. However, you can create features that encode such dependencies *before* fitting your regression model. Creating polynomial features is one way to do this. For example, the `diamonds` dataset contains each dimension for the stone (`x`,`y`,`z`). However, different combinations of size may be more valuable than others: a \"deep and wide\" diamond might be considered more valuable than a shallow, but \"long and wide\" diamond.\n",
    "\n",
    "Create a function `create_quadratics` that takes in `diamonds` and returns a dataframe of quadratic-encoded features `<col1> * <col2>` where `<col1>` and `<col2>` are the original quantitative columns. The output array should contain every distinct pair of pairs of columns - aside from `price`, which should be left out).\n",
    "\n",
    "*Note*: **Do not** use `sklearn` for this question! It is ok to loop through the columns of `diamonds` to do this question."
   ]
  },
  {
   "cell_type": "markdown",
   "metadata": {},
   "source": [
    "|column|description|\n",
    "|---|---|\n",
    "|price|price in US dollars (326 - 18,823 USD)|\n",
    "|carat|weight of the diamond (0.2 - 5.01)|\n",
    "|cut|quality of the cut (Fair, Good, Very Good, Premium, Ideal)|\n",
    "|color|diamond colour, from J (worst) to D (best)|\n",
    "|clarity|a measurement of how clear the diamond is (I1 (worst), SI2, SI1, VS2, VS1, VVS2, VVS1, IF (best))|\n",
    "|x|length in mm (0 - 10.74)|\n",
    "|y|width in mm (0 - 58.9)|\n",
    "|z|depth in mm (0 - 31.8)|\n",
    "|depth|total depth percentage = z / mean(x, y) = 2 * z / (x + y) (43 - 79)|\n",
    "|table|width of top of diamond relative to widest point (43 - 95)|"
   ]
  },
  {
   "cell_type": "markdown",
   "metadata": {},
   "source": [
    "### Use sklearn"
   ]
  },
  {
   "cell_type": "code",
   "execution_count": 208,
   "metadata": {},
   "outputs": [
    {
     "data": {
      "text/html": [
       "<div>\n",
       "<style scoped>\n",
       "    .dataframe tbody tr th:only-of-type {\n",
       "        vertical-align: middle;\n",
       "    }\n",
       "\n",
       "    .dataframe tbody tr th {\n",
       "        vertical-align: top;\n",
       "    }\n",
       "\n",
       "    .dataframe thead th {\n",
       "        text-align: right;\n",
       "    }\n",
       "</style>\n",
       "<table border=\"1\" class=\"dataframe\">\n",
       "  <thead>\n",
       "    <tr style=\"text-align: right;\">\n",
       "      <th></th>\n",
       "      <th>carat</th>\n",
       "      <th>x</th>\n",
       "      <th>y</th>\n",
       "      <th>z</th>\n",
       "      <th>depth</th>\n",
       "      <th>table</th>\n",
       "    </tr>\n",
       "  </thead>\n",
       "  <tbody>\n",
       "    <tr>\n",
       "      <th>0</th>\n",
       "      <td>0.23</td>\n",
       "      <td>3.95</td>\n",
       "      <td>3.98</td>\n",
       "      <td>2.43</td>\n",
       "      <td>61.5</td>\n",
       "      <td>55.0</td>\n",
       "    </tr>\n",
       "    <tr>\n",
       "      <th>1</th>\n",
       "      <td>0.21</td>\n",
       "      <td>3.89</td>\n",
       "      <td>3.84</td>\n",
       "      <td>2.31</td>\n",
       "      <td>59.8</td>\n",
       "      <td>61.0</td>\n",
       "    </tr>\n",
       "    <tr>\n",
       "      <th>2</th>\n",
       "      <td>0.23</td>\n",
       "      <td>4.05</td>\n",
       "      <td>4.07</td>\n",
       "      <td>2.31</td>\n",
       "      <td>56.9</td>\n",
       "      <td>65.0</td>\n",
       "    </tr>\n",
       "    <tr>\n",
       "      <th>3</th>\n",
       "      <td>0.29</td>\n",
       "      <td>4.20</td>\n",
       "      <td>4.23</td>\n",
       "      <td>2.63</td>\n",
       "      <td>62.4</td>\n",
       "      <td>58.0</td>\n",
       "    </tr>\n",
       "    <tr>\n",
       "      <th>4</th>\n",
       "      <td>0.31</td>\n",
       "      <td>4.34</td>\n",
       "      <td>4.35</td>\n",
       "      <td>2.75</td>\n",
       "      <td>63.3</td>\n",
       "      <td>58.0</td>\n",
       "    </tr>\n",
       "  </tbody>\n",
       "</table>\n",
       "</div>"
      ],
      "text/plain": [
       "   carat     x     y     z  depth  table\n",
       "0   0.23  3.95  3.98  2.43   61.5   55.0\n",
       "1   0.21  3.89  3.84  2.31   59.8   61.0\n",
       "2   0.23  4.05  4.07  2.31   56.9   65.0\n",
       "3   0.29  4.20  4.23  2.63   62.4   58.0\n",
       "4   0.31  4.34  4.35  2.75   63.3   58.0"
      ]
     },
     "execution_count": 208,
     "metadata": {},
     "output_type": "execute_result"
    }
   ],
   "source": [
    "regdata = diamonds[['carat', 'x', 'y', 'z', 'depth', 'table']]\n",
    "regdata.head()"
   ]
  },
  {
   "cell_type": "code",
   "execution_count": 189,
   "metadata": {},
   "outputs": [],
   "source": [
    "# x: length, y: width, z: depth\n",
    "from sklearn.preprocessing import PolynomialFeatures"
   ]
  },
  {
   "cell_type": "code",
   "execution_count": 218,
   "metadata": {},
   "outputs": [
    {
     "data": {
      "text/html": [
       "<div>\n",
       "<style scoped>\n",
       "    .dataframe tbody tr th:only-of-type {\n",
       "        vertical-align: middle;\n",
       "    }\n",
       "\n",
       "    .dataframe tbody tr th {\n",
       "        vertical-align: top;\n",
       "    }\n",
       "\n",
       "    .dataframe thead th {\n",
       "        text-align: right;\n",
       "    }\n",
       "</style>\n",
       "<table border=\"1\" class=\"dataframe\">\n",
       "  <thead>\n",
       "    <tr style=\"text-align: right;\">\n",
       "      <th></th>\n",
       "      <th>carat x</th>\n",
       "      <th>carat y</th>\n",
       "      <th>carat z</th>\n",
       "      <th>carat depth</th>\n",
       "      <th>carat table</th>\n",
       "      <th>x y</th>\n",
       "      <th>x z</th>\n",
       "      <th>x depth</th>\n",
       "      <th>x table</th>\n",
       "      <th>y z</th>\n",
       "      <th>y depth</th>\n",
       "      <th>y table</th>\n",
       "      <th>z depth</th>\n",
       "      <th>z table</th>\n",
       "      <th>depth table</th>\n",
       "    </tr>\n",
       "  </thead>\n",
       "  <tbody>\n",
       "    <tr>\n",
       "      <th>53284</th>\n",
       "      <td>1.2690</td>\n",
       "      <td>1.2780</td>\n",
       "      <td>0.7950</td>\n",
       "      <td>18.720</td>\n",
       "      <td>18.00</td>\n",
       "      <td>18.0198</td>\n",
       "      <td>11.2095</td>\n",
       "      <td>263.952</td>\n",
       "      <td>253.80</td>\n",
       "      <td>11.2890</td>\n",
       "      <td>265.824</td>\n",
       "      <td>255.60</td>\n",
       "      <td>165.360</td>\n",
       "      <td>159.00</td>\n",
       "      <td>3744.0</td>\n",
       "    </tr>\n",
       "    <tr>\n",
       "      <th>25714</th>\n",
       "      <td>16.5842</td>\n",
       "      <td>16.7458</td>\n",
       "      <td>9.7970</td>\n",
       "      <td>118.776</td>\n",
       "      <td>115.14</td>\n",
       "      <td>68.0609</td>\n",
       "      <td>39.8185</td>\n",
       "      <td>482.748</td>\n",
       "      <td>467.97</td>\n",
       "      <td>40.2065</td>\n",
       "      <td>487.452</td>\n",
       "      <td>472.53</td>\n",
       "      <td>285.180</td>\n",
       "      <td>276.45</td>\n",
       "      <td>3351.6</td>\n",
       "    </tr>\n",
       "    <tr>\n",
       "      <th>6425</th>\n",
       "      <td>6.5347</td>\n",
       "      <td>6.5953</td>\n",
       "      <td>3.9794</td>\n",
       "      <td>61.206</td>\n",
       "      <td>58.58</td>\n",
       "      <td>42.2491</td>\n",
       "      <td>25.4918</td>\n",
       "      <td>392.082</td>\n",
       "      <td>375.26</td>\n",
       "      <td>25.7282</td>\n",
       "      <td>395.718</td>\n",
       "      <td>378.74</td>\n",
       "      <td>238.764</td>\n",
       "      <td>228.52</td>\n",
       "      <td>3514.8</td>\n",
       "    </tr>\n",
       "    <tr>\n",
       "      <th>46031</th>\n",
       "      <td>3.0837</td>\n",
       "      <td>3.0609</td>\n",
       "      <td>1.8354</td>\n",
       "      <td>34.029</td>\n",
       "      <td>33.63</td>\n",
       "      <td>29.0517</td>\n",
       "      <td>17.4202</td>\n",
       "      <td>322.977</td>\n",
       "      <td>319.19</td>\n",
       "      <td>17.2914</td>\n",
       "      <td>320.589</td>\n",
       "      <td>316.83</td>\n",
       "      <td>192.234</td>\n",
       "      <td>189.98</td>\n",
       "      <td>3522.3</td>\n",
       "    </tr>\n",
       "    <tr>\n",
       "      <th>17424</th>\n",
       "      <td>7.1280</td>\n",
       "      <td>7.0524</td>\n",
       "      <td>4.4604</td>\n",
       "      <td>67.932</td>\n",
       "      <td>59.40</td>\n",
       "      <td>43.0980</td>\n",
       "      <td>27.2580</td>\n",
       "      <td>415.140</td>\n",
       "      <td>363.00</td>\n",
       "      <td>26.9689</td>\n",
       "      <td>410.737</td>\n",
       "      <td>359.15</td>\n",
       "      <td>259.777</td>\n",
       "      <td>227.15</td>\n",
       "      <td>3459.5</td>\n",
       "    </tr>\n",
       "  </tbody>\n",
       "</table>\n",
       "</div>"
      ],
      "text/plain": [
       "       carat x  carat y  carat z  carat depth  carat table      x y      x z  \\\n",
       "53284   1.2690   1.2780   0.7950       18.720        18.00  18.0198  11.2095   \n",
       "25714  16.5842  16.7458   9.7970      118.776       115.14  68.0609  39.8185   \n",
       "6425    6.5347   6.5953   3.9794       61.206        58.58  42.2491  25.4918   \n",
       "46031   3.0837   3.0609   1.8354       34.029        33.63  29.0517  17.4202   \n",
       "17424   7.1280   7.0524   4.4604       67.932        59.40  43.0980  27.2580   \n",
       "\n",
       "       x depth  x table      y z  y depth  y table  z depth  z table  \\\n",
       "53284  263.952   253.80  11.2890  265.824   255.60  165.360   159.00   \n",
       "25714  482.748   467.97  40.2065  487.452   472.53  285.180   276.45   \n",
       "6425   392.082   375.26  25.7282  395.718   378.74  238.764   228.52   \n",
       "46031  322.977   319.19  17.2914  320.589   316.83  192.234   189.98   \n",
       "17424  415.140   363.00  26.9689  410.737   359.15  259.777   227.15   \n",
       "\n",
       "       depth table  \n",
       "53284       3744.0  \n",
       "25714       3351.6  \n",
       "6425        3514.8  \n",
       "46031       3522.3  \n",
       "17424       3459.5  "
      ]
     },
     "execution_count": 218,
     "metadata": {},
     "output_type": "execute_result"
    }
   ],
   "source": [
    "poly = PolynomialFeatures(interaction_only=True, include_bias=False) # create\n",
    "features = pd.DataFrame(poly.fit_transform(regdata), columns=poly.get_feature_names(regdata.columns))\n",
    "sklearn_answer = features.loc[:,~features.columns.isin(['carat', 'x', 'y', 'z', 'depth', 'table'])]\n",
    "sklearn_answer.sample(5)"
   ]
  },
  {
   "cell_type": "code",
   "execution_count": null,
   "metadata": {},
   "outputs": [],
   "source": []
  },
  {
   "cell_type": "markdown",
   "metadata": {},
   "source": [
    "### Own transformation"
   ]
  },
  {
   "cell_type": "code",
   "execution_count": 227,
   "metadata": {},
   "outputs": [
    {
     "data": {
      "text/html": [
       "<div>\n",
       "<style scoped>\n",
       "    .dataframe tbody tr th:only-of-type {\n",
       "        vertical-align: middle;\n",
       "    }\n",
       "\n",
       "    .dataframe tbody tr th {\n",
       "        vertical-align: top;\n",
       "    }\n",
       "\n",
       "    .dataframe thead th {\n",
       "        text-align: right;\n",
       "    }\n",
       "</style>\n",
       "<table border=\"1\" class=\"dataframe\">\n",
       "  <thead>\n",
       "    <tr style=\"text-align: right;\">\n",
       "      <th></th>\n",
       "      <th>carat * x</th>\n",
       "      <th>carat * y</th>\n",
       "      <th>carat * z</th>\n",
       "      <th>carat * depth</th>\n",
       "      <th>carat * table</th>\n",
       "      <th>x * y</th>\n",
       "      <th>x * z</th>\n",
       "      <th>x * depth</th>\n",
       "      <th>x * table</th>\n",
       "      <th>y * z</th>\n",
       "      <th>y * depth</th>\n",
       "      <th>y * table</th>\n",
       "      <th>z * depth</th>\n",
       "      <th>z * table</th>\n",
       "      <th>depth * table</th>\n",
       "    </tr>\n",
       "  </thead>\n",
       "  <tbody>\n",
       "    <tr>\n",
       "      <th>0</th>\n",
       "      <td>0.9085</td>\n",
       "      <td>0.9154</td>\n",
       "      <td>0.5589</td>\n",
       "      <td>14.145</td>\n",
       "      <td>12.65</td>\n",
       "      <td>15.7210</td>\n",
       "      <td>9.5985</td>\n",
       "      <td>242.925</td>\n",
       "      <td>217.25</td>\n",
       "      <td>9.6714</td>\n",
       "      <td>244.770</td>\n",
       "      <td>218.90</td>\n",
       "      <td>149.445</td>\n",
       "      <td>133.65</td>\n",
       "      <td>3382.5</td>\n",
       "    </tr>\n",
       "    <tr>\n",
       "      <th>1</th>\n",
       "      <td>0.8169</td>\n",
       "      <td>0.8064</td>\n",
       "      <td>0.4851</td>\n",
       "      <td>12.558</td>\n",
       "      <td>12.81</td>\n",
       "      <td>14.9376</td>\n",
       "      <td>8.9859</td>\n",
       "      <td>232.622</td>\n",
       "      <td>237.29</td>\n",
       "      <td>8.8704</td>\n",
       "      <td>229.632</td>\n",
       "      <td>234.24</td>\n",
       "      <td>138.138</td>\n",
       "      <td>140.91</td>\n",
       "      <td>3647.8</td>\n",
       "    </tr>\n",
       "    <tr>\n",
       "      <th>2</th>\n",
       "      <td>0.9315</td>\n",
       "      <td>0.9361</td>\n",
       "      <td>0.5313</td>\n",
       "      <td>13.087</td>\n",
       "      <td>14.95</td>\n",
       "      <td>16.4835</td>\n",
       "      <td>9.3555</td>\n",
       "      <td>230.445</td>\n",
       "      <td>263.25</td>\n",
       "      <td>9.4017</td>\n",
       "      <td>231.583</td>\n",
       "      <td>264.55</td>\n",
       "      <td>131.439</td>\n",
       "      <td>150.15</td>\n",
       "      <td>3698.5</td>\n",
       "    </tr>\n",
       "    <tr>\n",
       "      <th>3</th>\n",
       "      <td>1.2180</td>\n",
       "      <td>1.2267</td>\n",
       "      <td>0.7627</td>\n",
       "      <td>18.096</td>\n",
       "      <td>16.82</td>\n",
       "      <td>17.7660</td>\n",
       "      <td>11.0460</td>\n",
       "      <td>262.080</td>\n",
       "      <td>243.60</td>\n",
       "      <td>11.1249</td>\n",
       "      <td>263.952</td>\n",
       "      <td>245.34</td>\n",
       "      <td>164.112</td>\n",
       "      <td>152.54</td>\n",
       "      <td>3619.2</td>\n",
       "    </tr>\n",
       "    <tr>\n",
       "      <th>4</th>\n",
       "      <td>1.3454</td>\n",
       "      <td>1.3485</td>\n",
       "      <td>0.8525</td>\n",
       "      <td>19.623</td>\n",
       "      <td>17.98</td>\n",
       "      <td>18.8790</td>\n",
       "      <td>11.9350</td>\n",
       "      <td>274.722</td>\n",
       "      <td>251.72</td>\n",
       "      <td>11.9625</td>\n",
       "      <td>275.355</td>\n",
       "      <td>252.30</td>\n",
       "      <td>174.075</td>\n",
       "      <td>159.50</td>\n",
       "      <td>3671.4</td>\n",
       "    </tr>\n",
       "  </tbody>\n",
       "</table>\n",
       "</div>"
      ],
      "text/plain": [
       "   carat * x  carat * y  carat * z  carat * depth  carat * table    x * y  \\\n",
       "0     0.9085     0.9154     0.5589         14.145          12.65  15.7210   \n",
       "1     0.8169     0.8064     0.4851         12.558          12.81  14.9376   \n",
       "2     0.9315     0.9361     0.5313         13.087          14.95  16.4835   \n",
       "3     1.2180     1.2267     0.7627         18.096          16.82  17.7660   \n",
       "4     1.3454     1.3485     0.8525         19.623          17.98  18.8790   \n",
       "\n",
       "     x * z  x * depth  x * table    y * z  y * depth  y * table  z * depth  \\\n",
       "0   9.5985    242.925     217.25   9.6714    244.770     218.90    149.445   \n",
       "1   8.9859    232.622     237.29   8.8704    229.632     234.24    138.138   \n",
       "2   9.3555    230.445     263.25   9.4017    231.583     264.55    131.439   \n",
       "3  11.0460    262.080     243.60  11.1249    263.952     245.34    164.112   \n",
       "4  11.9350    274.722     251.72  11.9625    275.355     252.30    174.075   \n",
       "\n",
       "   z * table  depth * table  \n",
       "0     133.65         3382.5  \n",
       "1     140.91         3647.8  \n",
       "2     150.15         3698.5  \n",
       "3     152.54         3619.2  \n",
       "4     159.50         3671.4  "
      ]
     },
     "execution_count": 227,
     "metadata": {},
     "output_type": "execute_result"
    }
   ],
   "source": [
    "df = diamonds.copy()\n",
    "\n",
    "continu_cols = ['carat', 'x', 'y', 'z', 'depth', 'table']\n",
    "# regdata = df[continu_cols]\n",
    "polynomial = []\n",
    "for i in range(len(continu_cols) - 1): # Loop through continous columns\n",
    "    col_m = df[continu_cols[i]] # ith col\n",
    "    for j in range(i+1, len(continu_cols)): # Loop through cols after ith\n",
    "        col_n = df[continu_cols[j]] # jth col\n",
    "        name = col_m.name + ' * ' + col_n.name # Poly col name\n",
    "        values = pd.Series(col_m * col_n, name=name) # Quadratics value\n",
    "        polynomial.append(values)\n",
    "\n",
    "out = pd.DataFrame(polynomial).T\n",
    "out.head()"
   ]
  },
  {
   "cell_type": "code",
   "execution_count": 228,
   "metadata": {},
   "outputs": [
    {
     "data": {
      "text/plain": [
       "False"
      ]
     },
     "execution_count": 228,
     "metadata": {},
     "output_type": "execute_result"
    }
   ],
   "source": [
    "out.equals(sklearn_answer) # True when column name no *"
   ]
  },
  {
   "cell_type": "code",
   "execution_count": null,
   "metadata": {},
   "outputs": [],
   "source": []
  },
  {
   "cell_type": "code",
   "execution_count": 229,
   "metadata": {},
   "outputs": [],
   "source": [
    "def create_quadratics(df):\n",
    "    \"\"\"\n",
    "    create_quadratics that takes in diamonds and returns a dataframe \n",
    "    of quadratic-encoded features <col1> * <col2> where <col1> and <col2> \n",
    "    are the original quantitative columns \n",
    "    (col1 and col2 should be distinct columns).\n",
    "\n",
    "    :Example:\n",
    "    >>> diamonds = sns.load_dataset('diamonds')\n",
    "    >>> out = create_quadratics(diamonds)\n",
    "    >>> out.columns.str.contains(' * ').all()\n",
    "    True\n",
    "    >>> ('x * z' in out.columns) or ('z * x' in out.columns)\n",
    "    True\n",
    "    >>> out.shape[1] == 15\n",
    "    True\n",
    "    \"\"\"\n",
    "    continu_cols = ['carat', 'x', 'y', 'z', 'depth', 'table']\n",
    "    polynomial = []\n",
    "    for i in range(len(continu_cols) - 1): # Loop through continous columns\n",
    "        col_m = df[continu_cols[i]] # ith col\n",
    "        for j in range(i+1, len(continu_cols)): # Loop through cols after ith\n",
    "            col_n = df[continu_cols[j]] # jth col\n",
    "            name = col_m.name + ' * ' + col_n.name # Poly col name\n",
    "            values = pd.Series(col_m * col_n, name=name) # Quadratics value\n",
    "            polynomial.append(values)\n",
    "\n",
    "    return pd.DataFrame(polynomial).T"
   ]
  },
  {
   "cell_type": "code",
   "execution_count": null,
   "metadata": {},
   "outputs": [],
   "source": []
  },
  {
   "cell_type": "markdown",
   "metadata": {},
   "source": [
    "### Comparing Performance\n",
    "\n",
    "**Question 5**\n",
    "\n",
    "Which features are most able to predict the price of a diamond in a linear regression model? \n",
    "\n",
    "Among the original columns, `carat` gives the best predictions when used in a *single-variable* linear regression model. Below, you will fit a single-variable linear regression model for each variable (both in the dataset, as well as the engineered features from the questions above).\n",
    "\n",
    "* What is the $R^2$ of a regression model built on the variable `carat`?\n",
    "* What is the RMSE of the linear-predictor built on `carat` (in USD)?\n",
    "* What is the *second best* feature in the original dataset (as measured by $R^2$)?\n",
    "* What is the best *new* feature engineered (including the ones in Q2, Q3, Q4) in the question above (as measured by $R^2$)?\n",
    "* Which *categorical* feature results in the best predictor (as measured by $R^2$)?\n",
    "\n",
    "Now, you will compare a multivariate regression model fitted with the original (quantitative) columns with a multivariate regression model fitted with both the original (quantitative) columns, as well as the features engineered in the problem above. \n",
    "\n",
    "* What is the percent decrease in RMSE between the two models (given as a number between 0 and 1)? (*Note*: RMSE is measured in USD! But no need to round).\n",
    "\n",
    "Create a function `comparing_performance` that returns a list containing the 6 answers above.\n",
    "\n",
    "*Hint:* Use the `sklearn` pattern included below. Train many linear regression models and sift through the results!"
   ]
  },
  {
   "cell_type": "markdown",
   "metadata": {},
   "source": [
    "# ASK!!!! \n",
    "## Check what to ask!!!!!!!!!"
   ]
  },
  {
   "cell_type": "code",
   "execution_count": 230,
   "metadata": {},
   "outputs": [],
   "source": [
    "from sklearn.linear_model import LinearRegression"
   ]
  },
  {
   "cell_type": "code",
   "execution_count": 239,
   "metadata": {},
   "outputs": [
    {
     "data": {
      "text/plain": [
       "Index(['carat', 'cut', 'color', 'clarity', 'depth', 'table', 'price', 'x', 'y',\n",
       "       'z'],\n",
       "      dtype='object')"
      ]
     },
     "execution_count": 239,
     "metadata": {},
     "output_type": "execute_result"
    }
   ],
   "source": [
    "diamonds.columns"
   ]
  },
  {
   "cell_type": "code",
   "execution_count": 247,
   "metadata": {},
   "outputs": [
    {
     "data": {
      "text/plain": [
       "0.8493305264354858"
      ]
     },
     "execution_count": 247,
     "metadata": {},
     "output_type": "execute_result"
    }
   ],
   "source": [
    "# Q1 - Q3\n",
    "\n",
    "# for col in ['carat', 'cut', 'color', 'clarity', 'depth', 'table', 'x', 'y', 'z']:\n",
    "    # df = \n",
    "\n",
    "# X = diamonds[['carat', 'x', 'y', 'z', 'depth', 'table']]\n",
    "X = diamonds['carat']\n",
    "y = diamonds['price']\n",
    "\n",
    "lr = LinearRegression()\n",
    "ln = scipy.stats.linregress(diamonds[['carat', 'price']])  # X is dataframe of training data; y a series of prices\n",
    "# lr.score(X, y)  # R-squared\n",
    "# lr.predict(X) # predicted prices\n",
    "ln.rvalue ** 2"
   ]
  },
  {
   "cell_type": "code",
   "execution_count": 253,
   "metadata": {},
   "outputs": [
    {
     "name": "stdout",
     "output_type": "stream",
     "text": [
      "carat: R-square = 0.8493305264354857; RMSE = 1548.5331930613174\n",
      "depth: R-square = 0.00011336722437849112; RMSE = 3989.176617460691\n",
      "table: R-square = 0.016163029068700818; RMSE = 3957.031001980707\n",
      "x: R-square = 0.7822255540416229; RMSE = 1861.7070454431055\n",
      "y: R-square = 0.7489533304600554; RMSE = 1998.872603829358\n",
      "z: R-square = 0.7417506045344293; RMSE = 2027.3444398443735\n"
     ]
    }
   ],
   "source": [
    "# Q1 - Q3\n",
    "# for col in ['carat', 'cut', 'color', 'clarity', 'depth', 'table', 'x', 'y', 'z']: # include categorical\n",
    "for col in ['carat', 'depth', 'table', 'x', 'y', 'z']:\n",
    "    X = diamonds[[col]]\n",
    "    y = diamonds['price']\n",
    "\n",
    "    lr = LinearRegression()\n",
    "    lr.fit(X, y)  # X is dataframe of training data; y a series of prices\n",
    "    rsquare = lr.score(X, y)  # R-squared\n",
    "    pred_price = lr.predict(X) # predicted prices\n",
    "    rmse = np.sqrt(np.mean((pred_price - y)**2)) # RMSE\n",
    "    print(col + ': R-square = ' + str(rsquare) + '; RMSE = ' + str(rmse))"
   ]
  },
  {
   "cell_type": "code",
   "execution_count": 254,
   "metadata": {},
   "outputs": [],
   "source": [
    "ordinal = create_ordinal(diamonds)\n",
    "one_hot = create_one_hot(diamonds)\n",
    "prop = create_proportions(diamonds)\n",
    "poly = create_quadratics(diamonds)"
   ]
  },
  {
   "cell_type": "code",
   "execution_count": 255,
   "metadata": {},
   "outputs": [
    {
     "name": "stdout",
     "output_type": "stream",
     "text": [
      "ordinal_cut: R-square = 0.002861250800106574; RMSE = 3983.6913283282847\n",
      "ordinal_color: R-square = 0.029760020332371014; RMSE = 3929.5920511358545\n",
      "ordinal_clarity: R-square = 0.021550260868784754; RMSE = 3946.18230131977\n",
      "one_hot_cut_Fair: R-square = 0.0003507462354399582; RMSE = 3988.703062270168\n",
      "one_hot_cut_Good: R-square = 9.735619077577695e-08; RMSE = 3989.4025634323407\n",
      "one_hot_cut_Ideal: R-square = 0.009443055423088542; RMSE = 3970.5220032275433\n",
      "one_hot_cut_Premium: R-square = 0.009159633114764865; RMSE = 3971.0899938073485\n",
      "one_hot_cut_Very Good: R-square = 4.347408039628853e-05; RMSE = 3989.3160388782494\n",
      "one_hot_color_D: R-square = 0.005252269649564156; RMSE = 3978.9122552453496\n",
      "one_hot_color_E: R-square = 0.010219060389604184; RMSE = 3968.9664397176434\n",
      "one_hot_color_F: R-square = 0.0005837473010587013; RMSE = 3988.2381861038916\n",
      "one_hot_color_G: R-square = 7.320729004400839e-05; RMSE = 3989.2567282738314\n",
      "one_hot_color_H: R-square = 0.003507348022126711; RMSE = 3982.40050046185\n",
      "one_hot_color_I: R-square = 0.009433310013271856; RMSE = 3970.54153479973\n",
      "one_hot_color_J: R-square = 0.006676582841153356; RMSE = 3976.0626647803806\n",
      "one_hot_clarity_I1: R-square = 6.519650574965397e-08; RMSE = 3989.4026275813117\n",
      "one_hot_clarity_IF: R-square = 0.002459763910689916; RMSE = 3984.4932422436395\n",
      "one_hot_clarity_SI1: R-square = 8.02212894741583e-05; RMSE = 3989.2427369028173\n",
      "one_hot_clarity_SI2: R-square = 0.016491771831516955; RMSE = 3956.369838582705\n",
      "one_hot_clarity_VS1: R-square = 9.77381048300474e-05; RMSE = 3989.207794532459\n",
      "one_hot_clarity_VS2: R-square = 1.1271812626612032e-06; RMSE = 3989.4005092382213\n",
      "one_hot_clarity_VVS1: R-square = 0.00907564226491464; RMSE = 3971.2582995035227\n",
      "one_hot_clarity_VVS2: R-square = 0.0027437514855136458; RMSE = 3983.926033484695\n",
      "proportion_cut: R-square = 0.005004173762515052; RMSE = 3979.4084062757365\n",
      "proportion_color: R-square = 0.008312773999915923; RMSE = 3972.7866523244943\n",
      "proportion_clarity: R-square = 0.006333681179798267; RMSE = 3976.7488868238097\n",
      "carat * x: R-square = 0.852427068053341; RMSE = 1532.537945630345\n",
      "carat * y: R-square = 0.8440006962019663; RMSE = 1575.6843212632768\n",
      "carat * z: R-square = 0.8463424574270607; RMSE = 1563.8130218732088\n",
      "carat * depth: R-square = 0.8424152904994927; RMSE = 1583.670843998245\n",
      "carat * table: R-square = 0.8391935530253825; RMSE = 1599.777600561723\n",
      "x * y: R-square = 0.8120750219043601; RMSE = 1729.4186484110896\n",
      "x * z: R-square = 0.8163133975201254; RMSE = 1709.8051632840934\n",
      "x * depth: R-square = 0.7720372927441929; RMSE = 1904.7579132725493\n",
      "x * table: R-square = 0.7399855739149871; RMSE = 2034.2606839430646\n",
      "y * z: R-square = 0.7741499677942056; RMSE = 1895.9110681553525\n",
      "y * depth: R-square = 0.7427546685902617; RMSE = 2023.3994817133566\n",
      "y * table: R-square = 0.7145971865557246; RMSE = 2131.262819078349\n",
      "z * depth: R-square = 0.7105098503030791; RMSE = 2146.46978247981\n",
      "z * table: R-square = 0.717872481105092; RMSE = 2118.9983001637074\n",
      "depth * table: R-square = 0.014442089716740991; RMSE = 3960.4903327543416\n"
     ]
    }
   ],
   "source": [
    "for df in [ordinal, one_hot, prop, poly]:\n",
    "    for col in df.columns:\n",
    "        X = df[[col]]\n",
    "        y = diamonds['price']\n",
    "\n",
    "        lr = LinearRegression()\n",
    "        lr.fit(X, y)  # X is dataframe of training data; y a series of prices\n",
    "        rsquare = lr.score(X, y)  # R-squared\n",
    "        pred_price = lr.predict(X) # predicted prices\n",
    "        rmse = np.sqrt(np.mean((pred_price - y)**2)) # RMSE\n",
    "        print(col + ': R-square = ' + str(rsquare) + '; RMSE = ' + str(rmse))"
   ]
  },
  {
   "cell_type": "code",
   "execution_count": 256,
   "metadata": {},
   "outputs": [
    {
     "name": "stdout",
     "output_type": "stream",
     "text": [
      "R-square = 0.8592186831580985; RMSE = 1496.8572842935746\n",
      "R-square = 0.8680580204070323; RMSE = 1449.103419940197\n"
     ]
    }
   ],
   "source": [
    "origin = diamonds[['carat', 'depth', 'table', 'x', 'y', 'z']] # Original quantitative cols\n",
    "for df in [origin, poly]:\n",
    "    X = df\n",
    "    y = diamonds['price']\n",
    "\n",
    "    lr = LinearRegression()\n",
    "    lr.fit(X, y)  # X is dataframe of training data; y a series of prices\n",
    "    rsquare = lr.score(X, y)  # R-squared\n",
    "    pred_price = lr.predict(X) # predicted prices\n",
    "    rmse = np.sqrt(np.mean((pred_price - y)**2)) # RMSE\n",
    "    print('R-square = ' + str(rsquare) + '; RMSE = ' + str(rmse))"
   ]
  },
  {
   "cell_type": "code",
   "execution_count": 257,
   "metadata": {},
   "outputs": [
    {
     "data": {
      "text/plain": [
       "-0.03190275041879795"
      ]
     },
     "execution_count": 257,
     "metadata": {},
     "output_type": "execute_result"
    }
   ],
   "source": [
    "(1449.103419940197 - 1496.8572842935746) / 1496.8572842935746"
   ]
  },
  {
   "cell_type": "code",
   "execution_count": null,
   "metadata": {},
   "outputs": [],
   "source": []
  },
  {
   "cell_type": "code",
   "execution_count": null,
   "metadata": {},
   "outputs": [],
   "source": []
  },
  {
   "cell_type": "code",
   "execution_count": null,
   "metadata": {},
   "outputs": [],
   "source": []
  },
  {
   "cell_type": "code",
   "execution_count": null,
   "metadata": {},
   "outputs": [],
   "source": [
    "# Answer\n",
    "rsquare = 0.8493305264354857 # Q1\n",
    "rmse = 1548.5331930613174 # Q2\n",
    "second_best = 'x' # Q3\n",
    "best_new_feature = 'carat * x' # Q4\n",
    "best_category = 'ordinal_color' # Q5\n",
    "percent_decrease = 0.03190275041879795 # Q6"
   ]
  },
  {
   "cell_type": "code",
   "execution_count": 258,
   "metadata": {},
   "outputs": [],
   "source": [
    "def comparing_performance():\n",
    "    \"\"\"\n",
    "    Hard coded answers to comparing_performance.\n",
    "\n",
    "    :Example:\n",
    "    >>> out = comparing_performance()\n",
    "    >>> len(out) == 6\n",
    "    True\n",
    "    >>> import numbers\n",
    "    >>> isinstance(out[0], numbers.Real)\n",
    "    True\n",
    "    >>> all(isinstance(x, str) for x in out[2:-1])\n",
    "    True\n",
    "    >>> 0 <= out[-1] <= 1\n",
    "    True\n",
    "    \"\"\"\n",
    "\n",
    "    # create a model per variable => (variable, R^2, RMSE) table\n",
    "    # Answer\n",
    "    rsquare = 0.8493305264354857 # Q1\n",
    "    rmse = 1548.5331930613174 # Q2\n",
    "    second_best = 'x' # Q3\n",
    "    best_new_feature = 'carat * x' # Q4\n",
    "    best_category = 'ordinal_color' # Q5\n",
    "    percent_decrease = 0.03190275041879795 # Q6\n",
    "    return [rsquare, rmse, second_best, best_new_feature, best_category, percent_decrease]"
   ]
  },
  {
   "cell_type": "code",
   "execution_count": null,
   "metadata": {},
   "outputs": [],
   "source": []
  },
  {
   "cell_type": "markdown",
   "metadata": {},
   "source": [
    "# Feature engineering with `Sklearn`\n",
    "\n",
    "In this section, you will use `sklearn` transformers/estimators for feature engineering. While everything you do with `sklearn` is possible to do with Pandas, `sklearn` transformers will enable you to couple your feature engineering with your modeling. This will allow you to more quickly build and assess your models in `sklearn`.\n",
    "\n",
    "Recall from lecture that `sklearn` is built on `numpy`, and so it's objects speak `ndarray` objcets *not* `DataFrame` objects! Each of the methods below should (1) first turn the input Pandas DataFrame into a numpy array, then (2) use the `.transform` method of an initialized `sklearn.Transformer` object. You should **not** use dataframe methods like apply in this problem."
   ]
  },
  {
   "cell_type": "code",
   "execution_count": 259,
   "metadata": {},
   "outputs": [],
   "source": [
    "from sklearn.preprocessing import Binarizer, QuantileTransformer, FunctionTransformer"
   ]
  },
  {
   "cell_type": "markdown",
   "metadata": {},
   "source": [
    "### Turning a quantitative column into a binary column\n",
    "\n",
    "In this section, you will create a `TransformDiamonds` class that contains the transformation-methods below. In the starter code, there is a skeleton for `TransformDiamonds` that is initialized with a dataframe `diamonds`.\n",
    "\n",
    "**Question 6**\n",
    "\n",
    "In the `diamonds` dataset, define a stone as *large* if it is greater than or equal to 1 carat. Use the `Binarizer` class to code up this transformation logic. Create a method `transformCarat` that takes in a dataframe like `diamonds` and returns a binarized `carat` column (an `np.ndarray`) as described above."
   ]
  },
  {
   "cell_type": "code",
   "execution_count": 263,
   "metadata": {},
   "outputs": [
    {
     "data": {
      "text/plain": [
       "array([[0.],\n",
       "       [0.],\n",
       "       [0.],\n",
       "       ...,\n",
       "       [0.],\n",
       "       [0.],\n",
       "       [0.]])"
      ]
     },
     "execution_count": 263,
     "metadata": {},
     "output_type": "execute_result"
    }
   ],
   "source": [
    "bi = Binarizer(threshold = 1)                     # initialize with the parameter\n",
    "binarized = bi.transform(diamonds[['carat']])     # called transform on a data \n",
    "binarized"
   ]
  },
  {
   "cell_type": "code",
   "execution_count": null,
   "metadata": {},
   "outputs": [],
   "source": [
    "class TransformDiamonds(object):\n",
    "    \n",
    "    def __init__(self, diamonds):\n",
    "        self.data = diamonds\n",
    "        \n",
    "    def transformCarat(self, data):\n",
    "        \"\"\"\n",
    "        transformCarat takes in a dataframe like diamonds \n",
    "        and returns a binarized carat column (an np.ndarray).\n",
    "\n",
    "        :Example:\n",
    "        >>> diamonds = sns.load_dataset('diamonds')\n",
    "        >>> out = TransformDiamonds(diamonds)\n",
    "        >>> transformed = out.transformCarat(diamonds)\n",
    "        >>> isinstance(transformed, np.ndarray)\n",
    "        True\n",
    "        >>> transformed[172, 0] == 1\n",
    "        True\n",
    "        >>> transformed[0, 0] == 0\n",
    "        True\n",
    "        \"\"\"\n",
    "        bi = Binarizer(threshold = 1)                     # initialize with the parameter\n",
    "        binarized = bi.transform(data[['carat']])     # called transform on a data \n",
    "        return binarized\n",
    "    \n",
    "    def transform_to_quantile(self, data):\n",
    "        \"\"\"\n",
    "        transform_to_quantiles takes in a dataframe like diamonds \n",
    "        and returns an np.ndarray of quantiles of the weight \n",
    "        (i.e. carats) of each diamond.\n",
    "\n",
    "        :Example:\n",
    "        >>> diamonds = sns.load_dataset('diamonds')\n",
    "        >>> out = TransformDiamonds(diamonds.head(10))\n",
    "        >>> transformed = out.transform_to_quantile(diamonds)\n",
    "        >>> isinstance(transformed, np.ndarray)\n",
    "        True\n",
    "        >>> 0.2 <= transformed[0,0] <= 0.5\n",
    "        True\n",
    "        >>> np.isclose(transformed[1,0], 0, atol=1e-06)\n",
    "        True\n",
    "        \"\"\"\n",
    "\n",
    "        return ...\n",
    "    \n",
    "    def transform_to_depth_pct(self, data):\n",
    "        \"\"\"\n",
    "        transform_to_volume takes in a dataframe like diamonds \n",
    "        and returns an np.ndarray consisting of the approximate \n",
    "        depth percentage of each diamond.\n",
    "\n",
    "        :Example:\n",
    "        >>> diamonds = sns.load_dataset('diamonds').drop(columns='depth')\n",
    "        >>> out = TransformDiamonds(diamonds)\n",
    "        >>> transformed = out.transform_to_depth_pct(diamonds)\n",
    "        >>> len(transformed.shape) == 1\n",
    "        True\n",
    "        >>> np.isclose(transformed[0], 61.286, atol=0.0001)\n",
    "        True\n",
    "        \"\"\"\n",
    "\n",
    "        return ..."
   ]
  },
  {
   "cell_type": "code",
   "execution_count": null,
   "metadata": {},
   "outputs": [],
   "source": []
  },
  {
   "cell_type": "markdown",
   "metadata": {},
   "source": [
    "**Question 7**. You now will transform the `carat` column so that each diamonds weight (in carats) is replaced with the *percentile* in which its weight lies. The percentile is measure with reference to the entire input dataset to the object `TransformDiamonds`. Create a method `transform_to_quantiles` that takes in a dataframe like `diamonds` and returns an `np.ndarray` of quantiles of the weight (i.e. carats) of each diamond.\n",
    "\n",
    "*Hint:* To do this, use `QuantileTransformer` in `sklearn.preprocessing`. Note, that you will have to use the `.fit` method before transforming, because `QuantileTransformer` needs to know what the percentiles it can map values to their quantiles!\n",
    "\n",
    "*Note:* You will see an warning in the doctest saying there is less number of rows (10) than the default number of quantiles (1000) for `QuantileTransformer`. This is expected behavior since the doctest only transforms the first 10 rows of the dataframe."
   ]
  },
  {
   "cell_type": "markdown",
   "metadata": {},
   "source": [
    "# ASK!!!! \n",
    "## Keep getting errors?"
   ]
  },
  {
   "cell_type": "code",
   "execution_count": 417,
   "metadata": {},
   "outputs": [
    {
     "data": {
      "text/plain": [
       "array([[0.03333333],\n",
       "       [0.01111111],\n",
       "       [0.03333333],\n",
       "       ...,\n",
       "       [0.46666667],\n",
       "       [0.57333333],\n",
       "       [0.5       ]])"
      ]
     },
     "execution_count": 417,
     "metadata": {},
     "output_type": "execute_result"
    }
   ],
   "source": [
    "qt = QuantileTransformer(n_quantiles=4) # , output_distribution='normal'\n",
    "transformed = qt.fit_transform(diamonds[['carat']].values)\n",
    "transformed"
   ]
  },
  {
   "cell_type": "code",
   "execution_count": 413,
   "metadata": {},
   "outputs": [
    {
     "data": {
      "text/plain": [
       "True"
      ]
     },
     "execution_count": 413,
     "metadata": {},
     "output_type": "execute_result"
    }
   ],
   "source": [
    "isinstance(transformed, np.ndarray)"
   ]
  },
  {
   "cell_type": "code",
   "execution_count": 414,
   "metadata": {},
   "outputs": [
    {
     "data": {
      "text/plain": [
       "False"
      ]
     },
     "execution_count": 414,
     "metadata": {},
     "output_type": "execute_result"
    }
   ],
   "source": [
    "0.2 <= transformed[0,0] <= 0.5"
   ]
  },
  {
   "cell_type": "code",
   "execution_count": 408,
   "metadata": {},
   "outputs": [
    {
     "data": {
      "text/plain": [
       "False"
      ]
     },
     "execution_count": 408,
     "metadata": {},
     "output_type": "execute_result"
    }
   ],
   "source": [
    "np.isclose(transformed[1,0], 0, atol=1e-06)"
   ]
  },
  {
   "cell_type": "code",
   "execution_count": null,
   "metadata": {},
   "outputs": [],
   "source": []
  },
  {
   "cell_type": "markdown",
   "metadata": {},
   "source": [
    "**Question 8** Next, you will recreate a feature giving the \"depth percentage\" of a diamond. Suppose the approximate depth percentage of a diamond is $Depth \\% = \\frac{z}{(x+y)/2} \\times 100$ where $x,y,z$ are the dimensions of the diamond given by columns of the same name. Create a method `transform_to_depth_pct` that takes in a dataframe like `diamonds` and returns an `np.ndarray` consisting of the approximate depth percentage of each diamond. Percentage should be between 0 and 100. You can compare your results from the `depth` column in the original dataset. \n",
    "\n",
    "*Hint:* Use `FunctionTransformer` in `sklearn.preprocessing`; your 'custom function' needs to input an `ndarray`, not a `DataFrame`.\n",
    "\n",
    "*Again*: It may seems like unnecessary function because **apply** does the \"same\" thing. You will learn in the lecture that `FunctionTransformer` greatly simplifies the preprocessing step\n",
    "\n",
    "*Note*: Zero division errors can be ignored, use `np.NaN` as is."
   ]
  },
  {
   "cell_type": "markdown",
   "metadata": {},
   "source": [
    "# ASK!!!! \n",
    "## Why only a value between 0 and 100? What if z > (x+y)/2???"
   ]
  },
  {
   "cell_type": "code",
   "execution_count": 311,
   "metadata": {},
   "outputs": [
    {
     "data": {
      "text/plain": [
       "array([[2.07944154],\n",
       "       [1.09861229],\n",
       "       [0.        ],\n",
       "       [0.69314718],\n",
       "       [0.        ]])"
      ]
     },
     "execution_count": 311,
     "metadata": {},
     "output_type": "execute_result"
    }
   ],
   "source": [
    "X = pd.DataFrame(\n",
    "    np.array([5,7,8, np.NaN, np.NaN, np.NaN, -5,\n",
    "              0,25,999,1,-1, np.NaN, 0, np.NaN])\\\n",
    "              .reshape((5,3)))\n",
    "X.fillna(X.mean(), inplace=True)\n",
    "X.columns = ['f1', 'f2', 'f3'] #feature 1, feature 2, feature 3\n",
    "transformer = FunctionTransformer(np.log1p, validate=True)\n",
    "transformer.fit_transform(X.f2.values.reshape(-1, 1)) #same output\n",
    "# X.f2.apply(lambda x : np.log1p(x)) #same output"
   ]
  },
  {
   "cell_type": "code",
   "execution_count": 349,
   "metadata": {},
   "outputs": [],
   "source": [
    "# Custom function to calc depth percentage\n",
    "def depth_pct(arrs):\n",
    "    depth_pct = []\n",
    "    for arr in arrs:\n",
    "        x, y, z = arr[0], arr[1], arr[2]\n",
    "        try:\n",
    "            depth_pct.append(100 * z / ((x + y) / 2))\n",
    "        except: # Zero division errors\n",
    "            depth_pct.append(np.nan)\n",
    "    return np.array(depth_pct)"
   ]
  },
  {
   "cell_type": "code",
   "execution_count": 350,
   "metadata": {},
   "outputs": [
    {
     "name": "stderr",
     "output_type": "stream",
     "text": [
      "/opt/conda/lib/python3.6/site-packages/ipykernel_launcher.py:7: RuntimeWarning: invalid value encountered in double_scalars\n",
      "  import sys\n"
     ]
    },
    {
     "data": {
      "text/plain": [
       "array([61.28625473, 59.76714101, 56.89655172, ..., 62.78659612,\n",
       "       60.96169519, 62.22222222])"
      ]
     },
     "execution_count": 350,
     "metadata": {},
     "output_type": "execute_result"
    }
   ],
   "source": [
    "trans = FunctionTransformer(depth_pct, validate=False)\n",
    "transformed = trans.transform(diamonds[['x', 'y', 'z']].values)\n",
    "transformed"
   ]
  },
  {
   "cell_type": "code",
   "execution_count": 351,
   "metadata": {},
   "outputs": [
    {
     "data": {
      "text/plain": [
       "True"
      ]
     },
     "execution_count": 351,
     "metadata": {},
     "output_type": "execute_result"
    }
   ],
   "source": [
    "len(transformed.shape) == 1"
   ]
  },
  {
   "cell_type": "code",
   "execution_count": 352,
   "metadata": {},
   "outputs": [
    {
     "data": {
      "text/plain": [
       "True"
      ]
     },
     "execution_count": 352,
     "metadata": {},
     "output_type": "execute_result"
    }
   ],
   "source": [
    "np.isclose(transformed[0], 61.286, atol=0.0001)"
   ]
  },
  {
   "cell_type": "code",
   "execution_count": null,
   "metadata": {},
   "outputs": [],
   "source": []
  },
  {
   "cell_type": "code",
   "execution_count": 343,
   "metadata": {},
   "outputs": [
    {
     "data": {
      "text/plain": [
       "15683    0.636580\n",
       "19299    0.597149\n",
       "22688    0.619625\n",
       "44137    0.593284\n",
       "26570    0.595206\n",
       "dtype: float64"
      ]
     },
     "execution_count": 343,
     "metadata": {},
     "output_type": "execute_result"
    }
   ],
   "source": [
    "(2 * diamonds['z'] / (diamonds['x'] + diamonds['y'])).sample(5)"
   ]
  },
  {
   "cell_type": "code",
   "execution_count": 344,
   "metadata": {
    "scrolled": true
   },
   "outputs": [
    {
     "data": {
      "text/plain": [
       "array([[3.95, 3.98, 2.43],\n",
       "       [3.89, 3.84, 2.31],\n",
       "       [4.05, 4.07, 2.31],\n",
       "       ...,\n",
       "       [5.66, 5.68, 3.56],\n",
       "       [6.15, 6.12, 3.74],\n",
       "       [5.83, 5.87, 3.64]])"
      ]
     },
     "execution_count": 344,
     "metadata": {},
     "output_type": "execute_result"
    }
   ],
   "source": [
    "diamonds[['x', 'y', 'z']].values"
   ]
  },
  {
   "cell_type": "code",
   "execution_count": 346,
   "metadata": {},
   "outputs": [
    {
     "data": {
      "text/plain": [
       "0    61.5\n",
       "1    59.8\n",
       "2    56.9\n",
       "3    62.4\n",
       "4    63.3\n",
       "Name: depth, dtype: float64"
      ]
     },
     "execution_count": 346,
     "metadata": {},
     "output_type": "execute_result"
    }
   ],
   "source": [
    "diamonds['depth'].head()"
   ]
  },
  {
   "cell_type": "code",
   "execution_count": null,
   "metadata": {},
   "outputs": [],
   "source": []
  },
  {
   "cell_type": "markdown",
   "metadata": {},
   "source": [
    "## Congratulations! You're done!\n",
    "\n",
    "* Submit the lab on Gradescope"
   ]
  }
 ],
 "metadata": {
  "kernelspec": {
   "display_name": "Python 3",
   "language": "python",
   "name": "python3"
  },
  "language_info": {
   "codemirror_mode": {
    "name": "ipython",
    "version": 3
   },
   "file_extension": ".py",
   "mimetype": "text/x-python",
   "name": "python",
   "nbconvert_exporter": "python",
   "pygments_lexer": "ipython3",
   "version": "3.7.6"
  }
 },
 "nbformat": 4,
 "nbformat_minor": 2
}
