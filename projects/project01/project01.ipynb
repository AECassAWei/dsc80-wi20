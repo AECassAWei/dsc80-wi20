{
 "cells": [
  {
   "cell_type": "markdown",
   "metadata": {},
   "source": [
    "# DSC 80: Project 01\n",
    "\n",
    "### Checkpoint Due Date: Thursday Jan 16, 11:59:59 PM (Questions 1-4)\n",
    "### Due Date: Thursday, Jan 23, 11:59:59 PM"
   ]
  },
  {
   "cell_type": "markdown",
   "metadata": {},
   "source": [
    "---\n",
    "# Instructions\n",
    "\n",
    "This Jupyter Notebook contains the statements of the problems and provides code and markdown cells to display your answers to the problems.  \n",
    "* Like the lab, your coding work will be developed in the accompanying `project01.py` file, that will be imported into the current notebook. This code will be autograded.\n",
    "* **For the checkpoint, turn in questions 1-4**\n",
    "\n",
    "**Do not change the function names in the `*.py` file**\n",
    "- The functions in the `*.py` file are how your assignment is graded, and they are graded by their name. The dictionary at the end of the file (`GRADED FUNCTIONS`) contains the \"grading list\". The final function in the file allows your doctests to check that all the necessary functions exist.\n",
    "- If you changed something you weren't supposed to, just use git to revert!\n",
    "\n",
    "**Tips for developing in the .py file**:\n",
    "- Do not change the function names in the starter code; grading is done using these function names.\n",
    "- Do not change the docstrings in the functions. These are there to tell you if your work is on the right track!\n",
    "- You are **encouraged to write your own additional functions** to solve the questions! \n",
    "    - Developing in python usually consists of larger files, with many short functions.\n",
    "    - You may write your other functions in an additional `.py` file that you import in `project01.py` -- however, be sure to upload these to gradescope as well!\n",
    "- Always document your code!\n",
    "\n",
    "**Tips for testing the correctness of your answers!**\n",
    "Once you have your work saved in the .py file, you should import the `project01` to test your function out in the notebook. In the notebook you should inspect/analyze the output to assess its correctness!\n",
    "* Run your functions on the main dataset (`grades`) and ask yourself if the output *looks correct.*\n",
    "* Run your functions on very small datasets (e.g. 1-5 row table), calculate the expected response by hand, and see if the function output matches (this *is* unit-testing your code with data).\n",
    "* Run your functions on (large and small) samples of the dataset `grades` (with and without replacement). Does your code break? Or does it still run as expected."
   ]
  },
  {
   "cell_type": "code",
   "execution_count": 1,
   "metadata": {},
   "outputs": [],
   "source": [
    "%load_ext autoreload\n",
    "%autoreload 2"
   ]
  },
  {
   "cell_type": "code",
   "execution_count": 2,
   "metadata": {},
   "outputs": [],
   "source": [
    "import project01 as proj"
   ]
  },
  {
   "cell_type": "code",
   "execution_count": 3,
   "metadata": {},
   "outputs": [],
   "source": [
    "%matplotlib inline\n",
    "import pandas as pd\n",
    "import numpy as np\n",
    "import matplotlib.pyplot as plt\n",
    "import os"
   ]
  },
  {
   "cell_type": "markdown",
   "metadata": {},
   "source": [
    "# The Other Side of Gradescope\n",
    "\n",
    "The file contains the grade-book from a fictional data science course with 535 students. \n",
    "\n",
    "**Note: this dataset is synthetically generated; it does not contain real student grades.**\n",
    "\n",
    "In this project, you will:\n",
    "1. clean and process the data to compute total course grades according to a fictional syllabus (below),\n",
    "2. qualitatively understand how students did in the course,\n",
    "3. understand how student grades vary with small changes in performance on each assignment.\n",
    "\n",
    "---\n",
    "\n",
    "The course syllabus is as follows:\n",
    "\n",
    "* Lab assignments \n",
    "    - Each are worth the same amount, regardless of each lab's raw point total.\n",
    "    - The lowest lab is dropped.\n",
    "    - Each lab may be revised for one week after submission for a 10% penalty, for two weeks after submission for a 20% penalty, and beyond that for a 50% penalty. Such revisions are reflected in the `Lateness` columns in the gradebook.\n",
    "    - Labs are 20% of the total grade.\n",
    "* Projects \n",
    "    - Each project consists of an autograded portion, and *possibly* a free response portion.\n",
    "    - The total points for a single project consist of the sum of the raw score of the two portions.\n",
    "    - Each are worth the same amount, regardless of each project's raw point total.\n",
    "    - Projects are 30% of the total grade.\n",
    "* Checkpoints\n",
    "    - Project checkpoints are worth 2.5% of the total grade.\n",
    "* Discussion\n",
    "    - Discussion notebooks are worth 2.5% of the total grade.\n",
    "* Exams\n",
    "    - The midterm is worth 15% of the total grade.\n",
    "    - The final is worth 30% of the total grade.\n"
   ]
  },
  {
   "cell_type": "markdown",
   "metadata": {},
   "source": [
    "### A note on generalization\n",
    "\n",
    "You may assume that your code will only need to work on a gradebook for a class with the syllabus given above. That is, you may assume that the dataframe `grades` looks like the given one in `data/grades.csv`.\n",
    "\n",
    "However, such a class:\n",
    "1. may have a different numbers of labs, projects, discussions, and project checkpoints.\n",
    "2. may have a different number of students.\n",
    "\n",
    "You may assume the course components and the naming conventions are as given in the data file.\n",
    "\n",
    "The dataset was generated by Gradescope; you must attempt to reason about the data as given using what you know as a student who uses Gradescope.\n",
    "\n",
    "### A note on 'putting everything together'\n",
    "\n",
    "The goal of this project is to create and assess final grades for a fictional course; if anything, the process is broken down into functions for your convenience and guidance. Here are a few remarks and tips for approaching the projects:\n",
    "1. If you are having trouble figuring out what a question is asking you to do, look at the big picture and try to understand what the current step is doing to contribute to this big picture. This may clarify what's being asked!\n",
    "1. These questions intentionally build off of each other and the final result matters! In fact, you can 'get a question correct', but only receive partial credit on it because a previous answer was wrong.\n",
    "    - Credit for a question will typically receive partial credit based on *how close* your answer is to correct (as well as some credit for a solution in the correct form). \n",
    "    - You should try to assess your answer to each question based on what you understand of the data. This might involve writing extensive code (that isn't turned in) just to check your work! Suggestions on checking your work are given in the assignment, but you should also think of your own ways of checking your work.\n",
    "    - As you do this project, think about the data from the perspective of the student (which should be easy to do!)"
   ]
  },
  {
   "cell_type": "code",
   "execution_count": 4,
   "metadata": {},
   "outputs": [
    {
     "data": {
      "text/html": [
       "<div>\n",
       "<style scoped>\n",
       "    .dataframe tbody tr th:only-of-type {\n",
       "        vertical-align: middle;\n",
       "    }\n",
       "\n",
       "    .dataframe tbody tr th {\n",
       "        vertical-align: top;\n",
       "    }\n",
       "\n",
       "    .dataframe thead th {\n",
       "        text-align: right;\n",
       "    }\n",
       "</style>\n",
       "<table border=\"1\" class=\"dataframe\">\n",
       "  <thead>\n",
       "    <tr style=\"text-align: right;\">\n",
       "      <th></th>\n",
       "      <th>PID</th>\n",
       "      <th>College</th>\n",
       "      <th>Level</th>\n",
       "      <th>lab01</th>\n",
       "      <th>lab01 - Max Points</th>\n",
       "      <th>lab01 - Lateness (H:M:S)</th>\n",
       "      <th>lab02</th>\n",
       "      <th>lab02 - Max Points</th>\n",
       "      <th>lab02 - Lateness (H:M:S)</th>\n",
       "      <th>project01</th>\n",
       "      <th>...</th>\n",
       "      <th>discussion07 - Lateness (H:M:S)</th>\n",
       "      <th>discussion08</th>\n",
       "      <th>discussion08 - Max Points</th>\n",
       "      <th>discussion08 - Lateness (H:M:S)</th>\n",
       "      <th>discussion09</th>\n",
       "      <th>discussion09 - Max Points</th>\n",
       "      <th>discussion09 - Lateness (H:M:S)</th>\n",
       "      <th>discussion10</th>\n",
       "      <th>discussion10 - Max Points</th>\n",
       "      <th>discussion10 - Lateness (H:M:S)</th>\n",
       "    </tr>\n",
       "  </thead>\n",
       "  <tbody>\n",
       "    <tr>\n",
       "      <th>0</th>\n",
       "      <td>A14721419</td>\n",
       "      <td>SI</td>\n",
       "      <td>JR</td>\n",
       "      <td>99.0</td>\n",
       "      <td>100.0</td>\n",
       "      <td>00:00:00</td>\n",
       "      <td>86.0</td>\n",
       "      <td>100.0</td>\n",
       "      <td>00:00:00</td>\n",
       "      <td>75.0</td>\n",
       "      <td>...</td>\n",
       "      <td>00:00:00</td>\n",
       "      <td>10.0</td>\n",
       "      <td>10</td>\n",
       "      <td>00:00:00</td>\n",
       "      <td>10.0</td>\n",
       "      <td>10</td>\n",
       "      <td>780:01:28</td>\n",
       "      <td>10.0</td>\n",
       "      <td>10</td>\n",
       "      <td>00:00:00</td>\n",
       "    </tr>\n",
       "    <tr>\n",
       "      <th>1</th>\n",
       "      <td>A14883274</td>\n",
       "      <td>TH</td>\n",
       "      <td>JR</td>\n",
       "      <td>98.0</td>\n",
       "      <td>100.0</td>\n",
       "      <td>00:00:00</td>\n",
       "      <td>52.0</td>\n",
       "      <td>100.0</td>\n",
       "      <td>00:00:00</td>\n",
       "      <td>53.0</td>\n",
       "      <td>...</td>\n",
       "      <td>669:12:21</td>\n",
       "      <td>7.0</td>\n",
       "      <td>10</td>\n",
       "      <td>00:00:00</td>\n",
       "      <td>7.0</td>\n",
       "      <td>10</td>\n",
       "      <td>00:00:00</td>\n",
       "      <td>8.0</td>\n",
       "      <td>10</td>\n",
       "      <td>00:00:00</td>\n",
       "    </tr>\n",
       "    <tr>\n",
       "      <th>2</th>\n",
       "      <td>A14164800</td>\n",
       "      <td>SI</td>\n",
       "      <td>SR</td>\n",
       "      <td>86.0</td>\n",
       "      <td>100.0</td>\n",
       "      <td>00:00:00</td>\n",
       "      <td>45.0</td>\n",
       "      <td>100.0</td>\n",
       "      <td>00:00:00</td>\n",
       "      <td>44.0</td>\n",
       "      <td>...</td>\n",
       "      <td>00:00:00</td>\n",
       "      <td>6.0</td>\n",
       "      <td>10</td>\n",
       "      <td>00:04:51</td>\n",
       "      <td>6.0</td>\n",
       "      <td>10</td>\n",
       "      <td>00:00:00</td>\n",
       "      <td>7.0</td>\n",
       "      <td>10</td>\n",
       "      <td>00:00:00</td>\n",
       "    </tr>\n",
       "    <tr>\n",
       "      <th>3</th>\n",
       "      <td>A14847419</td>\n",
       "      <td>TH</td>\n",
       "      <td>JR</td>\n",
       "      <td>100.0</td>\n",
       "      <td>100.0</td>\n",
       "      <td>00:00:00</td>\n",
       "      <td>100.0</td>\n",
       "      <td>100.0</td>\n",
       "      <td>00:00:00</td>\n",
       "      <td>78.0</td>\n",
       "      <td>...</td>\n",
       "      <td>00:00:00</td>\n",
       "      <td>10.0</td>\n",
       "      <td>10</td>\n",
       "      <td>00:00:00</td>\n",
       "      <td>10.0</td>\n",
       "      <td>10</td>\n",
       "      <td>00:00:00</td>\n",
       "      <td>10.0</td>\n",
       "      <td>10</td>\n",
       "      <td>00:00:00</td>\n",
       "    </tr>\n",
       "    <tr>\n",
       "      <th>4</th>\n",
       "      <td>A14162943</td>\n",
       "      <td>SI</td>\n",
       "      <td>JR</td>\n",
       "      <td>66.0</td>\n",
       "      <td>100.0</td>\n",
       "      <td>00:00:00</td>\n",
       "      <td>33.0</td>\n",
       "      <td>100.0</td>\n",
       "      <td>00:00:00</td>\n",
       "      <td>42.0</td>\n",
       "      <td>...</td>\n",
       "      <td>00:00:00</td>\n",
       "      <td>5.0</td>\n",
       "      <td>10</td>\n",
       "      <td>00:00:00</td>\n",
       "      <td>5.0</td>\n",
       "      <td>10</td>\n",
       "      <td>00:00:00</td>\n",
       "      <td>6.0</td>\n",
       "      <td>10</td>\n",
       "      <td>00:00:00</td>\n",
       "    </tr>\n",
       "  </tbody>\n",
       "</table>\n",
       "<p>5 rows × 100 columns</p>\n",
       "</div>"
      ],
      "text/plain": [
       "         PID College Level  lab01  lab01 - Max Points  \\\n",
       "0  A14721419      SI    JR   99.0               100.0   \n",
       "1  A14883274      TH    JR   98.0               100.0   \n",
       "2  A14164800      SI    SR   86.0               100.0   \n",
       "3  A14847419      TH    JR  100.0               100.0   \n",
       "4  A14162943      SI    JR   66.0               100.0   \n",
       "\n",
       "  lab01 - Lateness (H:M:S)  lab02  lab02 - Max Points  \\\n",
       "0                 00:00:00   86.0               100.0   \n",
       "1                 00:00:00   52.0               100.0   \n",
       "2                 00:00:00   45.0               100.0   \n",
       "3                 00:00:00  100.0               100.0   \n",
       "4                 00:00:00   33.0               100.0   \n",
       "\n",
       "  lab02 - Lateness (H:M:S)  project01               ...                 \\\n",
       "0                 00:00:00       75.0               ...                  \n",
       "1                 00:00:00       53.0               ...                  \n",
       "2                 00:00:00       44.0               ...                  \n",
       "3                 00:00:00       78.0               ...                  \n",
       "4                 00:00:00       42.0               ...                  \n",
       "\n",
       "   discussion07 - Lateness (H:M:S) discussion08  discussion08 - Max Points  \\\n",
       "0                         00:00:00         10.0                         10   \n",
       "1                        669:12:21          7.0                         10   \n",
       "2                         00:00:00          6.0                         10   \n",
       "3                         00:00:00         10.0                         10   \n",
       "4                         00:00:00          5.0                         10   \n",
       "\n",
       "   discussion08 - Lateness (H:M:S) discussion09  discussion09 - Max Points  \\\n",
       "0                         00:00:00         10.0                         10   \n",
       "1                         00:00:00          7.0                         10   \n",
       "2                         00:04:51          6.0                         10   \n",
       "3                         00:00:00         10.0                         10   \n",
       "4                         00:00:00          5.0                         10   \n",
       "\n",
       "   discussion09 - Lateness (H:M:S) discussion10  discussion10 - Max Points  \\\n",
       "0                        780:01:28         10.0                         10   \n",
       "1                         00:00:00          8.0                         10   \n",
       "2                         00:00:00          7.0                         10   \n",
       "3                         00:00:00         10.0                         10   \n",
       "4                         00:00:00          6.0                         10   \n",
       "\n",
       "   discussion10 - Lateness (H:M:S)  \n",
       "0                         00:00:00  \n",
       "1                         00:00:00  \n",
       "2                         00:00:00  \n",
       "3                         00:00:00  \n",
       "4                         00:00:00  \n",
       "\n",
       "[5 rows x 100 columns]"
      ]
     },
     "execution_count": 4,
     "metadata": {},
     "output_type": "execute_result"
    }
   ],
   "source": [
    "grades_fp = os.path.join('data', 'grades.csv')\n",
    "grades = pd.read_csv(grades_fp)\n",
    "grades.head()"
   ]
  },
  {
   "cell_type": "markdown",
   "metadata": {},
   "source": [
    "### Getting started: enumerating the assignments\n",
    "\n",
    "First, you will list all the 'assignment names' and what part of the syllabus to which they belong.\n",
    "\n",
    "**Question 1:**\n",
    "\n",
    "Create a function `get_assignment_names` that takes in a dataframe like `grades` and returns a dictionary with the following structure:\n",
    "- The keys are the general areas of the syllabus: `lab, project, midterm, final, disc, checkpoint`\n",
    "- The values are lists that contain the assignment names of that type. For example the lab assignments all have names of the form `labXX` where `XX` is a zero-padded two digit number. See the doctests for more details."
   ]
  },
  {
   "cell_type": "code",
   "execution_count": 5,
   "metadata": {},
   "outputs": [],
   "source": [
    "# Function to extract corresponding values from df\n",
    "def extract_values(df, pat):\n",
    "    \"\"\"\n",
    "    Extracts pat from df keys, and returns\n",
    "    a list of strings corresponding to pat\n",
    "    \n",
    "    :param df: dataframe to extract keys from\n",
    "    :param pat: pattern to fit\n",
    "    :return: a list of values corresponding to pat\n",
    "    \"\"\"\n",
    "    return list(df.columns[df.columns.str.contains(pat)])"
   ]
  },
  {
   "cell_type": "code",
   "execution_count": 6,
   "metadata": {},
   "outputs": [
    {
     "name": "stdout",
     "output_type": "stream",
     "text": [
      "{'lab': ['lab01', 'lab02', 'lab03', 'lab04', 'lab05', 'lab06', 'lab07', 'lab08', 'lab09'], 'project': ['project01', 'project02', 'project03', 'project04', 'project05'], 'midterm': ['Midterm'], 'final': ['Final'], 'disc': ['discussion01', 'discussion02', 'discussion03', 'discussion04', 'discussion05', 'discussion06', 'discussion07', 'discussion08', 'discussion09', 'discussion10'], 'checkpoint': ['project02_checkpoint01', 'project02_checkpoint02', 'project03_checkpoint01']}\n"
     ]
    }
   ],
   "source": [
    "dic = {}\n",
    "try:\n",
    "    lab = extract_values(grades, '^lab[0-9]{2}$')\n",
    "    dic.update({'lab':lab})\n",
    "except:\n",
    "    pass\n",
    "\n",
    "try:\n",
    "    project = extract_values(grades, '^project[0-9]{2}$')\n",
    "    dic.update({'project':project})\n",
    "except:\n",
    "    pass\n",
    "\n",
    "try:\n",
    "    midterm = extract_values(grades, '^Midterm$')\n",
    "    dic.update({'midterm':midterm})\n",
    "except:\n",
    "    pass\n",
    "\n",
    "try:\n",
    "    final = extract_values(grades, '^Final$')\n",
    "    dic.update({'final':final})\n",
    "except:\n",
    "    pass\n",
    "\n",
    "try:\n",
    "    disc = extract_values(grades, '^discussion[0-9]{2}$')\n",
    "    dic.update({'disc':disc})\n",
    "except:\n",
    "    pass\n",
    "\n",
    "try:\n",
    "    checkpoint = extract_values(grades, '^project[0-9]{2}_checkpoint[0-9]{2}$')\n",
    "    dic.update({'checkpoint':checkpoint})\n",
    "except:\n",
    "    pass\n",
    "\n",
    "# print(lab, '\\n', project, '\\n', midterm, '\\n', final, '\\n', disc, '\\n', checkpoint)\n",
    "print(dic)"
   ]
  },
  {
   "cell_type": "code",
   "execution_count": 7,
   "metadata": {},
   "outputs": [
    {
     "name": "stdout",
     "output_type": "stream",
     "text": [
      "{'lab': ['lab01', 'lab02', 'lab03', 'lab04', 'lab05', 'lab06', 'lab07', 'lab08', 'lab09'], 'project': ['project01', 'project02', 'project03', 'project04', 'project05'], 'midterm': ['Midterm'], 'final': ['Final'], 'disc': ['discussion01', 'discussion02', 'discussion03', 'discussion04', 'discussion05', 'discussion06', 'discussion07', 'discussion08', 'discussion09', 'discussion10'], 'checkpoint': ['project02_checkpoint01', 'project02_checkpoint02', 'project03_checkpoint01']}\n"
     ]
    }
   ],
   "source": [
    "print(proj.get_assignment_names(grades))"
   ]
  },
  {
   "cell_type": "code",
   "execution_count": null,
   "metadata": {},
   "outputs": [],
   "source": []
  },
  {
   "cell_type": "markdown",
   "metadata": {},
   "source": [
    "### Computing project grades\n",
    "\n",
    "**Question 2**\n",
    "\n",
    "Compute the total score for the project portion of the course according to the syllabus. Create a function `projects_total` that takes in `grades` and computes the total project grade for the quarter according to the syllabus. The output Series should contain values between 0 and 1.\n",
    "\n",
    "*Note*: Don't forget to properly handle students who didn't turn in assignments! (Use your experience and common sense).\n",
    "\n",
    "*Note:* To check your work, try (1) calculating the score for a few types of students by hand, and (2) calculate the statistics for the class performance on each individual course project, making sure they look reasonable."
   ]
  },
  {
   "cell_type": "code",
   "execution_count": 8,
   "metadata": {},
   "outputs": [],
   "source": [
    "# grades.dtypes\n",
    "# grades['project05 - Lateness (H:M:S)'].unique()\n",
    "# grades.loc[514]\n",
    "# sample = grades\n",
    "# sample['project05_free_response'].unique()"
   ]
  },
  {
   "cell_type": "code",
   "execution_count": 9,
   "metadata": {},
   "outputs": [],
   "source": [
    "# grades[extract_values(grades, '^project[0-9]{2}')].dtypes"
   ]
  },
  {
   "cell_type": "code",
   "execution_count": 10,
   "metadata": {},
   "outputs": [],
   "source": [
    "grades_mod = grades.fillna(0) # Fill NaN with 0, deep copy\n",
    "projects = extract_values(grades, '^project[0-9]{2}$') # Project scores\n",
    "# proj_max = extract_values(grades, '^project[0-9]{2} - Max Points$') # Project max points\n",
    "free_resp = extract_values(grades, '^project[0-9]{2}_free_response$') # Free response scores\n",
    "# free_resp_max = extract_values(grades, '^project[0-9]{2}_free_response - Max Points$') # Free response max points\n",
    "\n",
    "total = []\n",
    "for project in projects: # Loop through each project\n",
    "    if (project + '_free_response') in free_resp: # If project has free response\n",
    "        total.append((grades_mod[project] + grades_mod[project + '_free_response'])\n",
    "                     / (grades_mod[project + ' - Max Points'] + grades_mod[project + '_free_response - Max Points']))\n",
    "    else: # If does not have free response\n",
    "        total.append(grades_mod[project] / grades_mod[project + ' - Max Points'])\n",
    "\n",
    "tot_proj = pd.Series(np.sum(np.array(total) / len(projects), axis=0)) # Calculate total project score\n",
    "# tot_proj"
   ]
  },
  {
   "cell_type": "code",
   "execution_count": 11,
   "metadata": {},
   "outputs": [
    {
     "data": {
      "text/plain": [
       "True"
      ]
     },
     "execution_count": 11,
     "metadata": {},
     "output_type": "execute_result"
    }
   ],
   "source": [
    "proj.projects_total(grades).equals(tot_proj)"
   ]
  },
  {
   "cell_type": "code",
   "execution_count": 12,
   "metadata": {},
   "outputs": [],
   "source": [
    "projects = extract_values(grades, '^project[0-9]{2}$') # Project scores\n",
    "proj_max = extract_values(grades, '^project[0-9]{2} - Max Points$') # Project max points\n",
    "free_resp = extract_values(grades, '^project[0-9]{2}_free_response$') # Free response scores\n",
    "free_resp_max = extract_values(grades, '^project[0-9]{2}_free_response - Max Points$') # Free response max points"
   ]
  },
  {
   "cell_type": "code",
   "execution_count": 13,
   "metadata": {},
   "outputs": [
    {
     "data": {
      "text/html": [
       "<div>\n",
       "<style scoped>\n",
       "    .dataframe tbody tr th:only-of-type {\n",
       "        vertical-align: middle;\n",
       "    }\n",
       "\n",
       "    .dataframe tbody tr th {\n",
       "        vertical-align: top;\n",
       "    }\n",
       "\n",
       "    .dataframe thead th {\n",
       "        text-align: right;\n",
       "    }\n",
       "</style>\n",
       "<table border=\"1\" class=\"dataframe\">\n",
       "  <thead>\n",
       "    <tr style=\"text-align: right;\">\n",
       "      <th></th>\n",
       "      <th>project01</th>\n",
       "      <th>project02</th>\n",
       "      <th>project03</th>\n",
       "      <th>project04</th>\n",
       "      <th>project05</th>\n",
       "      <th>project01 - Max Points</th>\n",
       "      <th>project02 - Max Points</th>\n",
       "      <th>project03 - Max Points</th>\n",
       "      <th>project04 - Max Points</th>\n",
       "      <th>project05 - Max Points</th>\n",
       "      <th>project01_free_response</th>\n",
       "      <th>project02_free_response</th>\n",
       "      <th>project05_free_response</th>\n",
       "      <th>project01_free_response - Max Points</th>\n",
       "      <th>project02_free_response - Max Points</th>\n",
       "      <th>project05_free_response - Max Points</th>\n",
       "    </tr>\n",
       "  </thead>\n",
       "  <tbody>\n",
       "    <tr>\n",
       "      <th>170</th>\n",
       "      <td>53.0</td>\n",
       "      <td>68.0</td>\n",
       "      <td>88.0</td>\n",
       "      <td>48.0</td>\n",
       "      <td>54.0</td>\n",
       "      <td>85.0</td>\n",
       "      <td>75.0</td>\n",
       "      <td>100.0</td>\n",
       "      <td>75</td>\n",
       "      <td>75</td>\n",
       "      <td>7.0</td>\n",
       "      <td>14.0</td>\n",
       "      <td>13.0</td>\n",
       "      <td>15.0</td>\n",
       "      <td>25.0</td>\n",
       "      <td>25</td>\n",
       "    </tr>\n",
       "  </tbody>\n",
       "</table>\n",
       "</div>"
      ],
      "text/plain": [
       "     project01  project02  project03  project04  project05  \\\n",
       "170       53.0       68.0       88.0       48.0       54.0   \n",
       "\n",
       "     project01 - Max Points  project02 - Max Points  project03 - Max Points  \\\n",
       "170                    85.0                    75.0                   100.0   \n",
       "\n",
       "     project04 - Max Points  project05 - Max Points  project01_free_response  \\\n",
       "170                      75                      75                      7.0   \n",
       "\n",
       "     project02_free_response  project05_free_response  \\\n",
       "170                     14.0                     13.0   \n",
       "\n",
       "     project01_free_response - Max Points  \\\n",
       "170                                  15.0   \n",
       "\n",
       "     project02_free_response - Max Points  \\\n",
       "170                                  25.0   \n",
       "\n",
       "     project05_free_response - Max Points  \n",
       "170                                    25  "
      ]
     },
     "execution_count": 13,
     "metadata": {},
     "output_type": "execute_result"
    }
   ],
   "source": [
    "grades[projects + proj_max + free_resp + free_resp_max].sample()"
   ]
  },
  {
   "cell_type": "code",
   "execution_count": 14,
   "metadata": {},
   "outputs": [
    {
     "data": {
      "text/plain": [
       "0.5753333333333333"
      ]
     },
     "execution_count": 14,
     "metadata": {},
     "output_type": "execute_result"
    }
   ],
   "source": [
    "tot_proj[449]"
   ]
  },
  {
   "cell_type": "code",
   "execution_count": null,
   "metadata": {},
   "outputs": [],
   "source": []
  },
  {
   "cell_type": "markdown",
   "metadata": {},
   "source": [
    "### Computing lab grades\n",
    "\n",
    "Now, you will clean and process the lab grades, which is a little more complicated. To do this, you will develop functions that:\n",
    "- 'normalize' the grades, \n",
    "- adjust for late submissions, \n",
    "- drop the lowest lab grade, and \n",
    "- creates a total lab score for each student."
   ]
  },
  {
   "cell_type": "markdown",
   "metadata": {},
   "source": [
    "**Question 3**\n",
    "\n",
    "Unfortunately, Gradescope sometimes experiences a delay in registering when an assignment is submitted during \"periods of heavy usage\" (i.e. near a submission deadline). You need to assess when a student's assignment was actually turned in on time, even if Gradescope did not process it in time. To do this, it is helpful to know:\n",
    "* Every late submission has to be submitted by a TA (late submissions are turned off).\n",
    "* TAs never submitted a late assignment \"just after\" the deadline. \n",
    "* The deadlines were at midnight and students had to come to staff hours to late-submit their assignment.\n",
    "\n",
    "Create a function `last_minute_submissions` that takes in the dataframe `grades` and outputs the number of submissions on each assignment that were turned in on time by the student, yet marked 'late' by Gradescope. See the doctest for more details.\n",
    "\n",
    "*Note:* You have to figure out what truly is a late submission by looking at the data and understanding the facts about the data generating process above. There is some ambiguity in finding which submissions are truly late; you will *make a best guess for a threshold* by looking at this dataset. This question is about 'cleaning' a messy 'data recording process'."
   ]
  },
  {
   "cell_type": "code",
   "execution_count": 15,
   "metadata": {},
   "outputs": [
    {
     "data": {
      "text/html": [
       "<div>\n",
       "<style scoped>\n",
       "    .dataframe tbody tr th:only-of-type {\n",
       "        vertical-align: middle;\n",
       "    }\n",
       "\n",
       "    .dataframe tbody tr th {\n",
       "        vertical-align: top;\n",
       "    }\n",
       "\n",
       "    .dataframe thead th {\n",
       "        text-align: right;\n",
       "    }\n",
       "</style>\n",
       "<table border=\"1\" class=\"dataframe\">\n",
       "  <thead>\n",
       "    <tr style=\"text-align: right;\">\n",
       "      <th></th>\n",
       "      <th>lab01 - Lateness (H:M:S)</th>\n",
       "      <th>lab02 - Lateness (H:M:S)</th>\n",
       "      <th>lab03 - Lateness (H:M:S)</th>\n",
       "      <th>lab04 - Lateness (H:M:S)</th>\n",
       "      <th>lab05 - Lateness (H:M:S)</th>\n",
       "      <th>lab06 - Lateness (H:M:S)</th>\n",
       "      <th>lab07 - Lateness (H:M:S)</th>\n",
       "      <th>lab08 - Lateness (H:M:S)</th>\n",
       "      <th>lab09 - Lateness (H:M:S)</th>\n",
       "    </tr>\n",
       "  </thead>\n",
       "  <tbody>\n",
       "    <tr>\n",
       "      <th>0</th>\n",
       "      <td>00:00:00</td>\n",
       "      <td>00:00:00</td>\n",
       "      <td>252:56:22</td>\n",
       "      <td>00:00:00</td>\n",
       "      <td>00:00:00</td>\n",
       "      <td>00:00:00</td>\n",
       "      <td>382:51:44</td>\n",
       "      <td>00:00:00</td>\n",
       "      <td>00:00:00</td>\n",
       "    </tr>\n",
       "    <tr>\n",
       "      <th>1</th>\n",
       "      <td>00:00:00</td>\n",
       "      <td>00:00:00</td>\n",
       "      <td>00:00:00</td>\n",
       "      <td>00:00:00</td>\n",
       "      <td>00:00:00</td>\n",
       "      <td>645:24:50</td>\n",
       "      <td>00:00:00</td>\n",
       "      <td>00:00:00</td>\n",
       "      <td>00:00:00</td>\n",
       "    </tr>\n",
       "    <tr>\n",
       "      <th>2</th>\n",
       "      <td>00:00:00</td>\n",
       "      <td>00:00:00</td>\n",
       "      <td>00:00:00</td>\n",
       "      <td>00:00:00</td>\n",
       "      <td>00:00:00</td>\n",
       "      <td>764:40:45</td>\n",
       "      <td>00:04:51</td>\n",
       "      <td>00:00:00</td>\n",
       "      <td>00:00:00</td>\n",
       "    </tr>\n",
       "    <tr>\n",
       "      <th>3</th>\n",
       "      <td>00:00:00</td>\n",
       "      <td>00:00:00</td>\n",
       "      <td>00:00:00</td>\n",
       "      <td>00:00:00</td>\n",
       "      <td>00:00:00</td>\n",
       "      <td>00:00:00</td>\n",
       "      <td>00:00:00</td>\n",
       "      <td>00:00:00</td>\n",
       "      <td>00:00:00</td>\n",
       "    </tr>\n",
       "    <tr>\n",
       "      <th>4</th>\n",
       "      <td>00:00:00</td>\n",
       "      <td>00:00:00</td>\n",
       "      <td>00:00:00</td>\n",
       "      <td>47:42:33</td>\n",
       "      <td>00:00:00</td>\n",
       "      <td>00:00:00</td>\n",
       "      <td>00:00:00</td>\n",
       "      <td>00:00:00</td>\n",
       "      <td>00:00:00</td>\n",
       "    </tr>\n",
       "  </tbody>\n",
       "</table>\n",
       "</div>"
      ],
      "text/plain": [
       "  lab01 - Lateness (H:M:S) lab02 - Lateness (H:M:S) lab03 - Lateness (H:M:S)  \\\n",
       "0                 00:00:00                 00:00:00                252:56:22   \n",
       "1                 00:00:00                 00:00:00                 00:00:00   \n",
       "2                 00:00:00                 00:00:00                 00:00:00   \n",
       "3                 00:00:00                 00:00:00                 00:00:00   \n",
       "4                 00:00:00                 00:00:00                 00:00:00   \n",
       "\n",
       "  lab04 - Lateness (H:M:S) lab05 - Lateness (H:M:S) lab06 - Lateness (H:M:S)  \\\n",
       "0                 00:00:00                 00:00:00                 00:00:00   \n",
       "1                 00:00:00                 00:00:00                645:24:50   \n",
       "2                 00:00:00                 00:00:00                764:40:45   \n",
       "3                 00:00:00                 00:00:00                 00:00:00   \n",
       "4                 47:42:33                 00:00:00                 00:00:00   \n",
       "\n",
       "  lab07 - Lateness (H:M:S) lab08 - Lateness (H:M:S) lab09 - Lateness (H:M:S)  \n",
       "0                382:51:44                 00:00:00                 00:00:00  \n",
       "1                 00:00:00                 00:00:00                 00:00:00  \n",
       "2                 00:04:51                 00:00:00                 00:00:00  \n",
       "3                 00:00:00                 00:00:00                 00:00:00  \n",
       "4                 00:00:00                 00:00:00                 00:00:00  "
      ]
     },
     "execution_count": 15,
     "metadata": {},
     "output_type": "execute_result"
    }
   ],
   "source": [
    "grades[extract_values(grades, '^lab[0-9]{2} - Lateness')].head() #.unique()"
   ]
  },
  {
   "cell_type": "code",
   "execution_count": 16,
   "metadata": {},
   "outputs": [],
   "source": [
    "# Helper function to extract seconds from string\n",
    "def string_to_seconds(series):\n",
    "    \"\"\"\n",
    "    Converts string to seconds\n",
    "    \n",
    "    :param series: string to split by '：'\n",
    "    :return: seeconds corresponds to the string\n",
    "    \"\"\"\n",
    "    \n",
    "    lst = np.array(series.str.split(':')) # Split hour, minute, second by ':'\n",
    "    return np.array([int(elem[0]) * 3600 + int(elem[1]) * 60 + int(elem[2]) for elem in lst]) # Return seconds"
   ]
  },
  {
   "cell_type": "code",
   "execution_count": 17,
   "metadata": {},
   "outputs": [],
   "source": [
    "# string_to_seconds(grades['lab03 - Lateness (H:M:S)'])"
   ]
  },
  {
   "cell_type": "code",
   "execution_count": 18,
   "metadata": {},
   "outputs": [
    {
     "data": {
      "text/plain": [
       "lab01     2\n",
       "lab02     0\n",
       "lab03     2\n",
       "lab04    12\n",
       "lab05     7\n",
       "lab06     8\n",
       "lab07    16\n",
       "lab08    11\n",
       "lab09    26\n",
       "dtype: int64"
      ]
     },
     "execution_count": 18,
     "metadata": {},
     "output_type": "execute_result"
    }
   ],
   "source": [
    "threshold = 8 * 60 * 60 # 8 hrs\n",
    "lab_late = extract_values(grades, '^lab[0-9]{2} - Lateness') # Lab lateness columns\n",
    "grades_mod = grades[lab_late] # Dataframe containing lab lateness columns\n",
    "grades_mod = grades_mod.apply(string_to_seconds) # Submission later than threshold\n",
    "counts = np.sum(grades_mod[grades_mod > 0] < threshold, axis=0) # Number of late submission\n",
    "counts.index = counts.index.str.slice(0,5)\n",
    "counts"
   ]
  },
  {
   "cell_type": "code",
   "execution_count": 19,
   "metadata": {},
   "outputs": [],
   "source": [
    "# lab = 'lab06'\n",
    "# np.count_nonzero(grades_mod[grades_mod[lab + ' - Lateness (H:M:S)'] != 0][lab + ' - Lateness (H:M:S)'] < 8 * 60 * 60)"
   ]
  },
  {
   "cell_type": "code",
   "execution_count": 20,
   "metadata": {},
   "outputs": [
    {
     "data": {
      "text/plain": [
       "True"
      ]
     },
     "execution_count": 20,
     "metadata": {},
     "output_type": "execute_result"
    }
   ],
   "source": [
    "proj.last_minute_submissions(grades).equals(counts)"
   ]
  },
  {
   "cell_type": "code",
   "execution_count": 21,
   "metadata": {},
   "outputs": [
    {
     "data": {
      "text/plain": [
       "True"
      ]
     },
     "execution_count": 21,
     "metadata": {},
     "output_type": "execute_result"
    }
   ],
   "source": [
    "isinstance(counts, pd.Series)"
   ]
  },
  {
   "cell_type": "code",
   "execution_count": 22,
   "metadata": {},
   "outputs": [
    {
     "data": {
      "text/plain": [
       "True"
      ]
     },
     "execution_count": 22,
     "metadata": {},
     "output_type": "execute_result"
    }
   ],
   "source": [
    "np.all(counts.index == ['lab0%d' % d for d in range(1,10)])"
   ]
  },
  {
   "cell_type": "code",
   "execution_count": 23,
   "metadata": {},
   "outputs": [
    {
     "data": {
      "text/plain": [
       "8"
      ]
     },
     "execution_count": 23,
     "metadata": {},
     "output_type": "execute_result"
    }
   ],
   "source": [
    "(counts > 0).sum()"
   ]
  },
  {
   "cell_type": "code",
   "execution_count": null,
   "metadata": {},
   "outputs": [],
   "source": []
  },
  {
   "cell_type": "markdown",
   "metadata": {},
   "source": [
    "**Question 4**\n",
    "\n",
    "Now you need to adjust the lab grades for late submissions -- however, you need to take into account your investigation in the previous question, since students shouldn't be penalized by a bug in Gradescope!\n",
    "\n",
    "Create a function `lateness_penalty` that takes in a 'Lateness' column and returns a column of penalties (represented by the values `1.0,0.9,0.8,0.5` according to the syllabus). Only *truly* late submissions should be counted as late.\n",
    "\n",
    "*Note*: For the purpose of this project, we will only be calculating lateness for labs. There is no penalty for lateness for projects, discussions, nor checkpoints."
   ]
  },
  {
   "cell_type": "code",
   "execution_count": 24,
   "metadata": {},
   "outputs": [],
   "source": [
    "col = grades['lab01 - Lateness (H:M:S)']"
   ]
  },
  {
   "cell_type": "code",
   "execution_count": 25,
   "metadata": {},
   "outputs": [],
   "source": [
    "def penalty(late):\n",
    "    \"\"\"\n",
    "    Calculate penalty of true lateness\n",
    "    \n",
    "    :param late: time of lateness\n",
    "    :return: corresponding penalty\n",
    "    \"\"\"\n",
    "\n",
    "    threshold = 8 * 60 * 60 # 8 hrs\n",
    "    one_week = 7 * 24 * 60 * 60 # One week = 0.9\n",
    "    two_weeks = 14 * 24 * 60 * 60 # Two weeks = 0.8, Beyond = 0.5\n",
    "    \n",
    "    if late < threshold: # Submitted on time\n",
    "        return 1.0\n",
    "    elif late < one_week: # Within one week, 10%\n",
    "        return 0.9\n",
    "    elif late < two_weeks: # Within two weeks, 20%\n",
    "        return 0.8\n",
    "    else: # Two weeks and beyond, 50%\n",
    "        return 0.5\n",
    "\n",
    "penalty_v = np.vectorize(penalty)\n",
    "# penalty_v(string_to_seconds(col))"
   ]
  },
  {
   "cell_type": "code",
   "execution_count": 26,
   "metadata": {},
   "outputs": [],
   "source": [
    "pen = proj.lateness_penalty(col)"
   ]
  },
  {
   "cell_type": "code",
   "execution_count": 27,
   "metadata": {},
   "outputs": [
    {
     "data": {
      "text/plain": [
       "True"
      ]
     },
     "execution_count": 27,
     "metadata": {},
     "output_type": "execute_result"
    }
   ],
   "source": [
    "isinstance(pen, pd.Series)"
   ]
  },
  {
   "cell_type": "code",
   "execution_count": 28,
   "metadata": {},
   "outputs": [
    {
     "data": {
      "text/plain": [
       "True"
      ]
     },
     "execution_count": 28,
     "metadata": {},
     "output_type": "execute_result"
    }
   ],
   "source": [
    "set(pen.unique()) <= {1.0, 0.9, 0.8, 0.5}"
   ]
  },
  {
   "cell_type": "code",
   "execution_count": null,
   "metadata": {},
   "outputs": [],
   "source": []
  },
  {
   "cell_type": "markdown",
   "metadata": {},
   "source": [
    "**Question 5**\n",
    "\n",
    "Create a function `process_labs` that takes in a dataframe like `grades` and returns a dataframe of processed lab scores. The output should:\n",
    "* share the same index as `grades`,\n",
    "* have columns given by the lab assignment names (e.g. `lab01,...lab10`)\n",
    "* have values representing the lab grades for each assignment, adjusted for Lateness and scaled to a score between 0 and 1."
   ]
  },
  {
   "cell_type": "code",
   "execution_count": 29,
   "metadata": {},
   "outputs": [],
   "source": [
    "# Intermediate works\n",
    "# Works, but some warnings provided\n",
    "# grades_mod[grades_mod < threshold] = 0 # Set fake lateness as submitted\n",
    "\n",
    "# Works, but redundant\n",
    "# grades_mod[lab_late] = grades_mod[lab_late].applymap(lambda val: val if pd.isnull(val) else (0 if val < threshold else val)) # Set fake lateness as submitted on time\n",
    "\n",
    "# Works, but some warnings provided\n",
    "# for lab in lab_score: # Loop through each lab\n",
    "    # grades_mod[lab + ' - Penalty'] = grades_mod[lab + ' - Lateness (H:M:S)'].apply(penalty)\n",
    "\n",
    "# Works, but too long\n",
    "# grades_mod[lab_late].applymap(lambda val: 1.0 if val < threshold else (0.9 if val < one_week else (0.8 if val < two_weeks else 0.5)))"
   ]
  },
  {
   "cell_type": "code",
   "execution_count": 30,
   "metadata": {},
   "outputs": [],
   "source": [
    "def penalty(late):\n",
    "    \"\"\"\n",
    "    Calculate penalty of true lateness\n",
    "    \n",
    "    :param late: time of lateness\n",
    "    :return: corresponding penalty\n",
    "    \"\"\"\n",
    "\n",
    "    threshold = 8 * 60 * 60 # 8 hrs\n",
    "    one_week = 7 * 24 * 60 * 60 # One week = 0.9\n",
    "    two_weeks = 14 * 24 * 60 * 60 # Two weeks = 0.8, Beyond = 0.5\n",
    "    \n",
    "    if late < threshold: # Submitted on time\n",
    "        return 1.0\n",
    "    elif late < one_week: # Within one week, 10%\n",
    "        return 0.9\n",
    "    elif late < two_weeks: # Within two weeks, 20%\n",
    "        return 0.8\n",
    "    else: # Two weeks and beyond, 50%\n",
    "        return 0.5\n",
    "\n",
    "all_labs = extract_values(grades, '^lab[0-9]{2}') # All labs columns\n",
    "labs = extract_values(grades, '^lab[0-9]{2}$') # Labs columns\n",
    "lab_late = extract_values(grades, '^lab[0-9]{2} - Lateness') # Lab lateness columns\n",
    "grades_mod = grades[all_labs].fillna(0) # Fill NaN with 0, deep copy\n",
    "# grades_mod[lab_late] = grades_mod[lab_late].apply(string_to_seconds) # String to seconds\n",
    "# penalty = grades_mod[lab_late].applymap(penalty).rename(columns=lambda col: col[0:5] + ' - Penalty') # Create penalty columns\n",
    "\n",
    "penalty = grades_mod[lab_late].apply(proj.lateness_penalty).rename(columns=lambda col: col[0:5] + ' - Penalty') # Create penalty columns\n",
    "grades_mod = pd.concat([grades_mod, penalty], axis=1)"
   ]
  },
  {
   "cell_type": "code",
   "execution_count": 31,
   "metadata": {},
   "outputs": [
    {
     "data": {
      "text/html": [
       "<div>\n",
       "<style scoped>\n",
       "    .dataframe tbody tr th:only-of-type {\n",
       "        vertical-align: middle;\n",
       "    }\n",
       "\n",
       "    .dataframe tbody tr th {\n",
       "        vertical-align: top;\n",
       "    }\n",
       "\n",
       "    .dataframe thead th {\n",
       "        text-align: right;\n",
       "    }\n",
       "</style>\n",
       "<table border=\"1\" class=\"dataframe\">\n",
       "  <thead>\n",
       "    <tr style=\"text-align: right;\">\n",
       "      <th></th>\n",
       "      <th>lab01</th>\n",
       "      <th>lab02</th>\n",
       "      <th>lab03</th>\n",
       "      <th>lab04</th>\n",
       "      <th>lab05</th>\n",
       "      <th>lab06</th>\n",
       "      <th>lab07</th>\n",
       "      <th>lab08</th>\n",
       "      <th>lab09</th>\n",
       "    </tr>\n",
       "  </thead>\n",
       "  <tbody>\n",
       "    <tr>\n",
       "      <th>0</th>\n",
       "      <td>0.99</td>\n",
       "      <td>0.86</td>\n",
       "      <td>0.72</td>\n",
       "      <td>0.980</td>\n",
       "      <td>1.000000</td>\n",
       "      <td>0.976471</td>\n",
       "      <td>0.485</td>\n",
       "      <td>0.88</td>\n",
       "      <td>0.86</td>\n",
       "    </tr>\n",
       "    <tr>\n",
       "      <th>1</th>\n",
       "      <td>0.98</td>\n",
       "      <td>0.52</td>\n",
       "      <td>0.73</td>\n",
       "      <td>0.770</td>\n",
       "      <td>1.000000</td>\n",
       "      <td>0.500000</td>\n",
       "      <td>0.890</td>\n",
       "      <td>0.94</td>\n",
       "      <td>0.86</td>\n",
       "    </tr>\n",
       "    <tr>\n",
       "      <th>2</th>\n",
       "      <td>0.86</td>\n",
       "      <td>0.45</td>\n",
       "      <td>0.40</td>\n",
       "      <td>0.730</td>\n",
       "      <td>0.900000</td>\n",
       "      <td>0.429412</td>\n",
       "      <td>0.720</td>\n",
       "      <td>0.71</td>\n",
       "      <td>0.76</td>\n",
       "    </tr>\n",
       "    <tr>\n",
       "      <th>3</th>\n",
       "      <td>1.00</td>\n",
       "      <td>1.00</td>\n",
       "      <td>0.92</td>\n",
       "      <td>0.910</td>\n",
       "      <td>0.885714</td>\n",
       "      <td>0.670588</td>\n",
       "      <td>1.000</td>\n",
       "      <td>0.95</td>\n",
       "      <td>0.78</td>\n",
       "    </tr>\n",
       "    <tr>\n",
       "      <th>4</th>\n",
       "      <td>0.66</td>\n",
       "      <td>0.33</td>\n",
       "      <td>0.69</td>\n",
       "      <td>0.729</td>\n",
       "      <td>0.642857</td>\n",
       "      <td>0.741176</td>\n",
       "      <td>0.600</td>\n",
       "      <td>0.36</td>\n",
       "      <td>1.00</td>\n",
       "    </tr>\n",
       "  </tbody>\n",
       "</table>\n",
       "</div>"
      ],
      "text/plain": [
       "   lab01  lab02  lab03  lab04     lab05     lab06  lab07  lab08  lab09\n",
       "0   0.99   0.86   0.72  0.980  1.000000  0.976471  0.485   0.88   0.86\n",
       "1   0.98   0.52   0.73  0.770  1.000000  0.500000  0.890   0.94   0.86\n",
       "2   0.86   0.45   0.40  0.730  0.900000  0.429412  0.720   0.71   0.76\n",
       "3   1.00   1.00   0.92  0.910  0.885714  0.670588  1.000   0.95   0.78\n",
       "4   0.66   0.33   0.69  0.729  0.642857  0.741176  0.600   0.36   1.00"
      ]
     },
     "execution_count": 31,
     "metadata": {},
     "output_type": "execute_result"
    }
   ],
   "source": [
    "df = pd.DataFrame()\n",
    "for lab in labs: # Loop through each lab\n",
    "    df[lab] = grades_mod[lab] * grades_mod[lab + ' - Penalty'] / grades_mod[lab + ' - Max Points']\n",
    "\n",
    "df.head()"
   ]
  },
  {
   "cell_type": "code",
   "execution_count": 32,
   "metadata": {},
   "outputs": [
    {
     "data": {
      "text/html": [
       "<div>\n",
       "<style scoped>\n",
       "    .dataframe tbody tr th:only-of-type {\n",
       "        vertical-align: middle;\n",
       "    }\n",
       "\n",
       "    .dataframe tbody tr th {\n",
       "        vertical-align: top;\n",
       "    }\n",
       "\n",
       "    .dataframe thead th {\n",
       "        text-align: right;\n",
       "    }\n",
       "</style>\n",
       "<table border=\"1\" class=\"dataframe\">\n",
       "  <thead>\n",
       "    <tr style=\"text-align: right;\">\n",
       "      <th></th>\n",
       "      <th>lab01</th>\n",
       "      <th>lab02</th>\n",
       "      <th>lab03</th>\n",
       "      <th>lab04</th>\n",
       "      <th>lab05</th>\n",
       "      <th>lab06</th>\n",
       "      <th>lab07</th>\n",
       "      <th>lab08</th>\n",
       "      <th>lab09</th>\n",
       "    </tr>\n",
       "  </thead>\n",
       "  <tbody>\n",
       "    <tr>\n",
       "      <th>0</th>\n",
       "      <td>0.99</td>\n",
       "      <td>0.86</td>\n",
       "      <td>0.72</td>\n",
       "      <td>0.980</td>\n",
       "      <td>1.000000</td>\n",
       "      <td>0.976471</td>\n",
       "      <td>0.485</td>\n",
       "      <td>0.88</td>\n",
       "      <td>0.86</td>\n",
       "    </tr>\n",
       "    <tr>\n",
       "      <th>1</th>\n",
       "      <td>0.98</td>\n",
       "      <td>0.52</td>\n",
       "      <td>0.73</td>\n",
       "      <td>0.770</td>\n",
       "      <td>1.000000</td>\n",
       "      <td>0.500000</td>\n",
       "      <td>0.890</td>\n",
       "      <td>0.94</td>\n",
       "      <td>0.86</td>\n",
       "    </tr>\n",
       "    <tr>\n",
       "      <th>2</th>\n",
       "      <td>0.86</td>\n",
       "      <td>0.45</td>\n",
       "      <td>0.40</td>\n",
       "      <td>0.730</td>\n",
       "      <td>0.900000</td>\n",
       "      <td>0.429412</td>\n",
       "      <td>0.720</td>\n",
       "      <td>0.71</td>\n",
       "      <td>0.76</td>\n",
       "    </tr>\n",
       "    <tr>\n",
       "      <th>3</th>\n",
       "      <td>1.00</td>\n",
       "      <td>1.00</td>\n",
       "      <td>0.92</td>\n",
       "      <td>0.910</td>\n",
       "      <td>0.885714</td>\n",
       "      <td>0.670588</td>\n",
       "      <td>1.000</td>\n",
       "      <td>0.95</td>\n",
       "      <td>0.78</td>\n",
       "    </tr>\n",
       "    <tr>\n",
       "      <th>4</th>\n",
       "      <td>0.66</td>\n",
       "      <td>0.33</td>\n",
       "      <td>0.69</td>\n",
       "      <td>0.729</td>\n",
       "      <td>0.642857</td>\n",
       "      <td>0.741176</td>\n",
       "      <td>0.600</td>\n",
       "      <td>0.36</td>\n",
       "      <td>1.00</td>\n",
       "    </tr>\n",
       "  </tbody>\n",
       "</table>\n",
       "</div>"
      ],
      "text/plain": [
       "   lab01  lab02  lab03  lab04     lab05     lab06  lab07  lab08  lab09\n",
       "0   0.99   0.86   0.72  0.980  1.000000  0.976471  0.485   0.88   0.86\n",
       "1   0.98   0.52   0.73  0.770  1.000000  0.500000  0.890   0.94   0.86\n",
       "2   0.86   0.45   0.40  0.730  0.900000  0.429412  0.720   0.71   0.76\n",
       "3   1.00   1.00   0.92  0.910  0.885714  0.670588  1.000   0.95   0.78\n",
       "4   0.66   0.33   0.69  0.729  0.642857  0.741176  0.600   0.36   1.00"
      ]
     },
     "execution_count": 32,
     "metadata": {},
     "output_type": "execute_result"
    }
   ],
   "source": [
    "score = proj.process_labs(grades)\n",
    "score.head()"
   ]
  },
  {
   "cell_type": "code",
   "execution_count": 33,
   "metadata": {},
   "outputs": [
    {
     "data": {
      "text/plain": [
       "True"
      ]
     },
     "execution_count": 33,
     "metadata": {},
     "output_type": "execute_result"
    }
   ],
   "source": [
    "score.equals(df)"
   ]
  },
  {
   "cell_type": "code",
   "execution_count": 34,
   "metadata": {},
   "outputs": [
    {
     "data": {
      "text/plain": [
       "True"
      ]
     },
     "execution_count": 34,
     "metadata": {},
     "output_type": "execute_result"
    }
   ],
   "source": [
    "score.columns.tolist() == ['lab%02d' % x for x in range(1,10)]"
   ]
  },
  {
   "cell_type": "code",
   "execution_count": 35,
   "metadata": {},
   "outputs": [
    {
     "data": {
      "text/plain": [
       "True"
      ]
     },
     "execution_count": 35,
     "metadata": {},
     "output_type": "execute_result"
    }
   ],
   "source": [
    "np.all((0.65 <= score.mean()) & (score.mean() <= 0.90))"
   ]
  },
  {
   "cell_type": "code",
   "execution_count": null,
   "metadata": {},
   "outputs": [],
   "source": []
  },
  {
   "cell_type": "markdown",
   "metadata": {},
   "source": [
    "**Question 6**\n",
    "\n",
    "Create a function `lab_total` that takes in dataframe of processed assignments (like the output of Question 5) and computes the total lab grade for each student according to the syllabus (returning a Series). Your answers should be proportions between 0 and 1. For example, if there are only 3 labs, and a student received scores of {80%,90%,100%}, then the total score would be 0.95.\n",
    "\n",
    "*Note*: Don't forget to properly handle students who didn't turn in assignments! (Use your experience and common sense)."
   ]
  },
  {
   "cell_type": "code",
   "execution_count": 36,
   "metadata": {},
   "outputs": [],
   "source": [
    "processed = score.copy()\n",
    "min_score = processed.min(axis=1)\n",
    "tot_lab = (np.sum(processed, axis=1) - min_score) / (len(processed.columns) - 1) # Calculate total lab score\n",
    "# tot_lab"
   ]
  },
  {
   "cell_type": "code",
   "execution_count": 37,
   "metadata": {},
   "outputs": [
    {
     "data": {
      "text/plain": [
       "True"
      ]
     },
     "execution_count": 37,
     "metadata": {},
     "output_type": "execute_result"
    }
   ],
   "source": [
    "proj.lab_total(score).equals(tot_lab)"
   ]
  },
  {
   "cell_type": "code",
   "execution_count": 38,
   "metadata": {},
   "outputs": [
    {
     "data": {
      "text/html": [
       "<div>\n",
       "<style scoped>\n",
       "    .dataframe tbody tr th:only-of-type {\n",
       "        vertical-align: middle;\n",
       "    }\n",
       "\n",
       "    .dataframe tbody tr th {\n",
       "        vertical-align: top;\n",
       "    }\n",
       "\n",
       "    .dataframe thead th {\n",
       "        text-align: right;\n",
       "    }\n",
       "</style>\n",
       "<table border=\"1\" class=\"dataframe\">\n",
       "  <thead>\n",
       "    <tr style=\"text-align: right;\">\n",
       "      <th></th>\n",
       "      <th>lab01</th>\n",
       "      <th>lab02</th>\n",
       "      <th>lab03</th>\n",
       "      <th>lab04</th>\n",
       "      <th>lab05</th>\n",
       "      <th>lab06</th>\n",
       "      <th>lab07</th>\n",
       "      <th>lab08</th>\n",
       "      <th>lab09</th>\n",
       "    </tr>\n",
       "  </thead>\n",
       "  <tbody>\n",
       "    <tr>\n",
       "      <th>160</th>\n",
       "      <td>0.90</td>\n",
       "      <td>0.96</td>\n",
       "      <td>1.00</td>\n",
       "      <td>0.950</td>\n",
       "      <td>0.742857</td>\n",
       "      <td>0.941176</td>\n",
       "      <td>0.83</td>\n",
       "      <td>0.776</td>\n",
       "      <td>0.84</td>\n",
       "    </tr>\n",
       "    <tr>\n",
       "      <th>278</th>\n",
       "      <td>0.99</td>\n",
       "      <td>1.00</td>\n",
       "      <td>0.85</td>\n",
       "      <td>0.819</td>\n",
       "      <td>0.985714</td>\n",
       "      <td>0.988235</td>\n",
       "      <td>0.94</td>\n",
       "      <td>0.960</td>\n",
       "      <td>0.96</td>\n",
       "    </tr>\n",
       "  </tbody>\n",
       "</table>\n",
       "</div>"
      ],
      "text/plain": [
       "     lab01  lab02  lab03  lab04     lab05     lab06  lab07  lab08  lab09\n",
       "160   0.90   0.96   1.00  0.950  0.742857  0.941176   0.83  0.776   0.84\n",
       "278   0.99   1.00   0.85  0.819  0.985714  0.988235   0.94  0.960   0.96"
      ]
     },
     "execution_count": 38,
     "metadata": {},
     "output_type": "execute_result"
    }
   ],
   "source": [
    "score.sample(2)"
   ]
  },
  {
   "cell_type": "code",
   "execution_count": 39,
   "metadata": {},
   "outputs": [
    {
     "data": {
      "text/plain": [
       "0.8035000000000001"
      ]
     },
     "execution_count": 39,
     "metadata": {},
     "output_type": "execute_result"
    }
   ],
   "source": [
    "tot_lab[327]"
   ]
  },
  {
   "cell_type": "code",
   "execution_count": null,
   "metadata": {},
   "outputs": [],
   "source": []
  },
  {
   "cell_type": "markdown",
   "metadata": {},
   "source": [
    "### Putting it together\n",
    "\n",
    "**Question 7**\n",
    "\n",
    "Finally, you need to create the final course grades. To do this, you will add up the total of each course component according to the weights given in the syllabus. \n",
    "\n",
    "* Create a function `total_points` that takes in `grades` and returns the final course grades according to the syllabus. Course grades should be proportions between zero and one.\n",
    "* Create a function `final_grades` that takes in the final course grades as above and returns a Series of letter grades given by the standard cutoffs (`A >= .90`, `.90 > B >= .80`, `.80 > C >= .70`, `.70 > D >= .60`, `.60 > F`). You should not use rounding to determining the letter grades.\n",
    "* Create a function `letter_proportions` which takes in the dataframe `grades` and outputs a Series that contains the proportion of the class that received each grade. (This question requires you to put everything together).\n",
    "* The indices should be ordered by the proportion of the class that receives that grade, from largest to smallest.\n",
    "\n",
    "*Note 1*: Don't repeat yourself when computing the checkpoint and discussion portions of the course.\n",
    "\n",
    "*Note 2*: Only the lab portion of the course accounts for late assignments; you may assume all assignments in other portions are turned in without penalty.\n",
    "\n",
    "*Note 3*: These values should add up to exactly 1.0. If you are getting something close such as 0.99999, that means there is a slight issue with your code from above. \n",
    "\n",
    "To check your work, verify the course grade distribution and relevant statistics! Do the work by hand for a few students."
   ]
  },
  {
   "cell_type": "markdown",
   "metadata": {},
   "source": [
    "### Part 1 - total_points"
   ]
  },
  {
   "cell_type": "code",
   "execution_count": 40,
   "metadata": {},
   "outputs": [],
   "source": [
    "# Lab assignments 20%; Projects 30%; Checkpoints 2.5%; Discussion 2.5%; Midterm 15%; Final 30%"
   ]
  },
  {
   "cell_type": "code",
   "execution_count": 41,
   "metadata": {},
   "outputs": [],
   "source": [
    "# Helper function to calculate disc, checkpoint & exams scores\n",
    "def other_total(grades, name):\n",
    "    \"\"\"\n",
    "    Given the dataframe and the area name, calculate\n",
    "    the total grades for that area.\n",
    "    \n",
    "    :param grades: dataframe to process\n",
    "    :param name: area to process grades\n",
    "    :return: a Series of total area grades\n",
    "    \"\"\"\n",
    "    grades_mod = grades.fillna(0) # Fill NaN with 0, deep copy\n",
    "    names = proj.get_assignment_names(grades) # Get names\n",
    "    area = names.get(name) # Get cols of name\n",
    "    # max_pts = [ar + ' - Max Points' for ar in area] # Get cols of Max Points\n",
    "    # grades_mod = grades[area + max_pts] # Combined name & Max Points\n",
    "    df = pd.DataFrame()\n",
    "    for ar in area: # Loop through each name\n",
    "        df[ar] = grades[ar] / grades[ar + ' - Max Points']\n",
    "    total = (np.sum(df, axis=1)) / (len(df.columns)) # Calculate total score\n",
    "    return total"
   ]
  },
  {
   "cell_type": "code",
   "execution_count": 42,
   "metadata": {},
   "outputs": [],
   "source": [
    "lab_tot = proj.lab_total(proj.process_labs(grades)) # Labs total\n",
    "proj_tot = proj.projects_total(grades) # Projects total\n",
    "chpt_tot = other_total(grades, 'checkpoint') # Checkpoints total\n",
    "disc_tot = other_total(grades, 'disc') # Discussions total\n",
    "mid = other_total(grades, 'midterm') # Midterm\n",
    "fin = other_total(grades, 'final') # Final\n",
    "total = lab_tot * 0.2 + proj_tot * 0.3 + chpt_tot * 0.025 + disc_tot * 0.025 + mid * 0.15 + fin * 0.3\n",
    "# total"
   ]
  },
  {
   "cell_type": "code",
   "execution_count": 43,
   "metadata": {},
   "outputs": [
    {
     "data": {
      "text/plain": [
       "True"
      ]
     },
     "execution_count": 43,
     "metadata": {},
     "output_type": "execute_result"
    }
   ],
   "source": [
    "proj.total_points(grades).equals(total)"
   ]
  },
  {
   "cell_type": "code",
   "execution_count": 44,
   "metadata": {},
   "outputs": [
    {
     "data": {
      "text/plain": [
       "True"
      ]
     },
     "execution_count": 44,
     "metadata": {},
     "output_type": "execute_result"
    }
   ],
   "source": [
    "np.all((0 <= total) & (total <= 1))"
   ]
  },
  {
   "cell_type": "code",
   "execution_count": 45,
   "metadata": {},
   "outputs": [
    {
     "data": {
      "text/plain": [
       "True"
      ]
     },
     "execution_count": 45,
     "metadata": {},
     "output_type": "execute_result"
    }
   ],
   "source": [
    "0.7 < total.mean() < 0.9"
   ]
  },
  {
   "cell_type": "code",
   "execution_count": null,
   "metadata": {},
   "outputs": [],
   "source": []
  },
  {
   "cell_type": "markdown",
   "metadata": {},
   "source": [
    "### Part 2 - final_grades"
   ]
  },
  {
   "cell_type": "code",
   "execution_count": 46,
   "metadata": {},
   "outputs": [],
   "source": [
    "# Helper function to convert scores to letter grades\n",
    "def score_to_grades(score):\n",
    "    \"\"\"\n",
    "    Given the total score of a student, calculate the \n",
    "    corresponding letter grade.\n",
    "    \n",
    "    :param score: total score to convert\n",
    "    :return: convert total score to letter grade\n",
    "    \"\"\"\n",
    "    \n",
    "    if score >= 0.90:\n",
    "        return 'A'\n",
    "    elif score >= 0.80:\n",
    "        return 'B'\n",
    "    elif score >= 0.70:\n",
    "        return 'C'\n",
    "    elif score >= 0.60:\n",
    "        return 'D'\n",
    "    else:\n",
    "        return 'F'"
   ]
  },
  {
   "cell_type": "code",
   "execution_count": 47,
   "metadata": {},
   "outputs": [
    {
     "data": {
      "text/plain": [
       "True"
      ]
     },
     "execution_count": 47,
     "metadata": {},
     "output_type": "execute_result"
    }
   ],
   "source": [
    "total.apply(score_to_grades).equals(proj.final_grades(total))"
   ]
  },
  {
   "cell_type": "code",
   "execution_count": 48,
   "metadata": {},
   "outputs": [
    {
     "data": {
      "text/plain": [
       "True"
      ]
     },
     "execution_count": 48,
     "metadata": {},
     "output_type": "execute_result"
    }
   ],
   "source": [
    "out = proj.final_grades(pd.Series([0.92, 0.81, 0.41]))\n",
    "np.all(out == ['A', 'B', 'F'])"
   ]
  },
  {
   "cell_type": "code",
   "execution_count": null,
   "metadata": {},
   "outputs": [],
   "source": []
  },
  {
   "cell_type": "markdown",
   "metadata": {},
   "source": [
    "### Part 3 - letter_proportions"
   ]
  },
  {
   "cell_type": "code",
   "execution_count": 49,
   "metadata": {},
   "outputs": [
    {
     "data": {
      "text/plain": [
       "B    0.528972\n",
       "C    0.248598\n",
       "A    0.140187\n",
       "D    0.048598\n",
       "F    0.033645\n",
       "dtype: float64"
      ]
     },
     "execution_count": 49,
     "metadata": {},
     "output_type": "execute_result"
    }
   ],
   "source": [
    "total = proj.total_points(grades) # Calculate total scores\n",
    "letter = proj.final_grades(total) # Convert scores to grades\n",
    "result = letter.value_counts() / len(letter)\n",
    "result"
   ]
  },
  {
   "cell_type": "code",
   "execution_count": 50,
   "metadata": {},
   "outputs": [
    {
     "data": {
      "text/plain": [
       "True"
      ]
     },
     "execution_count": 50,
     "metadata": {},
     "output_type": "execute_result"
    }
   ],
   "source": [
    "result.equals(proj.letter_proportions(grades))"
   ]
  },
  {
   "cell_type": "code",
   "execution_count": 51,
   "metadata": {},
   "outputs": [
    {
     "data": {
      "text/plain": [
       "True"
      ]
     },
     "execution_count": 51,
     "metadata": {},
     "output_type": "execute_result"
    }
   ],
   "source": [
    "np.all(result.index == ['B', 'C', 'A', 'D', 'F'])"
   ]
  },
  {
   "cell_type": "code",
   "execution_count": 52,
   "metadata": {},
   "outputs": [
    {
     "data": {
      "text/plain": [
       "True"
      ]
     },
     "execution_count": 52,
     "metadata": {},
     "output_type": "execute_result"
    }
   ],
   "source": [
    "result.sum() == 1.0"
   ]
  },
  {
   "cell_type": "code",
   "execution_count": null,
   "metadata": {},
   "outputs": [],
   "source": []
  },
  {
   "cell_type": "markdown",
   "metadata": {},
   "source": [
    "### Do Sophomores get better grades?\n",
    "\n",
    "**Question 8**\n",
    "\n",
    "You notice that students who are sophomores on average did better in the class (if you can't verify this, you should go back and check your work!). Is this difference significant, or just due to noise?\n",
    "\n",
    "Perform a hypothesis test, assessing likelihood of the null hypothesis: \n",
    "> \"sophomores earn grades that are roughly equal on average to the rest of the class.\"\n",
    "\n",
    "\n",
    "Create a function `simulate_pval` which takes in the number of simulations `N` and `grades` and returns the the likelihood that the grade of sophomores was no better on average than the class as a whole (i.e. calculate the p-value).\n",
    "\n",
    "*Note:* To check your work, plot the sampling distribution and the observation. Do these values look reasonable?"
   ]
  },
  {
   "cell_type": "markdown",
   "metadata": {},
   "source": [
    "# Need to ask!!!!!!!!!!!!!!!!!!!!!!!!!!!!!!!!!!!!!!"
   ]
  },
  {
   "cell_type": "code",
   "execution_count": 150,
   "metadata": {},
   "outputs": [],
   "source": [
    "# Check if sophomores get higher average grades\n",
    "# total = proj.total_points(grades).rename('Score')\n",
    "# info_all = pd.concat([grades['Level'], total], axis=1)\n",
    "# info_m = info_all.groupby('Level').mean()\n",
    "# info_c = info_all.groupby('Level').count()\n",
    "# info_all"
   ]
  },
  {
   "cell_type": "markdown",
   "metadata": {},
   "source": [
    "#### Permutation single trial (Wrong way)"
   ]
  },
  {
   "cell_type": "code",
   "execution_count": 54,
   "metadata": {},
   "outputs": [],
   "source": [
    "# total = proj.total_points(grades).rename('Score') # Calculate total score\n",
    "# score = pd.concat([grades['Level'], total], axis=1) # Combine score and level\n",
    "# sopho_avg = np.mean(score['Score'][score['Level'] == 'SO']) # Sophomore average score\n",
    "# means = score.groupby(score['Level'].apply(lambda x: 'SO' == x)).mean()\n",
    "# means.index = means.index.map({False: 'Others', True:'SO'})\n",
    "# obs_diff = means.loc['SO', 'Score'] - means.loc['Others', 'Score']\n",
    "# means, obs_diff\n",
    "\n",
    "# shuffled = score.copy() # Deep copy of table\n",
    "# shuffled['Shuffled_score'] = np.random.permutation(score['Score']) # Put shuffled score in a table\n",
    "# group_means = shuffled.groupby(score['Level'].apply(lambda x: 'SO' == x)).mean()\n",
    "# group_means.index = group_means.index.map({False: 'Others', True:'SO'})\n",
    "# difference = group_means.loc['SO', 'Shuffled_score'] - group_means.loc['Others', 'Shuffled_score']\n",
    "\n",
    "# N = 1000\n",
    "\n",
    "# differences = []\n",
    "# for i in range(N):\n",
    "    # shuffled = score.copy() # Deep copy of table\n",
    "    # shuffled['Shuffled_score'] = np.random.permutation(score['Score']) # Put shuffled score in a table\n",
    "    # group_means = shuffled.groupby(score['Level'].apply(lambda x: 'SO' == x)).mean()\n",
    "    # group_means.index = group_means.index.map({False: 'Others', True:'SO'})\n",
    "    # difference = group_means.loc['SO', 'Shuffled_score'] - group_means.loc['Others', 'Shuffled_score']\n",
    "    # differences.append(difference)"
   ]
  },
  {
   "cell_type": "markdown",
   "metadata": {},
   "source": [
    "#### [0, 1] testing (Wrong way)"
   ]
  },
  {
   "cell_type": "code",
   "execution_count": 377,
   "metadata": {},
   "outputs": [],
   "source": [
    "# obs = info_m.loc['SO', 'Score']\n",
    "# num = info_c.loc['SO', 'Score']\n",
    "# prop = info_c.loc['SO', 'Score'] / info_all.shape[0]\n",
    "# obs, num, prop\n",
    "\n",
    "# N = 100000\n",
    "# simulations = []\n",
    "# for i in range(N):\n",
    "    # simulation = np.random.choice([0, 1], p=[1-prop, prop], size=num) # 0 is other (476), 1 is SO (59)\n",
    "    # sim_good = (simulation == 1).sum() / num\n",
    "    # simulations.append(sim_good)\n",
    "# pd.Series(simulations)\n",
    "\n",
    "# np.count_nonzero(simulations >= obs) / N\n",
    "\n",
    "# pd.Series(simulations).hist(bins = 10, alpha = 0.5)\n",
    "# plt.scatter(obs, 0, s=25, c='r', zorder=10)"
   ]
  },
  {
   "cell_type": "markdown",
   "metadata": {},
   "source": [
    "#### Hypothesis Testing (Slow way) - 0.007"
   ]
  },
  {
   "cell_type": "code",
   "execution_count": 55,
   "metadata": {},
   "outputs": [
    {
     "data": {
      "text/plain": [
       "(0.8441736462989888, 59, 0.1102803738317757)"
      ]
     },
     "execution_count": 55,
     "metadata": {},
     "output_type": "execute_result"
    }
   ],
   "source": [
    "# obs = info_m.loc['SO', 'Score']\n",
    "# num = info_c.loc['SO', 'Score']\n",
    "# prop = info_c.loc['SO', 'Score'] / info_all.shape[0]\n",
    "# obs, num, prop"
   ]
  },
  {
   "cell_type": "code",
   "execution_count": 441,
   "metadata": {},
   "outputs": [
    {
     "name": "stdout",
     "output_type": "stream",
     "text": [
      "CPU times: user 1min, sys: 56.6 ms, total: 1min\n",
      "Wall time: 1min\n"
     ]
    }
   ],
   "source": [
    "%%time\n",
    "N = 100000\n",
    "total = proj.total_points(grades).rename('Score')\n",
    "info_all = pd.concat([grades['Level'], total], axis=1)\n",
    "num = info_all['Level'].value_counts()['SO']\n",
    "\n",
    "simulations = []\n",
    "for i in range(N):\n",
    "    simulation = info_all.sample(num, replace=False)\n",
    "    sim = np.mean(simulation['Score'])\n",
    "    simulations.append(sim)\n",
    "# pd.Series(simulations)"
   ]
  },
  {
   "cell_type": "code",
   "execution_count": 438,
   "metadata": {},
   "outputs": [
    {
     "data": {
      "text/plain": [
       "0.0757"
      ]
     },
     "execution_count": 438,
     "metadata": {},
     "output_type": "execute_result"
    }
   ],
   "source": [
    "np.count_nonzero(simulations >= obs) / N"
   ]
  },
  {
   "cell_type": "code",
   "execution_count": 216,
   "metadata": {},
   "outputs": [
    {
     "data": {
      "text/plain": [
       "<matplotlib.collections.PathCollection at 0x7f5ed5e50be0>"
      ]
     },
     "execution_count": 216,
     "metadata": {},
     "output_type": "execute_result"
    },
    {
     "data": {
      "image/png": "[encoded data removed]",
      "text/plain": [
       "<Figure size 432x288 with 1 Axes>"
      ]
     },
     "metadata": {
      "needs_background": "light"
     },
     "output_type": "display_data"
    }
   ],
   "source": [
    "pd.Series(simulations).hist(bins = 10, alpha = 0.5)\n",
    "plt.scatter(obs, 0, s=25, c='r', zorder=10)"
   ]
  },
  {
   "cell_type": "markdown",
   "metadata": {},
   "source": [
    "#### Hypothesis Testing (Fast way) - 0.007"
   ]
  },
  {
   "cell_type": "code",
   "execution_count": 442,
   "metadata": {},
   "outputs": [
    {
     "name": "stdout",
     "output_type": "stream",
     "text": [
      "CPU times: user 15.2 s, sys: 14.6 ms, total: 15.2 s\n",
      "Wall time: 15.2 s\n"
     ]
    }
   ],
   "source": [
    "%%time\n",
    "total = proj.total_points(grades).rename('Score') # Final grade\n",
    "info_all = pd.concat([grades['Level'], total], axis=1) # Dataframe with grade & level\n",
    "num = info_all['Level'].value_counts()['SO'] # Number of Sophomore students\n",
    "obs = info_all.groupby('Level').mean().loc['SO', 'Score'] # Score of Sophomore students\n",
    "\n",
    "samps = []\n",
    "prop_distr = info_all['Score'].value_counts(normalize=True) # Construct simulation\n",
    "for i in range(N):\n",
    "    samp = np.random.choice(prop_distr.index, p=prop_distr, size=num, replace=False)\n",
    "    samps.append(samp.mean())\n",
    "\n",
    "# avgs = np.array(np.mean(samps)) # Calculate average"
   ]
  },
  {
   "cell_type": "code",
   "execution_count": 443,
   "metadata": {},
   "outputs": [
    {
     "data": {
      "text/plain": [
       "0.00715"
      ]
     },
     "execution_count": 443,
     "metadata": {},
     "output_type": "execute_result"
    }
   ],
   "source": [
    "np.count_nonzero(samps >= obs) / N # Return p-value"
   ]
  },
  {
   "cell_type": "code",
   "execution_count": 444,
   "metadata": {},
   "outputs": [
    {
     "data": {
      "text/plain": [
       "<matplotlib.collections.PathCollection at 0x7f5ecbde17b8>"
      ]
     },
     "execution_count": 444,
     "metadata": {},
     "output_type": "execute_result"
    },
    {
     "data": {
      "image/png": "[encoded data removed]",
      "text/plain": [
       "<Figure size 432x288 with 1 Axes>"
      ]
     },
     "metadata": {
      "needs_background": "light"
     },
     "output_type": "display_data"
    }
   ],
   "source": [
    "pd.Series(samps).hist(bins = 10, alpha = 0.5)\n",
    "plt.scatter(obs, 0, s=25, c='r', zorder=10)"
   ]
  },
  {
   "cell_type": "markdown",
   "metadata": {},
   "source": [
    "#### Hypothesis Testing (Fastest way) - 0.01"
   ]
  },
  {
   "cell_type": "code",
   "execution_count": 447,
   "metadata": {},
   "outputs": [
    {
     "name": "stdout",
     "output_type": "stream",
     "text": [
      "CPU times: user 179 ms, sys: 3.02 ms, total: 182 ms\n",
      "Wall time: 178 ms\n"
     ]
    }
   ],
   "source": [
    "%%time\n",
    "N=10000\n",
    "total = proj.total_points(grades).rename('Score')\n",
    "info_all = pd.concat([grades['Level'], total], axis=1)\n",
    "num = info_all['Level'].value_counts()['SO']\n",
    "obs = info_all.groupby('Level').mean().loc['SO', 'Score'] # Score of Sophomore students\n",
    "\n",
    "prop_distr = info_all['Score'].value_counts(normalize=True)\n",
    "samps = np.random.choice(\n",
    "    prop_distr.index, \n",
    "    p=prop_distr, \n",
    "    size=(N, num),\n",
    ")\n",
    "#samps.shape\n",
    "averages = samps.mean(axis=1)\n",
    "np.count_nonzero(averages >= obs) / N # Return p-value"
   ]
  },
  {
   "cell_type": "code",
   "execution_count": 218,
   "metadata": {},
   "outputs": [
    {
     "data": {
      "text/plain": [
       "<matplotlib.collections.PathCollection at 0x7f5ed68f73c8>"
      ]
     },
     "execution_count": 218,
     "metadata": {},
     "output_type": "execute_result"
    },
    {
     "data": {
      "image/png": "[encoded data removed]",
      "text/plain": [
       "<Figure size 432x288 with 1 Axes>"
      ]
     },
     "metadata": {
      "needs_background": "light"
     },
     "output_type": "display_data"
    }
   ],
   "source": [
    "pd.Series(samps).hist(bins = 10, alpha = 0.5)\n",
    "plt.scatter(obs, 0, s=25, c='r', zorder=10)"
   ]
  },
  {
   "cell_type": "code",
   "execution_count": 410,
   "metadata": {},
   "outputs": [],
   "source": [
    "many = pd.concat([grades, grades, grades, grades], axis=0).reset_index(drop=True)"
   ]
  },
  {
   "cell_type": "code",
   "execution_count": 411,
   "metadata": {},
   "outputs": [
    {
     "name": "stdout",
     "output_type": "stream",
     "text": [
      "CPU times: user 23.3 s, sys: 3.76 ms, total: 23.3 s\n",
      "Wall time: 23.3 s\n"
     ]
    },
    {
     "data": {
      "text/plain": [
       "0.0"
      ]
     },
     "execution_count": 411,
     "metadata": {},
     "output_type": "execute_result"
    }
   ],
   "source": [
    "%time proj.simulate_pval(many, 100000)"
   ]
  },
  {
   "cell_type": "code",
   "execution_count": null,
   "metadata": {},
   "outputs": [],
   "source": []
  },
  {
   "cell_type": "markdown",
   "metadata": {},
   "source": [
    "### What is the true distribution of grades?\n",
    "\n",
    "The gradebook for this class only reflects one particular instance of each student's performance, subject to the effects of all the little events and hiccups that occurred throughout the quarter. Might you have done better on the midterm had your roommate kept you up all night with their coughing? Wasn't it lucky that the example you were studying just before the final happened to appear on the exam?\n",
    "\n",
    "**Question 9**\n",
    "\n",
    "This question will simulate these '(un)lucky, random events' by adding or subtracting random amounts to each assignment before calculating the final grades. These 'random amounts' will be drawn from a Gaussian distribution of mean 0 and a std deviation 0.02:\n",
    "```\n",
    "np.random.normal(0, 0.02, size=(num_rows, num_cols))\n",
    "```\n",
    "Intuitively, such a model says that random events may bump up or down a given grade (given as a proportion):\n",
    "- which on average has no effect on the class as a whole (mean 0),\n",
    "- which not uncommonly might perturb a grade by 2% (std dev 0.02).\n",
    "\n",
    "Create a function `total_points_with_noise` that takes in a dataframe like `grades`, adds noise to the assignments as described above, and returns the final scores using *the same procedure* as questions 1-7.\n",
    "\n",
    "*Note:* You should be able to reuse (or minorly change) the code from previous problems. Try to be DRY (don't repeat yourself)!\n",
    "\n",
    "*Note 1:* Once adding the noise to the assignment scores, use the `np.clip` function to be sure each assignment retains a score between 0% and 100%.\n",
    "\n",
    "*Note 2:* To check your work -- what would you expect the difference between the actual scores and noisy scores to be, on average?"
   ]
  },
  {
   "cell_type": "markdown",
   "metadata": {},
   "source": [
    "#### Slightly Wrong way"
   ]
  },
  {
   "cell_type": "code",
   "execution_count": null,
   "metadata": {},
   "outputs": [],
   "source": [
    "# def clip(name): # I am not using this actually, I am using np.clip!!!!!!!!!!!!!!!!!!!!\n",
    "    # a_max = grades_mod.loc[0, name + ' - Max Points']\n",
    "    # return np.clip(grades_mod[name], 0, a_max)\n",
    "\n",
    "# free_resp = extract_values(grades, '^project[0-9]{2}_free_response$') # Free response scores\n",
    "# names = list(proj.get_assignment_names(grades).values()) # Get usual cols of assignments\n",
    "# names.append(free_resp) # Combine the free response\n",
    "# names_flat = [elem for sub in names for elem in sub] # Flatten nested list to list\n",
    "# names_max = [elem + ' - Max Points' for elem in names_flat] # Max Points cols\n",
    "\n",
    "# grades_mod = grades.copy() # Deep copy\n",
    "# nrows, ncols = grades_mod[names_flat].shape[0], grades[names_flat].shape[1] # Get number of rows and cols\n",
    "# random_events = np.random.normal(0, 0.02, size=(nrows, ncols)) # Generate random event values\n",
    "# grades_mod[names_flat] = (grades_mod[names_flat] + random_events).clip(0, list(grades_mod.loc[0, names_max]), axis=1) # Calculate noisy score\n",
    "# grades_mod[names_flat] = np.clip((grades_mod[names_flat] + random_events), 0, list(grades_mod.loc[0, names_max])) # Calculate noisy score\n",
    "\n",
    "# proj.total_points(grades_mod).head()\n",
    "# rand_points = proj.total_points(grades_mod)\n",
    "# total_points = proj.total_points(grades)\n",
    "# (total_points - rand_points).mean()"
   ]
  },
  {
   "cell_type": "markdown",
   "metadata": {},
   "source": [
    "# Need to ask!!!!!!!!!!!!!!!!!!!!!!!!!!!!!!!!!!!!!!"
   ]
  },
  {
   "cell_type": "markdown",
   "metadata": {},
   "source": [
    "#### New way"
   ]
  },
  {
   "cell_type": "code",
   "execution_count": 326,
   "metadata": {},
   "outputs": [],
   "source": [
    "# Project grades\n",
    "grades_mod = grades.fillna(0) # Fill NaN with 0, deep copy\n",
    "projects = extract_values(grades, '^project[0-9]{2}$') # Project scores\n",
    "free_resp = extract_values(grades, '^project[0-9]{2}_free_response$') # Free response scores\n",
    "\n",
    "# proj_total = []\n",
    "proj_tb = pd.DataFrame()\n",
    "for project in projects: # Loop through each project\n",
    "    if (project + '_free_response') in free_resp: # If project has free response\n",
    "        proj_tb[project] = pd.Series((grades_mod[project] + grades_mod[project + '_free_response'])\n",
    "                     / (grades_mod[project + ' - Max Points'] + grades_mod[project + '_free_response - Max Points']))\n",
    "    else: # If does not have free response\n",
    "        proj_tb[project] = pd.Series(grades_mod[project] / grades_mod[project + ' - Max Points'])\n",
    "\n",
    "# tot_proj = pd.Series(np.sum(np.array(proj_total) / len(projects), axis=0)) # Calculate total project score\n",
    "# tot_proj\n",
    "proj_f = np.clip(proj_tb + np.random.normal(0, 0.02, size=(proj_tb.shape[0], proj_tb.shape[1])), 0, 1)\n",
    "tot_proj = pd.Series(np.sum(proj_f, axis=1) / len(projects)) # Calculate total project score\n",
    "# tot_proj"
   ]
  },
  {
   "cell_type": "code",
   "execution_count": 327,
   "metadata": {},
   "outputs": [],
   "source": [
    "# Lab grades\n",
    "lab_tb = proj.process_labs(grades_mod)\n",
    "lab = np.clip(lab_tb + np.random.normal(0, 0.02, size=(lab_tb.shape[0], lab_tb.shape[1])), 0, 1)\n",
    "tot_lab = proj.lab_total(lab)\n",
    "# tot_lab"
   ]
  },
  {
   "cell_type": "code",
   "execution_count": 425,
   "metadata": {},
   "outputs": [],
   "source": [
    "# Helper function to calculate disc, checkpoint & exams scores\n",
    "def other_total_ran(grades, name):\n",
    "    \"\"\"\n",
    "    Given the dataframe and the area name, calculate\n",
    "    the total grades for that area.\n",
    "    \n",
    "    :param grades: dataframe to process\n",
    "    :param name: area to process grades\n",
    "    :return: a Series of total area grades\n",
    "    \"\"\"\n",
    "    names = proj.get_assignment_names(grades) # Get names\n",
    "    area = names.get(name) # Get cols of name\n",
    "    \n",
    "    df = pd.DataFrame()\n",
    "    for ar in area: # Loop through each name\n",
    "        df[ar] = grades[ar] / grades[ar + ' - Max Points']\n",
    "    \n",
    "    df_fin = np.clip(df + np.random.normal(0, 0.02, size=(df.shape[0], df.shape[1])), 0, 1)\n",
    "    \n",
    "    total = (np.sum(df_fin, axis=1)) / (len(df_fin.columns)) # Calculate total score\n",
    "    return total"
   ]
  },
  {
   "cell_type": "code",
   "execution_count": 426,
   "metadata": {},
   "outputs": [],
   "source": [
    "# lab_tot = proj.lab_total(proj.process_labs(grades)) # Labs total\n",
    "# proj_tot = proj.projects_total(grades) # Projects total\n",
    "chpt_tot = other_total_ran(grades, 'checkpoint') # Checkpoints total\n",
    "disc_tot = other_total_ran(grades, 'disc') # Discussions total\n",
    "mid = other_total_ran(grades, 'midterm') # Midterm\n",
    "fin = other_total_ran(grades, 'final') # Final\n",
    "noise = tot_lab * 0.2 + tot_proj * 0.3 + chpt_tot * 0.025 + disc_tot * 0.025 + mid * 0.15 + fin * 0.3\n",
    "# noise"
   ]
  },
  {
   "cell_type": "code",
   "execution_count": 427,
   "metadata": {},
   "outputs": [
    {
     "data": {
      "text/plain": [
       "(<matplotlib.axes._subplots.AxesSubplot at 0x7f5ed3b05160>,\n",
       " 0.001869158878504673)"
      ]
     },
     "execution_count": 427,
     "metadata": {},
     "output_type": "execute_result"
    },
    {
     "data": {
      "image/png": "[encoded data removed]",
      "text/plain": [
       "<Figure size 432x288 with 1 Axes>"
      ]
     },
     "metadata": {
      "needs_background": "light"
     },
     "output_type": "display_data"
    }
   ],
   "source": [
    "temp = proj.total_points(grades) - noise\n",
    "mean = ((temp >= 0.02) | (temp <= -0.02)).mean()\n",
    "temp.hist(), mean"
   ]
  },
  {
   "cell_type": "code",
   "execution_count": 428,
   "metadata": {},
   "outputs": [
    {
     "data": {
      "text/plain": [
       "0.006859639075952756"
      ]
     },
     "execution_count": 428,
     "metadata": {},
     "output_type": "execute_result"
    }
   ],
   "source": [
    "temp.std()"
   ]
  },
  {
   "cell_type": "code",
   "execution_count": 429,
   "metadata": {},
   "outputs": [],
   "source": [
    "noise_p = proj.total_points_with_noise(grades)"
   ]
  },
  {
   "cell_type": "code",
   "execution_count": 430,
   "metadata": {},
   "outputs": [
    {
     "data": {
      "text/plain": [
       "True"
      ]
     },
     "execution_count": 430,
     "metadata": {},
     "output_type": "execute_result"
    }
   ],
   "source": [
    "np.all((0 <= noise_p) & (noise_p <= 1))"
   ]
  },
  {
   "cell_type": "code",
   "execution_count": 431,
   "metadata": {},
   "outputs": [
    {
     "data": {
      "text/plain": [
       "True"
      ]
     },
     "execution_count": 431,
     "metadata": {},
     "output_type": "execute_result"
    }
   ],
   "source": [
    "0.7 < noise_p.mean() < 0.9"
   ]
  },
  {
   "cell_type": "code",
   "execution_count": null,
   "metadata": {},
   "outputs": [],
   "source": []
  },
  {
   "cell_type": "markdown",
   "metadata": {},
   "source": [
    "### Short-answer questions (hard-coded)\n",
    "\n",
    "Use your functions from above to understanding the data and answer the following questions. The function below should return **hard-coded values**. It should not compute anything!\n",
    "\n",
    "**Question 10**\n",
    "\n",
    "Create a function `short_answer` of zero variables that returns (hard-coded) answers to the following question in a list:\n",
    "0. For the class on average, what is the difference between students' scores (`total_points`) and their scores with noise (`total_points_with_noise`)? (Remark: plot the distribution of differences; does this align with what you know about binomial distributions?)\n",
    "1. What percentage of the class only sees their grade change at most (but not including) $\\pm 0.01$?\n",
    "2. What is the 95% confidence interval for the statistic above? (see [DSC10](https://www.inferentialthinking.com/chapters/13/3/Confidence_Intervals.html) and use `np.percentile`)\n",
    "3. What proportion of the class sees a change in their letter grade?\n",
    "4. The assumption behind the model in Question 9 is that:\n",
    "    - The (observed) gradebook well represents the true population of students,\n",
    "    - The noisy scores represent other possible observations drawn from the true population of students.\n",
    "    - Answer `True` or `False`"
   ]
  },
  {
   "cell_type": "markdown",
   "metadata": {},
   "source": [
    "# Need to ask!!!!!!!!!!!!!!!!!!!!!!!!!!!!!!!!!!!!!!"
   ]
  },
  {
   "cell_type": "code",
   "execution_count": 432,
   "metadata": {},
   "outputs": [],
   "source": [
    "total = proj.total_points(grades)\n",
    "# noise = proj.total_points_with_noise(grades)\n",
    "# noise"
   ]
  },
  {
   "cell_type": "code",
   "execution_count": 433,
   "metadata": {},
   "outputs": [],
   "source": [
    "short_answer = [\n",
    "# Q0\n",
    "'The average difference between total_points and total_points_with_noise is 0.0037, which is close to 0.',\n",
    "\n",
    "# Q1\n",
    "85.42, \n",
    "\n",
    "# Q2\n",
    "[80.18691589, 86.1682243 ], \n",
    "\n",
    "# Q3\n",
    "36, \n",
    "\n",
    "# Q4\n",
    "True]"
   ]
  },
  {
   "cell_type": "code",
   "execution_count": 434,
   "metadata": {},
   "outputs": [
    {
     "data": {
      "text/plain": [
       "<matplotlib.axes._subplots.AxesSubplot at 0x7f5ed3c7ccc0>"
      ]
     },
     "execution_count": 434,
     "metadata": {},
     "output_type": "execute_result"
    },
    {
     "data": {
      "image/png": "[encoded data removed]",
      "text/plain": [
       "<Figure size 432x288 with 2 Axes>"
      ]
     },
     "metadata": {
      "needs_background": "light"
     },
     "output_type": "display_data"
    }
   ],
   "source": [
    "# Q0\n",
    "plt.subplot(2, 1, 1)\n",
    "pd.Series(noise).hist(bins = 100, alpha = 0.5)\n",
    "\n",
    "plt.subplot(2, 1, 2)\n",
    "pd.Series(total).hist(bins = 100, alpha = 0.5)"
   ]
  },
  {
   "cell_type": "code",
   "execution_count": 435,
   "metadata": {},
   "outputs": [
    {
     "data": {
      "text/plain": [
       "85.04672897196262"
      ]
     },
     "execution_count": 435,
     "metadata": {},
     "output_type": "execute_result"
    }
   ],
   "source": [
    "# Q1\n",
    "noise = proj.total_points_with_noise(grades)\n",
    "total = proj.total_points(grades)\n",
    "differences = (noise - total)\n",
    "# differences = np.array(total_points - rand_points) * 100 # Does the difference mean out of 100 score? If not then 100% will be within 0.01\n",
    "100 * np.count_nonzero(np.abs(differences) < 0.01) / len(differences)"
   ]
  },
  {
   "cell_type": "code",
   "execution_count": 499,
   "metadata": {},
   "outputs": [],
   "source": [
    "# Q2 # Weird Ask!!!!!!!!!!!!!!!!!!!!!!!!!!!!\n",
    "def bootstrap(sample, replications):\n",
    "    \n",
    "    \"\"\"Returns an array of bootstrapped sample medians:\n",
    "    original_sample: table containing the original sample\n",
    "    label: label of column containing the variable\n",
    "    replications: number of bootstrap samples\n",
    "    \"\"\"\n",
    "    \n",
    "    # just_one_column = original_sample[label]\n",
    "    differences = []\n",
    "    for i in range(replications):\n",
    "        bootstrap = proj.total_points_with_noise(grades)\n",
    "        resampled_stats = 100 * np.count_nonzero(np.abs(bootstrap - sample) < 0.01) / len(bootstrap) \n",
    "        differences.append(resampled_stats)\n",
    "        \n",
    "    return differences\n",
    "\n",
    "boot = bootstrap(total, 10000)"
   ]
  },
  {
   "cell_type": "code",
   "execution_count": 500,
   "metadata": {},
   "outputs": [
    {
     "data": {
      "text/plain": [
       "array([80.18691589, 86.35514019])"
      ]
     },
     "execution_count": 500,
     "metadata": {},
     "output_type": "execute_result"
    }
   ],
   "source": [
    "np.percentile(boot, [2.5, 97.5])"
   ]
  },
  {
   "cell_type": "code",
   "execution_count": 502,
   "metadata": {},
   "outputs": [
    {
     "data": {
      "text/plain": [
       "[77.00934579439253,\n",
       " 77.19626168224299,\n",
       " 77.38317757009345,\n",
       " 77.38317757009345,\n",
       " 77.38317757009345,\n",
       " 77.57009345794393,\n",
       " 77.75700934579439,\n",
       " 77.94392523364486,\n",
       " 77.94392523364486,\n",
       " 78.13084112149532,\n",
       " 78.3177570093458,\n",
       " 78.3177570093458,\n",
       " 78.3177570093458,\n",
       " 78.50467289719626,\n",
       " 78.50467289719626,\n",
       " 78.50467289719626,\n",
       " 78.50467289719626,\n",
       " 78.50467289719626,\n",
       " 78.69158878504673,\n",
       " 78.69158878504673,\n",
       " 78.69158878504673,\n",
       " 78.69158878504673,\n",
       " 78.69158878504673,\n",
       " 78.69158878504673,\n",
       " 78.69158878504673,\n",
       " 78.69158878504673,\n",
       " 78.69158878504673,\n",
       " 78.69158878504673,\n",
       " 78.69158878504673,\n",
       " 78.8785046728972,\n",
       " 78.8785046728972,\n",
       " 78.8785046728972,\n",
       " 78.8785046728972,\n",
       " 78.8785046728972,\n",
       " 78.8785046728972,\n",
       " 78.8785046728972,\n",
       " 78.8785046728972,\n",
       " 78.8785046728972,\n",
       " 78.8785046728972,\n",
       " 78.8785046728972,\n",
       " 78.8785046728972,\n",
       " 78.8785046728972,\n",
       " 78.8785046728972,\n",
       " 78.8785046728972,\n",
       " 78.8785046728972,\n",
       " 78.8785046728972,\n",
       " 78.8785046728972,\n",
       " 78.8785046728972,\n",
       " 79.06542056074767,\n",
       " 79.06542056074767,\n",
       " 79.06542056074767,\n",
       " 79.06542056074767,\n",
       " 79.06542056074767,\n",
       " 79.06542056074767,\n",
       " 79.06542056074767,\n",
       " 79.06542056074767,\n",
       " 79.06542056074767,\n",
       " 79.06542056074767,\n",
       " 79.06542056074767,\n",
       " 79.06542056074767,\n",
       " 79.06542056074767,\n",
       " 79.06542056074767,\n",
       " 79.06542056074767,\n",
       " 79.25233644859813,\n",
       " 79.25233644859813,\n",
       " 79.25233644859813,\n",
       " 79.25233644859813,\n",
       " 79.25233644859813,\n",
       " 79.25233644859813,\n",
       " 79.25233644859813,\n",
       " 79.25233644859813,\n",
       " 79.25233644859813,\n",
       " 79.25233644859813,\n",
       " 79.25233644859813,\n",
       " 79.25233644859813,\n",
       " 79.25233644859813,\n",
       " 79.25233644859813,\n",
       " 79.25233644859813,\n",
       " 79.25233644859813,\n",
       " 79.25233644859813,\n",
       " 79.25233644859813,\n",
       " 79.25233644859813,\n",
       " 79.25233644859813,\n",
       " 79.25233644859813,\n",
       " 79.25233644859813,\n",
       " 79.25233644859813,\n",
       " 79.25233644859813,\n",
       " 79.4392523364486,\n",
       " 79.4392523364486,\n",
       " 79.4392523364486,\n",
       " 79.4392523364486,\n",
       " 79.4392523364486,\n",
       " 79.4392523364486,\n",
       " 79.4392523364486,\n",
       " 79.4392523364486,\n",
       " 79.4392523364486,\n",
       " 79.4392523364486,\n",
       " 79.4392523364486,\n",
       " 79.4392523364486,\n",
       " 79.4392523364486,\n",
       " 79.4392523364486,\n",
       " 79.4392523364486,\n",
       " 79.4392523364486,\n",
       " 79.4392523364486,\n",
       " 79.4392523364486,\n",
       " 79.4392523364486,\n",
       " 79.4392523364486,\n",
       " 79.4392523364486,\n",
       " 79.4392523364486,\n",
       " 79.4392523364486,\n",
       " 79.4392523364486,\n",
       " 79.4392523364486,\n",
       " 79.4392523364486,\n",
       " 79.4392523364486,\n",
       " 79.4392523364486,\n",
       " 79.4392523364486,\n",
       " 79.4392523364486,\n",
       " 79.62616822429906,\n",
       " 79.62616822429906,\n",
       " 79.62616822429906,\n",
       " 79.62616822429906,\n",
       " 79.62616822429906,\n",
       " 79.62616822429906,\n",
       " 79.62616822429906,\n",
       " 79.62616822429906,\n",
       " 79.62616822429906,\n",
       " 79.62616822429906,\n",
       " 79.62616822429906,\n",
       " 79.62616822429906,\n",
       " 79.62616822429906,\n",
       " 79.62616822429906,\n",
       " 79.62616822429906,\n",
       " 79.62616822429906,\n",
       " 79.62616822429906,\n",
       " 79.62616822429906,\n",
       " 79.62616822429906,\n",
       " 79.62616822429906,\n",
       " 79.62616822429906,\n",
       " 79.62616822429906,\n",
       " 79.62616822429906,\n",
       " 79.62616822429906,\n",
       " 79.62616822429906,\n",
       " 79.62616822429906,\n",
       " 79.62616822429906,\n",
       " 79.62616822429906,\n",
       " 79.62616822429906,\n",
       " 79.62616822429906,\n",
       " 79.62616822429906,\n",
       " 79.62616822429906,\n",
       " 79.62616822429906,\n",
       " 79.62616822429906,\n",
       " 79.62616822429906,\n",
       " 79.81308411214954,\n",
       " 79.81308411214954,\n",
       " 79.81308411214954,\n",
       " 79.81308411214954,\n",
       " 79.81308411214954,\n",
       " 79.81308411214954,\n",
       " 79.81308411214954,\n",
       " 79.81308411214954,\n",
       " 79.81308411214954,\n",
       " 79.81308411214954,\n",
       " 79.81308411214954,\n",
       " 79.81308411214954,\n",
       " 79.81308411214954,\n",
       " 79.81308411214954,\n",
       " 79.81308411214954,\n",
       " 79.81308411214954,\n",
       " 79.81308411214954,\n",
       " 79.81308411214954,\n",
       " 79.81308411214954,\n",
       " 79.81308411214954,\n",
       " 79.81308411214954,\n",
       " 79.81308411214954,\n",
       " 79.81308411214954,\n",
       " 79.81308411214954,\n",
       " 79.81308411214954,\n",
       " 79.81308411214954,\n",
       " 79.81308411214954,\n",
       " 79.81308411214954,\n",
       " 79.81308411214954,\n",
       " 79.81308411214954,\n",
       " 79.81308411214954,\n",
       " 79.81308411214954,\n",
       " 79.81308411214954,\n",
       " 79.81308411214954,\n",
       " 79.81308411214954,\n",
       " 79.81308411214954,\n",
       " 79.81308411214954,\n",
       " 79.81308411214954,\n",
       " 79.81308411214954,\n",
       " 79.81308411214954,\n",
       " 79.81308411214954,\n",
       " 79.81308411214954,\n",
       " 79.81308411214954,\n",
       " 80.0,\n",
       " 80.0,\n",
       " 80.0,\n",
       " 80.0,\n",
       " 80.0,\n",
       " 80.0,\n",
       " 80.0,\n",
       " 80.0,\n",
       " 80.0,\n",
       " 80.0,\n",
       " 80.0,\n",
       " 80.0,\n",
       " 80.0,\n",
       " 80.0,\n",
       " 80.0,\n",
       " 80.0,\n",
       " 80.0,\n",
       " 80.0,\n",
       " 80.0,\n",
       " 80.0,\n",
       " 80.0,\n",
       " 80.0,\n",
       " 80.0,\n",
       " 80.0,\n",
       " 80.0,\n",
       " 80.0,\n",
       " 80.0,\n",
       " 80.0,\n",
       " 80.0,\n",
       " 80.0,\n",
       " 80.0,\n",
       " 80.0,\n",
       " 80.0,\n",
       " 80.0,\n",
       " 80.0,\n",
       " 80.0,\n",
       " 80.0,\n",
       " 80.0,\n",
       " 80.0,\n",
       " 80.0,\n",
       " 80.0,\n",
       " 80.0,\n",
       " 80.0,\n",
       " 80.0,\n",
       " 80.0,\n",
       " 80.0,\n",
       " 80.0,\n",
       " 80.0,\n",
       " 80.0,\n",
       " 80.0,\n",
       " 80.18691588785046,\n",
       " 80.18691588785046,\n",
       " 80.18691588785046,\n",
       " 80.18691588785046,\n",
       " 80.18691588785046,\n",
       " 80.18691588785046,\n",
       " 80.18691588785046,\n",
       " 80.18691588785046,\n",
       " 80.18691588785046,\n",
       " 80.18691588785046,\n",
       " 80.18691588785046,\n",
       " 80.18691588785046,\n",
       " 80.18691588785046,\n",
       " 80.18691588785046,\n",
       " 80.18691588785046,\n",
       " 80.18691588785046,\n",
       " 80.18691588785046,\n",
       " 80.18691588785046,\n",
       " 80.18691588785046,\n",
       " 80.18691588785046,\n",
       " 80.18691588785046,\n",
       " 80.18691588785046,\n",
       " 80.18691588785046,\n",
       " 80.18691588785046,\n",
       " 80.18691588785046,\n",
       " 80.18691588785046,\n",
       " 80.18691588785046,\n",
       " 80.18691588785046,\n",
       " 80.18691588785046,\n",
       " 80.18691588785046,\n",
       " 80.18691588785046,\n",
       " 80.18691588785046,\n",
       " 80.18691588785046,\n",
       " 80.18691588785046,\n",
       " 80.18691588785046,\n",
       " 80.18691588785046,\n",
       " 80.18691588785046,\n",
       " 80.18691588785046,\n",
       " 80.18691588785046,\n",
       " 80.18691588785046,\n",
       " 80.18691588785046,\n",
       " 80.18691588785046,\n",
       " 80.18691588785046,\n",
       " 80.18691588785046,\n",
       " 80.18691588785046,\n",
       " 80.18691588785046,\n",
       " 80.18691588785046,\n",
       " 80.18691588785046,\n",
       " 80.18691588785046,\n",
       " 80.18691588785046,\n",
       " 80.18691588785046,\n",
       " 80.18691588785046,\n",
       " 80.18691588785046,\n",
       " 80.18691588785046,\n",
       " 80.18691588785046,\n",
       " 80.18691588785046,\n",
       " 80.18691588785046,\n",
       " 80.18691588785046,\n",
       " 80.18691588785046,\n",
       " 80.18691588785046,\n",
       " 80.18691588785046,\n",
       " 80.18691588785046,\n",
       " 80.18691588785046,\n",
       " 80.18691588785046,\n",
       " 80.18691588785046,\n",
       " 80.18691588785046,\n",
       " 80.18691588785046,\n",
       " 80.18691588785046,\n",
       " 80.18691588785046,\n",
       " 80.18691588785046,\n",
       " 80.18691588785046,\n",
       " 80.18691588785046,\n",
       " 80.18691588785046,\n",
       " 80.18691588785046,\n",
       " 80.37383177570094,\n",
       " 80.37383177570094,\n",
       " 80.37383177570094,\n",
       " 80.37383177570094,\n",
       " 80.37383177570094,\n",
       " 80.37383177570094,\n",
       " 80.37383177570094,\n",
       " 80.37383177570094,\n",
       " 80.37383177570094,\n",
       " 80.37383177570094,\n",
       " 80.37383177570094,\n",
       " 80.37383177570094,\n",
       " 80.37383177570094,\n",
       " 80.37383177570094,\n",
       " 80.37383177570094,\n",
       " 80.37383177570094,\n",
       " 80.37383177570094,\n",
       " 80.37383177570094,\n",
       " 80.37383177570094,\n",
       " 80.37383177570094,\n",
       " 80.37383177570094,\n",
       " 80.37383177570094,\n",
       " 80.37383177570094,\n",
       " 80.37383177570094,\n",
       " 80.37383177570094,\n",
       " 80.37383177570094,\n",
       " 80.37383177570094,\n",
       " 80.37383177570094,\n",
       " 80.37383177570094,\n",
       " 80.37383177570094,\n",
       " 80.37383177570094,\n",
       " 80.37383177570094,\n",
       " 80.37383177570094,\n",
       " 80.37383177570094,\n",
       " 80.37383177570094,\n",
       " 80.37383177570094,\n",
       " 80.37383177570094,\n",
       " 80.37383177570094,\n",
       " 80.37383177570094,\n",
       " 80.37383177570094,\n",
       " 80.37383177570094,\n",
       " 80.37383177570094,\n",
       " 80.37383177570094,\n",
       " 80.37383177570094,\n",
       " 80.37383177570094,\n",
       " 80.37383177570094,\n",
       " 80.37383177570094,\n",
       " 80.37383177570094,\n",
       " 80.37383177570094,\n",
       " 80.37383177570094,\n",
       " 80.37383177570094,\n",
       " 80.37383177570094,\n",
       " 80.37383177570094,\n",
       " 80.37383177570094,\n",
       " 80.37383177570094,\n",
       " 80.37383177570094,\n",
       " 80.37383177570094,\n",
       " 80.37383177570094,\n",
       " 80.37383177570094,\n",
       " 80.37383177570094,\n",
       " 80.37383177570094,\n",
       " 80.37383177570094,\n",
       " 80.37383177570094,\n",
       " 80.37383177570094,\n",
       " 80.37383177570094,\n",
       " 80.37383177570094,\n",
       " 80.37383177570094,\n",
       " 80.37383177570094,\n",
       " 80.37383177570094,\n",
       " 80.37383177570094,\n",
       " 80.37383177570094,\n",
       " 80.37383177570094,\n",
       " 80.37383177570094,\n",
       " 80.37383177570094,\n",
       " 80.37383177570094,\n",
       " 80.37383177570094,\n",
       " 80.37383177570094,\n",
       " 80.37383177570094,\n",
       " 80.37383177570094,\n",
       " 80.37383177570094,\n",
       " 80.37383177570094,\n",
       " 80.37383177570094,\n",
       " 80.37383177570094,\n",
       " 80.37383177570094,\n",
       " 80.37383177570094,\n",
       " 80.37383177570094,\n",
       " 80.37383177570094,\n",
       " 80.37383177570094,\n",
       " 80.37383177570094,\n",
       " 80.37383177570094,\n",
       " 80.37383177570094,\n",
       " 80.5607476635514,\n",
       " 80.5607476635514,\n",
       " 80.5607476635514,\n",
       " 80.5607476635514,\n",
       " 80.5607476635514,\n",
       " 80.5607476635514,\n",
       " 80.5607476635514,\n",
       " 80.5607476635514,\n",
       " 80.5607476635514,\n",
       " 80.5607476635514,\n",
       " 80.5607476635514,\n",
       " 80.5607476635514,\n",
       " 80.5607476635514,\n",
       " 80.5607476635514,\n",
       " 80.5607476635514,\n",
       " 80.5607476635514,\n",
       " 80.5607476635514,\n",
       " 80.5607476635514,\n",
       " 80.5607476635514,\n",
       " 80.5607476635514,\n",
       " 80.5607476635514,\n",
       " 80.5607476635514,\n",
       " 80.5607476635514,\n",
       " 80.5607476635514,\n",
       " 80.5607476635514,\n",
       " 80.5607476635514,\n",
       " 80.5607476635514,\n",
       " 80.5607476635514,\n",
       " 80.5607476635514,\n",
       " 80.5607476635514,\n",
       " 80.5607476635514,\n",
       " 80.5607476635514,\n",
       " 80.5607476635514,\n",
       " 80.5607476635514,\n",
       " 80.5607476635514,\n",
       " 80.5607476635514,\n",
       " 80.5607476635514,\n",
       " 80.5607476635514,\n",
       " 80.5607476635514,\n",
       " 80.5607476635514,\n",
       " 80.5607476635514,\n",
       " 80.5607476635514,\n",
       " 80.5607476635514,\n",
       " 80.5607476635514,\n",
       " 80.5607476635514,\n",
       " 80.5607476635514,\n",
       " 80.5607476635514,\n",
       " 80.5607476635514,\n",
       " 80.5607476635514,\n",
       " 80.5607476635514,\n",
       " 80.5607476635514,\n",
       " 80.5607476635514,\n",
       " 80.5607476635514,\n",
       " 80.5607476635514,\n",
       " 80.5607476635514,\n",
       " 80.5607476635514,\n",
       " 80.5607476635514,\n",
       " 80.5607476635514,\n",
       " 80.5607476635514,\n",
       " 80.5607476635514,\n",
       " 80.5607476635514,\n",
       " 80.5607476635514,\n",
       " 80.5607476635514,\n",
       " 80.5607476635514,\n",
       " 80.5607476635514,\n",
       " 80.5607476635514,\n",
       " 80.5607476635514,\n",
       " 80.5607476635514,\n",
       " 80.5607476635514,\n",
       " 80.5607476635514,\n",
       " 80.5607476635514,\n",
       " 80.5607476635514,\n",
       " 80.5607476635514,\n",
       " 80.5607476635514,\n",
       " 80.5607476635514,\n",
       " 80.5607476635514,\n",
       " 80.5607476635514,\n",
       " 80.5607476635514,\n",
       " 80.5607476635514,\n",
       " 80.5607476635514,\n",
       " 80.5607476635514,\n",
       " 80.5607476635514,\n",
       " 80.5607476635514,\n",
       " 80.5607476635514,\n",
       " 80.5607476635514,\n",
       " 80.5607476635514,\n",
       " 80.5607476635514,\n",
       " 80.5607476635514,\n",
       " 80.5607476635514,\n",
       " 80.5607476635514,\n",
       " 80.5607476635514,\n",
       " 80.5607476635514,\n",
       " 80.5607476635514,\n",
       " 80.5607476635514,\n",
       " 80.5607476635514,\n",
       " 80.5607476635514,\n",
       " 80.5607476635514,\n",
       " 80.5607476635514,\n",
       " 80.5607476635514,\n",
       " 80.5607476635514,\n",
       " 80.5607476635514,\n",
       " 80.74766355140187,\n",
       " 80.74766355140187,\n",
       " 80.74766355140187,\n",
       " 80.74766355140187,\n",
       " 80.74766355140187,\n",
       " 80.74766355140187,\n",
       " 80.74766355140187,\n",
       " 80.74766355140187,\n",
       " 80.74766355140187,\n",
       " 80.74766355140187,\n",
       " 80.74766355140187,\n",
       " 80.74766355140187,\n",
       " 80.74766355140187,\n",
       " 80.74766355140187,\n",
       " 80.74766355140187,\n",
       " 80.74766355140187,\n",
       " 80.74766355140187,\n",
       " 80.74766355140187,\n",
       " 80.74766355140187,\n",
       " 80.74766355140187,\n",
       " 80.74766355140187,\n",
       " 80.74766355140187,\n",
       " 80.74766355140187,\n",
       " 80.74766355140187,\n",
       " 80.74766355140187,\n",
       " 80.74766355140187,\n",
       " 80.74766355140187,\n",
       " 80.74766355140187,\n",
       " 80.74766355140187,\n",
       " 80.74766355140187,\n",
       " 80.74766355140187,\n",
       " 80.74766355140187,\n",
       " 80.74766355140187,\n",
       " 80.74766355140187,\n",
       " 80.74766355140187,\n",
       " 80.74766355140187,\n",
       " 80.74766355140187,\n",
       " 80.74766355140187,\n",
       " 80.74766355140187,\n",
       " 80.74766355140187,\n",
       " 80.74766355140187,\n",
       " 80.74766355140187,\n",
       " 80.74766355140187,\n",
       " 80.74766355140187,\n",
       " 80.74766355140187,\n",
       " 80.74766355140187,\n",
       " 80.74766355140187,\n",
       " 80.74766355140187,\n",
       " 80.74766355140187,\n",
       " 80.74766355140187,\n",
       " 80.74766355140187,\n",
       " 80.74766355140187,\n",
       " 80.74766355140187,\n",
       " 80.74766355140187,\n",
       " 80.74766355140187,\n",
       " 80.74766355140187,\n",
       " 80.74766355140187,\n",
       " 80.74766355140187,\n",
       " 80.74766355140187,\n",
       " 80.74766355140187,\n",
       " 80.74766355140187,\n",
       " 80.74766355140187,\n",
       " 80.74766355140187,\n",
       " 80.74766355140187,\n",
       " 80.74766355140187,\n",
       " 80.74766355140187,\n",
       " 80.74766355140187,\n",
       " 80.74766355140187,\n",
       " 80.74766355140187,\n",
       " 80.74766355140187,\n",
       " 80.74766355140187,\n",
       " 80.74766355140187,\n",
       " 80.74766355140187,\n",
       " 80.74766355140187,\n",
       " 80.74766355140187,\n",
       " 80.74766355140187,\n",
       " 80.74766355140187,\n",
       " 80.74766355140187,\n",
       " 80.74766355140187,\n",
       " 80.74766355140187,\n",
       " 80.74766355140187,\n",
       " 80.74766355140187,\n",
       " 80.74766355140187,\n",
       " 80.74766355140187,\n",
       " 80.74766355140187,\n",
       " 80.74766355140187,\n",
       " 80.74766355140187,\n",
       " 80.74766355140187,\n",
       " 80.74766355140187,\n",
       " 80.74766355140187,\n",
       " 80.74766355140187,\n",
       " 80.74766355140187,\n",
       " 80.74766355140187,\n",
       " 80.74766355140187,\n",
       " 80.74766355140187,\n",
       " 80.74766355140187,\n",
       " 80.74766355140187,\n",
       " 80.74766355140187,\n",
       " 80.74766355140187,\n",
       " 80.74766355140187,\n",
       " 80.74766355140187,\n",
       " 80.74766355140187,\n",
       " 80.74766355140187,\n",
       " 80.74766355140187,\n",
       " 80.74766355140187,\n",
       " 80.74766355140187,\n",
       " 80.74766355140187,\n",
       " 80.74766355140187,\n",
       " 80.74766355140187,\n",
       " 80.74766355140187,\n",
       " 80.74766355140187,\n",
       " 80.74766355140187,\n",
       " 80.74766355140187,\n",
       " 80.74766355140187,\n",
       " 80.74766355140187,\n",
       " 80.74766355140187,\n",
       " 80.74766355140187,\n",
       " 80.74766355140187,\n",
       " 80.74766355140187,\n",
       " 80.74766355140187,\n",
       " 80.74766355140187,\n",
       " 80.74766355140187,\n",
       " 80.74766355140187,\n",
       " 80.74766355140187,\n",
       " 80.74766355140187,\n",
       " 80.74766355140187,\n",
       " 80.74766355140187,\n",
       " 80.74766355140187,\n",
       " 80.93457943925233,\n",
       " 80.93457943925233,\n",
       " 80.93457943925233,\n",
       " 80.93457943925233,\n",
       " 80.93457943925233,\n",
       " 80.93457943925233,\n",
       " 80.93457943925233,\n",
       " 80.93457943925233,\n",
       " 80.93457943925233,\n",
       " 80.93457943925233,\n",
       " 80.93457943925233,\n",
       " 80.93457943925233,\n",
       " 80.93457943925233,\n",
       " 80.93457943925233,\n",
       " 80.93457943925233,\n",
       " 80.93457943925233,\n",
       " 80.93457943925233,\n",
       " 80.93457943925233,\n",
       " 80.93457943925233,\n",
       " 80.93457943925233,\n",
       " 80.93457943925233,\n",
       " 80.93457943925233,\n",
       " 80.93457943925233,\n",
       " 80.93457943925233,\n",
       " 80.93457943925233,\n",
       " 80.93457943925233,\n",
       " 80.93457943925233,\n",
       " 80.93457943925233,\n",
       " 80.93457943925233,\n",
       " 80.93457943925233,\n",
       " 80.93457943925233,\n",
       " 80.93457943925233,\n",
       " 80.93457943925233,\n",
       " 80.93457943925233,\n",
       " 80.93457943925233,\n",
       " 80.93457943925233,\n",
       " 80.93457943925233,\n",
       " 80.93457943925233,\n",
       " 80.93457943925233,\n",
       " 80.93457943925233,\n",
       " 80.93457943925233,\n",
       " 80.93457943925233,\n",
       " 80.93457943925233,\n",
       " 80.93457943925233,\n",
       " 80.93457943925233,\n",
       " 80.93457943925233,\n",
       " 80.93457943925233,\n",
       " 80.93457943925233,\n",
       " 80.93457943925233,\n",
       " 80.93457943925233,\n",
       " 80.93457943925233,\n",
       " 80.93457943925233,\n",
       " 80.93457943925233,\n",
       " 80.93457943925233,\n",
       " 80.93457943925233,\n",
       " 80.93457943925233,\n",
       " 80.93457943925233,\n",
       " 80.93457943925233,\n",
       " 80.93457943925233,\n",
       " 80.93457943925233,\n",
       " 80.93457943925233,\n",
       " 80.93457943925233,\n",
       " 80.93457943925233,\n",
       " 80.93457943925233,\n",
       " 80.93457943925233,\n",
       " 80.93457943925233,\n",
       " 80.93457943925233,\n",
       " 80.93457943925233,\n",
       " 80.93457943925233,\n",
       " 80.93457943925233,\n",
       " 80.93457943925233,\n",
       " 80.93457943925233,\n",
       " 80.93457943925233,\n",
       " 80.93457943925233,\n",
       " 80.93457943925233,\n",
       " 80.93457943925233,\n",
       " 80.93457943925233,\n",
       " 80.93457943925233,\n",
       " 80.93457943925233,\n",
       " 80.93457943925233,\n",
       " 80.93457943925233,\n",
       " 80.93457943925233,\n",
       " 80.93457943925233,\n",
       " 80.93457943925233,\n",
       " 80.93457943925233,\n",
       " 80.93457943925233,\n",
       " 80.93457943925233,\n",
       " 80.93457943925233,\n",
       " 80.93457943925233,\n",
       " 80.93457943925233,\n",
       " 80.93457943925233,\n",
       " 80.93457943925233,\n",
       " 80.93457943925233,\n",
       " 80.93457943925233,\n",
       " 80.93457943925233,\n",
       " 80.93457943925233,\n",
       " 80.93457943925233,\n",
       " 80.93457943925233,\n",
       " 80.93457943925233,\n",
       " 80.93457943925233,\n",
       " 80.93457943925233,\n",
       " 80.93457943925233,\n",
       " 80.93457943925233,\n",
       " 80.93457943925233,\n",
       " 80.93457943925233,\n",
       " 80.93457943925233,\n",
       " 80.93457943925233,\n",
       " 80.93457943925233,\n",
       " 80.93457943925233,\n",
       " 80.93457943925233,\n",
       " 80.93457943925233,\n",
       " 80.93457943925233,\n",
       " 80.93457943925233,\n",
       " 80.93457943925233,\n",
       " 80.93457943925233,\n",
       " 80.93457943925233,\n",
       " 80.93457943925233,\n",
       " 80.93457943925233,\n",
       " 80.93457943925233,\n",
       " 80.93457943925233,\n",
       " 80.93457943925233,\n",
       " 80.93457943925233,\n",
       " 80.93457943925233,\n",
       " 80.93457943925233,\n",
       " 80.93457943925233,\n",
       " 80.93457943925233,\n",
       " 80.93457943925233,\n",
       " 80.93457943925233,\n",
       " 80.93457943925233,\n",
       " 80.93457943925233,\n",
       " 80.93457943925233,\n",
       " 80.93457943925233,\n",
       " 80.93457943925233,\n",
       " 80.93457943925233,\n",
       " 80.93457943925233,\n",
       " 80.93457943925233,\n",
       " 80.93457943925233,\n",
       " 81.1214953271028,\n",
       " 81.1214953271028,\n",
       " 81.1214953271028,\n",
       " 81.1214953271028,\n",
       " 81.1214953271028,\n",
       " 81.1214953271028,\n",
       " 81.1214953271028,\n",
       " 81.1214953271028,\n",
       " 81.1214953271028,\n",
       " 81.1214953271028,\n",
       " 81.1214953271028,\n",
       " 81.1214953271028,\n",
       " 81.1214953271028,\n",
       " 81.1214953271028,\n",
       " 81.1214953271028,\n",
       " 81.1214953271028,\n",
       " 81.1214953271028,\n",
       " 81.1214953271028,\n",
       " 81.1214953271028,\n",
       " 81.1214953271028,\n",
       " 81.1214953271028,\n",
       " 81.1214953271028,\n",
       " 81.1214953271028,\n",
       " 81.1214953271028,\n",
       " 81.1214953271028,\n",
       " 81.1214953271028,\n",
       " 81.1214953271028,\n",
       " 81.1214953271028,\n",
       " 81.1214953271028,\n",
       " 81.1214953271028,\n",
       " 81.1214953271028,\n",
       " 81.1214953271028,\n",
       " 81.1214953271028,\n",
       " 81.1214953271028,\n",
       " 81.1214953271028,\n",
       " 81.1214953271028,\n",
       " 81.1214953271028,\n",
       " 81.1214953271028,\n",
       " 81.1214953271028,\n",
       " 81.1214953271028,\n",
       " 81.1214953271028,\n",
       " 81.1214953271028,\n",
       " 81.1214953271028,\n",
       " 81.1214953271028,\n",
       " 81.1214953271028,\n",
       " 81.1214953271028,\n",
       " 81.1214953271028,\n",
       " 81.1214953271028,\n",
       " 81.1214953271028,\n",
       " 81.1214953271028,\n",
       " 81.1214953271028,\n",
       " 81.1214953271028,\n",
       " 81.1214953271028,\n",
       " 81.1214953271028,\n",
       " 81.1214953271028,\n",
       " 81.1214953271028,\n",
       " 81.1214953271028,\n",
       " 81.1214953271028,\n",
       " 81.1214953271028,\n",
       " 81.1214953271028,\n",
       " 81.1214953271028,\n",
       " 81.1214953271028,\n",
       " 81.1214953271028,\n",
       " 81.1214953271028,\n",
       " 81.1214953271028,\n",
       " 81.1214953271028,\n",
       " 81.1214953271028,\n",
       " 81.1214953271028,\n",
       " 81.1214953271028,\n",
       " 81.1214953271028,\n",
       " 81.1214953271028,\n",
       " 81.1214953271028,\n",
       " 81.1214953271028,\n",
       " 81.1214953271028,\n",
       " 81.1214953271028,\n",
       " 81.1214953271028,\n",
       " 81.1214953271028,\n",
       " 81.1214953271028,\n",
       " 81.1214953271028,\n",
       " 81.1214953271028,\n",
       " 81.1214953271028,\n",
       " 81.1214953271028,\n",
       " 81.1214953271028,\n",
       " 81.1214953271028,\n",
       " 81.1214953271028,\n",
       " 81.1214953271028,\n",
       " 81.1214953271028,\n",
       " 81.1214953271028,\n",
       " 81.1214953271028,\n",
       " 81.1214953271028,\n",
       " 81.1214953271028,\n",
       " 81.1214953271028,\n",
       " 81.1214953271028,\n",
       " 81.1214953271028,\n",
       " 81.1214953271028,\n",
       " 81.1214953271028,\n",
       " 81.1214953271028,\n",
       " 81.1214953271028,\n",
       " 81.1214953271028,\n",
       " 81.1214953271028,\n",
       " 81.1214953271028,\n",
       " 81.1214953271028,\n",
       " 81.1214953271028,\n",
       " 81.1214953271028,\n",
       " 81.1214953271028,\n",
       " 81.1214953271028,\n",
       " 81.1214953271028,\n",
       " 81.1214953271028,\n",
       " 81.1214953271028,\n",
       " 81.1214953271028,\n",
       " 81.1214953271028,\n",
       " 81.1214953271028,\n",
       " 81.1214953271028,\n",
       " 81.1214953271028,\n",
       " 81.1214953271028,\n",
       " 81.1214953271028,\n",
       " 81.1214953271028,\n",
       " 81.1214953271028,\n",
       " 81.1214953271028,\n",
       " 81.1214953271028,\n",
       " 81.1214953271028,\n",
       " 81.1214953271028,\n",
       " 81.1214953271028,\n",
       " 81.1214953271028,\n",
       " 81.1214953271028,\n",
       " 81.1214953271028,\n",
       " 81.1214953271028,\n",
       " 81.1214953271028,\n",
       " 81.1214953271028,\n",
       " 81.1214953271028,\n",
       " 81.1214953271028,\n",
       " 81.1214953271028,\n",
       " 81.1214953271028,\n",
       " 81.1214953271028,\n",
       " 81.1214953271028,\n",
       " 81.1214953271028,\n",
       " 81.1214953271028,\n",
       " 81.1214953271028,\n",
       " 81.1214953271028,\n",
       " 81.1214953271028,\n",
       " 81.1214953271028,\n",
       " 81.1214953271028,\n",
       " 81.1214953271028,\n",
       " 81.1214953271028,\n",
       " 81.1214953271028,\n",
       " 81.1214953271028,\n",
       " 81.1214953271028,\n",
       " 81.1214953271028,\n",
       " 81.1214953271028,\n",
       " 81.1214953271028,\n",
       " 81.1214953271028,\n",
       " 81.1214953271028,\n",
       " 81.1214953271028,\n",
       " 81.1214953271028,\n",
       " 81.1214953271028,\n",
       " 81.1214953271028,\n",
       " 81.1214953271028,\n",
       " 81.1214953271028,\n",
       " 81.1214953271028,\n",
       " 81.1214953271028,\n",
       " 81.1214953271028,\n",
       " 81.1214953271028,\n",
       " 81.1214953271028,\n",
       " 81.1214953271028,\n",
       " 81.1214953271028,\n",
       " 81.1214953271028,\n",
       " 81.1214953271028,\n",
       " 81.1214953271028,\n",
       " 81.1214953271028,\n",
       " 81.1214953271028,\n",
       " 81.1214953271028,\n",
       " 81.1214953271028,\n",
       " 81.1214953271028,\n",
       " 81.1214953271028,\n",
       " 81.1214953271028,\n",
       " 81.1214953271028,\n",
       " 81.1214953271028,\n",
       " 81.1214953271028,\n",
       " 81.30841121495327,\n",
       " 81.30841121495327,\n",
       " 81.30841121495327,\n",
       " 81.30841121495327,\n",
       " 81.30841121495327,\n",
       " 81.30841121495327,\n",
       " 81.30841121495327,\n",
       " 81.30841121495327,\n",
       " 81.30841121495327,\n",
       " 81.30841121495327,\n",
       " 81.30841121495327,\n",
       " 81.30841121495327,\n",
       " 81.30841121495327,\n",
       " 81.30841121495327,\n",
       " 81.30841121495327,\n",
       " 81.30841121495327,\n",
       " 81.30841121495327,\n",
       " 81.30841121495327,\n",
       " 81.30841121495327,\n",
       " 81.30841121495327,\n",
       " 81.30841121495327,\n",
       " 81.30841121495327,\n",
       " 81.30841121495327,\n",
       " 81.30841121495327,\n",
       " 81.30841121495327,\n",
       " 81.30841121495327,\n",
       " 81.30841121495327,\n",
       " 81.30841121495327,\n",
       " 81.30841121495327,\n",
       " 81.30841121495327,\n",
       " 81.30841121495327,\n",
       " 81.30841121495327,\n",
       " 81.30841121495327,\n",
       " 81.30841121495327,\n",
       " 81.30841121495327,\n",
       " 81.30841121495327,\n",
       " 81.30841121495327,\n",
       " 81.30841121495327,\n",
       " 81.30841121495327,\n",
       " 81.30841121495327,\n",
       " 81.30841121495327,\n",
       " 81.30841121495327,\n",
       " 81.30841121495327,\n",
       " 81.30841121495327,\n",
       " 81.30841121495327,\n",
       " 81.30841121495327,\n",
       " ...]"
      ]
     },
     "execution_count": 502,
     "metadata": {},
     "output_type": "execute_result"
    }
   ],
   "source": [
    "boot.sort()\n",
    "boot"
   ]
  },
  {
   "cell_type": "code",
   "execution_count": 476,
   "metadata": {},
   "outputs": [
    {
     "data": {
      "text/plain": [
       "0.15514018691588785"
      ]
     },
     "execution_count": 476,
     "metadata": {},
     "output_type": "execute_result"
    },
    {
     "data": {
      "image/png": "[encoded data removed]",
      "text/plain": [
       "<Figure size 432x288 with 1 Axes>"
      ]
     },
     "metadata": {
      "needs_background": "light"
     },
     "output_type": "display_data"
    }
   ],
   "source": [
    "noise = proj.total_points_with_noise(grades)\n",
    "total = proj.total_points(grades)\n",
    "diff = np.array(noise - total)\n",
    "(noise - total).hist()\n",
    "len(diff[(diff >= 0.01) | (diff <= -0.01)]) / len(diff)"
   ]
  },
  {
   "cell_type": "code",
   "execution_count": 437,
   "metadata": {},
   "outputs": [],
   "source": [
    "# bootstrap(total, 1000)"
   ]
  },
  {
   "cell_type": "code",
   "execution_count": 498,
   "metadata": {},
   "outputs": [
    {
     "data": {
      "text/plain": [
       "0.0691588785046729"
      ]
     },
     "execution_count": 498,
     "metadata": {},
     "output_type": "execute_result"
    }
   ],
   "source": [
    "# Q3\n",
    "noise = proj.total_points_with_noise(grades)\n",
    "letter_rand = noise.apply(score_to_grades)\n",
    "letter = total.apply(score_to_grades)\n",
    "np.count_nonzero(letter != letter_rand) / len(letter)"
   ]
  },
  {
   "cell_type": "code",
   "execution_count": 198,
   "metadata": {},
   "outputs": [
    {
     "data": {
      "text/plain": [
       "True"
      ]
     },
     "execution_count": 198,
     "metadata": {},
     "output_type": "execute_result"
    }
   ],
   "source": [
    "# Q4 # Ask!!!!!!!!!!!!!!!!!!!!!!!!!!!!!!!!!\n",
    "True"
   ]
  },
  {
   "cell_type": "code",
   "execution_count": null,
   "metadata": {},
   "outputs": [],
   "source": []
  },
  {
   "cell_type": "markdown",
   "metadata": {},
   "source": [
    "# Congratulations, you finished the project!\n",
    "\n",
    "### Before you submit:\n",
    "* Be sure you run the doctests on all your code in project01.py\n",
    "\n",
    "### To submit:\n",
    "* **Upload the .py file to gradescope**"
   ]
  },
  {
   "cell_type": "code",
   "execution_count": null,
   "metadata": {},
   "outputs": [],
   "source": []
  }
 ],
 "metadata": {
  "kernelspec": {
   "display_name": "Python 3",
   "language": "python",
   "name": "python3"
  },
  "language_info": {
   "codemirror_mode": {
    "name": "ipython",
    "version": 3
   },
   "file_extension": ".py",
   "mimetype": "text/x-python",
   "name": "python",
   "nbconvert_exporter": "python",
   "pygments_lexer": "ipython3",
   "version": "3.7.1"
  }
 },
 "nbformat": 4,
 "nbformat_minor": 2
}
