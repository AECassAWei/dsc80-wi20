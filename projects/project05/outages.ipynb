{
 "cells": [
  {
   "cell_type": "markdown",
   "metadata": {},
   "source": [
    "# Power Outages\n",
    "* **See the main project notebook for instructions to be sure you satisfy the rubric!**\n",
    "* See Project 03 for information on the dataset.\n",
    "* A few example prediction questions to pursue are listed below. However, don't limit yourself to them!\n",
    "    * Predict the severity (number of customers, duration, or demand loss) of a major power outage.\n",
    "    * Predict the cause of a major power outage.\n",
    "    * Predict the number and/or severity of major power outages in the year 2020.\n",
    "    * Predict the electricity consumption of an area.\n",
    "\n",
    "Be careful to justify what information you would know at the \"time of prediction\" and train your model using only those features."
   ]
  },
  {
   "cell_type": "markdown",
   "metadata": {},
   "source": [
    "# Summary of Findings\n",
    "\n",
    "\n",
    "### Introduction\n",
    "<p>Power outage dataset includes data of power outage information in the continental U.S. from January 2000 to July 2016. A major power outage, for the purpose of this project, is defined as a power outage that impacted at least 50,000 customers or caused an unplanned firm load loss of atleast 300MW.</p>\n",
    "<p>This data provides valuable information that can be used to conduct future research in various paradigms, such as—state-level power outage risk maps for the continental U.S., predicting demand load loss, analyzing vulnerability of the U.S. states to frequent major power outages, and studying historical trends of major power outages. Other than basic information of state, climate, time, this dataset also includes electricity consumption patterns, economic characteristics, and land-use characteristics, each with many sub-sections to signify it's characteristics.</p>\n",
    "The problem I am trying to solve is \"predicting the cause cateogory of a major power outage\", and this would be a <b>classification</b> problem since \"cause category\" is categorical/nominal data. I would choose \"accuracy\" as my objective.\n",
    "\n",
    "\n",
    "### Baseline Model\n",
    "There are a total of 48 generic features I used to create my baseline model, of which 43 are continous varaibles, and 5 are nominal varaibles.\n",
    "<br>\n",
    "- The continuous variables include: ['YEAR', 'MONTH', 'ANOMALY.LEVEL', 'RES.PRICE', 'COM.PRICE', 'IND.PRICE', 'TOTAL.PRICE', 'RES.SALES', 'COM.SALES', 'IND.SALES', 'TOTAL.SALES','RES.PERCEN', 'COM.PERCEN', 'IND.PERCEN', 'RES.CUSTOMERS', 'COM.CUSTOMERS', 'IND.CUSTOMERS', 'TOTAL.CUSTOMERS', 'RES.CUST.PCT', 'COM.CUST.PCT', 'IND.CUST.PCT', 'PC.REALGSP.STATE', 'PC.REALGSP.USA', 'PC.REALGSP.REL', 'PC.REALGSP.CHANGE', 'UTIL.REALGSP', 'TOTAL.REALGSP', 'UTIL.CONTRI', 'PI.UTIL.OFUSA', 'POPULATION', 'POPPCT_URBAN', 'POPPCT_UC', 'POPDEN_URBAN', 'POPDEN_UC', 'POPDEN_RURAL', 'AREAPCT_URBAN', 'AREAPCT_UC', 'PCT_LAND', 'PCT_WATER_TOT', 'PCT_WATER_INLAND', 'DEMAND.LOSS.MW', 'CUSTOMERS.AFFECTED', 'OUTAGE.DURATION']\n",
    "<br>\n",
    "- Whereas the nominal variables include: ['U.S._STATE', 'POSTAL.CODE', 'NERC.REGION', 'CLIMATE.REGION', 'CLIMATE.CATEGORY']\n",
    "\n",
    "<p> For the continuous variables, I impute the missing values with 0 to generate generic features. For the nominal variables, I used onehot encoding (handling_unknown='ignore') to generate my generic features.</p>\n",
    "\n",
    "#### Result & Intepretation\n",
    "Averaging over 100 trails of prediction and gennerating accuracy scores, I got a distribution of accuracy scores (below in the code) and find a score of __73.55__ using RandomForestClassifier() with default parameters. From my perspective, this score is relatively good, because a score 73.55 means that 73.55% of the prediction is correctly classified.\n",
    "\n",
    "\n",
    "### Final Model\n",
    "To generate a final models, new features are created using the generic columns. The are a total of 9 new features created. Specific detailed of what the new features are and why the new features are created are listed below:\n",
    "- 1) Log transformation of ['ANOMALY.LEVEL', 'DEMAND.LOSS.MW', 'CUSTOMERS.AFFECTED', 'OUTAGE.DURATION']\n",
    "    - Log transformation is used here to make highly skewed data less skewed so as to make the classification more \n",
    "- 2) Imputation of mean & distribution\n",
    "    - I examined the dependence of the missingness of 'DEMAND.LOSS.MW' (45.96% missing) and 'CUSTOMERS.AFFECTED' (28.87% missing) using permutation test and appropriate test statistics, and found that these two columns are MAR dependent on a lot of other columns, such as Year, Month, Anomaly levels, Outage Duration, Electricity consumption, Economic characteristic, and Land-use characteristic, and also on each other. Therefore, imputing the columns simply with 0 would disrupt the original distirbution of the data. Thus, I choose to impute thses two columns using distribution imputation.\n",
    "    - However, since other columns have really unbalanced missing/non-missing rate (all other columns that are missing values have a less than 4% missing rate), and examining columns with unblanced missing rate through imputations would not render easy-to-identify outcomes, I choose to impute those columns with means to differentiate from simply imputing with 0.\n",
    "- 3) PCA on categorical columns\n",
    "    - Other than just using onehot encoding to pre-process the categorical data, I also generate a new feature using PCA after using the onehot encoder. PCA serves as a means to decompose multiple features and synthesize them into the principal components, which serves as a comprehensive view on the categorical columns\n",
    "- 4) Onehot encoding on categorical columns dependent on cause category\n",
    "    - I also examine the dependence of cause category on different categorical columns using permutation test and test statistic of tvd, and found that cause category is dependent on 'U.S._STATE', 'POSTAL.CODE', 'NERC.REGION', 'CLIMATE.REGION'.\n",
    "    - Therefore, I choose use these columns as another main new feature to apply onehot encoding and PCA to generate a comprehensive feature of how the dependent categorical columns are.\n",
    "- 5) PCA on characteristic information\n",
    "    - Electricity consumption has 18 subsections, economic characteristic has 9 subsections, and land-use characteristic has 11 subsections. Since we need to further examine the relationship of land-use characteristics, electricity consumption patterns, and economic characteristics with cause category, it is better that we combine all the subsections within one characteristic into one wholistic and comprehensive value to represent each characteristic.\n",
    "    - Therefore, I also applied PCA on each characteristic information columns to generate three new characteristic information features.\n",
    "- 6) Polynomial features\n",
    "    - Other than dependece of cause category on categorical features, I also examine its dependence on continous columns, and found that cause category is dependent on 'YEAR', 'ANOMALY.LEVEL', 'DEMAND.LOSS.MW', 'CUSTOMERS.AFFECTED', 'OUTAGE.DURATION'. And since polynomial features (containing information such as x*y) are generate to capture the dependence within each columns, and these columns are also dependent on cause category, it would be useful to have such as polynomial feature representing the dependence.\n",
    "- 7) Standardization, 8) Normalization, 9) Power Transformation\n",
    "    - These three feature are applied on the continuous columns that cause category are dependent on (i.e. 'YEAR', 'ANOMALY.LEVEL', 'DEMAND.LOSS.MW', 'CUSTOMERS.AFFECTED', 'OUTAGE.DURATION'). These three transformation made the distribution of the continuous data more normalize and stadardized. \n",
    "\n",
    "<br>\n",
    "After simply using the default RandomForestClassifier() parameters to average over 100 trials of accuracy scores, I got an accuracy score of __76.32__, which improves the original baseline model's accuracy score by almost 2%. Right after the new featured models are created, I conduct a model search (models include DecisionTreeClassifier, RandomForestClassifier, KNeighborsClassifier, SGDClassifier, and GradientBoostingClassifier) by hand (I comment out most of the code, because it takes a long long time for some of them to actually finish running), and a parameter search using GridSearchCV. Results are shown in the __Result & Interpretation__ section below.\n",
    "<br>\n",
    "\n",
    "#### Result & Intepretation\n",
    "I found that GradientBoostingClassifier() has the best perforamcen (accuracy score) with an average accuracy score over 100 trials of __82.54__, with parameter of max_depth=10, min_samples_leaf=2, min_samples_split=3, which means that averaging over 100 trials 82.54% of the cause category in the testing sets are accurately prediceted, a 6% increase from the original performance.\n",
    "\n",
    "\n",
    "### Fairness Evaluation\n",
    "I wanted to see if there is a difference in prediction for cause cateogry before July and after July. So I separate the data sets into before July and after July groups. I then performed a permutation test to see if there is true positive difference between the prediction before July and the predictiona after July. I choose recall scores/sensitivity as my test statistics because correctly predicting the cause cateogry is more important in my case. If we correctly predict the cause category of the outage, then we would be able to more successfully determine and solution and tackle the problems.\n",
    "<br>\n",
    "- Null Hypothesis: The scores are not different in terms of True Positive Parity\n",
    "- Alternative Hypothesis: The scores are different in terms of True Positive Parity\n",
    "- Test statistics: sensitivity/recall score\n",
    "- Alpha level: 0.05\n",
    "<br>\n",
    "I found a p value of 0.27, which is larger than the pre-determined alpha level. Therefore, I do not have sufficient evidence to reject the null hypothesis, meaning that the model there is probably no bias for before July and after July groups prediction."
   ]
  },
  {
   "cell_type": "markdown",
   "metadata": {},
   "source": [
    "# Code"
   ]
  },
  {
   "cell_type": "code",
   "execution_count": 1136,
   "metadata": {},
   "outputs": [],
   "source": [
    "import matplotlib.pyplot as plt\n",
    "import numpy as np\n",
    "import os\n",
    "import pandas as pd\n",
    "import seaborn as sns\n",
    "import util\n",
    "\n",
    "import warnings\n",
    "warnings.filterwarnings(\"ignore\")\n",
    "\n",
    "%matplotlib inline\n",
    "%config InlineBackend.figure_format = 'retina'  # Higher resolution figures"
   ]
  },
  {
   "cell_type": "code",
   "execution_count": 1313,
   "metadata": {},
   "outputs": [],
   "source": [
    "from sklearn.base import BaseEstimator, TransformerMixin\n",
    "from sklearn.preprocessing import FunctionTransformer\n",
    "from sklearn.preprocessing import OrdinalEncoder\n",
    "from sklearn.preprocessing import OneHotEncoder\n",
    "from sklearn.preprocessing import StandardScaler\n",
    "from sklearn.preprocessing import Normalizer\n",
    "from sklearn.preprocessing import PowerTransformer\n",
    "\n",
    "from sklearn.pipeline import Pipeline\n",
    "from sklearn.compose import ColumnTransformer\n",
    "from sklearn.decomposition import PCA\n",
    "from sklearn.model_selection import train_test_split\n",
    "from sklearn.model_selection import cross_val_score\n",
    "from sklearn.preprocessing import PolynomialFeatures\n",
    "from sklearn.impute import SimpleImputer\n",
    "from sklearn.experimental import enable_iterative_imputer\n",
    "from sklearn.impute import IterativeImputer\n",
    "\n",
    "from sklearn.tree import DecisionTreeClassifier\n",
    "from sklearn.ensemble import RandomForestClassifier\n",
    "from sklearn.neighbors import KNeighborsClassifier\n",
    "from sklearn.linear_model import SGDClassifier\n",
    "from sklearn.ensemble import RandomForestClassifier\n",
    "from sklearn.ensemble import GradientBoostingClassifier\n",
    "from sklearn.metrics import accuracy_score\n",
    "from sklearn import metrics\n",
    "from sklearn.model_selection import GridSearchCV"
   ]
  },
  {
   "cell_type": "markdown",
   "metadata": {},
   "source": [
    "### Data Loading & Cleaning from project 03"
   ]
  },
  {
   "cell_type": "code",
   "execution_count": 652,
   "metadata": {},
   "outputs": [],
   "source": [
    "# Load data\n",
    "to_drop = ['variables', 'OBS', 'CAUSE.CATEGORY.DETAIL', 'HURRICANE.NAMES',\n",
    "           'OUTAGE.START.DATE', 'OUTAGE.START.TIME', 'OUTAGE.RESTORATION.DATE', 'OUTAGE.RESTORATION.TIME']\n",
    "fp = os.path.join('data', 'outage.xlsx')\n",
    "df = pd.read_excel(fp, header=0, skiprows=[0, 1, 2, 3, 4, 6]).drop(columns=to_drop) # Load df, skip unuseful rows\n",
    "\n",
    "\"\"\"\n",
    "# Combine date and time into datetime\n",
    "df['OUTAGE.START'] = (df['OUTAGE.START.DATE'] + \n",
    "                      pd.to_timedelta(df['OUTAGE.START.TIME']\n",
    "                      .astype(str))) # Combine START into date\n",
    "df['OUTAGE.RESTORATION'] = (df['OUTAGE.RESTORATION.DATE'] +\n",
    "                            pd.to_timedelta(df['OUTAGE.RESTORATION.TIME']\n",
    "                            .astype(str))) # Combine RESTORATION into date\n",
    "df = df.drop(columns=['OUTAGE.START.DATE', 'OUTAGE.START.TIME',\n",
    "                      'OUTAGE.RESTORATION.DATE', 'OUTAGE.RESTORATION.TIME']) # Drop columns\n",
    "\"\"\"\n",
    "# Maybe need to check the missingness before analysis\n",
    "major_outage = (outage[(outage['DEMAND.LOSS.MW'] > 300) & # Firm load loss > 300MW\n",
    "                       (outage['CUSTOMERS.AFFECTED'] > 50000)] # Customers > 50000\n",
    "                       .reset_index(drop=True)) # Reset index"
   ]
  },
  {
   "cell_type": "code",
   "execution_count": 653,
   "metadata": {},
   "outputs": [
    {
     "data": {
      "text/html": [
       "<div>\n",
       "<style scoped>\n",
       "    .dataframe tbody tr th:only-of-type {\n",
       "        vertical-align: middle;\n",
       "    }\n",
       "\n",
       "    .dataframe tbody tr th {\n",
       "        vertical-align: top;\n",
       "    }\n",
       "\n",
       "    .dataframe thead th {\n",
       "        text-align: right;\n",
       "    }\n",
       "</style>\n",
       "<table border=\"1\" class=\"dataframe\">\n",
       "  <thead>\n",
       "    <tr style=\"text-align: right;\">\n",
       "      <th></th>\n",
       "      <th>YEAR</th>\n",
       "      <th>MONTH</th>\n",
       "      <th>U.S._STATE</th>\n",
       "      <th>POSTAL.CODE</th>\n",
       "      <th>NERC.REGION</th>\n",
       "      <th>CLIMATE.REGION</th>\n",
       "      <th>ANOMALY.LEVEL</th>\n",
       "      <th>CLIMATE.CATEGORY</th>\n",
       "      <th>CAUSE.CATEGORY</th>\n",
       "      <th>OUTAGE.DURATION</th>\n",
       "      <th>...</th>\n",
       "      <th>POPPCT_URBAN</th>\n",
       "      <th>POPPCT_UC</th>\n",
       "      <th>POPDEN_URBAN</th>\n",
       "      <th>POPDEN_UC</th>\n",
       "      <th>POPDEN_RURAL</th>\n",
       "      <th>AREAPCT_URBAN</th>\n",
       "      <th>AREAPCT_UC</th>\n",
       "      <th>PCT_LAND</th>\n",
       "      <th>PCT_WATER_TOT</th>\n",
       "      <th>PCT_WATER_INLAND</th>\n",
       "    </tr>\n",
       "  </thead>\n",
       "  <tbody>\n",
       "    <tr>\n",
       "      <th>0</th>\n",
       "      <td>2011</td>\n",
       "      <td>7.0</td>\n",
       "      <td>Minnesota</td>\n",
       "      <td>MN</td>\n",
       "      <td>MRO</td>\n",
       "      <td>East North Central</td>\n",
       "      <td>-0.3</td>\n",
       "      <td>normal</td>\n",
       "      <td>severe weather</td>\n",
       "      <td>3060.0</td>\n",
       "      <td>...</td>\n",
       "      <td>73.27</td>\n",
       "      <td>15.28</td>\n",
       "      <td>2279.0</td>\n",
       "      <td>1700.5</td>\n",
       "      <td>18.2</td>\n",
       "      <td>2.14</td>\n",
       "      <td>0.6</td>\n",
       "      <td>91.592666</td>\n",
       "      <td>8.407334</td>\n",
       "      <td>5.478743</td>\n",
       "    </tr>\n",
       "    <tr>\n",
       "      <th>1</th>\n",
       "      <td>2014</td>\n",
       "      <td>5.0</td>\n",
       "      <td>Minnesota</td>\n",
       "      <td>MN</td>\n",
       "      <td>MRO</td>\n",
       "      <td>East North Central</td>\n",
       "      <td>-0.1</td>\n",
       "      <td>normal</td>\n",
       "      <td>intentional attack</td>\n",
       "      <td>1.0</td>\n",
       "      <td>...</td>\n",
       "      <td>73.27</td>\n",
       "      <td>15.28</td>\n",
       "      <td>2279.0</td>\n",
       "      <td>1700.5</td>\n",
       "      <td>18.2</td>\n",
       "      <td>2.14</td>\n",
       "      <td>0.6</td>\n",
       "      <td>91.592666</td>\n",
       "      <td>8.407334</td>\n",
       "      <td>5.478743</td>\n",
       "    </tr>\n",
       "    <tr>\n",
       "      <th>2</th>\n",
       "      <td>2010</td>\n",
       "      <td>10.0</td>\n",
       "      <td>Minnesota</td>\n",
       "      <td>MN</td>\n",
       "      <td>MRO</td>\n",
       "      <td>East North Central</td>\n",
       "      <td>-1.5</td>\n",
       "      <td>cold</td>\n",
       "      <td>severe weather</td>\n",
       "      <td>3000.0</td>\n",
       "      <td>...</td>\n",
       "      <td>73.27</td>\n",
       "      <td>15.28</td>\n",
       "      <td>2279.0</td>\n",
       "      <td>1700.5</td>\n",
       "      <td>18.2</td>\n",
       "      <td>2.14</td>\n",
       "      <td>0.6</td>\n",
       "      <td>91.592666</td>\n",
       "      <td>8.407334</td>\n",
       "      <td>5.478743</td>\n",
       "    </tr>\n",
       "    <tr>\n",
       "      <th>3</th>\n",
       "      <td>2012</td>\n",
       "      <td>6.0</td>\n",
       "      <td>Minnesota</td>\n",
       "      <td>MN</td>\n",
       "      <td>MRO</td>\n",
       "      <td>East North Central</td>\n",
       "      <td>-0.1</td>\n",
       "      <td>normal</td>\n",
       "      <td>severe weather</td>\n",
       "      <td>2550.0</td>\n",
       "      <td>...</td>\n",
       "      <td>73.27</td>\n",
       "      <td>15.28</td>\n",
       "      <td>2279.0</td>\n",
       "      <td>1700.5</td>\n",
       "      <td>18.2</td>\n",
       "      <td>2.14</td>\n",
       "      <td>0.6</td>\n",
       "      <td>91.592666</td>\n",
       "      <td>8.407334</td>\n",
       "      <td>5.478743</td>\n",
       "    </tr>\n",
       "    <tr>\n",
       "      <th>4</th>\n",
       "      <td>2015</td>\n",
       "      <td>7.0</td>\n",
       "      <td>Minnesota</td>\n",
       "      <td>MN</td>\n",
       "      <td>MRO</td>\n",
       "      <td>East North Central</td>\n",
       "      <td>1.2</td>\n",
       "      <td>warm</td>\n",
       "      <td>severe weather</td>\n",
       "      <td>1740.0</td>\n",
       "      <td>...</td>\n",
       "      <td>73.27</td>\n",
       "      <td>15.28</td>\n",
       "      <td>2279.0</td>\n",
       "      <td>1700.5</td>\n",
       "      <td>18.2</td>\n",
       "      <td>2.14</td>\n",
       "      <td>0.6</td>\n",
       "      <td>91.592666</td>\n",
       "      <td>8.407334</td>\n",
       "      <td>5.478743</td>\n",
       "    </tr>\n",
       "  </tbody>\n",
       "</table>\n",
       "<p>5 rows × 49 columns</p>\n",
       "</div>"
      ],
      "text/plain": [
       "   YEAR  MONTH U.S._STATE POSTAL.CODE NERC.REGION      CLIMATE.REGION  \\\n",
       "0  2011    7.0  Minnesota          MN         MRO  East North Central   \n",
       "1  2014    5.0  Minnesota          MN         MRO  East North Central   \n",
       "2  2010   10.0  Minnesota          MN         MRO  East North Central   \n",
       "3  2012    6.0  Minnesota          MN         MRO  East North Central   \n",
       "4  2015    7.0  Minnesota          MN         MRO  East North Central   \n",
       "\n",
       "   ANOMALY.LEVEL CLIMATE.CATEGORY      CAUSE.CATEGORY  OUTAGE.DURATION  ...  \\\n",
       "0           -0.3           normal      severe weather           3060.0  ...   \n",
       "1           -0.1           normal  intentional attack              1.0  ...   \n",
       "2           -1.5             cold      severe weather           3000.0  ...   \n",
       "3           -0.1           normal      severe weather           2550.0  ...   \n",
       "4            1.2             warm      severe weather           1740.0  ...   \n",
       "\n",
       "   POPPCT_URBAN  POPPCT_UC  POPDEN_URBAN  POPDEN_UC  POPDEN_RURAL  \\\n",
       "0         73.27      15.28        2279.0     1700.5          18.2   \n",
       "1         73.27      15.28        2279.0     1700.5          18.2   \n",
       "2         73.27      15.28        2279.0     1700.5          18.2   \n",
       "3         73.27      15.28        2279.0     1700.5          18.2   \n",
       "4         73.27      15.28        2279.0     1700.5          18.2   \n",
       "\n",
       "   AREAPCT_URBAN  AREAPCT_UC   PCT_LAND  PCT_WATER_TOT  PCT_WATER_INLAND  \n",
       "0           2.14         0.6  91.592666       8.407334          5.478743  \n",
       "1           2.14         0.6  91.592666       8.407334          5.478743  \n",
       "2           2.14         0.6  91.592666       8.407334          5.478743  \n",
       "3           2.14         0.6  91.592666       8.407334          5.478743  \n",
       "4           2.14         0.6  91.592666       8.407334          5.478743  \n",
       "\n",
       "[5 rows x 49 columns]"
      ]
     },
     "execution_count": 653,
     "metadata": {},
     "output_type": "execute_result"
    }
   ],
   "source": [
    "df.head()"
   ]
  },
  {
   "cell_type": "code",
   "execution_count": null,
   "metadata": {},
   "outputs": [],
   "source": []
  },
  {
   "cell_type": "markdown",
   "metadata": {},
   "source": [
    "### Baseline Model"
   ]
  },
  {
   "cell_type": "code",
   "execution_count": 651,
   "metadata": {},
   "outputs": [],
   "source": [
    "# Continuous column\n",
    "con_col = ['YEAR', 'MONTH', 'ANOMALY.LEVEL', 'RES.PRICE', 'COM.PRICE', 'IND.PRICE', \n",
    "           'TOTAL.PRICE', 'RES.SALES', 'COM.SALES', 'IND.SALES', 'TOTAL.SALES',\n",
    "           'RES.PERCEN', 'COM.PERCEN', 'IND.PERCEN', 'RES.CUSTOMERS', 'COM.CUSTOMERS',\n",
    "           'IND.CUSTOMERS', 'TOTAL.CUSTOMERS', 'RES.CUST.PCT', 'COM.CUST.PCT',\n",
    "           'IND.CUST.PCT', 'PC.REALGSP.STATE', 'PC.REALGSP.USA', 'PC.REALGSP.REL',\n",
    "           'PC.REALGSP.CHANGE', 'UTIL.REALGSP', 'TOTAL.REALGSP', 'UTIL.CONTRI',\n",
    "           'PI.UTIL.OFUSA', 'POPULATION', 'POPPCT_URBAN', 'POPPCT_UC',\n",
    "           'POPDEN_URBAN', 'POPDEN_UC', 'POPDEN_RURAL', 'AREAPCT_URBAN',\n",
    "           'AREAPCT_UC', 'PCT_LAND', 'PCT_WATER_TOT', 'PCT_WATER_INLAND',\n",
    "           'DEMAND.LOSS.MW', 'CUSTOMERS.AFFECTED', 'OUTAGE.DURATION']\n",
    "\n",
    "# Categorical column\n",
    "cat_col = ['U.S._STATE', 'POSTAL.CODE', 'NERC.REGION', 'CLIMATE.REGION', 'CLIMATE.CATEGORY']\n",
    "\n",
    "# All columns\n",
    "all_col = con_col + cat_col\n",
    "outage = major_outage.copy()"
   ]
  },
  {
   "cell_type": "code",
   "execution_count": 796,
   "metadata": {},
   "outputs": [],
   "source": [
    "# Imputation\n",
    "simimp = SimpleImputer(missing_values=np.nan, strategy='mean')\n",
    "\n",
    "# Onehot transformation\n",
    "ohe_trans = Pipeline(steps=[\n",
    "    ('imp', SimpleImputer(strategy='constant', fill_value='missing')),\n",
    "    ('onehot', OneHotEncoder(handle_unknown='ignore', sparse=False))\n",
    "])"
   ]
  },
  {
   "cell_type": "code",
   "execution_count": 862,
   "metadata": {},
   "outputs": [
    {
     "name": "stdout",
     "output_type": "stream",
     "text": [
      "Wall time: 22.8 s\n"
     ]
    }
   ],
   "source": [
    "%%time\n",
    "an = []\n",
    "for i in range(100):\n",
    "    # Train/Test set\n",
    "    X = outage.drop(['CAUSE.CATEGORY',], axis=1)\n",
    "    y = outage['CAUSE.CATEGORY']\n",
    "    X_train, X_test, y_train, y_test = train_test_split(X, y, test_size=0.1)\n",
    "\n",
    "    # preprocessing pipeline (put them together)\n",
    "    preproc = (ColumnTransformer(transformers=[\n",
    "        ('imp_0', SimpleImputer(strategy='constant', fill_value=0), con_col),\n",
    "        ('onehot', ohe_trans, cat_col),],\n",
    "                                 remainder='passthrough'))\n",
    "\n",
    "    pl = Pipeline(steps=[('preprocessor', preproc), ('regressor', RandomForestClassifier())])\n",
    "    # pl = Pipeline(steps=[('regressor', LinearRegression())])\n",
    "\n",
    "    # predic_4 = new_pl.predict(data.loc[:, ~data.columns.isin(['y'])])\n",
    "    # scores_train = cross_val_score(pl, X_train, y_train, cv=5)\n",
    "    # scores_train  # R^2\n",
    "\n",
    "    pl.fit(X_train, y_train)\n",
    "    y_pred = pl.predict(X_test)\n",
    "    an.append(round(accuracy_score(y_pred, y_test) * 100, 2))"
   ]
  },
  {
   "cell_type": "code",
   "execution_count": 863,
   "metadata": {},
   "outputs": [
    {
     "data": {
      "image/png": "[encoded data removed]",
      "text/plain": [
       "<Figure size 432x288 with 1 Axes>"
      ]
     },
     "metadata": {
      "image/png": {
       "height": 263,
       "width": 382
      },
      "needs_background": "light"
     },
     "output_type": "display_data"
    }
   ],
   "source": [
    "pd.Series(an).plot(kind='hist', title='scores in 100 model builds');"
   ]
  },
  {
   "cell_type": "code",
   "execution_count": 864,
   "metadata": {},
   "outputs": [
    {
     "data": {
      "text/plain": [
       "73.5529"
      ]
     },
     "execution_count": 864,
     "metadata": {},
     "output_type": "execute_result"
    }
   ],
   "source": [
    "np.array(an).mean()"
   ]
  },
  {
   "cell_type": "code",
   "execution_count": null,
   "metadata": {},
   "outputs": [],
   "source": []
  },
  {
   "cell_type": "markdown",
   "metadata": {},
   "source": [
    "### Final Model"
   ]
  },
  {
   "cell_type": "code",
   "execution_count": 423,
   "metadata": {},
   "outputs": [
    {
     "data": {
      "text/plain": [
       "YEAR                  0.000000\n",
       "MONTH                 0.005867\n",
       "U.S._STATE            0.000000\n",
       "POSTAL.CODE           0.000000\n",
       "NERC.REGION           0.000000\n",
       "CLIMATE.REGION        0.003911\n",
       "ANOMALY.LEVEL         0.005867\n",
       "CLIMATE.CATEGORY      0.005867\n",
       "CAUSE.CATEGORY        0.000000\n",
       "OUTAGE.DURATION       0.037810\n",
       "DEMAND.LOSS.MW        0.459583\n",
       "CUSTOMERS.AFFECTED    0.288787\n",
       "RES.PRICE             0.014342\n",
       "COM.PRICE             0.014342\n",
       "IND.PRICE             0.014342\n",
       "TOTAL.PRICE           0.014342\n",
       "RES.SALES             0.014342\n",
       "COM.SALES             0.014342\n",
       "IND.SALES             0.014342\n",
       "TOTAL.SALES           0.014342\n",
       "RES.PERCEN            0.014342\n",
       "COM.PERCEN            0.014342\n",
       "IND.PERCEN            0.014342\n",
       "RES.CUSTOMERS         0.000000\n",
       "COM.CUSTOMERS         0.000000\n",
       "IND.CUSTOMERS         0.000000\n",
       "TOTAL.CUSTOMERS       0.000000\n",
       "RES.CUST.PCT          0.000000\n",
       "COM.CUST.PCT          0.000000\n",
       "IND.CUST.PCT          0.000000\n",
       "PC.REALGSP.STATE      0.000000\n",
       "PC.REALGSP.USA        0.000000\n",
       "PC.REALGSP.REL        0.000000\n",
       "PC.REALGSP.CHANGE     0.000000\n",
       "UTIL.REALGSP          0.000000\n",
       "TOTAL.REALGSP         0.000000\n",
       "UTIL.CONTRI           0.000000\n",
       "PI.UTIL.OFUSA         0.000000\n",
       "POPULATION            0.000000\n",
       "POPPCT_URBAN          0.000000\n",
       "POPPCT_UC             0.000000\n",
       "POPDEN_URBAN          0.000000\n",
       "POPDEN_UC             0.006519\n",
       "POPDEN_RURAL          0.006519\n",
       "AREAPCT_URBAN         0.000000\n",
       "AREAPCT_UC            0.000000\n",
       "PCT_LAND              0.000000\n",
       "PCT_WATER_TOT         0.000000\n",
       "PCT_WATER_INLAND      0.000000\n",
       "dtype: float64"
      ]
     },
     "execution_count": 423,
     "metadata": {},
     "output_type": "execute_result"
    }
   ],
   "source": [
    "df.isnull().mean()"
   ]
  },
  {
   "cell_type": "code",
   "execution_count": 824,
   "metadata": {},
   "outputs": [
    {
     "data": {
      "text/html": [
       "<div>\n",
       "<style scoped>\n",
       "    .dataframe tbody tr th:only-of-type {\n",
       "        vertical-align: middle;\n",
       "    }\n",
       "\n",
       "    .dataframe tbody tr th {\n",
       "        vertical-align: top;\n",
       "    }\n",
       "\n",
       "    .dataframe thead th {\n",
       "        text-align: right;\n",
       "    }\n",
       "</style>\n",
       "<table border=\"1\" class=\"dataframe\">\n",
       "  <thead>\n",
       "    <tr style=\"text-align: right;\">\n",
       "      <th></th>\n",
       "      <th>YEAR</th>\n",
       "      <th>MONTH</th>\n",
       "      <th>U.S._STATE</th>\n",
       "      <th>POSTAL.CODE</th>\n",
       "      <th>NERC.REGION</th>\n",
       "      <th>CLIMATE.REGION</th>\n",
       "      <th>ANOMALY.LEVEL</th>\n",
       "      <th>CLIMATE.CATEGORY</th>\n",
       "      <th>CAUSE.CATEGORY</th>\n",
       "      <th>OUTAGE.DURATION</th>\n",
       "      <th>DEMAND.LOSS.MW</th>\n",
       "      <th>CUSTOMERS.AFFECTED</th>\n",
       "      <th>ELEC_CHARA</th>\n",
       "      <th>ECON_CHARA</th>\n",
       "      <th>LAND_CHARA</th>\n",
       "    </tr>\n",
       "  </thead>\n",
       "  <tbody>\n",
       "    <tr>\n",
       "      <th>0</th>\n",
       "      <td>2011.0</td>\n",
       "      <td>7.0</td>\n",
       "      <td>Minnesota</td>\n",
       "      <td>MN</td>\n",
       "      <td>MRO</td>\n",
       "      <td>East North Central</td>\n",
       "      <td>-0.3</td>\n",
       "      <td>normal</td>\n",
       "      <td>severe weather</td>\n",
       "      <td>3060.0</td>\n",
       "      <td>385.378071</td>\n",
       "      <td>70000.0</td>\n",
       "      <td>-0.796251</td>\n",
       "      <td>-0.741393</td>\n",
       "      <td>-0.811961</td>\n",
       "    </tr>\n",
       "    <tr>\n",
       "      <th>1</th>\n",
       "      <td>2010.0</td>\n",
       "      <td>10.0</td>\n",
       "      <td>Minnesota</td>\n",
       "      <td>MN</td>\n",
       "      <td>MRO</td>\n",
       "      <td>East North Central</td>\n",
       "      <td>-1.5</td>\n",
       "      <td>cold</td>\n",
       "      <td>severe weather</td>\n",
       "      <td>3000.0</td>\n",
       "      <td>367.273843</td>\n",
       "      <td>70000.0</td>\n",
       "      <td>-0.916723</td>\n",
       "      <td>-0.751898</td>\n",
       "      <td>-0.815354</td>\n",
       "    </tr>\n",
       "    <tr>\n",
       "      <th>2</th>\n",
       "      <td>2012.0</td>\n",
       "      <td>6.0</td>\n",
       "      <td>Minnesota</td>\n",
       "      <td>MN</td>\n",
       "      <td>MRO</td>\n",
       "      <td>East North Central</td>\n",
       "      <td>-0.1</td>\n",
       "      <td>normal</td>\n",
       "      <td>severe weather</td>\n",
       "      <td>2550.0</td>\n",
       "      <td>370.730294</td>\n",
       "      <td>68200.0</td>\n",
       "      <td>-0.864862</td>\n",
       "      <td>-0.735626</td>\n",
       "      <td>-0.809015</td>\n",
       "    </tr>\n",
       "    <tr>\n",
       "      <th>3</th>\n",
       "      <td>2010.0</td>\n",
       "      <td>11.0</td>\n",
       "      <td>Minnesota</td>\n",
       "      <td>MN</td>\n",
       "      <td>MRO</td>\n",
       "      <td>East North Central</td>\n",
       "      <td>-1.4</td>\n",
       "      <td>cold</td>\n",
       "      <td>severe weather</td>\n",
       "      <td>1860.0</td>\n",
       "      <td>320.709410</td>\n",
       "      <td>60000.0</td>\n",
       "      <td>-0.902576</td>\n",
       "      <td>-0.751898</td>\n",
       "      <td>-0.815354</td>\n",
       "    </tr>\n",
       "    <tr>\n",
       "      <th>4</th>\n",
       "      <td>2010.0</td>\n",
       "      <td>7.0</td>\n",
       "      <td>Minnesota</td>\n",
       "      <td>MN</td>\n",
       "      <td>MRO</td>\n",
       "      <td>East North Central</td>\n",
       "      <td>-0.9</td>\n",
       "      <td>cold</td>\n",
       "      <td>severe weather</td>\n",
       "      <td>2970.0</td>\n",
       "      <td>349.012175</td>\n",
       "      <td>63000.0</td>\n",
       "      <td>-0.813456</td>\n",
       "      <td>-0.751898</td>\n",
       "      <td>-0.815354</td>\n",
       "    </tr>\n",
       "  </tbody>\n",
       "</table>\n",
       "</div>"
      ],
      "text/plain": [
       "     YEAR  MONTH U.S._STATE POSTAL.CODE NERC.REGION      CLIMATE.REGION  \\\n",
       "0  2011.0    7.0  Minnesota          MN         MRO  East North Central   \n",
       "1  2010.0   10.0  Minnesota          MN         MRO  East North Central   \n",
       "2  2012.0    6.0  Minnesota          MN         MRO  East North Central   \n",
       "3  2010.0   11.0  Minnesota          MN         MRO  East North Central   \n",
       "4  2010.0    7.0  Minnesota          MN         MRO  East North Central   \n",
       "\n",
       "   ANOMALY.LEVEL CLIMATE.CATEGORY  CAUSE.CATEGORY  OUTAGE.DURATION  \\\n",
       "0           -0.3           normal  severe weather           3060.0   \n",
       "1           -1.5             cold  severe weather           3000.0   \n",
       "2           -0.1           normal  severe weather           2550.0   \n",
       "3           -1.4             cold  severe weather           1860.0   \n",
       "4           -0.9             cold  severe weather           2970.0   \n",
       "\n",
       "   DEMAND.LOSS.MW  CUSTOMERS.AFFECTED  ELEC_CHARA  ECON_CHARA  LAND_CHARA  \n",
       "0      385.378071             70000.0   -0.796251   -0.741393   -0.811961  \n",
       "1      367.273843             70000.0   -0.916723   -0.751898   -0.815354  \n",
       "2      370.730294             68200.0   -0.864862   -0.735626   -0.809015  \n",
       "3      320.709410             60000.0   -0.902576   -0.751898   -0.815354  \n",
       "4      349.012175             63000.0   -0.813456   -0.751898   -0.815354  "
      ]
     },
     "execution_count": 824,
     "metadata": {},
     "output_type": "execute_result"
    }
   ],
   "source": [
    "# Characteristic column\n",
    "elec_chara = (['RES.PRICE', 'COM.PRICE', 'IND.PRICE', \n",
    "               'TOTAL.PRICE', 'RES.SALES', 'COM.SALES',\n",
    "               'IND.SALES', 'TOTAL.SALES', 'RES.PERCEN', \n",
    "               'COM.PERCEN', 'IND.PERCEN', 'RES.CUSTOMERS',\n",
    "               'COM.CUSTOMERS', 'IND.CUSTOMERS', 'TOTAL.CUSTOMERS',\n",
    "               'RES.CUST.PCT', 'COM.CUST.PCT', 'IND.CUST.PCT'])\n",
    "econ_chara = (['PC.REALGSP.STATE', 'PC.REALGSP.USA', 'PC.REALGSP.REL', \n",
    "               'PC.REALGSP.CHANGE', 'UTIL.REALGSP', 'TOTAL.REALGSP',\n",
    "               'UTIL.CONTRI', 'PI.UTIL.OFUSA'])\n",
    "land_chara = (['POPULATION', 'POPPCT_URBAN', 'POPPCT_UC',\n",
    "               'POPDEN_URBAN', 'POPDEN_UC', 'POPDEN_RURAL',\n",
    "               'AREAPCT_URBAN', 'AREAPCT_UC', 'PCT_LAND',\n",
    "               'PCT_WATER_TOT', 'PCT_WATER_INLAND'])\n",
    "\n",
    "# Function to compute PCA\n",
    "def pca_fit(df, names):\n",
    "    # pull out required data\n",
    "    dms = []\n",
    "    for name in names:\n",
    "        dms.append(df[name])\n",
    "\n",
    "    # initialize PCA object\n",
    "    pca = PCA(n_components=2, whiten=True)\n",
    "    # combine data\n",
    "    pca_data = np.array(dms).T\n",
    "    # fit the dimensionality reduction model\n",
    "    pca_fit = pca.fit_transform(pca_data)\n",
    "    \n",
    "    return pca_fit\n",
    "\n",
    "# Get the null index of elec, land for future refill\n",
    "elec_isnull = outage[elec_chara].isnull().any(axis=1)\n",
    "elec_todrop = outage[elec_isnull].index # Null index of \n",
    "\n",
    "land_isnull = outage[land_chara].isnull().any(axis=1)\n",
    "land_todrop = outage[land_isnull].index\n",
    "\n",
    "pca_elec = pca_fit(outage.fillna(0), elec_chara) # Combined PCA of elec\n",
    "pca_econ = pca_fit(outage, econ_chara) # Combined PCA of econ\n",
    "pca_land = pca_fit(outage.fillna(0), land_chara) # Combined PCA of land\n",
    "cleaned = (outage.assign(ELEC_CHARA=[elec[0] for elec in pca_elec], # Add PCA cols\n",
    "                        ECON_CHARA=[econ[0] for econ in pca_econ],\n",
    "                        LAND_CHARA=[land[0] for land in pca_land])\n",
    "                .drop(columns=elec_chara+econ_chara+land_chara)) # Drop chara cols\n",
    "cleaned.loc[elec_todrop, 'ELEC_CHARA'] = np.nan # Refill NaN for elec\n",
    "cleaned.loc[land_todrop, 'LAND_CHARA'] = np.nan # Refill NaN for land\n",
    "cleaned.head()"
   ]
  },
  {
   "cell_type": "markdown",
   "metadata": {},
   "source": [
    "#### Missingness & Imputation"
   ]
  },
  {
   "cell_type": "code",
   "execution_count": 424,
   "metadata": {},
   "outputs": [],
   "source": [
    "# Function to check the missingess\n",
    "def missingness_check(outage, column, title, N=1000):\n",
    "    \"\"\"check the missingness of columns on all other cols in outage\"\"\"\n",
    "    demand_miss = outage.assign(IS_NULL=outage[column].isnull())\n",
    "    cols = outage.columns.drop([column]) # Columns to check\n",
    "    \n",
    "    for i in range(len(cols)): # Check missingness\n",
    "        col = cols[i] # Get the columns\n",
    "\n",
    "        # Different cols have different functions\n",
    "        if demand_miss[col].dtype == int or demand_miss[col].dtype == float: # Number type\n",
    "            func = util.diff_in_means # Difference in means\n",
    "            stats, obs = (util.permutation_test(demand_miss, # Perform permutation test\n",
    "                                            col, 'IS_NULL', # Dep col, check col\n",
    "                                            func, N)) # Function, trials\n",
    "            p_val = np.min([np.count_nonzero(np.array(stats) <= obs) / N, \n",
    "                            np.count_nonzero(np.array(stats) >= obs) / N]) # P-value\n",
    "\n",
    "        elif demand_miss[col].dtype == object: # String Type\n",
    "            func = util.tvd # Total Variation Distance\n",
    "            stats, obs = (util.permutation_test(demand_miss, # Perform permutation test\n",
    "                                            col, 'IS_NULL', # Dep col, check col\n",
    "                                            func, N)) # Function, trials\n",
    "            p_val = np.count_nonzero(np.array(stats) >= obs) / N # P-value\n",
    "\n",
    "        else: # Datetime continuous category type\n",
    "            func = util.ks # KS statistic\n",
    "            stats, obs = (util.permutation_test(demand_miss, # Perform permutation test\n",
    "                                            col, 'IS_NULL', # Dep col, check col\n",
    "                                            func, N)) # Function, trials\n",
    "            p_val = np.count_nonzero(np.array(stats) >= obs) / N # P-value\n",
    "\n",
    "        if p_val < 0.05:\n",
    "            # util.plot_distribution(stats, obs, i, title, col, p_val) # Plot distribution\n",
    "            print(title + col + ', p_val is ' + str(p_val))\n",
    "    return"
   ]
  },
  {
   "cell_type": "markdown",
   "metadata": {},
   "source": [
    "##### 1) Missingness of Demand Loss"
   ]
  },
  {
   "cell_type": "code",
   "execution_count": 825,
   "metadata": {},
   "outputs": [
    {
     "name": "stdout",
     "output_type": "stream",
     "text": [
      "Demand Loss Dependence on YEAR, p_val is 0.0\n",
      "Demand Loss Dependence on MONTH, p_val is 0.0\n",
      "Demand Loss Dependence on ANOMALY.LEVEL, p_val is 0.0\n",
      "Demand Loss Dependence on OUTAGE.DURATION, p_val is 0.0\n",
      "Demand Loss Dependence on CUSTOMERS.AFFECTED, p_val is 0.0\n",
      "Demand Loss Dependence on ELEC_CHARA, p_val is 0.0\n",
      "Demand Loss Dependence on ECON_CHARA, p_val is 0.0\n",
      "Demand Loss Dependence on LAND_CHARA, p_val is 0.0\n"
     ]
    }
   ],
   "source": [
    "# Missingness of Demand Loss\n",
    "missingness_check(cleaned, 'DEMAND.LOSS.MW', 'Demand Loss Dependence on ')"
   ]
  },
  {
   "cell_type": "markdown",
   "metadata": {},
   "source": [
    "Demand Loss (MW) is MAR dependent on Year, Month, Anomaly levels, Outage duration, Customers affected, Electricity consumption, Economic characteristic, and Land-use characteristic."
   ]
  },
  {
   "cell_type": "markdown",
   "metadata": {},
   "source": [
    "##### 2) Missingness of Customers Affected"
   ]
  },
  {
   "cell_type": "code",
   "execution_count": 826,
   "metadata": {},
   "outputs": [
    {
     "name": "stdout",
     "output_type": "stream",
     "text": [
      "Affected Customers Dependence on YEAR, p_val is 0.0\n",
      "Affected Customers Dependence on MONTH, p_val is 0.0\n",
      "Affected Customers Dependence on ANOMALY.LEVEL, p_val is 0.0\n",
      "Affected Customers Dependence on OUTAGE.DURATION, p_val is 0.0\n",
      "Affected Customers Dependence on DEMAND.LOSS.MW, p_val is 0.0\n",
      "Affected Customers Dependence on ELEC_CHARA, p_val is 0.0\n",
      "Affected Customers Dependence on ECON_CHARA, p_val is 0.0\n",
      "Affected Customers Dependence on LAND_CHARA, p_val is 0.0\n"
     ]
    }
   ],
   "source": [
    "# Missingness of Customers Affected\n",
    "missingness_check(cleaned, 'CUSTOMERS.AFFECTED', 'Affected Customers Dependence on ')"
   ]
  },
  {
   "cell_type": "markdown",
   "metadata": {},
   "source": [
    "Number of Customers Affected is MAR dependent on Year, Month, Anomaly levels, Demand Loss (MW), Outage Duration, Electricity consumption, Economic characteristic, and Land-use characteristic."
   ]
  },
  {
   "cell_type": "markdown",
   "metadata": {},
   "source": [
    "##### Choice of imputation for demand loss, outage duration, and number of customers affected\n",
    "- Demand loss: Iterative Imputer because Demand Loss in MAR dependent on a lot of columns\n",
    "- Customers affected: Iterative Imputer because customers affected is MAR dependent on a lot of columns\n",
    "- Other conlumns: Use simple imputation of mean because the missing values are of really small percentages, and would not be ok if I just dropped them due to differences in rows causing prediction errors."
   ]
  },
  {
   "cell_type": "code",
   "execution_count": null,
   "metadata": {},
   "outputs": [],
   "source": []
  },
  {
   "cell_type": "markdown",
   "metadata": {},
   "source": [
    "#### Check Cause Category's Dependence on other columns"
   ]
  },
  {
   "cell_type": "code",
   "execution_count": 804,
   "metadata": {},
   "outputs": [
    {
     "name": "stdout",
     "output_type": "stream",
     "text": [
      "CAUSE.CATEGORY Dependence on YEAR is 0.0\n",
      "CAUSE.CATEGORY Dependence on MONTH is 0.005\n",
      "CAUSE.CATEGORY Dependence on U.S._STATE is 0.0\n",
      "CAUSE.CATEGORY Dependence on POSTAL.CODE is 0.0\n",
      "CAUSE.CATEGORY Dependence on NERC.REGION is 0.0\n",
      "CAUSE.CATEGORY Dependence on CLIMATE.REGION is 0.0\n",
      "CAUSE.CATEGORY Dependence on ANOMALY.LEVEL is 0.0\n",
      "CAUSE.CATEGORY Dependence on CLIMATE.CATEGORY is 0.208\n",
      "CAUSE.CATEGORY Dependence on CAUSE.CATEGORY is 0.0\n",
      "CAUSE.CATEGORY Dependence on OUTAGE.DURATION is 0.0\n",
      "CAUSE.CATEGORY Dependence on DEMAND.LOSS.MW is 0.426\n",
      "CAUSE.CATEGORY Dependence on CUSTOMERS.AFFECTED is 0.193\n",
      "CAUSE.CATEGORY Dependence on ELEC_CHARA is 0.0\n",
      "CAUSE.CATEGORY Dependence on ECON_CHARA is 0.0\n",
      "CAUSE.CATEGORY Dependence on LAND_CHARA is 0.0\n"
     ]
    }
   ],
   "source": [
    "checkc = ['YEAR', 'MONTH', 'ANOMALY.LEVEL', 'OUTAGE.DURATION', 'DEMAND.LOSS.MW', 'CUSTOMERS.AFFECTED '] # 'ELEC_CHARA', 'ECON_CHARA', 'LAND_CHARA'\n",
    "N = 1000\n",
    "for col in cleaned.columns:\n",
    "    stats, obs = util.permutation_test(cleaned, col, 'CAUSE.CATEGORY', util.tvd, N=1000)\n",
    "    p_val = np.min([np.count_nonzero(np.array(stats) <= obs) / N, \n",
    "                                np.count_nonzero(np.array(stats) >= obs) / N])\n",
    "    print('CAUSE.CATEGORY Dependence on ' + col + ' is ' + str(p_val))"
   ]
  },
  {
   "cell_type": "markdown",
   "metadata": {},
   "source": [
    "Cause category is dependent on YEAR, MONTH, STATE, CLIMATE REGION, ANOMALY LEVEL, OUTAGE DURATION, and all characteristic information according to the permutation test. Therefore, I will choese columns as my base below for further addition of features."
   ]
  },
  {
   "cell_type": "code",
   "execution_count": null,
   "metadata": {},
   "outputs": [],
   "source": []
  },
  {
   "cell_type": "markdown",
   "metadata": {},
   "source": [
    "#### Build Pipeline, and fit model"
   ]
  },
  {
   "cell_type": "code",
   "execution_count": 944,
   "metadata": {},
   "outputs": [],
   "source": [
    "# Imputation\n",
    "simimp = SimpleImputer(missing_values=np.nan, strategy='mean')\n",
    "iterimp = IterativeImputer(max_iter=5, random_state=0)\n",
    "\n",
    "# Preprocessing PowerTransformer, OrdinalEncoder\n",
    "# Standardization Transformation\n",
    "std_trans = Pipeline(steps=[\n",
    "    ('imp', simimp),\n",
    "    ('std', StandardScaler())\n",
    "])\n",
    "\n",
    "# Normalization Transformation\n",
    "norm_trans = Pipeline(steps=[\n",
    "    ('imp', simimp),\n",
    "    ('norm', Normalizer())\n",
    "])\n",
    "\n",
    "# Polynomial Transformation\n",
    "poly_trans = Pipeline(steps=[\n",
    "    ('imp', simimp),\n",
    "    ('poly', PolynomialFeatures(interaction_only=True, include_bias=False))\n",
    "])\n",
    "\n",
    "\n",
    "# Onehot transformation\n",
    "ohe_trans = Pipeline(steps=[\n",
    "    ('imp', SimpleImputer(strategy='constant', fill_value='missing')),\n",
    "    ('onehot', OneHotEncoder(handle_unknown='ignore', sparse=False)),\n",
    "])\n",
    "\n",
    "# Power transformation\n",
    "pow_trans = Pipeline(steps=[\n",
    "    ('imp', simimp),\n",
    "    ('ordinal', PowerTransformer()),\n",
    "])\n",
    "\n",
    "# Log transformation\n",
    "def log_na(narray):\n",
    "    return np.log(narray.replace(0, 1))\n",
    "log_func = FunctionTransformer(log_na)\n",
    "log_trans = Pipeline(steps=[\n",
    "    ('log', log_func),\n",
    "    ('imp', SimpleImputer(strategy='constant', fill_value=0))\n",
    "])\n",
    "\n",
    "# Characteristic transformation into one, PCA\n",
    "chara_trans = Pipeline(steps=[\n",
    "    ('imp', simimp),\n",
    "    ('pca', PCA(svd_solver='full', n_components=2))\n",
    "])\n",
    "\n",
    "# Onehot transformation with pca\n",
    "ohe_pca_trans = Pipeline(steps=[\n",
    "    ('imp', SimpleImputer(strategy='constant', fill_value='missing')),\n",
    "    ('onehot', OneHotEncoder(handle_unknown='ignore', sparse=False)),\n",
    "    ('pca', PCA(svd_solver='full', n_components=0.99))\n",
    "])\n",
    "\n",
    "# Columns for transformation\n",
    "poly_col = ['YEAR', 'ANOMALY.LEVEL', 'DEMAND.LOSS.MW', 'CUSTOMERS.AFFECTED', 'OUTAGE.DURATION']\n",
    "sim_col = ['YEAR', 'ANOMALY.LEVEL', 'OUTAGE.DURATION', 'MONTH']\n",
    "ite_col = ['DEMAND.LOSS.MW', 'CUSTOMERS.AFFECTED']\n",
    "cate_col = ['U.S._STATE', 'POSTAL.CODE', 'NERC.REGION', 'CLIMATE.REGION']"
   ]
  },
  {
   "cell_type": "code",
   "execution_count": 1193,
   "metadata": {},
   "outputs": [
    {
     "name": "stdout",
     "output_type": "stream",
     "text": [
      "Wall time: 40.4 s\n"
     ]
    }
   ],
   "source": [
    "%%time\n",
    "an_improve = []\n",
    "for i in range(100):\n",
    "    # Train/Test set\n",
    "    X = outage.drop(['CAUSE.CATEGORY',], axis=1)\n",
    "    y = outage['CAUSE.CATEGORY']\n",
    "    X_train, X_test, y_train, y_test = train_test_split(X, y, test_size=0.1)\n",
    "\n",
    "    # preprocessing pipeline (put them together)\n",
    "    preproc = (ColumnTransformer(transformers=[\n",
    "        ('imp_0', SimpleImputer(strategy='constant', fill_value=0), con_col), # Preprocessing\n",
    "        ('log', log_trans, ['ANOMALY.LEVEL', 'DEMAND.LOSS.MW',\n",
    "                            'CUSTOMERS.AFFECTED', 'OUTAGE.DURATION']), # Feature 7: Log transforamtion\n",
    "        ('sim_imp', simimp, sim_col), # Feature 4: Imputation of mean/dist instead of 0\n",
    "        ('ite_imp', iterimp, ite_col),\n",
    "        ('onehot', ohe_trans, cat_col), # Preprocessing\n",
    "        ('onehot_dep', ohe_trans, cate_col), # Feature 5: Onehot encoder on dependent col\n",
    "        ('onehot_pca_dep', ohe_pca_trans, cate_col), # Feature 6: PCA after onehot on dependent col\n",
    "        ('elec_trans', chara_trans, elec_chara), # Feature 8: PCA for characteristics\n",
    "        ('econ_trans', chara_trans, econ_chara),\n",
    "        ('land_trans', chara_trans, land_chara),\n",
    "        ('poly', poly_trans, poly_col), # Feature 9: polynomial features on dependent columns\n",
    "        ('std', std_trans, poly_col), # Feature 1: Standardization\n",
    "        ('norm', norm_trans, poly_col), # Feature 2: Normalization\n",
    "        ('pow', pow_trans, poly_col), # Feature 3: Power Transformation\n",
    "    ],\n",
    "                                 remainder='passthrough'))\n",
    "\n",
    "    pl = Pipeline(steps=[('preprocessor', preproc), ('regressor', RandomForestClassifier())])\n",
    "\n",
    "    pl.fit(X_train, y_train)\n",
    "    y_pred = pl.predict(X_test)\n",
    "    an_improve.append(round(accuracy_score(y_pred, y_test) * 100, 2))"
   ]
  },
  {
   "cell_type": "code",
   "execution_count": 1194,
   "metadata": {},
   "outputs": [
    {
     "data": {
      "image/png": "[encoded data removed]",
      "text/plain": [
       "<Figure size 432x288 with 1 Axes>"
      ]
     },
     "metadata": {
      "image/png": {
       "height": 263,
       "width": 382
      },
      "needs_background": "light"
     },
     "output_type": "display_data"
    }
   ],
   "source": [
    "pd.Series(an_improve).plot(kind='hist', title='scores in 100 model builds');"
   ]
  },
  {
   "cell_type": "code",
   "execution_count": 1195,
   "metadata": {},
   "outputs": [
    {
     "data": {
      "text/plain": [
       "76.3183"
      ]
     },
     "execution_count": 1195,
     "metadata": {},
     "output_type": "execute_result"
    }
   ],
   "source": [
    "np.array(an_improve).mean()"
   ]
  },
  {
   "cell_type": "code",
   "execution_count": null,
   "metadata": {},
   "outputs": [],
   "source": []
  },
  {
   "cell_type": "code",
   "execution_count": null,
   "metadata": {},
   "outputs": [],
   "source": []
  },
  {
   "cell_type": "markdown",
   "metadata": {},
   "source": [
    "#### Search for best model and parameters"
   ]
  },
  {
   "cell_type": "code",
   "execution_count": 1206,
   "metadata": {},
   "outputs": [
    {
     "name": "stdout",
     "output_type": "stream",
     "text": [
      "Wall time: 8min 26s\n"
     ]
    },
    {
     "data": {
      "text/plain": [
       "({'max_depth': 10, 'min_samples_leaf': 2, 'min_samples_split': 3}, 490)"
      ]
     },
     "execution_count": 1206,
     "metadata": {},
     "output_type": "execute_result"
    }
   ],
   "source": [
    "%%time\n",
    "# Train/Test set\n",
    "X = outage.drop(['CAUSE.CATEGORY',], axis=1)\n",
    "y = outage['CAUSE.CATEGORY']\n",
    "X_train, X_test, y_train, y_test = train_test_split(X, y, test_size=0.1)\n",
    "\n",
    "# preprocessing pipeline (put them together)\n",
    "preproc = (ColumnTransformer(transformers=[\n",
    "    ('imp_0', SimpleImputer(strategy='constant', fill_value=0), con_col), # Preprocessing\n",
    "    ('log', log_trans, ['ANOMALY.LEVEL', 'DEMAND.LOSS.MW',\n",
    "                        'CUSTOMERS.AFFECTED', 'OUTAGE.DURATION']), # Feature 7: Log transforamtion\n",
    "    ('sim_imp', simimp, sim_col), # Feature 4: Imputation of mean/dist instead of 0\n",
    "    ('ite_imp', iterimp, ite_col),\n",
    "    ('onehot', ohe_trans, cat_col), # Preprocessing\n",
    "    ('onehot_dep', ohe_trans, cate_col), # Feature 5: Onehot encoder on dependent col\n",
    "    ('onehot_pca_dep', ohe_pca_trans, cate_col), # Feature 6: PCA after onehot on dependent col\n",
    "    ('elec_trans', chara_trans, elec_chara), # Feature 8: PCA for characteristics\n",
    "    ('econ_trans', chara_trans, econ_chara),\n",
    "    ('land_trans', chara_trans, land_chara),\n",
    "    ('poly', poly_trans, poly_col), # Feature 9: polynomial features on dependent columns\n",
    "    ('std', std_trans, poly_col), # Feature 1: Standardization\n",
    "    ('norm', norm_trans, poly_col), # Feature 2: Normalization\n",
    "    ('pow', pow_trans, poly_col), # Feature 3: Power Transformation\n",
    "],\n",
    "                             remainder='passthrough'))\n",
    "\n",
    "parameters = {\n",
    "    'max_depth': [2,3,4,5,7,10,13,15,18,None], \n",
    "    'min_samples_split':[2,3,5,7,10,15,20],\n",
    "    'min_samples_leaf':[2,3,5,7,10,15,20]\n",
    "}\n",
    "\n",
    "clf = GridSearchCV(GradientBoostingClassifier(), parameters, cv=5)\n",
    "pl = Pipeline(steps=[('preprocessor', preproc), ('regressor', clf)])\n",
    "pl.fit(X_train, y_train)\n",
    "clf.best_params_, len(clf.cv_results_['mean_test_score'])"
   ]
  },
  {
   "cell_type": "code",
   "execution_count": null,
   "metadata": {},
   "outputs": [],
   "source": []
  },
  {
   "cell_type": "markdown",
   "metadata": {},
   "source": [
    "#### Final best model after GridSearch"
   ]
  },
  {
   "cell_type": "code",
   "execution_count": 1322,
   "metadata": {},
   "outputs": [],
   "source": [
    "# ans = []\n",
    "# for i in range(100):\n",
    "#     # Train/Test set\n",
    "#     X = outage.drop(['CAUSE.CATEGORY',], axis=1)\n",
    "#     y = outage['CAUSE.CATEGORY']\n",
    "#     X_train, X_test, y_train, y_test = train_test_split(X, y, test_size=0.1)\n",
    "#     pl = Pipeline(steps=[('preprocessor', preproc), ('regressor', DecisionTreeClassifier(max_depth=10, \n",
    "#                                                                                          min_samples_leaf=3,\n",
    "#                                                                                          min_samples_split=2))])\n",
    "#     pl.fit(X_train, y_train)\n",
    "#     y_pred = pl.predict(X_test)\n",
    "#     ans.append(round(accuracy_score(y_pred, y_test) * 100, 2))\n",
    "# np.mean(ans)"
   ]
  },
  {
   "cell_type": "code",
   "execution_count": 1322,
   "metadata": {},
   "outputs": [],
   "source": [
    "# ans = []\n",
    "# for i in range(100):\n",
    "#     # Train/Test set\n",
    "#     X = outage.drop(['CAUSE.CATEGORY',], axis=1)\n",
    "#     y = outage['CAUSE.CATEGORY']\n",
    "#     X_train, X_test, y_train, y_test = train_test_split(X, y, test_size=0.1)\n",
    "#     pl = Pipeline(steps=[('preprocessor', preproc), ('regressor', KNeighborsClassifier(max_depth=7, \n",
    "#                                                                                        min_samples_leaf=2,\n",
    "#                                                                                        min_samples_split=2))])\n",
    "#     pl.fit(X_train, y_train)\n",
    "#     y_pred = pl.predict(X_test)\n",
    "#     ans.append(round(accuracy_score(y_pred, y_test) * 100, 2))\n",
    "# np.mean(ans)"
   ]
  },
  {
   "cell_type": "code",
   "execution_count": 1322,
   "metadata": {},
   "outputs": [],
   "source": [
    "# ans = []\n",
    "# for i in range(100):\n",
    "#     # Train/Test set\n",
    "#     X = outage.drop(['CAUSE.CATEGORY',], axis=1)\n",
    "#     y = outage['CAUSE.CATEGORY']\n",
    "#     X_train, X_test, y_train, y_test = train_test_split(X, y, test_size=0.1)\n",
    "#     pl = Pipeline(steps=[('preprocessor', preproc), ('regressor', SGDClassifier(max_depth=None, \n",
    "#                                                                                 min_samples_leaf=3,\n",
    "#                                                                                 min_samples_split=3))])\n",
    "#     pl.fit(X_train, y_train)\n",
    "#     y_pred = pl.predict(X_test)\n",
    "#     ans.append(round(accuracy_score(y_pred, y_test) * 100, 2))\n",
    "# np.mean(ans)"
   ]
  },
  {
   "cell_type": "code",
   "execution_count": 1353,
   "metadata": {},
   "outputs": [],
   "source": [
    "# ans = []\n",
    "# for i in range(100):\n",
    "#     # Train/Test set\n",
    "#     X = outage.drop(['CAUSE.CATEGORY',], axis=1)\n",
    "#     y = outage['CAUSE.CATEGORY']\n",
    "#     X_train, X_test, y_train, y_test = train_test_split(X, y, test_size=0.1)\n",
    "#     pl = Pipeline(steps=[('preprocessor', preproc), ('regressor', RandomForestClassifier(max_depth=10, \n",
    "#                                                                                          min_samples_leaf=2,\n",
    "#                                                                                          min_samples_split=3))])\n",
    "#     pl.fit(X_train, y_train)\n",
    "#     y_pred = pl.predict(X_test)\n",
    "#     ans.append(round(accuracy_score(y_pred, y_test) * 100, 2))\n",
    "# np.mean(ans)"
   ]
  },
  {
   "cell_type": "code",
   "execution_count": 1343,
   "metadata": {},
   "outputs": [
    {
     "data": {
      "text/plain": [
       "82.54"
      ]
     },
     "execution_count": 1343,
     "metadata": {},
     "output_type": "execute_result"
    }
   ],
   "source": [
    "ans = []\n",
    "for i in range(100):\n",
    "    # Train/Test set\n",
    "    X = outage.drop(['CAUSE.CATEGORY',], axis=1)\n",
    "    y = outage['CAUSE.CATEGORY']\n",
    "    X_train, X_test, y_train, y_test = train_test_split(X, y, test_size=0.1)\n",
    "    pl = Pipeline(steps=[('preprocessor', preproc), ('regressor', GradientBoostingClassifier(max_depth=10, \n",
    "                                                                                             min_samples_leaf=2,\n",
    "                                                                                             min_samples_split=3))])\n",
    "    pl.fit(X_train, y_train)\n",
    "    y_pred = pl.predict(X_test)\n",
    "    ans.append(round(accuracy_score(y_pred, y_test) * 100, 2))\n",
    "np.mean(ans)"
   ]
  },
  {
   "cell_type": "code",
   "execution_count": null,
   "metadata": {},
   "outputs": [],
   "source": []
  },
  {
   "cell_type": "markdown",
   "metadata": {},
   "source": [
    "### Fairness Evaluation"
   ]
  },
  {
   "cell_type": "code",
   "execution_count": 1334,
   "metadata": {},
   "outputs": [
    {
     "data": {
      "text/html": [
       "<div>\n",
       "<style scoped>\n",
       "    .dataframe tbody tr th:only-of-type {\n",
       "        vertical-align: middle;\n",
       "    }\n",
       "\n",
       "    .dataframe tbody tr th {\n",
       "        vertical-align: top;\n",
       "    }\n",
       "\n",
       "    .dataframe thead th {\n",
       "        text-align: right;\n",
       "    }\n",
       "</style>\n",
       "<table border=\"1\" class=\"dataframe\">\n",
       "  <thead>\n",
       "    <tr style=\"text-align: right;\">\n",
       "      <th></th>\n",
       "      <th>precision</th>\n",
       "    </tr>\n",
       "    <tr>\n",
       "      <th>before_july</th>\n",
       "      <th></th>\n",
       "    </tr>\n",
       "  </thead>\n",
       "  <tbody>\n",
       "    <tr>\n",
       "      <th>After July</th>\n",
       "      <td>0.685714</td>\n",
       "    </tr>\n",
       "    <tr>\n",
       "      <th>Before July</th>\n",
       "      <td>0.678571</td>\n",
       "    </tr>\n",
       "  </tbody>\n",
       "</table>\n",
       "</div>"
      ],
      "text/plain": [
       "             precision\n",
       "before_july           \n",
       "After July    0.685714\n",
       "Before July   0.678571"
      ]
     },
     "execution_count": 1334,
     "metadata": {},
     "output_type": "execute_result"
    }
   ],
   "source": [
    "results = X_test\n",
    "results['pred'] = y_pred# pd.Series(y_pred).apply(binarize)\n",
    "results['cause'] = y_test# pd.Series(y_test).apply(binarize)\n",
    "\n",
    "results['before_july'] = (results.MONTH < 7).replace({True:'Before July', False:'After July'})\n",
    "\n",
    "(\n",
    "    results\n",
    "    .groupby('before_july')\n",
    "    .apply(lambda x: metrics.recall_score(x.cause, x.pred, average='micro'))\n",
    "    .rename('precision')\n",
    "    .to_frame()\n",
    ")"
   ]
  },
  {
   "cell_type": "code",
   "execution_count": 1300,
   "metadata": {},
   "outputs": [],
   "source": [
    "obs = (results.groupby('before_june')\n",
    "       .apply(lambda x: metrics.recall_score(x.cause, x.pred, average='micro'))\n",
    "       .diff().iloc[-1])"
   ]
  },
  {
   "cell_type": "code",
   "execution_count": 1301,
   "metadata": {},
   "outputs": [],
   "source": [
    "metrs = []\n",
    "for _ in range(100):\n",
    "    s = (\n",
    "        results[['before_june', 'pred', 'cause']]\n",
    "        .assign(before_june=results.before_june.sample(frac=1.0, replace=False).reset_index(drop=True))\n",
    "        .groupby('before_june')\n",
    "        .apply(lambda x: metrics.recall_score(x.cause, x.pred, average='micro'))\n",
    "        .diff()\n",
    "        .iloc[-1]\n",
    "    )\n",
    "    \n",
    "    metrs.append(s)"
   ]
  },
  {
   "cell_type": "code",
   "execution_count": 1335,
   "metadata": {},
   "outputs": [
    {
     "name": "stdout",
     "output_type": "stream",
     "text": [
      "0.27\n"
     ]
    },
    {
     "data": {
      "image/png": "[encoded data removed]",
      "text/plain": [
       "<Figure size 432x288 with 1 Axes>"
      ]
     },
     "metadata": {
      "image/png": {
       "height": 263,
       "width": 382
      },
      "needs_background": "light"
     },
     "output_type": "display_data"
    }
   ],
   "source": [
    "print(pd.Series(metrs <= obs).mean())\n",
    "pd.Series(metrs).plot(kind='hist', title='Permutation Test')\n",
    "plt.scatter(obs, 0, c='r');"
   ]
  },
  {
   "cell_type": "code",
   "execution_count": null,
   "metadata": {},
   "outputs": [],
   "source": []
  },
  {
   "cell_type": "markdown",
   "metadata": {},
   "source": [
    "### Util package I used"
   ]
  },
  {
   "cell_type": "code",
   "execution_count": 670,
   "metadata": {},
   "outputs": [],
   "source": [
    "def permutation_test(data, col, group_col, test_statistic, N=1000):\n",
    "    \"\"\"\n",
    "    Return the distribution of permuted statistics and the observed statistic\n",
    "    resulting from a permutation test.\n",
    "\n",
    "    :param: data: DataFrame of data observations and the labels for two groups.\n",
    "    :param: col: Column name for the column containing the data.\n",
    "    :param: group_col: Column name for the column contain the labels for the two groups.\n",
    "    :param: test_statistic: The test statistic to apply to the groups (a function).\n",
    "    :param: N: The number of times N to run the permutation test.\n",
    "    \"\"\"\n",
    "\n",
    "    # get the observed test statistic\n",
    "    obs = test_statistic(data, col, group_col)\n",
    "\n",
    "    # run the permutations\n",
    "    shuffled_stats = []\n",
    "    for _ in range(N):\n",
    "        \n",
    "        shuffled = data[group_col].sample(frac=1, replace=False).reset_index(drop=True)\n",
    "        with_shuffled = data[[col]].assign(shuffled=shuffled)\n",
    "        shuffled_stat = test_statistic(with_shuffled, col, 'shuffled')\n",
    "        shuffled_stats.append(shuffled_stat)\n",
    "\n",
    "    shuffled_stats = np.array(shuffled_stats)\n",
    "\n",
    "    return shuffled_stats, obs"
   ]
  },
  {
   "cell_type": "code",
   "execution_count": 671,
   "metadata": {},
   "outputs": [],
   "source": [
    "def tvd(data, col, group_col):\n",
    "    \"\"\"tvd of the distribution of values in col\n",
    "    bewteen the two groups of group_col. col is\n",
    "    assumed to be categorical.\"\"\"\n",
    "\n",
    "    tvd = (\n",
    "        data\n",
    "        .pivot_table(\n",
    "            index=col, \n",
    "            columns=group_col, \n",
    "            aggfunc='size', \n",
    "            fill_value=0\n",
    "        )\n",
    "        .apply(lambda x: x / x.sum())\n",
    "        .diff(axis=1).iloc[:, -1].abs().sum() / 2\n",
    "        )\n",
    "\n",
    "    return tvd"
   ]
  },
  {
   "cell_type": "code",
   "execution_count": null,
   "metadata": {},
   "outputs": [],
   "source": []
  }
 ],
 "metadata": {
  "kernelspec": {
   "display_name": "Python 3",
   "language": "python",
   "name": "python3"
  },
  "language_info": {
   "codemirror_mode": {
    "name": "ipython",
    "version": 3
   },
   "file_extension": ".py",
   "mimetype": "text/x-python",
   "name": "python",
   "nbconvert_exporter": "python",
   "pygments_lexer": "ipython3",
   "version": "3.7.6"
  }
 },
 "nbformat": 4,
 "nbformat_minor": 2
}
